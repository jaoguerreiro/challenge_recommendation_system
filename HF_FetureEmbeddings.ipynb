{
 "cells": [
  {
   "metadata": {},
   "cell_type": "markdown",
   "source": "# 0. Imports and Data",
   "id": "92ddff7af97ad739"
  },
  {
   "cell_type": "code",
   "id": "initial_id",
   "metadata": {
    "collapsed": true,
    "ExecuteTime": {
     "end_time": "2025-03-04T10:31:17.094271Z",
     "start_time": "2025-03-04T10:31:17.091560Z"
    }
   },
   "source": [
    "import os\n",
    "import ast\n",
    "import re\n",
    "import json\n",
    "from IPython.display import display, HTML\n",
    "import numpy as np\n",
    "import pandas as pd\n",
    "from openai import OpenAI\n",
    "from pydantic import BaseModel\n",
    "import time\n",
    "\n",
    "import seaborn as sns\n",
    "import matplotlib.pyplot as plt\n",
    "import torch\n",
    "import pickle\n",
    "from sentence_transformers import SentenceTransformer\n",
    "from sklearn.metrics.pairwise import cosine_similarity\n",
    "from transformers import pipeline, AutoTokenizer, AutoModelForQuestionAnswering, BigBirdTokenizer\n"
   ],
   "outputs": [],
   "execution_count": 116
  },
  {
   "metadata": {
    "ExecuteTime": {
     "end_time": "2025-03-04T10:31:17.151320Z",
     "start_time": "2025-03-04T10:31:17.129297Z"
    }
   },
   "cell_type": "code",
   "source": [
    "# Set your OpenAI API key\n",
    "client = OpenAI(api_key=\"\")"
   ],
   "id": "eb4b64e52d835a4c",
   "outputs": [],
   "execution_count": 117
  },
  {
   "metadata": {
    "ExecuteTime": {
     "end_time": "2025-03-04T10:31:17.802422Z",
     "start_time": "2025-03-04T10:31:17.182064Z"
    }
   },
   "cell_type": "code",
   "source": [
    "X_train = pd.read_csv(\"x_train_Meacfjr.csv\", delimiter=\",\", quotechar='\"')\n",
    "y_train = pd.read_csv(\"y_train_SwJNMSu.csv\", delimiter=\",\", quotechar='\"')\n",
    "\n",
    "# Convert 'job_ids' and 'actions' from strings to actual lists\n",
    "X_train[\"job_ids\"] = X_train[\"job_ids\"].apply(ast.literal_eval)\n",
    "X_train[\"actions\"] = X_train[\"actions\"].apply(ast.literal_eval)\n",
    "\n",
    "with open(\"content/job_listings/job_listings.json\", \"r\") as file:\n",
    "    jobs = json.load(file)"
   ],
   "id": "504ecea9d77b03c",
   "outputs": [],
   "execution_count": 118
  },
  {
   "metadata": {
    "ExecuteTime": {
     "end_time": "2025-03-04T10:31:17.806590Z",
     "start_time": "2025-03-04T10:31:17.803726Z"
    }
   },
   "cell_type": "code",
   "source": "print(jobs[\"22082\"])#, \"\\n\", jobs[\"127\"])",
   "id": "ca87c77856aca7e6",
   "outputs": [
    {
     "name": "stdout",
     "output_type": "stream",
     "text": [
      "TITLE\n",
      "CTO (H/F)\n",
      "\n",
      "SUMMARY\n",
      "CTO (H/F)\n",
      "\n",
      "SECTION:\n",
      "TITLE: Job description\n",
      "DESCRIPTION: Rattaché(e) au Secrétaire Général, vous pilotez la stratégie informatique de la société et le budget associé. Vous dirigez l'ensemble du SI, coordonnez le suivi des prestataires informatiques et animez les équipes.\n",
      "Vous incarnez toute la stratégie IT et, à ce titre, occupez un poste polyvalent et responsabilisant.\n",
      "? Stratégie :\n",
      "Vous définissez et mettez en œuvre la stratégie IT avec un axe particulier sur des projets applicatifs et BI.\n",
      "? Mise en œuvre de la stratégie :\n",
      "- Définition des politiques IT : mise en place et suivi des politiques d'administration, de monitoring, de maintenance et de sauvegarde du SI.\n",
      "- Infrastructure : Animation de l'équipe de 2 personnes / Gestion des prestataires / Gestion du parc informatique et téléphonique / Supervision des budgets et des contrats / Travaux de mise à niveau de version logicielle...\n",
      "- Gestion de projets applicatifs : vous participez activement au projet en cours. Il y a notamment des sujets de refonte sur des outils développés en PHP (Laminas) + des sujets décisionnels en cours (réflexion à mener sur des évolutions d'outils...etc).\n",
      "- Veille IT : assurer une veille technologique / Être force de proposition sur des sujets d'innovation et de digitalisation...\n",
      "- Sécurité : Déployer et maintenir un dispositif de sécurité performant via des solutions en lien les prestataires / Assurer un suivi des risques IT / Veiller à la bonne application de la charte informatique et participer à sa mise à jour...\n",
      "? Management :\n",
      "- Vous managez une à taille humaine et animez les prestataires externes (infrastructure, externalisation des opérations...) dont 2 personnes sur site.\n",
      "- Vous fixez les objectifs en ligne avec la stratégie et vous assurez de leur bonne communication et appropriation.\n",
      "- Vous vous assurez du bon développement des compétences des collaborateurs.\n",
      "- Vous êtes le garant de la cohésion de l'équipe et challengez l'équipe au quotidien...\n",
      "- Vous coordonnez et animez la relation avec les différents prestataires et fournisseurs externes.\n",
      "- Vous préparez et animez les comités de pilotage et de suivi technique et informatique du groupe.\n",
      "\n",
      "SECTION:\n",
      "TITLE: Company description\n",
      "DESCRIPTION: Fed IT, cabinet entièrement dédié aux recrutements des métiers de l'IT, recherche pour une société de 80 personnes qui accompagne le développement des pharmaciens entrepreneurs, un ou une :\n",
      "CTO (H/F)\n",
      "\n",
      "SECTION:\n",
      "TITLE: Profile description\n",
      "DESCRIPTION: De formation supérieure adaptée, vous avez une expérience de 15 ans à minima.\n",
      "Une expérience réussie de DSI / CTO dans une société à taille humaine est nécessaire.\n",
      "Vous êtes polyvalent(e) et avez une vision stratégique et opérationnelle à la fois (il sera en effet absolument nécessaire sur ce poste d'intervenir sur des sujets opérationnels / techniques).\n",
      "Vous avez une expérience technique qui vous permet d'être un référent technique (notamment sur les sujets de développements).\n",
      "Vous avez une expérience dans le management d'équipe.\n",
      "Vous possédez une bonne aisance relationnelle et de réelles capacités d'animation.\n",
      "Enfin, vous êtes reconnu(e) pour votre curiosité, votre sens relationnel ainsi que votre goût pour le travail en équipe.\n",
      "Vous avez une bonne capacité à convaincre, challenger et embarquer les métiers et fédérer les interlocuteurs autour d'un objectif commun.\n",
      "Nous vous proposons d'intégrer d'occuper une fonction valorisante et polyvalente au sein d'un environnement stimulant et innovant.\n",
      "Ce poste est à pourvoir dans le cadre d'un CDI (CDI client final, création de poste).\n",
      "La rémunération sera fonction du profil et de l'expérience.\n",
      "\n",
      "LANGUAGES\n",
      "\n",
      "\n",
      "CERTIFICATIONS\n",
      "\n",
      "\n",
      "SKILLS\n",
      "- {'name': 'PHP', 'value': None, 'type': 'hard'}\n",
      "\n",
      "COURSES\n",
      "\n",
      "\n",
      "TASKS\n",
      "- {'name': 'coordonnez le suivi des prestataires informatiques et animez les équipes', 'value': None}\n",
      "- {'name': 'Vous définissez et mettez en œuvre la stratégie IT avec un axe particulier sur des projets applicatifs et BI', 'value': None}\n",
      "- {'name': 'Mise en œuvre de la stratégie', 'value': None}\n",
      "- {'name': 'Définition des politiques IT', 'value': None}\n",
      "- {'name': \"mise en place et suivi des politiques d'administration, de monitoring, de maintenance et de sauvegarde du SI\", 'value': None}\n",
      "- {'name': \"Animation de l'équipe de 2 personnes\", 'value': None}\n",
      "- {'name': 'Gestion des prestataires', 'value': None}\n",
      "- {'name': 'Gestion du parc informatique et téléphonique', 'value': None}\n",
      "- {'name': 'Supervision des budgets et des contrats', 'value': None}\n",
      "- {'name': 'Travaux de mise à niveau de version logicielle', 'value': None}\n",
      "- {'name': 'Gestion de projets applicatifs', 'value': None}\n",
      "- {'name': \"assurer une veille technologique / Être force de proposition sur des sujets d'innovation et de digitalisation\", 'value': None}\n",
      "- {'name': 'Déployer et maintenir un dispositif de sécurité performant via des solutions en lien les prestataires', 'value': None}\n",
      "- {'name': 'Assurer un suivi des risques IT', 'value': None}\n",
      "- {'name': 'Veiller à la bonne application de la charte informatique et participer à sa mise à jour', 'value': None}\n",
      "- {'name': 'Vous managez une à taille humaine et animez les prestataires externes', 'value': None}\n",
      "- {'name': 'Vous fixez les objectifs en ligne avec la stratégie et vous assurez de leur bonne communication et appropriation', 'value': None}\n",
      "- {'name': 'Vous vous assurez du bon développement des compétences des collaborateurs', 'value': None}\n",
      "- {'name': \"Vous êtes le garant de la cohésion de l'équipe et challengez l'équipe au quotidien\", 'value': None}\n",
      "- {'name': 'Vous coordonnez et animez la relation avec les différents prestataires et fournisseurs externes', 'value': None}\n",
      "- {'name': 'Vous préparez et animez les comités de pilotage et de suivi technique et informatique du groupe', 'value': None}\n"
     ]
    }
   ],
   "execution_count": 119
  },
  {
   "metadata": {},
   "cell_type": "markdown",
   "source": "# 1. Data Preprocessing",
   "id": "fdb6b29e1486eec4"
  },
  {
   "metadata": {},
   "cell_type": "markdown",
   "source": "## 1.1 Split Job Description",
   "id": "4d2bb0844b5f595c"
  },
  {
   "metadata": {
    "ExecuteTime": {
     "end_time": "2025-03-04T10:31:17.814157Z",
     "start_time": "2025-03-04T10:31:17.807405Z"
    }
   },
   "cell_type": "code",
   "source": [
    "def extract_info(job_id, text):\n",
    "    \n",
    "    job_description = text\n",
    "    main = text.split(\"SECTION\")[0]\n",
    "    \n",
    "    # Extract title\n",
    "    title_match = re.search(r\"TITLE\\n(.+)\", text)\n",
    "    title = title_match.group(1).strip() if title_match else None\n",
    "    \n",
    "    # Extract summary\n",
    "    summary_match = re.search(r\"SUMMARY\\n([\\s\\S]+?)(?:\\nSECTION:|$)\", text)\n",
    "    summary = summary_match.group(1).strip() if summary_match else None\n",
    "    \n",
    "    # Extract descriptions\n",
    "    descriptions = re.findall(r\"SECTION:\\nDESCRIPTION: ([\\s\\S]+?)(?:\\nSECTION:|$)\", text)\n",
    "    \n",
    "    # Extract skills only from the SKILLS section\n",
    "    skills_match = re.findall(r\"SKILLS\\n(?:- (\\{.*?\\})\\n?)+\", text)\n",
    "    skills = [\n",
    "        ast.literal_eval(skill)[\"name\"]\n",
    "        for match in skills_match for skill in re.findall(r\"- (\\{.*?\\})\", match)\n",
    "        if \"'name':\" in skill\n",
    "    ]\n",
    "    \n",
    "    # Extract tasks only from the TASKS section\n",
    "    tasks_match = re.findall(r\"TASKS\\n(?:- (\\{.*?\\})\\n?)+\", text)\n",
    "    tasks = [\n",
    "        ast.literal_eval(task)[\"name\"]\n",
    "        for match in tasks_match for task in re.findall(r\"- (\\{.*?\\})\", match)\n",
    "        if \"'name':\" in task\n",
    "    ]\n",
    "    \n",
    "    # Extract languages, certifications (currently empty sections)\n",
    "    languages = []\n",
    "    certifications = []\n",
    "    \n",
    "    # Extracted data\n",
    "    row = {\n",
    "        \"job_id\": int(job_id),\n",
    "        \"title\": title,\n",
    "        # \"summary\": summary,\n",
    "        # \"descriptions\": \"\\n\\n\".join(descriptions),\n",
    "        # \"languages\": \"\\n\".join(languages),\n",
    "        # \"certifications\": \"\\n\".join(certifications),\n",
    "        # \"skills\": \"\\n\".join(skills),  \n",
    "        # \"tasks\": \"\\n\".join(tasks),\n",
    "        \"job_description\": job_description,\n",
    "        # \"main\": main,\n",
    "        # \"embedding\": []\n",
    "    }\n",
    "    return row"
   ],
   "id": "5d3ac8c4704242a5",
   "outputs": [],
   "execution_count": 120
  },
  {
   "metadata": {
    "ExecuteTime": {
     "end_time": "2025-03-04T10:31:18.953464Z",
     "start_time": "2025-03-04T10:31:17.816096Z"
    }
   },
   "cell_type": "code",
   "source": [
    "rows = []\n",
    "for job_id in jobs.keys():\n",
    "    row = extract_info(job_id, jobs[job_id])\n",
    "    rows.append(row)\n",
    "df_jobs = pd.DataFrame(rows) \n",
    "\n",
    "print(df_jobs.shape)\n",
    "print(df_jobs.info())"
   ],
   "id": "ee725a30b3788280",
   "outputs": [
    {
     "name": "stdout",
     "output_type": "stream",
     "text": [
      "(21917, 3)\n",
      "<class 'pandas.core.frame.DataFrame'>\n",
      "RangeIndex: 21917 entries, 0 to 21916\n",
      "Data columns (total 3 columns):\n",
      " #   Column           Non-Null Count  Dtype \n",
      "---  ------           --------------  ----- \n",
      " 0   job_id           21917 non-null  int64 \n",
      " 1   title            21913 non-null  object\n",
      " 2   job_description  21917 non-null  object\n",
      "dtypes: int64(1), object(2)\n",
      "memory usage: 513.8+ KB\n",
      "None\n"
     ]
    }
   ],
   "execution_count": 121
  },
  {
   "metadata": {
    "ExecuteTime": {
     "end_time": "2025-03-04T10:31:18.959470Z",
     "start_time": "2025-03-04T10:31:18.954461Z"
    }
   },
   "cell_type": "code",
   "source": [
    "df_empty = df_jobs[df_jobs.title.isna()]\n",
    "display(HTML(df_empty.to_html()))"
   ],
   "id": "70acb2ac2017490f",
   "outputs": [
    {
     "data": {
      "text/plain": [
       "<IPython.core.display.HTML object>"
      ],
      "text/html": [
       "<table border=\"1\" class=\"dataframe\">\n",
       "  <thead>\n",
       "    <tr style=\"text-align: right;\">\n",
       "      <th></th>\n",
       "      <th>job_id</th>\n",
       "      <th>title</th>\n",
       "      <th>job_description</th>\n",
       "    </tr>\n",
       "  </thead>\n",
       "  <tbody>\n",
       "    <tr>\n",
       "      <th>1597</th>\n",
       "      <td>1599</td>\n",
       "      <td>None</td>\n",
       "      <td>SUMMARY\\nDéveloppeur .Net core 6 + Blazor WA + API Rest + Blazor Server\\nClient : Banque\\nLa prestation objet de cette demande consiste à intervenir sur les phases de développement d’un chantier de refonte d’applications pour les porter vers des nouvelles technologies.\\nDiverses applications du domaine bancaire sont concernées, telles des applications de gestion de base immobilière ou encore de cartographie des RHs.\\nSéniorité : 2 ans à 10 ans avec cible 4/7 ans\\n- - - - - - - - - - - - - - - - - - - - - - - - - - -\\n\\nSECTION:\\nDESCRIPTION: Développeur .Net core 6 + Blazor WA + API Rest + Blazor Server\\nClient : Banque\\nLa prestation objet de cette demande consiste à intervenir sur les phases de développement d’un chantier de refonte d’applications pour les porter vers des nouvelles technologies.\\nDiverses applications du domaine bancaire sont concernées, telles des applications de gestion de base immobilière ou encore de cartographie des RHs.\\nSéniorité : 2 ans à 10 ans avec cible 4/7 ans\\n- - - - - - - - - - - - - - - - - - - - - - - - - - -\\n\\nSECTION:\\nDESCRIPTION: Développeur .Net core 6 + Blazor WA + API Rest + Blazor Server\\nContexte :\\n- Prestation réalisée en partie sur site client à Bordeaux (3 jours sur site / 2 jours à distance)\\n- Activités réalisées en relation avec un Tech Lead du client\\n- Démarrage de la prestation dès que possible.\\n\\nLANGUAGES\\n\\n\\nCERTIFICATIONS\\n\\n\\nSKILLS\\n- {'name': 'API REST', 'type': 'hard', 'value': None}\\n- {'name': 'ASP.NET Core', 'type': 'hard', 'value': None}\\n\\nCOURSES\\n\\n\\nTASKS</td>\n",
       "    </tr>\n",
       "    <tr>\n",
       "      <th>3237</th>\n",
       "      <td>3261</td>\n",
       "      <td>None</td>\n",
       "      <td>SECTION:\\nDESCRIPTION: Taches\\n- Analyse, développement, tests unitaires\\n- Participation au développement des applications gérées par le chapitre digital front\\n- Participation active au projet, mise en place des bonnes pratiques, participation à la création d'un produit en Agile\\nCompétences technique\\nExpérience significative sur le développement d’applications grand public Android NATIF\\nMaîtrise de l’architecture MVVM + Clean Architecture + architecture modulaire\\nMaîtrise de Kotlin (coroutines et flows)\\nConnaissance de KMM requise\\nCI/CD (Jenkins, Fastlane)\\nJetPack Compose\\n\\nSECTION:\\nDESCRIPTION: Compétences requises\\nCapacité à travailler en équipe\\nBon relationnel pour intégration dans une équipe multi-métier\\nExpérience dans un environnement Agile\\n\\nLANGUAGES\\n\\n\\nCERTIFICATIONS\\n\\n\\nSKILLS\\n- {'name': 'CI/CD', 'type': 'hard', 'value': None}\\n- {'name': 'Composer', 'type': 'hard', 'value': None}\\n- {'name': 'Jenkins', 'type': 'hard', 'value': None}\\n- {'name': 'Kotlin', 'type': 'hard', 'value': None}\\n- {'name': 'MVVM (Model View ViewModel)', 'type': 'hard', 'value': None}\\n- {'name': 'Agilité', 'type': 'soft', 'value': None}\\n- {'name': 'agile', 'type': 'hard', 'value': None}\\n- {'name': 'ci/cd', 'type': 'hard', 'value': None}\\n- {'name': 'clean architecture', 'type': 'hard', 'value': None}\\n- {'name': 'composer', 'type': 'hard', 'value': None}\\n- {'name': 'fastlane', 'type': 'hard', 'value': None}\\n- {'name': 'jenkins', 'type': 'hard', 'value': None}\\n- {'name': 'jetpack compose', 'type': 'hard', 'value': None}\\n- {'name': 'kotlin', 'type': 'hard', 'value': None}\\n- {'name': 'model view viewmodel', 'type': 'hard', 'value': None}\\n- {'name': 'mvvm', 'type': 'hard', 'value': None}\\n- {'name': 'MVVM', 'type': 'hard', 'value': None}\\n\\nCOURSES\\n\\n\\nTASKS\\n- {'name': 'analyse, développement, tests unitaires', 'value': None}\\n- {'name': 'mise en place des bonnes pratiques', 'value': None}\\n- {'name': 'participation active au projet', 'value': None}\\n- {'name': 'participation au développement des applications gérées par le chapitre digital front', 'value': None}\\n- {'name': \"participation à la création d'un produit\", 'value': None}</td>\n",
       "    </tr>\n",
       "    <tr>\n",
       "      <th>4489</th>\n",
       "      <td>4544</td>\n",
       "      <td>None</td>\n",
       "      <td>SECTION:\\nDESCRIPTION: 🔺Contrainte forte du projet ⚠️ 2 à 3 jours de présence à Niort\\nContexte :\\nDans le cadre de l’évolution de son système d’information, le client a identifié le besoin de s’adjoindre l’expertise d’une société de prestation de services disposant de compétences avérées dans les cycles de fabrication et les environnements hors production.\\nLe \"Leader\" sera le porteur principal de tous les aspects touchant à la gestion des environnements hors production (Chargement des données, Refresh, Initialisation et Disponibilité des environnements, ...)\\nLe client dispose de 2 CDS qui gèrent les aspects opérationnels. En étroite collaboration avec le Domain Owner et le collectif du Domaine, il s’assurera auprès des Centre de Services (CDS) de la déclinaison des opérations sur les environnements nécessaires au bon fonctionnement des cycles de fabrication.\\nIl sera aussi le promoteur d’une dynamique de qualité et d’amélioration continue au sein du dispositif.\\nAvoir une approche Fournisseur de Service, s'inscrire dans une démarche relation Client avec une capacité de communication (Synthèse) et d'écoute, faire preuve de rigueur et méthodologie\\n\\nSECTION:\\nDESCRIPTION: D'un niveau expertise :\\n- Maitrise des phases d’intégration, de qualification et de mise en production et de l’ensemble des pratiques et environnements associés\\n- Gestion des changements, Incidents, Demandes : ITIL V3 (Outil ASSYST)\\n- Gestion de l’approche déploiements continue : CloudBees CD, XL Deploy/XL Release\\n- Agilité : KANBAN et gestion de backlog, SCRUM, Amélioration continue, rétrospective\\n- Outils collaboratifs : O365, JIRA\\nConnaissances transverses techniques :\\n- OS : Aix / Linux / WIndows- Hardware : ESX, VM, Stockage\\n- Bases de Données et utilitaires associés : Oracle, Post GRE\\n- Middleware : TIBCO / Puits de Données / OPenSHift\\n- Identification / Authentification : 1IM, Ping Federate\\n- Langages de développement (API / OO / FUN / cobol.....)\\nPrestations attendues :\\n. Animation / contribution à des points de suivi nécessaires niveau Domaine : points journaliers concernant les environnements, points mensuels MCO, ...\\n· Suivi de l’activité des CDS\\n· Expression du besoin d’évolution sur les outils sous la responsabilité de la squad Colissimo\\n· Validation des opérations à engager\\n· Mise à jour de livrables du Domaine et communication auprès des clients et des CDS\\n· Rédaction de cadrage sur des sujets du Domaine\\n· Echange de proximité avec les clients : rappel des exigences, REX et feedback\\n· Validation des plans d’amélioration : REX et plan d’amélioration continue\\n· Contribution à la vie du Domaine, au backlog,...\\n· Reporting auprès du Domaine owner, de l’agile master, du Responsable de Tribu et du Business Owner (Mail, Jira, ...)\\n\\nLANGUAGES\\n\\n\\nCERTIFICATIONS\\n\\n\\nSKILLS\\n- {'name': 'AIX (Advanced Interactive eXecutive)', 'type': 'hard', 'value': None}\\n- {'name': 'Linux', 'type': 'hard', 'value': None}\\n- {'name': 'Microsoft Windows', 'type': 'hard', 'value': None}\\n- {'name': 'Openshift', 'type': 'hard', 'value': None}\\n- {'name': 'Oracle', 'type': 'hard', 'value': None}\\n- {'name': 'PostgreSQL', 'type': 'hard', 'value': None}\\n- {'name': 'VMware ESX', 'type': 'hard', 'value': None}\\n- {'name': '1im', 'type': 'hard', 'value': None}\\n- {'name': 'advanced interactive executive', 'type': 'hard', 'value': None}\\n- {'name': 'aix', 'type': 'hard', 'value': None}\\n- {'name': 'aix', 'type': 'hard', 'value': None}\\n- {'name': 'api', 'type': 'hard', 'value': None}\\n- {'name': 'assyst', 'type': 'hard', 'value': None}\\n- {'name': 'business owner', 'type': 'hard', 'value': None}\\n- {'name': 'cloudbees cd', 'type': 'hard', 'value': None}\\n- {'name': 'cobol', 'type': 'hard', 'value': None}\\n- {'name': 'colissimo', 'type': 'hard', 'value': None}\\n- {'name': 'domain owner', 'type': 'hard', 'value': None}\\n- {'name': 'esx', 'type': 'hard', 'value': None}\\n- {'name': 'fournisseur de service', 'type': 'hard', 'value': None}\\n- {'name': 'fun', 'type': 'hard', 'value': None}\\n- {'name': 'itil v3', 'type': 'hard', 'value': None}\\n- {'name': 'jira', 'type': 'hard', 'value': None}\\n- {'name': 'jira', 'type': 'hard', 'value': None}\\n- {'name': 'kanban', 'type': 'hard', 'value': None}\\n- {'name': 'linux', 'type': 'hard', 'value': None}\\n- {'name': 'mco', 'type': 'hard', 'value': None}\\n- {'name': 'microsoft', 'type': 'hard', 'value': None}\\n- {'name': 'o365', 'type': 'hard', 'value': None}\\n- {'name': 'oo', 'type': 'hard', 'value': None}\\n\\nCOURSES\\n\\n\\nTASKS\\n- {'name': 'animation / contribution à des points de suivi nécessaires niveau domaine', 'value': None}\\n- {'name': 'echange\\nde proximité avec les clients', 'value': None}\\n- {'name': 'gestion de l’approche déploiements\\ncontinue', 'value': None}\\n- {'name': 'gestion des changements, incidents', 'value': None}\\n- {'name': 'gestion des environnements hors production', 'value': None}\\n- {'name': 'maitrise des phases\\nd’intégration, de qualification et de mise en production et de l’ensemble des\\npratiques et environnements associés', 'value': None}\\n- {'name': 'mise à jour de livrables du domaine et communication auprès des\\nclients et des cds', 'value': None}\\n- {'name': 'rappel des exigences', 'value': None}\\n- {'name': 'rédaction de cadrage sur des sujets du domaine', 'value': None}\\n- {'name': 'suivi de l’activité des cds', 'value': None}\\n- {'name': 'validation des opérations à\\nengager', 'value': None}\\n- {'name': 'validation des plans d’amélioration', 'value': None}</td>\n",
       "    </tr>\n",
       "    <tr>\n",
       "      <th>7941</th>\n",
       "      <td>10129</td>\n",
       "      <td>None</td>\n",
       "      <td>SECTION:\\nDESCRIPTION: 💼 Opportunité en CDI : Business Analyst Finance\\n📌 Entre 4 et 5 ans d'expérience 📍 Lieu : Paris : Démarrage ASAP : Profils Résidents en Île-de-France.\\nResponsabilités :\\nComprendre et analyser les besoins métiers.\\nFormalisation des exigences associées aux besoins et rédiger les spécifications fonctionnelles.\\nContribution aux activités de tests fonctionnels.\\nAccompagnement du Métier dans la réalisation des tests utilisateurs.\\nContribution, en lien avec les Métiers, à la conduite du changement.\\nConstruction d'une feuille de route pour le contrôle du budget et le suivi d'avancement, suivi et analyse de l'avancement.\\nAssurer le support fonctionnel.\\nSuivi régulier pour la hiérarchie des évolutions des travaux, les risques fonctionnels et les retards éventuels.\\nSi intéressé(e), contactez-moi.\\n#BusinessAnalyst #Finance #CDI\\n\\nSECTION:\\nDESCRIPTION: 💼 Opportunité en CDI : Business Analyst Finance\\n📌 Entre 4 et 5 ans d'expérience 📍 Lieu : Paris : Démarrage ASAP : Profils Résidents en Île-de-France.\\nResponsabilités :\\nComprendre et analyser les besoins métiers.\\nFormalisation des exigences associées aux besoins et rédiger les spécifications fonctionnelles.\\nContribution aux activités de tests fonctionnels.\\nAccompagnement du Métier dans la réalisation des tests utilisateurs.\\nContribution, en lien avec les Métiers, à la conduite du changement.\\nConstruction d'une feuille de route pour le contrôle du budget et le suivi d'avancement, suivi et analyse de l'avancement.\\nAssurer le support fonctionnel.\\nSuivi régulier pour la hiérarchie des évolutions des travaux, les risques fonctionnels et les retards éventuels.\\nSi intéressé(e), contactez-moi.\\n#BusinessAnalyst #Finance #CDI\\n\\nLANGUAGES\\n\\n\\nCERTIFICATIONS\\n\\n\\nSKILLS\\n- {'name': 'Analyse', 'type': 'hard', 'value': None}\\n- {'name': 'Finance', 'type': 'hard', 'value': None}\\n- {'name': 'Test unitaire', 'type': 'hard', 'value': None}\\n- {'name': 'Agilité', 'type': 'soft', 'value': None}\\n- {'name': \"Esprit d'analyse\", 'type': 'soft', 'value': None}\\n\\nCOURSES\\n\\n\\nTASKS\\n- {'name': 'Accompagnement du Métier dans la réalisation des tests utilisateurs', 'value': None}\\n- {'name': 'Analyse', 'value': None}\\n- {'name': 'Assurer le support fonctionnel', 'value': None}\\n- {'name': 'Comprendre et analyser les besoins métiers', 'value': None}\\n- {'name': \"Construction d'une feuille de route pour le contrôle du budget et le suivi d'avancement\", 'value': None}\\n- {'name': 'Contribution aux activités de tests fonctionnels', 'value': None}\\n- {'name': 'Contribution, en lien avec les Métiers, à la conduite du changement', 'value': None}\\n- {'name': 'Formalisation des exigences associées aux besoins et rédiger les spécifications fonctionnelles', 'value': None}\\n- {'name': 'Suivi régulier pour la hiérarchie des évolutions des travaux, les risques fonctionnels et les retards éventuels', 'value': None}\\n- {'name': \"suivi et analyse de l'avancement\", 'value': None}</td>\n",
       "    </tr>\n",
       "  </tbody>\n",
       "</table>"
      ]
     },
     "metadata": {},
     "output_type": "display_data"
    }
   ],
   "execution_count": 122
  },
  {
   "metadata": {
    "ExecuteTime": {
     "end_time": "2025-03-04T10:31:18.965598Z",
     "start_time": "2025-03-04T10:31:18.960260Z"
    }
   },
   "cell_type": "code",
   "source": [
    "# df_jobs['summary'] = df_jobs['summary'].fillna(\"nan\")\n",
    "# df_jobs['title'] = df_jobs['title'].fillna(\"\")"
   ],
   "id": "cad9033d79c71910",
   "outputs": [],
   "execution_count": 123
  },
  {
   "metadata": {
    "ExecuteTime": {
     "end_time": "2025-03-04T10:31:18.972025Z",
     "start_time": "2025-03-04T10:31:18.966567Z"
    }
   },
   "cell_type": "code",
   "source": "# print(df_jobs['title'].apply(len).value_counts().sort_index().head(5))",
   "id": "b22e1a0221c1341c",
   "outputs": [],
   "execution_count": 124
  },
  {
   "metadata": {},
   "cell_type": "markdown",
   "source": "## 1.2 Create Features - title, location, seniority, summary, company, industry, contract type, linguas exigidas",
   "id": "50610445dad042f8"
  },
  {
   "metadata": {
    "ExecuteTime": {
     "end_time": "2025-03-04T10:31:18.978583Z",
     "start_time": "2025-03-04T10:31:18.972987Z"
    }
   },
   "cell_type": "code",
   "source": [
    "model = \"gpt-4o-mini\"\n",
    "temperature = 0.0\n",
    "\n",
    "# Define Features\n",
    "features = ['title', 'location', 'seniority', 'company', 'industry', 'languages']\n",
    "for feature in features:\n",
    "    df_jobs[feature] =  pd.NA"
   ],
   "id": "e59cf9626a9eea6",
   "outputs": [],
   "execution_count": 125
  },
  {
   "metadata": {
    "ExecuteTime": {
     "end_time": "2025-03-04T10:31:18.982564Z",
     "start_time": "2025-03-04T10:31:18.979816Z"
    }
   },
   "cell_type": "code",
   "source": [
    "import tiktoken\n",
    "\n",
    "def count_tokens(text, model=model):\n",
    "    encoding = tiktoken.encoding_for_model(model)\n",
    "    return len(encoding.encode(text))"
   ],
   "id": "fddadb9819ab01b5",
   "outputs": [],
   "execution_count": 126
  },
  {
   "metadata": {
    "ExecuteTime": {
     "end_time": "2025-03-04T10:31:30.502149Z",
     "start_time": "2025-03-04T10:31:18.984629Z"
    }
   },
   "cell_type": "code",
   "source": [
    "tokens = 0\n",
    "for idx, row in df_jobs.iterrows():\n",
    "    tokens += count_tokens(row[\"job_description\"])\n",
    "print(tokens)"
   ],
   "id": "fc376e264c45b337",
   "outputs": [
    {
     "name": "stdout",
     "output_type": "stream",
     "text": [
      "21695679\n"
     ]
    }
   ],
   "execution_count": 127
  },
  {
   "metadata": {
    "ExecuteTime": {
     "end_time": "2025-03-04T10:31:30.506579Z",
     "start_time": "2025-03-04T10:31:30.503060Z"
    }
   },
   "cell_type": "code",
   "source": [
    "# Subsample\n",
    "df_jobs = df_jobs.sample(10)"
   ],
   "id": "a25be1de6f575bf3",
   "outputs": [],
   "execution_count": 128
  },
  {
   "metadata": {
    "ExecuteTime": {
     "end_time": "2025-03-04T10:31:30.569587Z",
     "start_time": "2025-03-04T10:31:30.507426Z"
    }
   },
   "cell_type": "code",
   "source": [
    "# Define functions to call LLM\n",
    "class Job(BaseModel):\n",
    "    title: str\n",
    "    location: str\n",
    "    seniority: str\n",
    "    company: str\n",
    "    industry: str\n",
    "    languages: list[str]\n",
    "\n",
    "def get_chatgpt_response(job_description):\n",
    "    \"\"\"Send job description to OpenAI API and return a structured JSON response.\"\"\"\n",
    "    try:    \n",
    "        system_prompt = \"\"\"\n",
    "            Extract the following information from a job ad:\n",
    "            - Title\n",
    "            - Location (City and Country)\n",
    "            - Seniority (internship, entry-level, mid-level, senior-level or director/executive level)\n",
    "            - Company Name\n",
    "            - Industry\n",
    "            - Languages Required\n",
    "            \"\"\"\n",
    "        user_prompt = f\"Here is the Job Ad:\\n\\n{job_description}\\n\\nReturn a JSON with the keys: title, location, experience_level, company, industry and languages. Return your answer as a JSON in ENGLISH with the properties described please.\"\n",
    "        \n",
    "        \n",
    "        completion = client.beta.chat.completions.parse(\n",
    "            model=model, \n",
    "            messages=[\n",
    "                {\"role\": \"system\", \"content\": system_prompt},\n",
    "                {\"role\": \"user\", \"content\": user_prompt}\n",
    "            ],\n",
    "            temperature=temperature,\n",
    "            response_format=Job\n",
    "        )\n",
    "        \n",
    "        event = completion.choices[0].message.parsed\n",
    "        \n",
    "        return event\n",
    "    \n",
    "    except Exception as e:\n",
    "        print(e)\n",
    "        return None"
   ],
   "id": "4c50190cae2406d7",
   "outputs": [],
   "execution_count": 129
  },
  {
   "metadata": {
    "ExecuteTime": {
     "end_time": "2025-03-04T10:31:42.334740Z",
     "start_time": "2025-03-04T10:31:30.571692Z"
    }
   },
   "cell_type": "code",
   "source": [
    "# Run testings\n",
    "df_jobs[\"gpt_response\"] = df_jobs[\"job_description\"].apply(\n",
    "    lambda x: get_chatgpt_response(x) if pd.notna(x) else None\n",
    ")"
   ],
   "id": "6453f8a0ec1a8a4c",
   "outputs": [],
   "execution_count": 130
  },
  {
   "metadata": {
    "ExecuteTime": {
     "end_time": "2025-03-04T10:31:42.353614Z",
     "start_time": "2025-03-04T10:31:42.336588Z"
    }
   },
   "cell_type": "code",
   "source": [
    "# Response treatment\n",
    "for idx, row in df_jobs.iterrows():\n",
    "    job = row[\"gpt_response\"]\n",
    "    \n",
    "    if job is None:\n",
    "        df_jobs.loc[idx, \"gpt_response\"] = None\n",
    "        continue    # keep pd.NA if chatgpt error\n",
    "        \n",
    "    for feature in features:\n",
    "        value = getattr(job, feature)\n",
    "        if type(value) == list:\n",
    "            value = \", \".join(value)\n",
    "        df_jobs.loc[idx, feature] = value.replace(\"Not specified\", \"\").replace(\"not specified\", \"\")\n",
    "\n",
    "display(HTML(df_jobs.to_html()))"
   ],
   "id": "7c82bf755712bed5",
   "outputs": [
    {
     "data": {
      "text/plain": [
       "<IPython.core.display.HTML object>"
      ],
      "text/html": [
       "<table border=\"1\" class=\"dataframe\">\n",
       "  <thead>\n",
       "    <tr style=\"text-align: right;\">\n",
       "      <th></th>\n",
       "      <th>job_id</th>\n",
       "      <th>title</th>\n",
       "      <th>job_description</th>\n",
       "      <th>location</th>\n",
       "      <th>seniority</th>\n",
       "      <th>company</th>\n",
       "      <th>industry</th>\n",
       "      <th>languages</th>\n",
       "      <th>gpt_response</th>\n",
       "    </tr>\n",
       "  </thead>\n",
       "  <tbody>\n",
       "    <tr>\n",
       "      <th>7012</th>\n",
       "      <td>7610</td>\n",
       "      <td>Développeur BI / Décisionnel - Entre 6 et 9 ans</td>\n",
       "      <td>TITLE\\nDéveloppeur BI / Décisionnel - Entre 6 et 9 ans\\n\\nSUMMARY\\nPassionné(e) par l'informatique et désireux de relever de nouveaux défis ?\\nRejoignez nos équipes d'experts et participez à nos projets innovants utilisant les dernières tendances technologiques.\\nVos missions au sein de l’équipe seront les suivantes :\\n \\n• Définir et implémenter les solutions techniques en accord avec les spécifications et en\\ngarantissant le respect des normes de sécurité, d’architecture et de développement ;\\n• Documenter les solutions pour les développements ultérieurs ;\\n• Préparer, automatiser et réaliser les tests en y incluant les tests d’intégration ;\\n• Assurer le support aux utilisateurs lors de la phase de recette et la maintenance ;\\n• Participer au support de Production et l’accompagnement de nos clients.\\n\\nSECTION:\\nDESCRIPTION: Passionné(e) par l'informatique et désireux de relever de nouveaux défis ?\\nRejoignez nos équipes d'experts et participez à nos projets innovants utilisant les dernières tendances technologiques.\\nVos missions au sein de l’équipe seront les suivantes :\\n \\n• Définir et implémenter les solutions techniques en accord avec les spécifications et en\\ngarantissant le respect des normes de sécurité, d’architecture et de développement ;\\n• Documenter les solutions pour les développements ultérieurs ;\\n• Préparer, automatiser et réaliser les tests en y incluant les tests d’intégration ;\\n• Assurer le support aux utilisateurs lors de la phase de recette et la maintenance ;\\n• Participer au support de Production et l’accompagnement de nos clients.\\n\\nSECTION:\\nDESCRIPTION: Compétences techniques :\\n• Power BI (Desktop &amp; Service)\\n• Power Platform,\\n• Business Objects BI4,\\n• Oracle PL/SQL,\\n• Git.\\n \\nCompétences fonctionnelles\\n• Compréhension des enjeux métiers et business\\nCompétences humaines :\\n• Capacités de communication/vulgarisation/synthèse\\n• Capacités d’adaptation\\n \\nÉtat d’esprit :\\n• Sens du service\\n• Esprit d’équipe\\n• Curiosité\\n• Agilité d'esprit\\n\\nLANGUAGES\\n\\n\\nCERTIFICATIONS\\n\\n\\nSKILLS\\n- {'name': 'Business Object', 'type': 'hard', 'value': None}\\n- {'name': 'Git', 'type': 'hard', 'value': None}\\n- {'name': 'Microsoft Power BI', 'type': 'hard', 'value': None}\\n- {'name': 'Oracle', 'type': 'hard', 'value': None}\\n- {'name': 'PL/SQL', 'type': 'hard', 'value': None}\\n- {'name': 'business object', 'type': 'hard', 'value': None}\\n- {'name': 'business objects bi4', 'type': 'hard', 'value': None}\\n- {'name': 'git', 'type': 'hard', 'value': None}\\n- {'name': 'microsoft power bi', 'type': 'hard', 'value': None}\\n- {'name': 'oracle', 'type': 'hard', 'value': None}\\n- {'name': 'oracle pl', 'type': 'hard', 'value': None}\\n- {'name': 'pl', 'type': 'hard', 'value': None}\\n- {'name': 'power bi', 'type': 'hard', 'value': None}\\n- {'name': 'power platform', 'type': 'hard', 'value': None}\\n- {'name': 'sql', 'type': 'hard', 'value': None}\\n- {'name': 'curiosité', 'type': 'soft', 'value': None}\\n- {'name': 'esprit d’équipe', 'type': 'soft', 'value': None}\\n- {'name': 'sens du service', 'type': 'soft', 'value': None}\\n\\nCOURSES\\n\\n\\nTASKS\\n- {'name': 'assurer le\\nsupport aux utilisateurs lors de la phase de recette et la maintenance', 'value': None}\\n- {'name': 'documenter les\\nsolutions pour les développements ultérieurs', 'value': None}\\n- {'name': 'définir et implémenter les solutions\\ntechniques en accord avec les spécifications et en garantissant le respect des\\nnormes de sécurité, d’architecture et de développement', 'value': None}\\n- {'name': 'participer au support de production et l’accompagnement de nos clients', 'value': None}\\n- {'name': 'préparer, automatiser et\\nréaliser les tests en y incluant les tests d’intégration', 'value': None}</td>\n",
       "      <td></td>\n",
       "      <td>mid-level</td>\n",
       "      <td></td>\n",
       "      <td>Information Technology</td>\n",
       "      <td></td>\n",
       "      <td>title='Développeur BI / Décisionnel - Entre 6 et 9 ans' location='Not specified' seniority='mid-level' company='Not specified' industry='Information Technology' languages=[]</td>\n",
       "    </tr>\n",
       "    <tr>\n",
       "      <th>15936</th>\n",
       "      <td>20245</td>\n",
       "      <td>PMO Budgets</td>\n",
       "      <td>TITLE\\nPMO Budgets\\n\\nSUMMARY\\nPMO Budgets\\n\\nSECTION:\\nTITLE: Job description\\nDESCRIPTION: -Construction du budget :\\noCoordinations et contributions au différents managers au sein des domaines IT ainsi que des responsables de territoires à l’étranger (Forecasts et Budget N+1) en incluant les trajectoires HeadCounts et les coûts directs (en Cash/PnL)\\noParticipation à la préparation de la présentation budgétaire annuelle (à destination du CIO et de son responsable)\\noConstruction et suivi du Book of Work du Domaine (jours hommes prévus et consommés sur les projets)\\n-Suivi du budget\\noRéalisation des rapprochements mensuels du réalisé (Actuals) et du budget (en trajectoires HeadCounts et Cash/PnL)\\noExpertise et contrôle du Rolling Forecast (pour l’année en cours ; réalisé à date + révision des prévisions jusqu’à la fin de l’année)\\noExpertise et contrôle des KPI\\noIdentification et justification des variations auprès des responsables des domaines IT et des responsables des territoires\\noIdentification des provisions en fin de mois.\\noPréparation de l’atterrissage prévisionnel de fin d’année en intégrant les variations au Forecast/Budget.\\noIntégration des transferts budgétaires\\n- Accompagnement du changement en adaptant les processus, les outils et le suivi, en interaction avec les responsables de domaines IT ainsi que des responsables de territoires à l’étranger.\\n\\nSECTION:\\nTITLE: Company description\\nDESCRIPTION: Créé en 1979 par des passionnés de l’informatique, Infotel a su évoluer en passant de la start-up à un groupe coté en Bourse, dépassant les 175 millions d’euros de chiffre d’affaires et réalisant des projets prestigieux dans les plus grandes entreprises dans des domaines comme l’Industrie, les Télécoms, la Banque/Finance, l’Assurance\\nAvec plus de 2000 collaborateurs, le groupe Infotel intervient au cœur du système d’information de ses clients. En gardant l’esprit pionnier de ses débuts, où la passion de l’informatique guidait ses premiers ingénieurs, le groupe Infotel est désormais présent partout en France.\\nNous accompagnons nos clients sur des prestations :\\n- de Conseil (études préalables, aide au choix d’outils, ...),\\n- de Conception et de Développement en architectures N-tier (JEE, .Net, LAMP...) au forfait et en assistance technique,\\n- d’Analyse et de Développement en environnement Mainframe,\\n- d’Ingénierie des Systèmes et Réseaux.\\n\\nSECTION:\\nTITLE: Profile description\\nDESCRIPTION: Compétences :\\n-Analyser\\n-Assurer un suivi\\n-Contrôler\\n-Planifier\\n-Rédiger\\n-PMO\\n-Anglais\\n\\nLANGUAGES\\n\\n\\nCERTIFICATIONS\\n\\n\\nSKILLS\\n- {'name': 'HeadCounts', 'value': None, 'type': 'hard'}\\n- {'name': 'Cash', 'value': None, 'type': 'hard'}\\n- {'name': 'PnL', 'value': None, 'type': 'hard'}\\n- {'name': 'CIO', 'value': None, 'type': 'hard'}\\n- {'name': 'Actuals', 'value': None, 'type': 'hard'}\\n- {'name': 'HeadCounts', 'value': None, 'type': 'hard'}\\n- {'name': 'PnL', 'value': None, 'type': 'hard'}\\n- {'name': 'Rolling Forecast', 'value': None, 'type': 'hard'}\\n- {'name': 'KPI', 'value': None, 'type': 'hard'}\\n\\nCOURSES\\n\\n\\nTASKS\\n- {'name': 'Construction du budget', 'value': None}\\n- {'name': 'Coordinations et contributions au différents managers au sein des domaines IT ainsi que des responsables de territoires à l’étranger', 'value': None}\\n- {'name': 'Participation à la préparation de la présentation budgétaire annuelle', 'value': None}\\n- {'name': 'Construction et suivi du Book of Work du Domaine', 'value': None}\\n- {'name': 'Suivi du budget', 'value': None}\\n- {'name': 'Réalisation des rapprochements mensuels du réalisé', 'value': None}\\n- {'name': 'révision des prévisions jusqu’à la fin de l’année', 'value': None}\\n- {'name': 'Identification et justification des variations auprès des responsables des domaines IT et des responsables des territoires', 'value': None}\\n- {'name': 'Identification des provisions en fin de mois', 'value': None}\\n- {'name': 'Préparation de l’atterrissage prévisionnel de fin d’année en intégrant les variations au Forecast/Budget', 'value': None}\\n- {'name': 'Intégration des transferts budgétaires', 'value': None}\\n- {'name': 'Accompagnement du changement en adaptant les processus, les outils et le suivi, en interaction avec les responsables de domaines IT ainsi que des responsables de territoires à l’étranger', 'value': None}</td>\n",
       "      <td>France</td>\n",
       "      <td>mid-level</td>\n",
       "      <td>Infotel</td>\n",
       "      <td>Information Technology</td>\n",
       "      <td>English</td>\n",
       "      <td>title='PMO Budgets' location='France' seniority='mid-level' company='Infotel' industry='Information Technology' languages=['English']</td>\n",
       "    </tr>\n",
       "    <tr>\n",
       "      <th>17849</th>\n",
       "      <td>22538</td>\n",
       "      <td>Project Director / PMO</td>\n",
       "      <td>TITLE\\nDirecteur de projet / PMO\\n\\nSUMMARY\\ndirecteur de projet / PMO_x000D_ o Mission :_x000D_  Pilotage de l’ensemble du portefeuille projet_x000D_  Gestion de la genèse des projets_x000D_ Recueil des besoins auprès de la maîtrise d’ouvrage_x000D_ Synchronisation avec le portefeuille projet de l’entité_x000D_ Préparation des documents pour les comités de décision_x000D_  Gestion des aspects delivery, reporting et budget_x000D_ Delivery : pilotage de l’activité des différents chefs de projet et pilotage du respect des délais_x000D_ Reporting : reporting hebdomadaire et mensuel, organisation et préparation des comités de pilotage_x000D_ Budget : suivi du budget des projets (réalisé, EAC, )_x000D_ Risques : gestion des risques (identification, plans de mitigation, suivi)_x000D_ Ressources : suivi des prévisionnels de charge_x000D_ PMO : pilotage de l’aspect PMO des projets (alignement avec les attendus côté PMO entité et groupe)_x000D_  Pilotage en direct de certains petits projets_x000D_ o Compétences_x000D_  Anglais professionnel (périmètre international)_x000D_  Profil senior_x000D_  Très bonne communication tant envers les interlocuteurs techniques que vers les interlocuteurs côté management_x000D_ o Démarrage : ASAP_x000D_ o Durée : 1 à 2 ans\\n\\nSECTION:\\nTITLE: CANDIDATE_PROFILE\\n\\nSECTION:\\nTITLE: COMPANY_DESCRIPTION\\n\\nLANGUAGES\\n\\n\\nCERTIFICATIONS\\n\\n\\nSKILLS\\n\\n\\nCOURSES\\n\\n\\nTASKS</td>\n",
       "      <td></td>\n",
       "      <td>senior-level</td>\n",
       "      <td></td>\n",
       "      <td></td>\n",
       "      <td>Professional English</td>\n",
       "      <td>title='Project Director / PMO' location='Not specified' seniority='senior-level' company='Not specified' industry='Not specified' languages=['Professional English']</td>\n",
       "    </tr>\n",
       "    <tr>\n",
       "      <th>16303</th>\n",
       "      <td>20719</td>\n",
       "      <td>Senior Functional Consultant SAP PP QM PM</td>\n",
       "      <td>TITLE\\nConsultant fonctionnel senior SAP PP QM PM\\n\\nSUMMARY\\nConsultant fonctionnel senior SAP PP QM PM\\n\\nSECTION:\\nTITLE: Job description\\nDESCRIPTION: Nous recherchons pour notre client un consultant technico fonctionnel SAP PP QM PM pour intervenir dans le cadre d’une TMA et projets d’évolutions.\\nActivités : Participation sur les différentes phases du projet : Maintenance, recueil des besoins, conception, spécification, paramétrage, déroule des tests, analyse et correction des bugs, avec support de profils expert technique quand nécessaire.\\nAccompagnement de profils développeurs analystes juniors\\nBons sens du service /relation client\\nCompétences attendues :\\nMaîtrise du paramétrage SAP\\nMaitrise à minima débug et peut accompagner des profils juniors sur leurs montée en compétence\\nCompétences SAP PP QM PM ECC6\\nConnaissance S/4 est un plus (Montée de version S/4 prévue en 2023).\\nMission full remote pour 6 mois et plus\\nDémarrage ASAP\\n\\nSECTION:\\nTITLE: Company description\\nDESCRIPTION: Le projet que porte Cercar est de construire au quotidien un modèle d’intermédiation &amp; de recrutement qui soit sincèrement transparent, collaboratif, pertinent &amp; responsable.\\nEn bref, on ne va pas réinventer la roue mais on va s’assurer que tout le monde aille dans la même direction !\\n#transparence100 #marge50€ #cooptation25 #broker0\\n\\nSECTION:\\nTITLE: Profile description\\n\\nLANGUAGES\\n\\n\\nCERTIFICATIONS\\n- {'name': 'SAP PP QM PM ECC6\\r', 'value': None}\\n\\nSKILLS\\n- {'name': 'SAP PP QM PM', 'value': None, 'type': 'hard'}\\n- {'name': 'TMA', 'value': None, 'type': 'hard'}\\n- {'name': 'SAP', 'value': None, 'type': 'hard'}\\n- {'name': 'ASAP', 'value': None, 'type': 'hard'}\\n\\nCOURSES\\n\\n\\nTASKS\\n- {'name': 'Participation sur les différentes phases du projet', 'value': None}\\n- {'name': 'Maintenance', 'value': None}\\n- {'name': 'recueil des besoins', 'value': None}\\n- {'name': 'conception', 'value': None}\\n- {'name': 'spécification', 'value': None}\\n- {'name': 'paramétrage', 'value': None}\\n- {'name': 'déroule des tests', 'value': None}\\n- {'name': 'analyse et correction des bugs, avec support de profils expert technique quand nécessaire', 'value': None}\\n- {'name': 'Accompagnement de profils développeurs analystes juniors', 'value': None}\\n- {'name': 'Maitrise à minima débug et peut accompagner des profils juniors sur leurs montée en compétence', 'value': None}</td>\n",
       "      <td>Remote</td>\n",
       "      <td>senior-level</td>\n",
       "      <td>Cercar</td>\n",
       "      <td>Recruitment and Intermediation</td>\n",
       "      <td></td>\n",
       "      <td>title='Senior Functional Consultant SAP PP QM PM' location='Remote' seniority='senior-level' company='Cercar' industry='Recruitment and Intermediation' languages=[]</td>\n",
       "    </tr>\n",
       "    <tr>\n",
       "      <th>13038</th>\n",
       "      <td>16634</td>\n",
       "      <td>Chef de projet Transverse MOA /MOE</td>\n",
       "      <td>TITLE\\nChef de projet Transverse MOA /MOE\\n\\nSUMMARY\\nEntre 3 et 10 ans d’expériences professionnelles sur des sujets de transverse, ayant déjà intervenu dans le cadre d’un programme et projets complexes pour une mission longue à la DSI;_x000D_ _x000D_ - Vous maitrisez les sujets de pilotage projet.produit en agile;_x000D_ - Vous vous épanouissez dans un environnement multi projet;_x000D_ - Vous êtes un bon communicant (oral &amp; écrit);_x000D_ - Vous savez prioriser les enjeux afin de mener à bien la planification et le suivi des plannings;_x000D_ - Vous savez rédiger des documents de support de réunion, compte rendu, tableau de bord de suivi, suivi de risques._x000D_ _x000D_ État d’esprit: _x000D_ _x000D_ Excellentes compétences interpersonnelles et de communication_x000D_ Capacité d’adaptation_x000D_ Autonomie et proactivité_x000D_ Sens du détail_x000D_ _x000D_ Les +: _x000D_ _x000D_ Expérience des méthodologies et des outils Agile_x000D_ Des connaissances réglementaires sont appréciées sur ce poste (RGPD)_x000D_ L’environnement banque et assurance vous est familier\\n\\nSECTION:\\nTITLE: CANDIDATE_PROFILE\\nDESCRIPTION: Le.a futur.e chef de projet transverse sera :_x000D_ _x000D_ ?Softskills:_x000D_ _x000D_ - Bon communicant (orale &amp; écrit)_x000D_ - Être un profil très organisé et pro-actif_x000D_ _x000D_ ?Hardskills:_x000D_ _x000D_ - Avoir une bonne connaissance du travail en méthode AGILE_x000D_ _x000D_ ? Nice to have :_x000D_ _x000D_ - Avoir une expérience de 3 ans minimum sur ce type de poste\\n\\nSECTION:\\nTITLE: COMPANY_DESCRIPTION\\nDESCRIPTION: Recrutez vite, trompez vous peu. _x000D_ _x000D_ Notre méthode : _x000D_ - sourcing : 100 automatisé, tout ce qu’on peut, on a une vision growth marketing de ce métier, pour aller vite._x000D_ - recrutement : 100 humain, une équipe qui dev, formée à la tech, pour pas ou peu se tromper._x000D_ _x000D_ Notre approche combine à la fois growth hacking et connaissance de la tech. On va vite sur le sourcing et on prend notre temps pour assurer le fit entre les talents et la mission de nos clients._x000D_ _x000D_ Nos solutions :_x000D_ ? Recrutement freelances _x000D_ ? Recrutements en CDI_x000D_ ? RPO (Recruitment Process Outsourcing)_x000D_ ? Formation Recrutez comme un growth _x000D_ _x000D_ Nos clients ?‍?‍?‍?_x000D_ Les CPO / CTO et CDO de sociétés en hyper croissance, qui recrutent sur deux fonctions :_x000D_ - Tech_x000D_ - Product_x000D_ _x000D_ Ces derniers nous parlent, on les écoute, on cherche, on cherche, on cherche encore et en 48h on leur propose un ou deux profils, testés en interne et validés humainement. _x000D_ _x000D_ #recruteur #talentacquisition #sourcing #hrtech #freelance #CDI #RPO\\n\\nLANGUAGES\\n\\n\\nCERTIFICATIONS\\n\\n\\nSKILLS\\n\\n\\nCOURSES\\n\\n\\nTASKS</td>\n",
       "      <td></td>\n",
       "      <td>mid-level</td>\n",
       "      <td></td>\n",
       "      <td>Recruitment / Human Resources</td>\n",
       "      <td>French</td>\n",
       "      <td>title='Chef de projet Transverse MOA /MOE' location='Not specified' seniority='mid-level' company='Not specified' industry='Recruitment / Human Resources' languages=['French']</td>\n",
       "    </tr>\n",
       "    <tr>\n",
       "      <th>21146</th>\n",
       "      <td>26451</td>\n",
       "      <td>Tech Lead Java FullStack</td>\n",
       "      <td>TITLE\\nTech Lead Java FullStack\\n\\nSUMMARY\\nJe recherche pour un de mes clients un TECH LEAD JAVA FULLSTACK _x000D_ _x000D_ Objectifs de la mission_x000D_ Les enjeux de cette application sont les performances, la scalabilité, la sécurité et l’internationalisation._x000D_ En tant que développeur senior FullStack, vous rejoindrez l’équipe et serez en charge des développements Angular / Java pour construire de nouvelles interfaces et fonctionnalités et améliorer celles existantes._x000D_ _x000D_ Prestations demandées_x000D_ Compétences:_x000D_ Maîtrise du développement back-end (Java 8, Springboot, Rest API, bonus : Graph QL)_x000D_ Forte capacité à effectuer des développements front-end (Angular 8 et 9)_x000D_ Solide connaissance de JMS (ou autre MQ), requête LDAP, séquencement de flux, requête SQL optimisée, tâches CRON_x000D_ Maîtrise de la conception de modèles de données, du séquencement des tâches, de la gestion des erreurs, de l’optimisation du code pour la performance et la sécurité_x000D_ Forte compétence en sécurité : SSO (SAML2 et OIDC), JsonToken_x000D_ Connaissance de Docker (composition, déploiement, volumes)_x000D_ _x000D_ _x000D_ Responsabilités_x000D_ Soutenir Product Owner sur la conception et l’estimation des fonctionnalités_x000D_ Prendre des initiatives pour assurer la maintenabilité et la fiabilité des applications_x000D_ Surveiller les applications et assurer une bonne qualité de code/performance/temps de réponse_x000D_ _x000D_ _x000D_ Langues nécessaires_x000D_ Français : courant_x000D_ Anglais : courant_x000D_ L’espagnol est un plus\\n\\nSECTION:\\nTITLE: CANDIDATE_PROFILE\\nDESCRIPTION: Tech Lead Java FullStack\\n\\nSECTION:\\nTITLE: COMPANY_DESCRIPTION\\nDESCRIPTION: Avec une couverture nationale, Beezen est un acteur de référence dans les métiers du conseil et des services informatiques. _x000D_ _x000D_ Fondée en 2008, Beezen conseille, réalise, forme et accompagne ses clients dans leurs projets. Beezen a mis en œuvre plus de 100 projets réalisés pour des entreprises du CAC 40 et ETI (Entreprises de Taille Intermédiaire). _x000D_ _x000D_ Nous proposons une gamme complète de prestations organisée autour de 3 métiers : le Management, les Technologies et l’Innovation. _x000D_ Partenaire privilégié des grands éditeurs internationaux de logiciels, notre unique objectif est de vous amener à vous différencier grâce à des solutions métiers et technologiques novatrices et performantes.\\n\\nLANGUAGES\\n\\n\\nCERTIFICATIONS\\n\\n\\nSKILLS\\n\\n\\nCOURSES\\n\\n\\nTASKS</td>\n",
       "      <td>, France</td>\n",
       "      <td>senior-level</td>\n",
       "      <td>Beezen</td>\n",
       "      <td>IT Consulting and Services</td>\n",
       "      <td>French, English, Spanish (a plus)</td>\n",
       "      <td>title='Tech Lead Java FullStack' location='Not specified, France' seniority='senior-level' company='Beezen' industry='IT Consulting and Services' languages=['French', 'English', 'Spanish (a plus)']</td>\n",
       "    </tr>\n",
       "    <tr>\n",
       "      <th>8421</th>\n",
       "      <td>11141</td>\n",
       "      <td>Proxy PO data</td>\n",
       "      <td>TITLE\\nProxy PO data\\n\\nSUMMARY\\nProxy PO data\\n\\nSECTION:\\nTITLE: Job description\\nDESCRIPTION: L’environnement de développement Data repose sur des logiciels tels que DATABRICKS avec des NoteBooks développés en python (pyspark). Une connaissance d’un environnement technique proche ou similaire de ce type d’environnement sera un grand plus.\\nEn tant que Proxy PO, le/la prestataire sera responsable des spécifications fonctionnelles en mode agile, du suivi de développement, de la recette fonctionnelle et du suivi de la production.\\nIl/elle intervient en particulier sur les activités suivantes :\\n Recueil des besoins et animation des ateliers métier\\n Réalisation des spécifications fonctionnelles sous forme d’US en lien avec le PO et le métier\\n Réalisation d’études/cadrage\\n Déclaration des bugs et suivi des développements de leurs correctifs\\n Suivi de production, analyse des remontées métiers et suivi du correctif\\n Réalisation de la recette fonctionnelle\\n Rédaction et mise à jour de la documentation (data mapping, dossier d’exploitation ..)\\nExpertise souhaitée\\nExpertise souhaitée :\\n Expérience significative en tant que Proxy PO/ Business Analyste sur des sujets data en assurance des collectives et réassurance sur les domaines santé, prévoyance et retraite.\\n Minimum 5 ans d’expérience\\nConnaissance et compétences :\\n Compétence reconnue en spécification fonctionnelle spécifique à la data et réalisation de la recette fonctionnelle\\n Maitrise des méthodologie de projet informatique ( Agile ( scrumban), Cycle en V ) et notamment sur l’outil Jira\\n Connaissance du domaine de l’assurance et réassurance sur les domaines santé, prévoyance et retraite souhaitée\\n Aisance orale et écrite en anglais obligatoire\\nCompétences personnelles :\\n Avoir le sens du service et être orienté client\\n Fort esprit d’équipe\\n Excellente communication écrite et orale\\n Être proactif, autonome et savoir prendre des initiatives\\n\\nSECTION:\\nTITLE: Company description\\nDESCRIPTION: Innov and Co Inclusion, Diversité ou Handicap fait partie de l’économie responsable, pour 60 collaborateurs. Ce sont 2 entreprises sociales et solidaires. Notre métier est de lever les idées reçues sur les bons profils pour l’entreprise.\\nUne entreprise de consultants de séniors, de jeunes, de personnes porteuses d’un handicap, ou issus des quartiers politiques des territoires, ainsi que de femmes sont des métiers genrés homme, agréée Entreprise Solidaire et Sociale, SAS au capital social de -téléphone masqué- euros.\\nNous sommes dans le classement les Echos 2022 des entreprises en plus forte croissance en France.\\nAvec plus de 17 référencements de rang un, nous sommes reconnus grâce à notre positionnement unique en France depuis 8 ans. Nous avons plus de 20 clients grands comptes actifs.\\nChez nous, le savoir être est aussi important que les process de travail, d’industrialisation des développements, que la technicité du produit réalisé\\n-lien masqué-\\n\\nSECTION:\\nTITLE: Profile description\\n\\nLANGUAGES\\n- {'name': 'anglais', 'value': None}\\n\\nCERTIFICATIONS\\n\\n\\nSKILLS\\n- {'name': 'Data', 'value': None, 'type': 'hard'}\\n- {'name': 'DATABRICKS', 'value': None, 'type': 'hard'}\\n- {'name': 'NoteBooks', 'value': None, 'type': 'hard'}\\n- {'name': 'python', 'value': None, 'type': 'hard'}\\n- {'name': 'pyspark', 'value': None, 'type': 'hard'}\\n- {'name': 'Proxy PO', 'value': None, 'type': 'hard'}\\n- {'name': 'agile', 'value': None, 'type': 'hard'}\\n- {'name': 'Proxy PO', 'value': None, 'type': 'hard'}\\n- {'name': 'Agile', 'value': None, 'type': 'hard'}\\n- {'name': 'scrumban', 'value': None, 'type': 'hard'}\\n- {'name': 'Cycle en V', 'value': None, 'type': 'hard'}\\n- {'name': 'Jira', 'value': None, 'type': 'hard'}\\n- {'name': 'Aisance orale', 'value': None, 'type': 'soft'}\\n- {'name': 'Fort esprit d’équipe', 'value': None, 'type': 'soft'}\\n\\nCOURSES\\n\\n\\nTASKS\\n- {'name': 'Recueil des besoins et animation des ateliers métier', 'value': None}\\n- {'name': 'Réalisation des spécifications fonctionnelles sous forme d’US en lien avec le PO et le métier', 'value': None}\\n- {'name': 'Réalisation d’études/cadrage', 'value': None}\\n- {'name': 'Déclaration des bugs et suivi des développements de leurs correctifs', 'value': None}\\n- {'name': 'Suivi de production', 'value': None}\\n- {'name': 'analyse des remontées métiers et suivi du correctif', 'value': None}\\n- {'name': 'Réalisation de la recette fonctionnelle', 'value': None}\\n- {'name': 'Rédaction et mise à jour de la documentation', 'value': None}\\n- {'name': 'Compétence reconnue en spécification fonctionnelle spécifique à la data et réalisation de la recette fonctionnelle', 'value': None}\\n- {'name': 'Maitrise des méthodologie de projet informatique', 'value': None}\\n- {'name': 'Connaissance du domaine de l’assurance et réassurance sur les domaines santé', 'value': None}\\n- {'name': 'Être proactif, autonome et savoir prendre des initiatives', 'value': None}</td>\n",
       "      <td>, France</td>\n",
       "      <td>mid-level</td>\n",
       "      <td>Innov and Co</td>\n",
       "      <td>Consulting</td>\n",
       "      <td>English</td>\n",
       "      <td>title='Proxy PO data' location='Not specified, France' seniority='mid-level' company='Innov and Co' industry='Consulting' languages=['English']</td>\n",
       "    </tr>\n",
       "    <tr>\n",
       "      <th>3852</th>\n",
       "      <td>3884</td>\n",
       "      <td>Microfocus Zenworks Administrator with Digital Workplace Experience</td>\n",
       "      <td>TITLE\\nUn Administrateur Microfocus Zenworks avec une expérience en Digital Workplace sur de Montreuil \\n\\nSUMMARY\\nSmarteo recherche pour l'un de ses clients, Un Administrateur Microfocus Zenworks avec une expérience en Digital Workplace sur de Montreuil -93- ou Toulouse\\nDescription:\\nNous recherchons actuellement un expert en administration de Microfocus Plateforme de distribution à distance Zenworks avec une expérience dans le Digital\\nLe candidat idéal doit posséder les compétences suivantes :\\nLa ressource gérera l'administration fonctionnelle (configuration, déploiement, mise en oeuvre de satellites au sens ZENWORKS, etc.) ainsi que l'exploitation de l'infrastructure (mises à jour de versi\\nons mineures et/ou majeures, etc.).\\nIl s'agit d'effectuer des tâches administratives standards, couvrant :\\n- gérer les droits et périmètres des utilisateurs ;\\n- créer des packages et les mettre à disposition ;\\n- Support niveau 2 pour les IST ;\\n- ajustement de la stratégie ;\\n- distribution des patchs selon le process client ;\\n- mises à jour majeures et/ou mineures de l'outil de diffusion à distance ;\\n- création de rapports (module Jasper dans Zenworks) ;\\n- plus généralement, toute modification de la télédistribution centrale plate-forme.\\n* Expertise dans l'environnement de distribution à distance Microfocus (ZCM,\\nZRS et eDir) est obligatoire.\\n* Parlant français\\nSi vous êtes disponible et intéressé, merci de me faire parvenir votre TJM ainsi que votre CV à jour au format Word.\\n\\nSECTION:\\nDESCRIPTION: Smarteo recherche pour l'un de ses clients, Un Administrateur Microfocus Zenworks avec une expérience en Digital Workplace sur de Montreuil -93- ou Toulouse\\nDescription:\\nNous recherchons actuellement un expert en administration de Microfocus Plateforme de distribution à distance Zenworks avec une expérience dans le Digital\\nLe candidat idéal doit posséder les compétences suivantes :\\nLa ressource gérera l'administration fonctionnelle (configuration, déploiement, mise en oeuvre de satellites au sens ZENWORKS, etc.) ainsi que l'exploitation de l'infrastructure (mises à jour de versi\\nons mineures et/ou majeures, etc.).\\nIl s'agit d'effectuer des tâches administratives standards, couvrant :\\n- gérer les droits et périmètres des utilisateurs ;\\n- créer des packages et les mettre à disposition ;\\n- Support niveau 2 pour les IST ;\\n- ajustement de la stratégie ;\\n- distribution des patchs selon le process client ;\\n- mises à jour majeures et/ou mineures de l'outil de diffusion à distance ;\\n- création de rapports (module Jasper dans Zenworks) ;\\n- plus généralement, toute modification de la télédistribution centrale plate-forme.\\n* Expertise dans l'environnement de distribution à distance Microfocus (ZCM,\\nZRS et eDir) est obligatoire.\\n* Parlant français\\nSi vous êtes disponible et intéressé, merci de me faire parvenir votre TJM ainsi que votre CV à jour au format Word.\\n\\nSECTION:\\nDESCRIPTION: * Expertise dans l'environnement de distribution à distance Microfocus (ZCM,\\nZRS et eDir) est obligatoire.\\n* Parlant français\\nSi vous êtes disponible et intéressé, merci de me faire parvenir votre TJM ainsi que votre CV à jour au format Word.\\n\\nLANGUAGES\\n\\n\\nCERTIFICATIONS\\n\\n\\nSKILLS\\n- {'name': 'Informatique', 'type': 'hard', 'value': None}\\n- {'name': 'digital', 'type': 'hard', 'value': None}\\n- {'name': 'digital workplace', 'type': 'hard', 'value': None}\\n- {'name': 'edir', 'type': 'hard', 'value': None}\\n- {'name': 'ist', 'type': 'hard', 'value': None}\\n- {'name': 'jasper', 'type': 'hard', 'value': None}\\n- {'name': 'tjm', 'type': 'hard', 'value': None}\\n- {'name': 'word', 'type': 'hard', 'value': None}\\n- {'name': 'zcm', 'type': 'hard', 'value': None}\\n- {'name': 'zenworks', 'type': 'hard', 'value': None}\\n- {'name': 'zenworks', 'type': 'hard', 'value': None}\\n- {'name': 'zrs', 'type': 'hard', 'value': None}\\n\\nCOURSES\\n\\n\\nTASKS\\n- {'name': 'ajustement de la stratégie', 'value': None}\\n- {'name': 'création de rapports', 'value': None}\\n- {'name': 'créer des packages et les mettre à disposition', 'value': None}\\n- {'name': 'distribution des\\npatchs selon le process client', 'value': None}\\n- {'name': 'gérer les droits et périmètres des\\nutilisateurs', 'value': None}\\n- {'name': 'mise en oeuvre de satellites', 'value': None}\\n- {'name': \"mises à jour majeures et/ou mineures de\\nl'outil de diffusion à distance\", 'value': None}</td>\n",
       "      <td>Montreuil, France</td>\n",
       "      <td>mid-level</td>\n",
       "      <td>Smarteo</td>\n",
       "      <td>Information Technology</td>\n",
       "      <td>French</td>\n",
       "      <td>title='Microfocus Zenworks Administrator with Digital Workplace Experience' location='Montreuil, France' seniority='mid-level' company='Smarteo' industry='Information Technology' languages=['French']</td>\n",
       "    </tr>\n",
       "    <tr>\n",
       "      <th>16295</th>\n",
       "      <td>20711</td>\n",
       "      <td>Consultant SAP module MM sur S4/HANA</td>\n",
       "      <td>TITLE\\nConsultant SAP module MM sur S4/HANA\\n\\nSUMMARY\\nConsultant SAP module MM sur S4/HANA\\n\\nSECTION:\\nTITLE: Job description\\nDESCRIPTION: Client : Industrie\\nPoste : Consultant SAP module MM sur S4/HANA\\nExpérience : + 5 ans\\nLocalisation : Strasbourg et remote\\nTemps complet\\nContexte de la mission : intervenir sur un projet de build chez un client industriel de la région de Strasbourg\\nObjectifs/Descriptif de mission : travail en synergie avec les autres consultants du projet\\nDisponibilité à plein temps souhaité, dès que possible sur une durée d’1 an au moins\\nCompétences demandées :\\n-Expérience S/4 HANA.\\n-Expérience projets SAP\\nLangues : Français et Anglais (Professional)\\nListe des technologies requises :\\n-SAP S4 HANA Module MM\\n\\nSECTION:\\nTITLE: Company description\\nDESCRIPTION: Sourcing et portage salariale.\\nNous structurons et sécurisons la rencontre entre les entreprises et les travailleurs indépendants de talent.\\nDans un monde où tout va plus vite, les modèles traditionnels de travail sont de moins en moins adaptés. C’est pourquoi nous voulons aider les entreprises à accéder facilement et rapidement à la communauté des freelances, dans un cadre sécurisé et avec des coûts maîtrisés.\\n\\nSECTION:\\nTITLE: Profile description\\n\\nLANGUAGES\\n- {'name': 'Français', 'value': None}\\n- {'name': 'Anglais', 'value': None}\\n\\nCERTIFICATIONS\\n\\n\\nSKILLS\\n- {'name': 'MM', 'value': None, 'type': 'hard'}\\n- {'name': 'HANA', 'value': None, 'type': 'hard'}\\n- {'name': '4 HANA', 'value': None, 'type': 'hard'}\\n- {'name': 'SAP', 'value': None, 'type': 'hard'}\\n- {'name': 'SAP S4', 'value': None, 'type': 'hard'}\\n- {'name': 'HANA Module MM', 'value': None, 'type': 'hard'}\\n\\nCOURSES\\n\\n\\nTASKS\\n- {'name': 'travail en synergie avec les autres consultants du projet', 'value': None}</td>\n",
       "      <td>Strasbourg, France</td>\n",
       "      <td>mid-level</td>\n",
       "      <td>Sourcing et portage salariale</td>\n",
       "      <td>Consulting</td>\n",
       "      <td>French, English</td>\n",
       "      <td>title='Consultant SAP module MM sur S4/HANA' location='Strasbourg, France' seniority='mid-level' company='Sourcing et portage salariale' industry='Consulting' languages=['French', 'English']</td>\n",
       "    </tr>\n",
       "    <tr>\n",
       "      <th>11710</th>\n",
       "      <td>15015</td>\n",
       "      <td>Chef de projet RSE (H/F)</td>\n",
       "      <td>TITLE\\nChef de projet RSE (H/F)\\n\\nSUMMARY\\nChef de projet RSE (H/F)\\n\\nSECTION:\\nTITLE: Job description\\nDESCRIPTION: Insitoo Freelance, facilitateur du freelancing depuis 2007, recherche pour son client en direct un Chef de projet RSE (H/F).\\nLa mise en oeuvre d’un plan de réduction des emissions carbones, d’équipes carbones, et d’outils de pilotage carbone a été acté.\\nLes missions attendues par le Chef de projet RSE (H/F) sont :\\n- Accompagner le métier dans la définition et la formalisation des processus carbone\\n- Proposer l’organisation carbone capable de dérouler ces process (missions, organisation cible, ...)\\n- Définir les reportings attendus selon les différents utilisateurs\\n- Accompagner les futures équipes dans la réflexion et la formation des livrables du projet\\n- Assurer un fonctionnement collaboratif\\nCompétences techniques et fonctionnelles attendues :\\n- Responsabilité sociétale des entreprises (RSE) - Confirmé - Indispensable\\n- Anglais - Confirmé - Indispensable\\n- Animation d’ateliers - Confirmé - Indispensable\\nCette mission vous intéresse ? N’attendez plus pour postuler !\\nRetrouvez nous sur notre page linkedin : Insitoo\\nEt retrouvez le détail de la mission sur notre site internet : -lien masqué-\\n\\nSECTION:\\nTITLE: Company description\\n\\nSECTION:\\nTITLE: Profile description\\n\\nLANGUAGES\\n- {'name': 'Anglais', 'value': None}\\n\\nCERTIFICATIONS\\n\\n\\nSKILLS\\n- {'name': 'RSE', 'value': None, 'type': 'hard'}\\n\\nCOURSES\\n\\n\\nTASKS\\n- {'name': 'recherche pour son client en direct', 'value': None}\\n- {'name': 'La mise en oeuvre d’un plan de réduction des emissions carbones, d’équipes carbones, et d’outils de pilotage carbone a été acté', 'value': None}\\n- {'name': 'Accompagner le métier dans la définition et la formalisation des processus carbone', 'value': None}\\n- {'name': 'Proposer l’organisation carbone capable de dérouler ces process', 'value': None}\\n- {'name': 'Définir les reportings attendus selon les différents utilisateurs', 'value': None}\\n- {'name': 'Accompagner les futures équipes dans la réflexion et la formation des livrables du projet', 'value': None}\\n- {'name': 'Assurer un fonctionnement collaboratif', 'value': None}\\n- {'name': 'Responsabilité sociétale des entreprises', 'value': None}\\n- {'name': 'Animation d’ateliers', 'value': None}</td>\n",
       "      <td></td>\n",
       "      <td>mid-level</td>\n",
       "      <td>Insitoo Freelance</td>\n",
       "      <td>Consulting</td>\n",
       "      <td>English</td>\n",
       "      <td>title='Chef de projet RSE (H/F)' location='Not specified' seniority='mid-level' company='Insitoo Freelance' industry='Consulting' languages=['English']</td>\n",
       "    </tr>\n",
       "  </tbody>\n",
       "</table>"
      ]
     },
     "metadata": {},
     "output_type": "display_data"
    }
   ],
   "execution_count": 131
  },
  {
   "metadata": {
    "ExecuteTime": {
     "end_time": "2025-03-04T10:31:42.365612Z",
     "start_time": "2025-03-04T10:31:42.358199Z"
    }
   },
   "cell_type": "code",
   "source": "display(HTML(df_jobs.head(10).to_html()))",
   "id": "ef66b82f3d2ba857",
   "outputs": [
    {
     "data": {
      "text/plain": [
       "<IPython.core.display.HTML object>"
      ],
      "text/html": [
       "<table border=\"1\" class=\"dataframe\">\n",
       "  <thead>\n",
       "    <tr style=\"text-align: right;\">\n",
       "      <th></th>\n",
       "      <th>job_id</th>\n",
       "      <th>title</th>\n",
       "      <th>job_description</th>\n",
       "      <th>location</th>\n",
       "      <th>seniority</th>\n",
       "      <th>company</th>\n",
       "      <th>industry</th>\n",
       "      <th>languages</th>\n",
       "      <th>gpt_response</th>\n",
       "    </tr>\n",
       "  </thead>\n",
       "  <tbody>\n",
       "    <tr>\n",
       "      <th>7012</th>\n",
       "      <td>7610</td>\n",
       "      <td>Développeur BI / Décisionnel - Entre 6 et 9 ans</td>\n",
       "      <td>TITLE\\nDéveloppeur BI / Décisionnel - Entre 6 et 9 ans\\n\\nSUMMARY\\nPassionné(e) par l'informatique et désireux de relever de nouveaux défis ?\\nRejoignez nos équipes d'experts et participez à nos projets innovants utilisant les dernières tendances technologiques.\\nVos missions au sein de l’équipe seront les suivantes :\\n \\n• Définir et implémenter les solutions techniques en accord avec les spécifications et en\\ngarantissant le respect des normes de sécurité, d’architecture et de développement ;\\n• Documenter les solutions pour les développements ultérieurs ;\\n• Préparer, automatiser et réaliser les tests en y incluant les tests d’intégration ;\\n• Assurer le support aux utilisateurs lors de la phase de recette et la maintenance ;\\n• Participer au support de Production et l’accompagnement de nos clients.\\n\\nSECTION:\\nDESCRIPTION: Passionné(e) par l'informatique et désireux de relever de nouveaux défis ?\\nRejoignez nos équipes d'experts et participez à nos projets innovants utilisant les dernières tendances technologiques.\\nVos missions au sein de l’équipe seront les suivantes :\\n \\n• Définir et implémenter les solutions techniques en accord avec les spécifications et en\\ngarantissant le respect des normes de sécurité, d’architecture et de développement ;\\n• Documenter les solutions pour les développements ultérieurs ;\\n• Préparer, automatiser et réaliser les tests en y incluant les tests d’intégration ;\\n• Assurer le support aux utilisateurs lors de la phase de recette et la maintenance ;\\n• Participer au support de Production et l’accompagnement de nos clients.\\n\\nSECTION:\\nDESCRIPTION: Compétences techniques :\\n• Power BI (Desktop &amp; Service)\\n• Power Platform,\\n• Business Objects BI4,\\n• Oracle PL/SQL,\\n• Git.\\n \\nCompétences fonctionnelles\\n• Compréhension des enjeux métiers et business\\nCompétences humaines :\\n• Capacités de communication/vulgarisation/synthèse\\n• Capacités d’adaptation\\n \\nÉtat d’esprit :\\n• Sens du service\\n• Esprit d’équipe\\n• Curiosité\\n• Agilité d'esprit\\n\\nLANGUAGES\\n\\n\\nCERTIFICATIONS\\n\\n\\nSKILLS\\n- {'name': 'Business Object', 'type': 'hard', 'value': None}\\n- {'name': 'Git', 'type': 'hard', 'value': None}\\n- {'name': 'Microsoft Power BI', 'type': 'hard', 'value': None}\\n- {'name': 'Oracle', 'type': 'hard', 'value': None}\\n- {'name': 'PL/SQL', 'type': 'hard', 'value': None}\\n- {'name': 'business object', 'type': 'hard', 'value': None}\\n- {'name': 'business objects bi4', 'type': 'hard', 'value': None}\\n- {'name': 'git', 'type': 'hard', 'value': None}\\n- {'name': 'microsoft power bi', 'type': 'hard', 'value': None}\\n- {'name': 'oracle', 'type': 'hard', 'value': None}\\n- {'name': 'oracle pl', 'type': 'hard', 'value': None}\\n- {'name': 'pl', 'type': 'hard', 'value': None}\\n- {'name': 'power bi', 'type': 'hard', 'value': None}\\n- {'name': 'power platform', 'type': 'hard', 'value': None}\\n- {'name': 'sql', 'type': 'hard', 'value': None}\\n- {'name': 'curiosité', 'type': 'soft', 'value': None}\\n- {'name': 'esprit d’équipe', 'type': 'soft', 'value': None}\\n- {'name': 'sens du service', 'type': 'soft', 'value': None}\\n\\nCOURSES\\n\\n\\nTASKS\\n- {'name': 'assurer le\\nsupport aux utilisateurs lors de la phase de recette et la maintenance', 'value': None}\\n- {'name': 'documenter les\\nsolutions pour les développements ultérieurs', 'value': None}\\n- {'name': 'définir et implémenter les solutions\\ntechniques en accord avec les spécifications et en garantissant le respect des\\nnormes de sécurité, d’architecture et de développement', 'value': None}\\n- {'name': 'participer au support de production et l’accompagnement de nos clients', 'value': None}\\n- {'name': 'préparer, automatiser et\\nréaliser les tests en y incluant les tests d’intégration', 'value': None}</td>\n",
       "      <td></td>\n",
       "      <td>mid-level</td>\n",
       "      <td></td>\n",
       "      <td>Information Technology</td>\n",
       "      <td></td>\n",
       "      <td>title='Développeur BI / Décisionnel - Entre 6 et 9 ans' location='Not specified' seniority='mid-level' company='Not specified' industry='Information Technology' languages=[]</td>\n",
       "    </tr>\n",
       "    <tr>\n",
       "      <th>15936</th>\n",
       "      <td>20245</td>\n",
       "      <td>PMO Budgets</td>\n",
       "      <td>TITLE\\nPMO Budgets\\n\\nSUMMARY\\nPMO Budgets\\n\\nSECTION:\\nTITLE: Job description\\nDESCRIPTION: -Construction du budget :\\noCoordinations et contributions au différents managers au sein des domaines IT ainsi que des responsables de territoires à l’étranger (Forecasts et Budget N+1) en incluant les trajectoires HeadCounts et les coûts directs (en Cash/PnL)\\noParticipation à la préparation de la présentation budgétaire annuelle (à destination du CIO et de son responsable)\\noConstruction et suivi du Book of Work du Domaine (jours hommes prévus et consommés sur les projets)\\n-Suivi du budget\\noRéalisation des rapprochements mensuels du réalisé (Actuals) et du budget (en trajectoires HeadCounts et Cash/PnL)\\noExpertise et contrôle du Rolling Forecast (pour l’année en cours ; réalisé à date + révision des prévisions jusqu’à la fin de l’année)\\noExpertise et contrôle des KPI\\noIdentification et justification des variations auprès des responsables des domaines IT et des responsables des territoires\\noIdentification des provisions en fin de mois.\\noPréparation de l’atterrissage prévisionnel de fin d’année en intégrant les variations au Forecast/Budget.\\noIntégration des transferts budgétaires\\n- Accompagnement du changement en adaptant les processus, les outils et le suivi, en interaction avec les responsables de domaines IT ainsi que des responsables de territoires à l’étranger.\\n\\nSECTION:\\nTITLE: Company description\\nDESCRIPTION: Créé en 1979 par des passionnés de l’informatique, Infotel a su évoluer en passant de la start-up à un groupe coté en Bourse, dépassant les 175 millions d’euros de chiffre d’affaires et réalisant des projets prestigieux dans les plus grandes entreprises dans des domaines comme l’Industrie, les Télécoms, la Banque/Finance, l’Assurance\\nAvec plus de 2000 collaborateurs, le groupe Infotel intervient au cœur du système d’information de ses clients. En gardant l’esprit pionnier de ses débuts, où la passion de l’informatique guidait ses premiers ingénieurs, le groupe Infotel est désormais présent partout en France.\\nNous accompagnons nos clients sur des prestations :\\n- de Conseil (études préalables, aide au choix d’outils, ...),\\n- de Conception et de Développement en architectures N-tier (JEE, .Net, LAMP...) au forfait et en assistance technique,\\n- d’Analyse et de Développement en environnement Mainframe,\\n- d’Ingénierie des Systèmes et Réseaux.\\n\\nSECTION:\\nTITLE: Profile description\\nDESCRIPTION: Compétences :\\n-Analyser\\n-Assurer un suivi\\n-Contrôler\\n-Planifier\\n-Rédiger\\n-PMO\\n-Anglais\\n\\nLANGUAGES\\n\\n\\nCERTIFICATIONS\\n\\n\\nSKILLS\\n- {'name': 'HeadCounts', 'value': None, 'type': 'hard'}\\n- {'name': 'Cash', 'value': None, 'type': 'hard'}\\n- {'name': 'PnL', 'value': None, 'type': 'hard'}\\n- {'name': 'CIO', 'value': None, 'type': 'hard'}\\n- {'name': 'Actuals', 'value': None, 'type': 'hard'}\\n- {'name': 'HeadCounts', 'value': None, 'type': 'hard'}\\n- {'name': 'PnL', 'value': None, 'type': 'hard'}\\n- {'name': 'Rolling Forecast', 'value': None, 'type': 'hard'}\\n- {'name': 'KPI', 'value': None, 'type': 'hard'}\\n\\nCOURSES\\n\\n\\nTASKS\\n- {'name': 'Construction du budget', 'value': None}\\n- {'name': 'Coordinations et contributions au différents managers au sein des domaines IT ainsi que des responsables de territoires à l’étranger', 'value': None}\\n- {'name': 'Participation à la préparation de la présentation budgétaire annuelle', 'value': None}\\n- {'name': 'Construction et suivi du Book of Work du Domaine', 'value': None}\\n- {'name': 'Suivi du budget', 'value': None}\\n- {'name': 'Réalisation des rapprochements mensuels du réalisé', 'value': None}\\n- {'name': 'révision des prévisions jusqu’à la fin de l’année', 'value': None}\\n- {'name': 'Identification et justification des variations auprès des responsables des domaines IT et des responsables des territoires', 'value': None}\\n- {'name': 'Identification des provisions en fin de mois', 'value': None}\\n- {'name': 'Préparation de l’atterrissage prévisionnel de fin d’année en intégrant les variations au Forecast/Budget', 'value': None}\\n- {'name': 'Intégration des transferts budgétaires', 'value': None}\\n- {'name': 'Accompagnement du changement en adaptant les processus, les outils et le suivi, en interaction avec les responsables de domaines IT ainsi que des responsables de territoires à l’étranger', 'value': None}</td>\n",
       "      <td>France</td>\n",
       "      <td>mid-level</td>\n",
       "      <td>Infotel</td>\n",
       "      <td>Information Technology</td>\n",
       "      <td>English</td>\n",
       "      <td>title='PMO Budgets' location='France' seniority='mid-level' company='Infotel' industry='Information Technology' languages=['English']</td>\n",
       "    </tr>\n",
       "    <tr>\n",
       "      <th>17849</th>\n",
       "      <td>22538</td>\n",
       "      <td>Project Director / PMO</td>\n",
       "      <td>TITLE\\nDirecteur de projet / PMO\\n\\nSUMMARY\\ndirecteur de projet / PMO_x000D_ o Mission :_x000D_  Pilotage de l’ensemble du portefeuille projet_x000D_  Gestion de la genèse des projets_x000D_ Recueil des besoins auprès de la maîtrise d’ouvrage_x000D_ Synchronisation avec le portefeuille projet de l’entité_x000D_ Préparation des documents pour les comités de décision_x000D_  Gestion des aspects delivery, reporting et budget_x000D_ Delivery : pilotage de l’activité des différents chefs de projet et pilotage du respect des délais_x000D_ Reporting : reporting hebdomadaire et mensuel, organisation et préparation des comités de pilotage_x000D_ Budget : suivi du budget des projets (réalisé, EAC, )_x000D_ Risques : gestion des risques (identification, plans de mitigation, suivi)_x000D_ Ressources : suivi des prévisionnels de charge_x000D_ PMO : pilotage de l’aspect PMO des projets (alignement avec les attendus côté PMO entité et groupe)_x000D_  Pilotage en direct de certains petits projets_x000D_ o Compétences_x000D_  Anglais professionnel (périmètre international)_x000D_  Profil senior_x000D_  Très bonne communication tant envers les interlocuteurs techniques que vers les interlocuteurs côté management_x000D_ o Démarrage : ASAP_x000D_ o Durée : 1 à 2 ans\\n\\nSECTION:\\nTITLE: CANDIDATE_PROFILE\\n\\nSECTION:\\nTITLE: COMPANY_DESCRIPTION\\n\\nLANGUAGES\\n\\n\\nCERTIFICATIONS\\n\\n\\nSKILLS\\n\\n\\nCOURSES\\n\\n\\nTASKS</td>\n",
       "      <td></td>\n",
       "      <td>senior-level</td>\n",
       "      <td></td>\n",
       "      <td></td>\n",
       "      <td>Professional English</td>\n",
       "      <td>title='Project Director / PMO' location='Not specified' seniority='senior-level' company='Not specified' industry='Not specified' languages=['Professional English']</td>\n",
       "    </tr>\n",
       "    <tr>\n",
       "      <th>16303</th>\n",
       "      <td>20719</td>\n",
       "      <td>Senior Functional Consultant SAP PP QM PM</td>\n",
       "      <td>TITLE\\nConsultant fonctionnel senior SAP PP QM PM\\n\\nSUMMARY\\nConsultant fonctionnel senior SAP PP QM PM\\n\\nSECTION:\\nTITLE: Job description\\nDESCRIPTION: Nous recherchons pour notre client un consultant technico fonctionnel SAP PP QM PM pour intervenir dans le cadre d’une TMA et projets d’évolutions.\\nActivités : Participation sur les différentes phases du projet : Maintenance, recueil des besoins, conception, spécification, paramétrage, déroule des tests, analyse et correction des bugs, avec support de profils expert technique quand nécessaire.\\nAccompagnement de profils développeurs analystes juniors\\nBons sens du service /relation client\\nCompétences attendues :\\nMaîtrise du paramétrage SAP\\nMaitrise à minima débug et peut accompagner des profils juniors sur leurs montée en compétence\\nCompétences SAP PP QM PM ECC6\\nConnaissance S/4 est un plus (Montée de version S/4 prévue en 2023).\\nMission full remote pour 6 mois et plus\\nDémarrage ASAP\\n\\nSECTION:\\nTITLE: Company description\\nDESCRIPTION: Le projet que porte Cercar est de construire au quotidien un modèle d’intermédiation &amp; de recrutement qui soit sincèrement transparent, collaboratif, pertinent &amp; responsable.\\nEn bref, on ne va pas réinventer la roue mais on va s’assurer que tout le monde aille dans la même direction !\\n#transparence100 #marge50€ #cooptation25 #broker0\\n\\nSECTION:\\nTITLE: Profile description\\n\\nLANGUAGES\\n\\n\\nCERTIFICATIONS\\n- {'name': 'SAP PP QM PM ECC6\\r', 'value': None}\\n\\nSKILLS\\n- {'name': 'SAP PP QM PM', 'value': None, 'type': 'hard'}\\n- {'name': 'TMA', 'value': None, 'type': 'hard'}\\n- {'name': 'SAP', 'value': None, 'type': 'hard'}\\n- {'name': 'ASAP', 'value': None, 'type': 'hard'}\\n\\nCOURSES\\n\\n\\nTASKS\\n- {'name': 'Participation sur les différentes phases du projet', 'value': None}\\n- {'name': 'Maintenance', 'value': None}\\n- {'name': 'recueil des besoins', 'value': None}\\n- {'name': 'conception', 'value': None}\\n- {'name': 'spécification', 'value': None}\\n- {'name': 'paramétrage', 'value': None}\\n- {'name': 'déroule des tests', 'value': None}\\n- {'name': 'analyse et correction des bugs, avec support de profils expert technique quand nécessaire', 'value': None}\\n- {'name': 'Accompagnement de profils développeurs analystes juniors', 'value': None}\\n- {'name': 'Maitrise à minima débug et peut accompagner des profils juniors sur leurs montée en compétence', 'value': None}</td>\n",
       "      <td>Remote</td>\n",
       "      <td>senior-level</td>\n",
       "      <td>Cercar</td>\n",
       "      <td>Recruitment and Intermediation</td>\n",
       "      <td></td>\n",
       "      <td>title='Senior Functional Consultant SAP PP QM PM' location='Remote' seniority='senior-level' company='Cercar' industry='Recruitment and Intermediation' languages=[]</td>\n",
       "    </tr>\n",
       "    <tr>\n",
       "      <th>13038</th>\n",
       "      <td>16634</td>\n",
       "      <td>Chef de projet Transverse MOA /MOE</td>\n",
       "      <td>TITLE\\nChef de projet Transverse MOA /MOE\\n\\nSUMMARY\\nEntre 3 et 10 ans d’expériences professionnelles sur des sujets de transverse, ayant déjà intervenu dans le cadre d’un programme et projets complexes pour une mission longue à la DSI;_x000D_ _x000D_ - Vous maitrisez les sujets de pilotage projet.produit en agile;_x000D_ - Vous vous épanouissez dans un environnement multi projet;_x000D_ - Vous êtes un bon communicant (oral &amp; écrit);_x000D_ - Vous savez prioriser les enjeux afin de mener à bien la planification et le suivi des plannings;_x000D_ - Vous savez rédiger des documents de support de réunion, compte rendu, tableau de bord de suivi, suivi de risques._x000D_ _x000D_ État d’esprit: _x000D_ _x000D_ Excellentes compétences interpersonnelles et de communication_x000D_ Capacité d’adaptation_x000D_ Autonomie et proactivité_x000D_ Sens du détail_x000D_ _x000D_ Les +: _x000D_ _x000D_ Expérience des méthodologies et des outils Agile_x000D_ Des connaissances réglementaires sont appréciées sur ce poste (RGPD)_x000D_ L’environnement banque et assurance vous est familier\\n\\nSECTION:\\nTITLE: CANDIDATE_PROFILE\\nDESCRIPTION: Le.a futur.e chef de projet transverse sera :_x000D_ _x000D_ ?Softskills:_x000D_ _x000D_ - Bon communicant (orale &amp; écrit)_x000D_ - Être un profil très organisé et pro-actif_x000D_ _x000D_ ?Hardskills:_x000D_ _x000D_ - Avoir une bonne connaissance du travail en méthode AGILE_x000D_ _x000D_ ? Nice to have :_x000D_ _x000D_ - Avoir une expérience de 3 ans minimum sur ce type de poste\\n\\nSECTION:\\nTITLE: COMPANY_DESCRIPTION\\nDESCRIPTION: Recrutez vite, trompez vous peu. _x000D_ _x000D_ Notre méthode : _x000D_ - sourcing : 100 automatisé, tout ce qu’on peut, on a une vision growth marketing de ce métier, pour aller vite._x000D_ - recrutement : 100 humain, une équipe qui dev, formée à la tech, pour pas ou peu se tromper._x000D_ _x000D_ Notre approche combine à la fois growth hacking et connaissance de la tech. On va vite sur le sourcing et on prend notre temps pour assurer le fit entre les talents et la mission de nos clients._x000D_ _x000D_ Nos solutions :_x000D_ ? Recrutement freelances _x000D_ ? Recrutements en CDI_x000D_ ? RPO (Recruitment Process Outsourcing)_x000D_ ? Formation Recrutez comme un growth _x000D_ _x000D_ Nos clients ?‍?‍?‍?_x000D_ Les CPO / CTO et CDO de sociétés en hyper croissance, qui recrutent sur deux fonctions :_x000D_ - Tech_x000D_ - Product_x000D_ _x000D_ Ces derniers nous parlent, on les écoute, on cherche, on cherche, on cherche encore et en 48h on leur propose un ou deux profils, testés en interne et validés humainement. _x000D_ _x000D_ #recruteur #talentacquisition #sourcing #hrtech #freelance #CDI #RPO\\n\\nLANGUAGES\\n\\n\\nCERTIFICATIONS\\n\\n\\nSKILLS\\n\\n\\nCOURSES\\n\\n\\nTASKS</td>\n",
       "      <td></td>\n",
       "      <td>mid-level</td>\n",
       "      <td></td>\n",
       "      <td>Recruitment / Human Resources</td>\n",
       "      <td>French</td>\n",
       "      <td>title='Chef de projet Transverse MOA /MOE' location='Not specified' seniority='mid-level' company='Not specified' industry='Recruitment / Human Resources' languages=['French']</td>\n",
       "    </tr>\n",
       "    <tr>\n",
       "      <th>21146</th>\n",
       "      <td>26451</td>\n",
       "      <td>Tech Lead Java FullStack</td>\n",
       "      <td>TITLE\\nTech Lead Java FullStack\\n\\nSUMMARY\\nJe recherche pour un de mes clients un TECH LEAD JAVA FULLSTACK _x000D_ _x000D_ Objectifs de la mission_x000D_ Les enjeux de cette application sont les performances, la scalabilité, la sécurité et l’internationalisation._x000D_ En tant que développeur senior FullStack, vous rejoindrez l’équipe et serez en charge des développements Angular / Java pour construire de nouvelles interfaces et fonctionnalités et améliorer celles existantes._x000D_ _x000D_ Prestations demandées_x000D_ Compétences:_x000D_ Maîtrise du développement back-end (Java 8, Springboot, Rest API, bonus : Graph QL)_x000D_ Forte capacité à effectuer des développements front-end (Angular 8 et 9)_x000D_ Solide connaissance de JMS (ou autre MQ), requête LDAP, séquencement de flux, requête SQL optimisée, tâches CRON_x000D_ Maîtrise de la conception de modèles de données, du séquencement des tâches, de la gestion des erreurs, de l’optimisation du code pour la performance et la sécurité_x000D_ Forte compétence en sécurité : SSO (SAML2 et OIDC), JsonToken_x000D_ Connaissance de Docker (composition, déploiement, volumes)_x000D_ _x000D_ _x000D_ Responsabilités_x000D_ Soutenir Product Owner sur la conception et l’estimation des fonctionnalités_x000D_ Prendre des initiatives pour assurer la maintenabilité et la fiabilité des applications_x000D_ Surveiller les applications et assurer une bonne qualité de code/performance/temps de réponse_x000D_ _x000D_ _x000D_ Langues nécessaires_x000D_ Français : courant_x000D_ Anglais : courant_x000D_ L’espagnol est un plus\\n\\nSECTION:\\nTITLE: CANDIDATE_PROFILE\\nDESCRIPTION: Tech Lead Java FullStack\\n\\nSECTION:\\nTITLE: COMPANY_DESCRIPTION\\nDESCRIPTION: Avec une couverture nationale, Beezen est un acteur de référence dans les métiers du conseil et des services informatiques. _x000D_ _x000D_ Fondée en 2008, Beezen conseille, réalise, forme et accompagne ses clients dans leurs projets. Beezen a mis en œuvre plus de 100 projets réalisés pour des entreprises du CAC 40 et ETI (Entreprises de Taille Intermédiaire). _x000D_ _x000D_ Nous proposons une gamme complète de prestations organisée autour de 3 métiers : le Management, les Technologies et l’Innovation. _x000D_ Partenaire privilégié des grands éditeurs internationaux de logiciels, notre unique objectif est de vous amener à vous différencier grâce à des solutions métiers et technologiques novatrices et performantes.\\n\\nLANGUAGES\\n\\n\\nCERTIFICATIONS\\n\\n\\nSKILLS\\n\\n\\nCOURSES\\n\\n\\nTASKS</td>\n",
       "      <td>, France</td>\n",
       "      <td>senior-level</td>\n",
       "      <td>Beezen</td>\n",
       "      <td>IT Consulting and Services</td>\n",
       "      <td>French, English, Spanish (a plus)</td>\n",
       "      <td>title='Tech Lead Java FullStack' location='Not specified, France' seniority='senior-level' company='Beezen' industry='IT Consulting and Services' languages=['French', 'English', 'Spanish (a plus)']</td>\n",
       "    </tr>\n",
       "    <tr>\n",
       "      <th>8421</th>\n",
       "      <td>11141</td>\n",
       "      <td>Proxy PO data</td>\n",
       "      <td>TITLE\\nProxy PO data\\n\\nSUMMARY\\nProxy PO data\\n\\nSECTION:\\nTITLE: Job description\\nDESCRIPTION: L’environnement de développement Data repose sur des logiciels tels que DATABRICKS avec des NoteBooks développés en python (pyspark). Une connaissance d’un environnement technique proche ou similaire de ce type d’environnement sera un grand plus.\\nEn tant que Proxy PO, le/la prestataire sera responsable des spécifications fonctionnelles en mode agile, du suivi de développement, de la recette fonctionnelle et du suivi de la production.\\nIl/elle intervient en particulier sur les activités suivantes :\\n Recueil des besoins et animation des ateliers métier\\n Réalisation des spécifications fonctionnelles sous forme d’US en lien avec le PO et le métier\\n Réalisation d’études/cadrage\\n Déclaration des bugs et suivi des développements de leurs correctifs\\n Suivi de production, analyse des remontées métiers et suivi du correctif\\n Réalisation de la recette fonctionnelle\\n Rédaction et mise à jour de la documentation (data mapping, dossier d’exploitation ..)\\nExpertise souhaitée\\nExpertise souhaitée :\\n Expérience significative en tant que Proxy PO/ Business Analyste sur des sujets data en assurance des collectives et réassurance sur les domaines santé, prévoyance et retraite.\\n Minimum 5 ans d’expérience\\nConnaissance et compétences :\\n Compétence reconnue en spécification fonctionnelle spécifique à la data et réalisation de la recette fonctionnelle\\n Maitrise des méthodologie de projet informatique ( Agile ( scrumban), Cycle en V ) et notamment sur l’outil Jira\\n Connaissance du domaine de l’assurance et réassurance sur les domaines santé, prévoyance et retraite souhaitée\\n Aisance orale et écrite en anglais obligatoire\\nCompétences personnelles :\\n Avoir le sens du service et être orienté client\\n Fort esprit d’équipe\\n Excellente communication écrite et orale\\n Être proactif, autonome et savoir prendre des initiatives\\n\\nSECTION:\\nTITLE: Company description\\nDESCRIPTION: Innov and Co Inclusion, Diversité ou Handicap fait partie de l’économie responsable, pour 60 collaborateurs. Ce sont 2 entreprises sociales et solidaires. Notre métier est de lever les idées reçues sur les bons profils pour l’entreprise.\\nUne entreprise de consultants de séniors, de jeunes, de personnes porteuses d’un handicap, ou issus des quartiers politiques des territoires, ainsi que de femmes sont des métiers genrés homme, agréée Entreprise Solidaire et Sociale, SAS au capital social de -téléphone masqué- euros.\\nNous sommes dans le classement les Echos 2022 des entreprises en plus forte croissance en France.\\nAvec plus de 17 référencements de rang un, nous sommes reconnus grâce à notre positionnement unique en France depuis 8 ans. Nous avons plus de 20 clients grands comptes actifs.\\nChez nous, le savoir être est aussi important que les process de travail, d’industrialisation des développements, que la technicité du produit réalisé\\n-lien masqué-\\n\\nSECTION:\\nTITLE: Profile description\\n\\nLANGUAGES\\n- {'name': 'anglais', 'value': None}\\n\\nCERTIFICATIONS\\n\\n\\nSKILLS\\n- {'name': 'Data', 'value': None, 'type': 'hard'}\\n- {'name': 'DATABRICKS', 'value': None, 'type': 'hard'}\\n- {'name': 'NoteBooks', 'value': None, 'type': 'hard'}\\n- {'name': 'python', 'value': None, 'type': 'hard'}\\n- {'name': 'pyspark', 'value': None, 'type': 'hard'}\\n- {'name': 'Proxy PO', 'value': None, 'type': 'hard'}\\n- {'name': 'agile', 'value': None, 'type': 'hard'}\\n- {'name': 'Proxy PO', 'value': None, 'type': 'hard'}\\n- {'name': 'Agile', 'value': None, 'type': 'hard'}\\n- {'name': 'scrumban', 'value': None, 'type': 'hard'}\\n- {'name': 'Cycle en V', 'value': None, 'type': 'hard'}\\n- {'name': 'Jira', 'value': None, 'type': 'hard'}\\n- {'name': 'Aisance orale', 'value': None, 'type': 'soft'}\\n- {'name': 'Fort esprit d’équipe', 'value': None, 'type': 'soft'}\\n\\nCOURSES\\n\\n\\nTASKS\\n- {'name': 'Recueil des besoins et animation des ateliers métier', 'value': None}\\n- {'name': 'Réalisation des spécifications fonctionnelles sous forme d’US en lien avec le PO et le métier', 'value': None}\\n- {'name': 'Réalisation d’études/cadrage', 'value': None}\\n- {'name': 'Déclaration des bugs et suivi des développements de leurs correctifs', 'value': None}\\n- {'name': 'Suivi de production', 'value': None}\\n- {'name': 'analyse des remontées métiers et suivi du correctif', 'value': None}\\n- {'name': 'Réalisation de la recette fonctionnelle', 'value': None}\\n- {'name': 'Rédaction et mise à jour de la documentation', 'value': None}\\n- {'name': 'Compétence reconnue en spécification fonctionnelle spécifique à la data et réalisation de la recette fonctionnelle', 'value': None}\\n- {'name': 'Maitrise des méthodologie de projet informatique', 'value': None}\\n- {'name': 'Connaissance du domaine de l’assurance et réassurance sur les domaines santé', 'value': None}\\n- {'name': 'Être proactif, autonome et savoir prendre des initiatives', 'value': None}</td>\n",
       "      <td>, France</td>\n",
       "      <td>mid-level</td>\n",
       "      <td>Innov and Co</td>\n",
       "      <td>Consulting</td>\n",
       "      <td>English</td>\n",
       "      <td>title='Proxy PO data' location='Not specified, France' seniority='mid-level' company='Innov and Co' industry='Consulting' languages=['English']</td>\n",
       "    </tr>\n",
       "    <tr>\n",
       "      <th>3852</th>\n",
       "      <td>3884</td>\n",
       "      <td>Microfocus Zenworks Administrator with Digital Workplace Experience</td>\n",
       "      <td>TITLE\\nUn Administrateur Microfocus Zenworks avec une expérience en Digital Workplace sur de Montreuil \\n\\nSUMMARY\\nSmarteo recherche pour l'un de ses clients, Un Administrateur Microfocus Zenworks avec une expérience en Digital Workplace sur de Montreuil -93- ou Toulouse\\nDescription:\\nNous recherchons actuellement un expert en administration de Microfocus Plateforme de distribution à distance Zenworks avec une expérience dans le Digital\\nLe candidat idéal doit posséder les compétences suivantes :\\nLa ressource gérera l'administration fonctionnelle (configuration, déploiement, mise en oeuvre de satellites au sens ZENWORKS, etc.) ainsi que l'exploitation de l'infrastructure (mises à jour de versi\\nons mineures et/ou majeures, etc.).\\nIl s'agit d'effectuer des tâches administratives standards, couvrant :\\n- gérer les droits et périmètres des utilisateurs ;\\n- créer des packages et les mettre à disposition ;\\n- Support niveau 2 pour les IST ;\\n- ajustement de la stratégie ;\\n- distribution des patchs selon le process client ;\\n- mises à jour majeures et/ou mineures de l'outil de diffusion à distance ;\\n- création de rapports (module Jasper dans Zenworks) ;\\n- plus généralement, toute modification de la télédistribution centrale plate-forme.\\n* Expertise dans l'environnement de distribution à distance Microfocus (ZCM,\\nZRS et eDir) est obligatoire.\\n* Parlant français\\nSi vous êtes disponible et intéressé, merci de me faire parvenir votre TJM ainsi que votre CV à jour au format Word.\\n\\nSECTION:\\nDESCRIPTION: Smarteo recherche pour l'un de ses clients, Un Administrateur Microfocus Zenworks avec une expérience en Digital Workplace sur de Montreuil -93- ou Toulouse\\nDescription:\\nNous recherchons actuellement un expert en administration de Microfocus Plateforme de distribution à distance Zenworks avec une expérience dans le Digital\\nLe candidat idéal doit posséder les compétences suivantes :\\nLa ressource gérera l'administration fonctionnelle (configuration, déploiement, mise en oeuvre de satellites au sens ZENWORKS, etc.) ainsi que l'exploitation de l'infrastructure (mises à jour de versi\\nons mineures et/ou majeures, etc.).\\nIl s'agit d'effectuer des tâches administratives standards, couvrant :\\n- gérer les droits et périmètres des utilisateurs ;\\n- créer des packages et les mettre à disposition ;\\n- Support niveau 2 pour les IST ;\\n- ajustement de la stratégie ;\\n- distribution des patchs selon le process client ;\\n- mises à jour majeures et/ou mineures de l'outil de diffusion à distance ;\\n- création de rapports (module Jasper dans Zenworks) ;\\n- plus généralement, toute modification de la télédistribution centrale plate-forme.\\n* Expertise dans l'environnement de distribution à distance Microfocus (ZCM,\\nZRS et eDir) est obligatoire.\\n* Parlant français\\nSi vous êtes disponible et intéressé, merci de me faire parvenir votre TJM ainsi que votre CV à jour au format Word.\\n\\nSECTION:\\nDESCRIPTION: * Expertise dans l'environnement de distribution à distance Microfocus (ZCM,\\nZRS et eDir) est obligatoire.\\n* Parlant français\\nSi vous êtes disponible et intéressé, merci de me faire parvenir votre TJM ainsi que votre CV à jour au format Word.\\n\\nLANGUAGES\\n\\n\\nCERTIFICATIONS\\n\\n\\nSKILLS\\n- {'name': 'Informatique', 'type': 'hard', 'value': None}\\n- {'name': 'digital', 'type': 'hard', 'value': None}\\n- {'name': 'digital workplace', 'type': 'hard', 'value': None}\\n- {'name': 'edir', 'type': 'hard', 'value': None}\\n- {'name': 'ist', 'type': 'hard', 'value': None}\\n- {'name': 'jasper', 'type': 'hard', 'value': None}\\n- {'name': 'tjm', 'type': 'hard', 'value': None}\\n- {'name': 'word', 'type': 'hard', 'value': None}\\n- {'name': 'zcm', 'type': 'hard', 'value': None}\\n- {'name': 'zenworks', 'type': 'hard', 'value': None}\\n- {'name': 'zenworks', 'type': 'hard', 'value': None}\\n- {'name': 'zrs', 'type': 'hard', 'value': None}\\n\\nCOURSES\\n\\n\\nTASKS\\n- {'name': 'ajustement de la stratégie', 'value': None}\\n- {'name': 'création de rapports', 'value': None}\\n- {'name': 'créer des packages et les mettre à disposition', 'value': None}\\n- {'name': 'distribution des\\npatchs selon le process client', 'value': None}\\n- {'name': 'gérer les droits et périmètres des\\nutilisateurs', 'value': None}\\n- {'name': 'mise en oeuvre de satellites', 'value': None}\\n- {'name': \"mises à jour majeures et/ou mineures de\\nl'outil de diffusion à distance\", 'value': None}</td>\n",
       "      <td>Montreuil, France</td>\n",
       "      <td>mid-level</td>\n",
       "      <td>Smarteo</td>\n",
       "      <td>Information Technology</td>\n",
       "      <td>French</td>\n",
       "      <td>title='Microfocus Zenworks Administrator with Digital Workplace Experience' location='Montreuil, France' seniority='mid-level' company='Smarteo' industry='Information Technology' languages=['French']</td>\n",
       "    </tr>\n",
       "    <tr>\n",
       "      <th>16295</th>\n",
       "      <td>20711</td>\n",
       "      <td>Consultant SAP module MM sur S4/HANA</td>\n",
       "      <td>TITLE\\nConsultant SAP module MM sur S4/HANA\\n\\nSUMMARY\\nConsultant SAP module MM sur S4/HANA\\n\\nSECTION:\\nTITLE: Job description\\nDESCRIPTION: Client : Industrie\\nPoste : Consultant SAP module MM sur S4/HANA\\nExpérience : + 5 ans\\nLocalisation : Strasbourg et remote\\nTemps complet\\nContexte de la mission : intervenir sur un projet de build chez un client industriel de la région de Strasbourg\\nObjectifs/Descriptif de mission : travail en synergie avec les autres consultants du projet\\nDisponibilité à plein temps souhaité, dès que possible sur une durée d’1 an au moins\\nCompétences demandées :\\n-Expérience S/4 HANA.\\n-Expérience projets SAP\\nLangues : Français et Anglais (Professional)\\nListe des technologies requises :\\n-SAP S4 HANA Module MM\\n\\nSECTION:\\nTITLE: Company description\\nDESCRIPTION: Sourcing et portage salariale.\\nNous structurons et sécurisons la rencontre entre les entreprises et les travailleurs indépendants de talent.\\nDans un monde où tout va plus vite, les modèles traditionnels de travail sont de moins en moins adaptés. C’est pourquoi nous voulons aider les entreprises à accéder facilement et rapidement à la communauté des freelances, dans un cadre sécurisé et avec des coûts maîtrisés.\\n\\nSECTION:\\nTITLE: Profile description\\n\\nLANGUAGES\\n- {'name': 'Français', 'value': None}\\n- {'name': 'Anglais', 'value': None}\\n\\nCERTIFICATIONS\\n\\n\\nSKILLS\\n- {'name': 'MM', 'value': None, 'type': 'hard'}\\n- {'name': 'HANA', 'value': None, 'type': 'hard'}\\n- {'name': '4 HANA', 'value': None, 'type': 'hard'}\\n- {'name': 'SAP', 'value': None, 'type': 'hard'}\\n- {'name': 'SAP S4', 'value': None, 'type': 'hard'}\\n- {'name': 'HANA Module MM', 'value': None, 'type': 'hard'}\\n\\nCOURSES\\n\\n\\nTASKS\\n- {'name': 'travail en synergie avec les autres consultants du projet', 'value': None}</td>\n",
       "      <td>Strasbourg, France</td>\n",
       "      <td>mid-level</td>\n",
       "      <td>Sourcing et portage salariale</td>\n",
       "      <td>Consulting</td>\n",
       "      <td>French, English</td>\n",
       "      <td>title='Consultant SAP module MM sur S4/HANA' location='Strasbourg, France' seniority='mid-level' company='Sourcing et portage salariale' industry='Consulting' languages=['French', 'English']</td>\n",
       "    </tr>\n",
       "    <tr>\n",
       "      <th>11710</th>\n",
       "      <td>15015</td>\n",
       "      <td>Chef de projet RSE (H/F)</td>\n",
       "      <td>TITLE\\nChef de projet RSE (H/F)\\n\\nSUMMARY\\nChef de projet RSE (H/F)\\n\\nSECTION:\\nTITLE: Job description\\nDESCRIPTION: Insitoo Freelance, facilitateur du freelancing depuis 2007, recherche pour son client en direct un Chef de projet RSE (H/F).\\nLa mise en oeuvre d’un plan de réduction des emissions carbones, d’équipes carbones, et d’outils de pilotage carbone a été acté.\\nLes missions attendues par le Chef de projet RSE (H/F) sont :\\n- Accompagner le métier dans la définition et la formalisation des processus carbone\\n- Proposer l’organisation carbone capable de dérouler ces process (missions, organisation cible, ...)\\n- Définir les reportings attendus selon les différents utilisateurs\\n- Accompagner les futures équipes dans la réflexion et la formation des livrables du projet\\n- Assurer un fonctionnement collaboratif\\nCompétences techniques et fonctionnelles attendues :\\n- Responsabilité sociétale des entreprises (RSE) - Confirmé - Indispensable\\n- Anglais - Confirmé - Indispensable\\n- Animation d’ateliers - Confirmé - Indispensable\\nCette mission vous intéresse ? N’attendez plus pour postuler !\\nRetrouvez nous sur notre page linkedin : Insitoo\\nEt retrouvez le détail de la mission sur notre site internet : -lien masqué-\\n\\nSECTION:\\nTITLE: Company description\\n\\nSECTION:\\nTITLE: Profile description\\n\\nLANGUAGES\\n- {'name': 'Anglais', 'value': None}\\n\\nCERTIFICATIONS\\n\\n\\nSKILLS\\n- {'name': 'RSE', 'value': None, 'type': 'hard'}\\n\\nCOURSES\\n\\n\\nTASKS\\n- {'name': 'recherche pour son client en direct', 'value': None}\\n- {'name': 'La mise en oeuvre d’un plan de réduction des emissions carbones, d’équipes carbones, et d’outils de pilotage carbone a été acté', 'value': None}\\n- {'name': 'Accompagner le métier dans la définition et la formalisation des processus carbone', 'value': None}\\n- {'name': 'Proposer l’organisation carbone capable de dérouler ces process', 'value': None}\\n- {'name': 'Définir les reportings attendus selon les différents utilisateurs', 'value': None}\\n- {'name': 'Accompagner les futures équipes dans la réflexion et la formation des livrables du projet', 'value': None}\\n- {'name': 'Assurer un fonctionnement collaboratif', 'value': None}\\n- {'name': 'Responsabilité sociétale des entreprises', 'value': None}\\n- {'name': 'Animation d’ateliers', 'value': None}</td>\n",
       "      <td></td>\n",
       "      <td>mid-level</td>\n",
       "      <td>Insitoo Freelance</td>\n",
       "      <td>Consulting</td>\n",
       "      <td>English</td>\n",
       "      <td>title='Chef de projet RSE (H/F)' location='Not specified' seniority='mid-level' company='Insitoo Freelance' industry='Consulting' languages=['English']</td>\n",
       "    </tr>\n",
       "  </tbody>\n",
       "</table>"
      ]
     },
     "metadata": {},
     "output_type": "display_data"
    }
   ],
   "execution_count": 132
  },
  {
   "metadata": {},
   "cell_type": "markdown",
   "source": "## 1.3 Embedding of the Job Ads",
   "id": "1fad165e551f6ea0"
  },
  {
   "metadata": {
    "ExecuteTime": {
     "end_time": "2025-03-04T10:31:47.923755Z",
     "start_time": "2025-03-04T10:31:42.366750Z"
    }
   },
   "cell_type": "code",
   "source": [
    "# Check if CUDA is available and use GPU\n",
    "device = torch.device('cuda' if torch.cuda.is_available() else 'cpu')\n",
    "\n",
    "# Load pre-trained sentence transformer model and move it to the GPU if available\n",
    "model = SentenceTransformer('all-MiniLM-L6-v2').to(device)\n",
    "\n",
    "# Define features and weights\n",
    "features = ['title', 'descriptions']  # Example with multiple features\n",
    "feature_weights = {'title': 1.0, 'descriptions': 0.8}  # Weights will be applied later\n",
    "action_weights = {'apply': 2, 'view': 1}"
   ],
   "id": "e445478a03eaa9ec",
   "outputs": [],
   "execution_count": 133
  },
  {
   "metadata": {
    "ExecuteTime": {
     "end_time": "2025-03-04T10:31:47.931010Z",
     "start_time": "2025-03-04T10:31:47.925743Z"
    }
   },
   "cell_type": "code",
   "source": [
    "def compute_job_embeddings(df, features):\n",
    "    job_embeddings = {feature: [] for feature in features}  # Store embeddings per feature\n",
    "\n",
    "    # Compute all embeddings\n",
    "    for idx, row in df.iterrows():\n",
    "        if idx % 100 == 0:\n",
    "            print(idx)\n",
    "        for feature in features:\n",
    "            feature_vector = model.encode(str(row[feature]), convert_to_tensor=True, show_progress_bar=False).to(device)\n",
    "            job_embeddings[feature].append(feature_vector)\n",
    "\n",
    "    # Convert to PyTorch tensors each feature\n",
    "    for feature in features:\n",
    "        job_embeddings[feature] = torch.stack(job_embeddings[feature])\n",
    "\n",
    "    # Zero-mean normalization for each feature\n",
    "    for feature in features:\n",
    "        mean = torch.mean(job_embeddings[feature], dim=0)\n",
    "        job_embeddings[feature] = job_embeddings[feature] - mean\n",
    "\n",
    "    return job_embeddings"
   ],
   "id": "5c84f91b9f7004b7",
   "outputs": [],
   "execution_count": 134
  },
  {
   "metadata": {
    "ExecuteTime": {
     "end_time": "2025-03-04T10:31:48.518372Z",
     "start_time": "2025-03-04T10:31:47.932162Z"
    }
   },
   "cell_type": "code",
   "source": [
    "df = df_jobs.sample(100)\n",
    "\n",
    "# Load or Compute Embeddings\n",
    "embedding_path = \"data/job_embeddings.pth\"\n",
    "# if os.path.exists(embedding_path):\n",
    "#     print(\"Loading embeddings from {}\".format(embedding_path))\n",
    "#     job_embeddings = torch.load(embedding_path, map_location=device)\n",
    "# else:\n",
    "print(\"Computing embeddings...\")\n",
    "job_embeddings = compute_job_embeddings(df, features)\n",
    "torch.save(job_embeddings, embedding_path)\n",
    "\n",
    "# Add embeddings to DataFrame\n",
    "for feature in features:\n",
    "    df[f'embedding_{feature}'] = list(job_embeddings[feature])\n",
    "\n",
    "# Create a mapping from job_id to its embeddings (per feature)\n",
    "job_embedding_dict = {row['job_id']: {feature: row[f'embedding_{feature}'] for feature in features}\n",
    "                      for _, row in df.iterrows()}"
   ],
   "id": "154391116910a516",
   "outputs": [
    {
     "ename": "ValueError",
     "evalue": "Cannot take a larger sample than population when 'replace=False'",
     "output_type": "error",
     "traceback": [
      "\u001B[0;31m---------------------------------------------------------------------------\u001B[0m",
      "\u001B[0;31mValueError\u001B[0m                                Traceback (most recent call last)",
      "Cell \u001B[0;32mIn[135], line 1\u001B[0m\n\u001B[0;32m----> 1\u001B[0m df \u001B[38;5;241m=\u001B[39m df_jobs\u001B[38;5;241m.\u001B[39msample(\u001B[38;5;241m100\u001B[39m)\n\u001B[1;32m      3\u001B[0m \u001B[38;5;66;03m# Load or Compute Embeddings\u001B[39;00m\n\u001B[1;32m      4\u001B[0m embedding_path \u001B[38;5;241m=\u001B[39m \u001B[38;5;124m\"\u001B[39m\u001B[38;5;124mdata/job_embeddings.pth\u001B[39m\u001B[38;5;124m\"\u001B[39m\n",
      "File \u001B[0;32m~/anaconda3/envs/sql_jupyter/lib/python3.12/site-packages/pandas/core/generic.py:6118\u001B[0m, in \u001B[0;36mNDFrame.sample\u001B[0;34m(self, n, frac, replace, weights, random_state, axis, ignore_index)\u001B[0m\n\u001B[1;32m   6115\u001B[0m \u001B[38;5;28;01mif\u001B[39;00m weights \u001B[38;5;129;01mis\u001B[39;00m \u001B[38;5;129;01mnot\u001B[39;00m \u001B[38;5;28;01mNone\u001B[39;00m:\n\u001B[1;32m   6116\u001B[0m     weights \u001B[38;5;241m=\u001B[39m sample\u001B[38;5;241m.\u001B[39mpreprocess_weights(\u001B[38;5;28mself\u001B[39m, weights, axis)\n\u001B[0;32m-> 6118\u001B[0m sampled_indices \u001B[38;5;241m=\u001B[39m sample\u001B[38;5;241m.\u001B[39msample(obj_len, size, replace, weights, rs)\n\u001B[1;32m   6119\u001B[0m result \u001B[38;5;241m=\u001B[39m \u001B[38;5;28mself\u001B[39m\u001B[38;5;241m.\u001B[39mtake(sampled_indices, axis\u001B[38;5;241m=\u001B[39maxis)\n\u001B[1;32m   6121\u001B[0m \u001B[38;5;28;01mif\u001B[39;00m ignore_index:\n",
      "File \u001B[0;32m~/anaconda3/envs/sql_jupyter/lib/python3.12/site-packages/pandas/core/sample.py:152\u001B[0m, in \u001B[0;36msample\u001B[0;34m(obj_len, size, replace, weights, random_state)\u001B[0m\n\u001B[1;32m    149\u001B[0m     \u001B[38;5;28;01melse\u001B[39;00m:\n\u001B[1;32m    150\u001B[0m         \u001B[38;5;28;01mraise\u001B[39;00m \u001B[38;5;167;01mValueError\u001B[39;00m(\u001B[38;5;124m\"\u001B[39m\u001B[38;5;124mInvalid weights: weights sum to zero\u001B[39m\u001B[38;5;124m\"\u001B[39m)\n\u001B[0;32m--> 152\u001B[0m \u001B[38;5;28;01mreturn\u001B[39;00m random_state\u001B[38;5;241m.\u001B[39mchoice(obj_len, size\u001B[38;5;241m=\u001B[39msize, replace\u001B[38;5;241m=\u001B[39mreplace, p\u001B[38;5;241m=\u001B[39mweights)\u001B[38;5;241m.\u001B[39mastype(\n\u001B[1;32m    153\u001B[0m     np\u001B[38;5;241m.\u001B[39mintp, copy\u001B[38;5;241m=\u001B[39m\u001B[38;5;28;01mFalse\u001B[39;00m\n\u001B[1;32m    154\u001B[0m )\n",
      "File \u001B[0;32mnumpy/random/mtrand.pyx:1024\u001B[0m, in \u001B[0;36mnumpy.random.mtrand.RandomState.choice\u001B[0;34m()\u001B[0m\n",
      "\u001B[0;31mValueError\u001B[0m: Cannot take a larger sample than population when 'replace=False'"
     ]
    }
   ],
   "execution_count": 135
  },
  {
   "metadata": {
    "ExecuteTime": {
     "end_time": "2025-03-04T10:31:48.519029Z",
     "start_time": "2025-03-04T10:31:48.518963Z"
    }
   },
   "cell_type": "code",
   "source": "",
   "id": "8e14a2ac8ebc78e0",
   "outputs": [],
   "execution_count": null
  },
  {
   "metadata": {},
   "cell_type": "code",
   "source": [
    "# Function to generate recommendations for sessions dataframe using GPU\n",
    "def recommend_jobs_for_sessions(x, df_jobs, job_embedding_dict, feature_weights, action_weights, top_n=10):\n",
    "    recommendations = {}\n",
    "\n",
    "    for idx, row in x.iterrows():\n",
    "        if idx % 100 == 0:\n",
    "            print(f\"Processing session {idx}\")\n",
    "        \n",
    "        session_id = row['session_id']\n",
    "        job_ids = [int(job_id) for job_id in row['job_ids']]\n",
    "        actions = row['actions']\n",
    "\n",
    "        # Compute user profile by aggregating weighted embeddings of interacted job ads\n",
    "        session_embeddings = []\n",
    "        \n",
    "        for job_id in job_ids:\n",
    "            job_features = job_embedding_dict[job_id]  # Dict {feature: tensor}\n",
    "            weighted_embedding = torch.cat([\n",
    "                job_features[feature] * feature_weights[feature] for feature in feature_weights\n",
    "            ], dim=0)  # Concatenate weighted feature embeddings\n",
    "            \n",
    "            session_embeddings.append(weighted_embedding)\n",
    "\n",
    "        session_embeddings = torch.stack(session_embeddings).to(device)  # Convert to tensor on GPU\n",
    "        weights = torch.tensor([action_weights[action] for action in actions], dtype=torch.float32).to(device).view(-1, 1)\n",
    "\n",
    "        # Compute user profile vector (weighted average of past interactions)\n",
    "        user_profile_vector = torch.sum(session_embeddings * weights, dim=0) / torch.sum(weights)\n",
    "\n",
    "        # Compute similarity with all job embeddings\n",
    "        job_embeddings_tensor = []\n",
    "        for _, job_row in df_jobs.iterrows():\n",
    "            job_embedding = torch.cat([\n",
    "                job_row[f'embedding_{feature}'] * feature_weights[feature] for feature in feature_weights\n",
    "            ], dim=0)  # Concatenate weighted feature embeddings\n",
    "            \n",
    "            job_embeddings_tensor.append(job_embedding)\n",
    "\n",
    "        embeddings_matrix = torch.stack(job_embeddings_tensor).to(device)\n",
    "        similarities = torch.nn.functional.cosine_similarity(user_profile_vector.unsqueeze(0), embeddings_matrix)\n",
    "\n",
    "        # Exclude already interacted job IDs\n",
    "        recommended_jobs = df_jobs.copy()\n",
    "        recommended_jobs['similarity'] = similarities.cpu().numpy()\n",
    "        recommended_jobs = recommended_jobs[~recommended_jobs['job_id'].isin(job_ids)]\n",
    "\n",
    "        # Store top N recommendations\n",
    "        recommendations[session_id] = recommended_jobs[['job_id', 'similarity']].sort_values(\n",
    "            by='similarity', ascending=False).head(top_n)['job_id'].values\n",
    "\n",
    "    return recommendations"
   ],
   "id": "afbe839398fe0a71",
   "outputs": [],
   "execution_count": null
  },
  {
   "metadata": {},
   "cell_type": "code",
   "source": [
    "if os.path.exists(\"content/y_train_predict.pkl\"):\n",
    "    with open(\"recommendations.pkl\", \"rb\") as f:\n",
    "        y_predict_dict = pickle.load(f)\n",
    "else:\n",
    "    y_predict_dict = recommend_jobs_for_sessions(X_train, df_jobs, job_embedding_dict, action_weights)\n",
    "    with open(\"content/y_train_predict.pkl\", \"wb\") as f:\n",
    "        pickle.dump(y_predict_dict, f)"
   ],
   "id": "ef3e96b8d7b04f0b",
   "outputs": [],
   "execution_count": null
  },
  {
   "metadata": {},
   "cell_type": "code",
   "source": [
    "def loss_train(y, y_predict_dict):\n",
    "    reciprocal_ranks = []\n",
    "    for _, row in y.iterrows():\n",
    "        try:\n",
    "            recomendations = y_predict_dict[row['session_id']]\n",
    "            recomendations = [int(r) for r in recomendations]\n",
    "            target_value = int(row['job_id'])\n",
    "            if target_value in recomendations:\n",
    "                rank = recomendations.index(target_value) + 1\n",
    "                rr = 1.0 / rank\n",
    "            else:\n",
    "                rr = 0.0\n",
    "        except Exception as e:\n",
    "            print(e)\n",
    "            rr = 0.0\n",
    "        reciprocal_ranks.append(rr)\n",
    "        \n",
    "    df = pd.DataFrame(reciprocal_ranks, columns=['r'])\n",
    "    print(df[\"r\"].value_counts().sort_index())\n",
    "    \n",
    "    mrr = np.mean(reciprocal_ranks)\n",
    "    print(f\"Mean Reciprocal Rank (MRR): {mrr:.4f}\")\n",
    "    \n",
    "    return mrr"
   ],
   "id": "cee8b65bd9a00595",
   "outputs": [],
   "execution_count": null
  },
  {
   "metadata": {},
   "cell_type": "code",
   "source": [
    "# print(session_recommendations[15869])\n",
    "loss_train(y_train, y_predict_dict)"
   ],
   "id": "a8e213dd0eb3dcd1",
   "outputs": [],
   "execution_count": null
  },
  {
   "metadata": {},
   "cell_type": "code",
   "source": "",
   "id": "3c57f3331131ca0d",
   "outputs": [],
   "execution_count": null
  },
  {
   "metadata": {},
   "cell_type": "code",
   "source": "",
   "id": "18b82acea0084652",
   "outputs": [],
   "execution_count": null
  }
 ],
 "metadata": {
  "kernelspec": {
   "display_name": "Python 3",
   "language": "python",
   "name": "python3"
  },
  "language_info": {
   "codemirror_mode": {
    "name": "ipython",
    "version": 2
   },
   "file_extension": ".py",
   "mimetype": "text/x-python",
   "name": "python",
   "nbconvert_exporter": "python",
   "pygments_lexer": "ipython2",
   "version": "2.7.6"
  }
 },
 "nbformat": 4,
 "nbformat_minor": 5
}
