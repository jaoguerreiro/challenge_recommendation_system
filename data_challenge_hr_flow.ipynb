{
 "nbformat": 4,
 "nbformat_minor": 0,
 "metadata": {
  "colab": {
   "provenance": []
  },
  "kernelspec": {
   "name": "python3",
   "display_name": "Python 3 (ipykernel)",
   "language": "python"
  },
  "language_info": {
   "name": "python"
  }
 },
 "cells": [
  {
   "cell_type": "code",
   "source": [
    "import pandas as pd\n",
    "import ast\n",
    "import matplotlib.pyplot as plt\n",
    "import seaborn as sns\n",
    "import numpy as np\n",
    "import networkx as nx\n",
    "from networkx.algorithms import community as nx_comm\n",
    "from itertools import combinations\n",
    "from sklearn.decomposition import TruncatedSVD, PCA\n",
    "from sklearn.manifold import TSNE\n",
    "from sklearn.cluster import KMeans\n",
    "from sklearn.metrics import silhouette_score, confusion_matrix, accuracy_score\n",
    "from sklearn.linear_model import LogisticRegression"
   ],
   "metadata": {
    "id": "nylMCXLLU5N3",
    "ExecuteTime": {
     "end_time": "2025-02-27T09:48:08.793110Z",
     "start_time": "2025-02-27T09:48:08.408561Z"
    }
   },
   "outputs": [],
   "execution_count": 1
  },
  {
   "cell_type": "code",
   "source": [
    "df_x = pd.read_csv(\"x_train_Meacfjr.csv\", delimiter=\",\", quotechar='\"')\n",
    "\n",
    "# Convert 'job_ids' and 'actions' from strings to actual lists\n",
    "df_x[\"job_ids\"] = df_x[\"job_ids\"].apply(ast.literal_eval)\n",
    "df_x[\"actions\"] = df_x[\"actions\"].apply(ast.literal_eval)\n",
    "\n",
    "print(df_x.shape, df_x.columns)\n",
    "print(df_x.info())\n",
    "print(df_x.head(10))\n"
   ],
   "metadata": {
    "colab": {
     "base_uri": "https://localhost:8080/",
     "height": 211
    },
    "id": "U8ERs7DBQtrR",
    "outputId": "3eba793f-3a65-420b-894c-651d4c791e85",
    "ExecuteTime": {
     "end_time": "2025-02-27T14:40:35.437506Z",
     "start_time": "2025-02-27T14:40:34.152707Z"
    }
   },
   "outputs": [
    {
     "name": "stdout",
     "output_type": "stream",
     "text": [
      "(15882, 3) Index(['session_id', 'job_ids', 'actions'], dtype='object')\n",
      "<class 'pandas.core.frame.DataFrame'>\n",
      "RangeIndex: 15882 entries, 0 to 15881\n",
      "Data columns (total 3 columns):\n",
      " #   Column      Non-Null Count  Dtype \n",
      "---  ------      --------------  ----- \n",
      " 0   session_id  15882 non-null  int64 \n",
      " 1   job_ids     15882 non-null  object\n",
      " 2   actions     15882 non-null  object\n",
      "dtypes: int64(1), object(2)\n",
      "memory usage: 372.4+ KB\n",
      "None\n",
      "   session_id                                      job_ids  \\\n",
      "0           0     [305, 299, 300, 290, 282, 274, 264, 261]   \n",
      "1           1                          [84, 257, 252, 250]   \n",
      "2           2          [241, 237, 221, 309, 310, 306, 301]   \n",
      "3           3     [303, 297, 296, 298, 294, 295, 292, 293]   \n",
      "4           4               [171, 291, 289, 166, 288, 155]   \n",
      "5           5                         [286, 144, 284, 285]   \n",
      "6           6                         [131, 283, 281, 279]   \n",
      "7           7                              [277, 280, 275]   \n",
      "8           8               [276, 272, 273, 270, 269, 230]   \n",
      "9           9  [267, 268, 29, 103, 262, 263, 88, 260, 258]   \n",
      "\n",
      "                                             actions  \n",
      "0   [view, view, view, view, view, view, view, view]  \n",
      "1                           [view, view, view, view]  \n",
      "2    [view, view, apply, apply, apply, apply, apply]  \n",
      "3  [apply, apply, apply, apply, apply, apply, app...  \n",
      "4         [apply, apply, apply, apply, apply, apply]  \n",
      "5                       [apply, apply, apply, apply]  \n",
      "6                       [apply, apply, apply, apply]  \n",
      "7                              [apply, apply, apply]  \n",
      "8         [apply, apply, apply, apply, apply, apply]  \n",
      "9  [apply, apply, apply, apply, apply, apply, app...  \n"
     ]
    }
   ],
   "execution_count": 11
  },
  {
   "cell_type": "code",
   "source": [
    "# Load the dataset without applying ast.literal_eval()\n",
    "df_y = pd.read_csv(\"y_train_SwJNMSu.csv\", delimiter=\",\", quotechar='\"')\n",
    "\n",
    "# Display the first 10 rows\n",
    "print(df_y.head(10))"
   ],
   "metadata": {
    "colab": {
     "base_uri": "https://localhost:8080/"
    },
    "id": "-ydLqmjeTDvz",
    "outputId": "01bedd02-b340-4511-a48e-66b8f977fecc",
    "ExecuteTime": {
     "end_time": "2025-02-27T09:48:09.293896Z",
     "start_time": "2025-02-27T09:48:09.285534Z"
    }
   },
   "outputs": [
    {
     "name": "stdout",
     "output_type": "stream",
     "text": [
      "   session_id  job_id action\n",
      "0           0      84   view\n",
      "1           1     241   view\n",
      "2           2     303  apply\n",
      "3           3     171  apply\n",
      "4           4     286  apply\n",
      "5           5     131  apply\n",
      "6           6     277  apply\n",
      "7           7     276  apply\n",
      "8           8     267  apply\n",
      "9           9     259  apply\n"
     ]
    }
   ],
   "execution_count": 3
  },
  {
   "cell_type": "code",
   "source": [
    "df_test = pd.read_csv(\"x_test_jCBBNP2.csv\", delimiter=\",\", quotechar='\"')\n",
    "\n",
    "# Convert 'job_ids' and 'actions' from strings to actual lists\n",
    "df_test[\"job_ids\"] = df_test[\"job_ids\"].apply(ast.literal_eval)\n",
    "df_test[\"actions\"] = df_test[\"actions\"].apply(ast.literal_eval)\n",
    "\n",
    "print(df_test.head(10))"
   ],
   "metadata": {
    "colab": {
     "base_uri": "https://localhost:8080/"
    },
    "id": "qvDhJL5IVABd",
    "outputId": "b469f538-ace6-40c5-c0e3-5b5b77b20d6d",
    "ExecuteTime": {
     "end_time": "2025-02-27T09:48:09.344455Z",
     "start_time": "2025-02-27T09:48:09.294787Z"
    }
   },
   "outputs": [
    {
     "name": "stdout",
     "output_type": "stream",
     "text": [
      "   session_id                                            job_ids  \\\n",
      "0           0  [2393, 4794, 4822, 5160, 4229, 4951, 2188, 339...   \n",
      "1           1  [1867, 2490, 3967, 2467, 5270, 4547, 4205, 223...   \n",
      "2           2                                  [2449, 4317, 792]   \n",
      "3           3  [4304, 2957, 3259, 2379, 2385, 357, 2908, 2241...   \n",
      "4           4                 [2672, 2521, 3061, 783, 1512, 868]   \n",
      "5           5  [1301, 663, 708, 105, 501, 497, 514, 701, 846,...   \n",
      "6           6         [908, 2531, 700, 1836, 1157, 621, 653, 14]   \n",
      "7           7                     [4451, 1785, 1885, 2263, 3014]   \n",
      "8           8  [1902, 745, 504, 272, 433, 1136, 966, 3143, 30...   \n",
      "9           9  [2231, 36, 929, 566, 2930, 2769, 1590, 1838, 2...   \n",
      "\n",
      "                                             actions  \n",
      "0  [view, view, view, view, view, view, view, vie...  \n",
      "1  [view, view, view, view, view, apply, apply, a...  \n",
      "2                                 [view, view, view]  \n",
      "3  [view, view, view, apply, view, view, view, vi...  \n",
      "4               [view, view, view, view, view, view]  \n",
      "5  [view, view, view, view, view, view, view, vie...  \n",
      "6  [apply, apply, apply, apply, apply, apply, vie...  \n",
      "7                  [view, apply, view, apply, apply]  \n",
      "8  [apply, view, apply, apply, view, apply, view,...  \n",
      "9  [apply, apply, apply, apply, view, view, apply...  \n"
     ]
    }
   ],
   "execution_count": 4
  },
  {
   "metadata": {},
   "cell_type": "code",
   "outputs": [],
   "execution_count": null,
   "source": ""
  },
  {
   "cell_type": "markdown",
   "source": [
    "## Analysis of the dataset"
   ],
   "metadata": {
    "id": "NBaFTEW0ci1D"
   }
  },
  {
   "cell_type": "code",
   "source": [
    "# Check for missing values in each column\n",
    "print(df_x.isnull().sum())  # For x_train dataset\n",
    "print(df_y.isnull().sum())  # For y_train dataset\n"
   ],
   "metadata": {
    "colab": {
     "base_uri": "https://localhost:8080/"
    },
    "id": "vaBKpSVzdJOL",
    "outputId": "67ebde54-85a7-4005-9705-9f2fbeeea70a",
    "ExecuteTime": {
     "end_time": "2025-02-27T09:48:09.356032Z",
     "start_time": "2025-02-27T09:48:09.345805Z"
    }
   },
   "outputs": [
    {
     "name": "stdout",
     "output_type": "stream",
     "text": [
      "session_id    0\n",
      "job_ids       0\n",
      "actions       0\n",
      "dtype: int64\n",
      "session_id    0\n",
      "job_id        0\n",
      "action        0\n",
      "dtype: int64\n"
     ]
    }
   ],
   "execution_count": 5
  },
  {
   "cell_type": "code",
   "source": [
    "# Distribution of actions\n",
    "sns.countplot(x='action', data=df_y)\n",
    "plt.title('Distribution of Actions')\n",
    "plt.show()"
   ],
   "metadata": {
    "colab": {
     "base_uri": "https://localhost:8080/",
     "height": 472
    },
    "id": "5wMaSyKVdDAt",
    "outputId": "49f3a002-d41e-4557-c01c-a88e947af042",
    "ExecuteTime": {
     "end_time": "2025-02-27T09:48:09.530880Z",
     "start_time": "2025-02-27T09:48:09.357309Z"
    }
   },
   "outputs": [
    {
     "data": {
      "text/plain": [
       "<Figure size 640x480 with 1 Axes>"
      ],
      "image/png": "[encoded data removed]"
     },
     "metadata": {},
     "output_type": "display_data"
    }
   ],
   "execution_count": 6
  },
  {
   "cell_type": "code",
   "source": [
    "# Distribution of job_id across session_id\n",
    "sns.countplot(x='job_id', data=df_y)\n",
    "plt.title('Job Distribution Across Sessions')\n",
    "plt.show()\n"
   ],
   "metadata": {
    "colab": {
     "base_uri": "https://localhost:8080/",
     "height": 472
    },
    "id": "8zn9gNzkdPRE",
    "outputId": "6b630a22-1837-4698-e14b-7039efbe14d0",
    "ExecuteTime": {
     "end_time": "2025-02-27T09:48:31.736438Z",
     "start_time": "2025-02-27T09:48:09.532315Z"
    }
   },
   "outputs": [
    {
     "data": {
      "text/plain": [
       "<Figure size 640x480 with 1 Axes>"
      ],
      "image/png": "[encoded data removed]"
     },
     "metadata": {},
     "output_type": "display_data"
    }
   ],
   "execution_count": 7
  },
  {
   "cell_type": "code",
   "source": [
    "# Exploding job_ids and actions columns\n",
    "df_exploded = df_x.explode(['job_ids', 'actions'], ignore_index=True)\n",
    "\n",
    "# Print the transformed dataframe\n",
    "print(df_exploded)"
   ],
   "metadata": {
    "colab": {
     "base_uri": "https://localhost:8080/"
    },
    "id": "HHA_d1lMf5E1",
    "outputId": "d225c25d-badd-4162-f748-d80bcfdcbfc2",
    "ExecuteTime": {
     "end_time": "2025-02-27T09:48:31.772824Z",
     "start_time": "2025-02-27T09:48:31.737333Z"
    }
   },
   "outputs": [
    {
     "name": "stdout",
     "output_type": "stream",
     "text": [
      "        session_id job_ids actions\n",
      "0                0     305    view\n",
      "1                0     299    view\n",
      "2                0     300    view\n",
      "3                0     290    view\n",
      "4                0     282    view\n",
      "...            ...     ...     ...\n",
      "119742       15880   27232    view\n",
      "119743       15880   27231    view\n",
      "119744       15881   27253    view\n",
      "119745       15881   27252    view\n",
      "119746       15881   27251    view\n",
      "\n",
      "[119747 rows x 3 columns]\n"
     ]
    }
   ],
   "execution_count": 8
  },
  {
   "cell_type": "code",
   "source": [
    "\n",
    "# ============================================================\n",
    "# 0. Load Data\n",
    "# ============================================================\n",
    "# Update the paths below to match your data files.\n",
    "df_x = pd.read_csv('/content/x_train_Meacfjr.csv')\n",
    "df_y = pd.read_csv('/content/y_train_SwJNMSu.csv')\n",
    "\n",
    "# Convert string representation of lists into actual lists\n",
    "df_x[\"job_ids\"] = df_x[\"job_ids\"].apply(ast.literal_eval)\n",
    "df_x[\"actions\"] = df_x[\"actions\"].apply(ast.literal_eval)\n"
   ],
   "metadata": {
    "id": "SYo6gZ_fQF__",
    "ExecuteTime": {
     "end_time": "2025-02-27T09:48:32.658543Z",
     "start_time": "2025-02-27T09:48:31.773562Z"
    }
   },
   "outputs": [
    {
     "ename": "FileNotFoundError",
     "evalue": "[Errno 2] No such file or directory: '/content/x_train_Meacfjr.csv'",
     "output_type": "error",
     "traceback": [
      "\u001B[0;31m---------------------------------------------------------------------------\u001B[0m",
      "\u001B[0;31mFileNotFoundError\u001B[0m                         Traceback (most recent call last)",
      "Cell \u001B[0;32mIn[9], line 5\u001B[0m\n\u001B[1;32m      1\u001B[0m \u001B[38;5;66;03m# ============================================================\u001B[39;00m\n\u001B[1;32m      2\u001B[0m \u001B[38;5;66;03m# 0. Load Data\u001B[39;00m\n\u001B[1;32m      3\u001B[0m \u001B[38;5;66;03m# ============================================================\u001B[39;00m\n\u001B[1;32m      4\u001B[0m \u001B[38;5;66;03m# Update the paths below to match your data files.\u001B[39;00m\n\u001B[0;32m----> 5\u001B[0m df_x \u001B[38;5;241m=\u001B[39m pd\u001B[38;5;241m.\u001B[39mread_csv(\u001B[38;5;124m'\u001B[39m\u001B[38;5;124m/content/x_train_Meacfjr.csv\u001B[39m\u001B[38;5;124m'\u001B[39m)\n\u001B[1;32m      6\u001B[0m df_y \u001B[38;5;241m=\u001B[39m pd\u001B[38;5;241m.\u001B[39mread_csv(\u001B[38;5;124m'\u001B[39m\u001B[38;5;124m/content/y_train_SwJNMSu.csv\u001B[39m\u001B[38;5;124m'\u001B[39m)\n\u001B[1;32m      8\u001B[0m \u001B[38;5;66;03m# Convert string representation of lists into actual lists\u001B[39;00m\n",
      "File \u001B[0;32m~/anaconda3/envs/sql_jupyter/lib/python3.12/site-packages/pandas/io/parsers/readers.py:1026\u001B[0m, in \u001B[0;36mread_csv\u001B[0;34m(filepath_or_buffer, sep, delimiter, header, names, index_col, usecols, dtype, engine, converters, true_values, false_values, skipinitialspace, skiprows, skipfooter, nrows, na_values, keep_default_na, na_filter, verbose, skip_blank_lines, parse_dates, infer_datetime_format, keep_date_col, date_parser, date_format, dayfirst, cache_dates, iterator, chunksize, compression, thousands, decimal, lineterminator, quotechar, quoting, doublequote, escapechar, comment, encoding, encoding_errors, dialect, on_bad_lines, delim_whitespace, low_memory, memory_map, float_precision, storage_options, dtype_backend)\u001B[0m\n\u001B[1;32m   1013\u001B[0m kwds_defaults \u001B[38;5;241m=\u001B[39m _refine_defaults_read(\n\u001B[1;32m   1014\u001B[0m     dialect,\n\u001B[1;32m   1015\u001B[0m     delimiter,\n\u001B[0;32m   (...)\u001B[0m\n\u001B[1;32m   1022\u001B[0m     dtype_backend\u001B[38;5;241m=\u001B[39mdtype_backend,\n\u001B[1;32m   1023\u001B[0m )\n\u001B[1;32m   1024\u001B[0m kwds\u001B[38;5;241m.\u001B[39mupdate(kwds_defaults)\n\u001B[0;32m-> 1026\u001B[0m \u001B[38;5;28;01mreturn\u001B[39;00m _read(filepath_or_buffer, kwds)\n",
      "File \u001B[0;32m~/anaconda3/envs/sql_jupyter/lib/python3.12/site-packages/pandas/io/parsers/readers.py:620\u001B[0m, in \u001B[0;36m_read\u001B[0;34m(filepath_or_buffer, kwds)\u001B[0m\n\u001B[1;32m    617\u001B[0m _validate_names(kwds\u001B[38;5;241m.\u001B[39mget(\u001B[38;5;124m\"\u001B[39m\u001B[38;5;124mnames\u001B[39m\u001B[38;5;124m\"\u001B[39m, \u001B[38;5;28;01mNone\u001B[39;00m))\n\u001B[1;32m    619\u001B[0m \u001B[38;5;66;03m# Create the parser.\u001B[39;00m\n\u001B[0;32m--> 620\u001B[0m parser \u001B[38;5;241m=\u001B[39m TextFileReader(filepath_or_buffer, \u001B[38;5;241m*\u001B[39m\u001B[38;5;241m*\u001B[39mkwds)\n\u001B[1;32m    622\u001B[0m \u001B[38;5;28;01mif\u001B[39;00m chunksize \u001B[38;5;129;01mor\u001B[39;00m iterator:\n\u001B[1;32m    623\u001B[0m     \u001B[38;5;28;01mreturn\u001B[39;00m parser\n",
      "File \u001B[0;32m~/anaconda3/envs/sql_jupyter/lib/python3.12/site-packages/pandas/io/parsers/readers.py:1620\u001B[0m, in \u001B[0;36mTextFileReader.__init__\u001B[0;34m(self, f, engine, **kwds)\u001B[0m\n\u001B[1;32m   1617\u001B[0m     \u001B[38;5;28mself\u001B[39m\u001B[38;5;241m.\u001B[39moptions[\u001B[38;5;124m\"\u001B[39m\u001B[38;5;124mhas_index_names\u001B[39m\u001B[38;5;124m\"\u001B[39m] \u001B[38;5;241m=\u001B[39m kwds[\u001B[38;5;124m\"\u001B[39m\u001B[38;5;124mhas_index_names\u001B[39m\u001B[38;5;124m\"\u001B[39m]\n\u001B[1;32m   1619\u001B[0m \u001B[38;5;28mself\u001B[39m\u001B[38;5;241m.\u001B[39mhandles: IOHandles \u001B[38;5;241m|\u001B[39m \u001B[38;5;28;01mNone\u001B[39;00m \u001B[38;5;241m=\u001B[39m \u001B[38;5;28;01mNone\u001B[39;00m\n\u001B[0;32m-> 1620\u001B[0m \u001B[38;5;28mself\u001B[39m\u001B[38;5;241m.\u001B[39m_engine \u001B[38;5;241m=\u001B[39m \u001B[38;5;28mself\u001B[39m\u001B[38;5;241m.\u001B[39m_make_engine(f, \u001B[38;5;28mself\u001B[39m\u001B[38;5;241m.\u001B[39mengine)\n",
      "File \u001B[0;32m~/anaconda3/envs/sql_jupyter/lib/python3.12/site-packages/pandas/io/parsers/readers.py:1880\u001B[0m, in \u001B[0;36mTextFileReader._make_engine\u001B[0;34m(self, f, engine)\u001B[0m\n\u001B[1;32m   1878\u001B[0m     \u001B[38;5;28;01mif\u001B[39;00m \u001B[38;5;124m\"\u001B[39m\u001B[38;5;124mb\u001B[39m\u001B[38;5;124m\"\u001B[39m \u001B[38;5;129;01mnot\u001B[39;00m \u001B[38;5;129;01min\u001B[39;00m mode:\n\u001B[1;32m   1879\u001B[0m         mode \u001B[38;5;241m+\u001B[39m\u001B[38;5;241m=\u001B[39m \u001B[38;5;124m\"\u001B[39m\u001B[38;5;124mb\u001B[39m\u001B[38;5;124m\"\u001B[39m\n\u001B[0;32m-> 1880\u001B[0m \u001B[38;5;28mself\u001B[39m\u001B[38;5;241m.\u001B[39mhandles \u001B[38;5;241m=\u001B[39m get_handle(\n\u001B[1;32m   1881\u001B[0m     f,\n\u001B[1;32m   1882\u001B[0m     mode,\n\u001B[1;32m   1883\u001B[0m     encoding\u001B[38;5;241m=\u001B[39m\u001B[38;5;28mself\u001B[39m\u001B[38;5;241m.\u001B[39moptions\u001B[38;5;241m.\u001B[39mget(\u001B[38;5;124m\"\u001B[39m\u001B[38;5;124mencoding\u001B[39m\u001B[38;5;124m\"\u001B[39m, \u001B[38;5;28;01mNone\u001B[39;00m),\n\u001B[1;32m   1884\u001B[0m     compression\u001B[38;5;241m=\u001B[39m\u001B[38;5;28mself\u001B[39m\u001B[38;5;241m.\u001B[39moptions\u001B[38;5;241m.\u001B[39mget(\u001B[38;5;124m\"\u001B[39m\u001B[38;5;124mcompression\u001B[39m\u001B[38;5;124m\"\u001B[39m, \u001B[38;5;28;01mNone\u001B[39;00m),\n\u001B[1;32m   1885\u001B[0m     memory_map\u001B[38;5;241m=\u001B[39m\u001B[38;5;28mself\u001B[39m\u001B[38;5;241m.\u001B[39moptions\u001B[38;5;241m.\u001B[39mget(\u001B[38;5;124m\"\u001B[39m\u001B[38;5;124mmemory_map\u001B[39m\u001B[38;5;124m\"\u001B[39m, \u001B[38;5;28;01mFalse\u001B[39;00m),\n\u001B[1;32m   1886\u001B[0m     is_text\u001B[38;5;241m=\u001B[39mis_text,\n\u001B[1;32m   1887\u001B[0m     errors\u001B[38;5;241m=\u001B[39m\u001B[38;5;28mself\u001B[39m\u001B[38;5;241m.\u001B[39moptions\u001B[38;5;241m.\u001B[39mget(\u001B[38;5;124m\"\u001B[39m\u001B[38;5;124mencoding_errors\u001B[39m\u001B[38;5;124m\"\u001B[39m, \u001B[38;5;124m\"\u001B[39m\u001B[38;5;124mstrict\u001B[39m\u001B[38;5;124m\"\u001B[39m),\n\u001B[1;32m   1888\u001B[0m     storage_options\u001B[38;5;241m=\u001B[39m\u001B[38;5;28mself\u001B[39m\u001B[38;5;241m.\u001B[39moptions\u001B[38;5;241m.\u001B[39mget(\u001B[38;5;124m\"\u001B[39m\u001B[38;5;124mstorage_options\u001B[39m\u001B[38;5;124m\"\u001B[39m, \u001B[38;5;28;01mNone\u001B[39;00m),\n\u001B[1;32m   1889\u001B[0m )\n\u001B[1;32m   1890\u001B[0m \u001B[38;5;28;01massert\u001B[39;00m \u001B[38;5;28mself\u001B[39m\u001B[38;5;241m.\u001B[39mhandles \u001B[38;5;129;01mis\u001B[39;00m \u001B[38;5;129;01mnot\u001B[39;00m \u001B[38;5;28;01mNone\u001B[39;00m\n\u001B[1;32m   1891\u001B[0m f \u001B[38;5;241m=\u001B[39m \u001B[38;5;28mself\u001B[39m\u001B[38;5;241m.\u001B[39mhandles\u001B[38;5;241m.\u001B[39mhandle\n",
      "File \u001B[0;32m~/anaconda3/envs/sql_jupyter/lib/python3.12/site-packages/pandas/io/common.py:873\u001B[0m, in \u001B[0;36mget_handle\u001B[0;34m(path_or_buf, mode, encoding, compression, memory_map, is_text, errors, storage_options)\u001B[0m\n\u001B[1;32m    868\u001B[0m \u001B[38;5;28;01melif\u001B[39;00m \u001B[38;5;28misinstance\u001B[39m(handle, \u001B[38;5;28mstr\u001B[39m):\n\u001B[1;32m    869\u001B[0m     \u001B[38;5;66;03m# Check whether the filename is to be opened in binary mode.\u001B[39;00m\n\u001B[1;32m    870\u001B[0m     \u001B[38;5;66;03m# Binary mode does not support 'encoding' and 'newline'.\u001B[39;00m\n\u001B[1;32m    871\u001B[0m     \u001B[38;5;28;01mif\u001B[39;00m ioargs\u001B[38;5;241m.\u001B[39mencoding \u001B[38;5;129;01mand\u001B[39;00m \u001B[38;5;124m\"\u001B[39m\u001B[38;5;124mb\u001B[39m\u001B[38;5;124m\"\u001B[39m \u001B[38;5;129;01mnot\u001B[39;00m \u001B[38;5;129;01min\u001B[39;00m ioargs\u001B[38;5;241m.\u001B[39mmode:\n\u001B[1;32m    872\u001B[0m         \u001B[38;5;66;03m# Encoding\u001B[39;00m\n\u001B[0;32m--> 873\u001B[0m         handle \u001B[38;5;241m=\u001B[39m \u001B[38;5;28mopen\u001B[39m(\n\u001B[1;32m    874\u001B[0m             handle,\n\u001B[1;32m    875\u001B[0m             ioargs\u001B[38;5;241m.\u001B[39mmode,\n\u001B[1;32m    876\u001B[0m             encoding\u001B[38;5;241m=\u001B[39mioargs\u001B[38;5;241m.\u001B[39mencoding,\n\u001B[1;32m    877\u001B[0m             errors\u001B[38;5;241m=\u001B[39merrors,\n\u001B[1;32m    878\u001B[0m             newline\u001B[38;5;241m=\u001B[39m\u001B[38;5;124m\"\u001B[39m\u001B[38;5;124m\"\u001B[39m,\n\u001B[1;32m    879\u001B[0m         )\n\u001B[1;32m    880\u001B[0m     \u001B[38;5;28;01melse\u001B[39;00m:\n\u001B[1;32m    881\u001B[0m         \u001B[38;5;66;03m# Binary mode\u001B[39;00m\n\u001B[1;32m    882\u001B[0m         handle \u001B[38;5;241m=\u001B[39m \u001B[38;5;28mopen\u001B[39m(handle, ioargs\u001B[38;5;241m.\u001B[39mmode)\n",
      "\u001B[0;31mFileNotFoundError\u001B[0m: [Errno 2] No such file or directory: '/content/x_train_Meacfjr.csv'"
     ]
    }
   ],
   "execution_count": 9
  },
  {
   "cell_type": "code",
   "source": [
    "# ============================================================\n",
    "# 1. Exploratory Data Analysis (EDA)\n",
    "# ============================================================\n",
    "\n",
    "## 1.1 Session Characteristics: Session Length Distribution\n",
    "df_x['session_length'] = df_x['job_ids'].apply(len)\n",
    "plt.figure(figsize=(8, 5))\n",
    "sns.histplot(df_x['session_length'], bins=20, kde=True)\n",
    "plt.title(\"Session Length Distribution\")\n",
    "plt.xlabel(\"Number of Interactions (job_ids per session)\")\n",
    "plt.ylabel(\"Frequency\")\n",
    "plt.show()\n",
    "\n",
    "## 1.2 Action Distribution: Frequency of “view” vs “apply”\n",
    "# Flatten the list of actions\n",
    "all_actions = [action for actions in df_x['actions'] for action in actions]\n",
    "action_counts = pd.Series(all_actions).value_counts()\n",
    "plt.figure(figsize=(6, 4))\n",
    "sns.barplot(x=action_counts.index, y=action_counts.values, palette='pastel')\n",
    "plt.title(\"Action Frequency in x_train\")\n",
    "plt.xlabel(\"Action\")\n",
    "plt.ylabel(\"Count\")\n",
    "plt.show()\n",
    "\n",
    "## 1.3 Job Interaction Analysis: Popular Jobs\n",
    "# For x_train: Count how many times each job appears across all sessions\n",
    "all_jobs = [job for jobs in df_x['job_ids'] for job in jobs]\n",
    "job_counts = pd.Series(all_jobs).value_counts().head(10)\n",
    "plt.figure(figsize=(10, 5))\n",
    "sns.barplot(x=job_counts.index, y=job_counts.values, palette='viridis')\n",
    "plt.title(\"Top 10 Popular Jobs in x_train\")\n",
    "plt.xlabel(\"Job ID\")\n",
    "plt.ylabel(\"Count\")\n",
    "plt.xticks(rotation=45)\n",
    "plt.show()\n",
    "\n",
    "# For y_train: Count the target job frequencies\n",
    "job_counts_y = df_y['job_id'].value_counts().head(10)\n",
    "plt.figure(figsize=(10, 5))\n",
    "sns.barplot(x=job_counts_y.index, y=job_counts_y.values, palette='magma')\n",
    "plt.title(\"Top 10 Popular Jobs in y_train\")\n",
    "plt.xlabel(\"Job ID\")\n",
    "plt.ylabel(\"Count\")\n",
    "plt.xticks(rotation=45)\n",
    "plt.show()\n",
    "\n",
    "## 1.4 Co-occurrence Analysis: Job Co-Interactions\n",
    "# For each session, count each unique pair of job interactions.\n",
    "co_occurrence = {}\n",
    "for jobs in df_x['job_ids']:\n",
    "    unique_jobs = list(set(jobs))\n",
    "    for pair in combinations(unique_jobs, 2):\n",
    "        pair = tuple(sorted(pair))\n",
    "        co_occurrence[pair] = co_occurrence.get(pair, 0) + 1\n",
    "\n",
    "co_occurrence_df = pd.DataFrame([{'job1': k[0], 'job2': k[1], 'count': v} for k, v in co_occurrence.items()])\n",
    "top_pairs = co_occurrence_df.sort_values('count', ascending=False).head(20)\n",
    "print(\"Top 20 co-occurring job pairs:\")\n",
    "print(top_pairs)"
   ],
   "metadata": {
    "colab": {
     "base_uri": "https://localhost:8080/",
     "height": 1000
    },
    "id": "Gzr08297QJ_f",
    "outputId": "5aba3295-1a11-4e29-f656-db4c5faf4c4b"
   },
   "outputs": [],
   "execution_count": null
  },
  {
   "cell_type": "code",
   "source": [
    "# ============================================================\n",
    "# 2. Sequential and Temporal Analysis\n",
    "# ============================================================\n",
    "# Example: Display and plot the order of interactions for a sample session.\n",
    "sample_session = df_x.iloc[0]\n",
    "print(\"\\nSample Session ID:\", sample_session['session_id'])\n",
    "print(\"Job Sequence:\", sample_session['job_ids'])\n",
    "print(\"Action Sequence:\", sample_session['actions'])\n",
    "\n",
    "# Plot the job sequence (using indices as x-axis since job IDs may be non-numeric)\n",
    "plt.figure(figsize=(8, 4))\n",
    "plt.plot(range(len(sample_session['job_ids'])), sample_session['job_ids'], marker='o')\n",
    "plt.title(f\"Job Sequence for Session {sample_session['session_id']}\")\n",
    "plt.xlabel(\"Interaction Order\")\n",
    "plt.ylabel(\"Job ID\")\n",
    "plt.xticks(range(len(sample_session['job_ids'])))\n",
    "plt.show()"
   ],
   "metadata": {
    "colab": {
     "base_uri": "https://localhost:8080/",
     "height": 479
    },
    "id": "jOEURMgdQNhf",
    "outputId": "4941a2dc-d56e-4ad2-d749-6451e84909e1"
   },
   "outputs": [],
   "execution_count": null
  },
  {
   "cell_type": "code",
   "source": [
    "# ============================================================\n",
    "# 3. Graph and Network Analysis\n",
    "# ============================================================\n",
    "## 3.1 Build a Bipartite Graph (Sessions and Jobs)\n",
    "B = nx.Graph()\n",
    "\n",
    "# To avoid ID collisions, prefix session IDs with 's_' and job IDs with 'j_'\n",
    "for _, row in df_x.iterrows():\n",
    "    session_node = f\"s_{row['session_id']}\"\n",
    "    B.add_node(session_node, bipartite=0)\n",
    "    for job in row['job_ids']:\n",
    "        job_node = f\"j_{job}\"\n",
    "        B.add_node(job_node, bipartite=1)\n",
    "        B.add_edge(session_node, job_node)\n",
    "\n",
    "# Degree distributions\n",
    "session_nodes = {n for n, d in B.nodes(data=True) if d['bipartite'] == 0}\n",
    "job_nodes = set(B) - session_nodes\n",
    "\n",
    "session_degrees = [B.degree(n) for n in session_nodes]\n",
    "job_degrees = [B.degree(n) for n in job_nodes]\n",
    "\n",
    "plt.figure(figsize=(8, 4))\n",
    "sns.histplot(session_degrees, kde=True, bins=20, color='skyblue')\n",
    "plt.title(\"Degree Distribution for Sessions\")\n",
    "plt.xlabel(\"Degree (Number of Job Interactions)\")\n",
    "plt.ylabel(\"Frequency\")\n",
    "plt.show()\n",
    "\n",
    "plt.figure(figsize=(8, 4))\n",
    "sns.histplot(job_degrees, kde=True, bins=20, color='salmon')\n",
    "plt.title(\"Degree Distribution for Jobs\")\n",
    "plt.xlabel(\"Degree (Number of Sessions Interacting)\")\n",
    "plt.ylabel(\"Frequency\")\n",
    "plt.show()\n",
    "\n",
    "## 3.2 Community Detection using Girvan-Newman Algorithm\n",
    "# Note: Girvan-Newman can be computationally intensive for large graphs.\n",
    "comp = nx_comm.girvan_newman(B)\n",
    "first_level_communities = tuple(sorted(c) for c in next(comp))\n",
    "print(\"\\nDetected communities (first level) using Girvan-Newman:\")\n",
    "for i, community in enumerate(first_level_communities):\n",
    "    print(f\"Community {i+1}: {community}\")\n"
   ],
   "metadata": {
    "colab": {
     "base_uri": "https://localhost:8080/",
     "height": 1000
    },
    "id": "SRDkyvbhQPqG",
    "outputId": "df9f0566-efbe-42b4-c8c5-675361fde78e"
   },
   "outputs": [],
   "execution_count": null
  },
  {
   "cell_type": "code",
   "source": [
    "# Alternative community detection using Greedy Modularity\n",
    "communities = nx_comm.greedy_modularity_communities(B)\n",
    "\n",
    "print(\"\\nDetected communities using Greedy Modularity:\")\n",
    "for i, community in enumerate(communities):\n",
    "    print(f\"Community {i+1}: {community}\")"
   ],
   "metadata": {
    "colab": {
     "base_uri": "https://localhost:8080/",
     "height": 1000
    },
    "id": "LS30eCBT-UXu",
    "outputId": "486412ea-a6f1-417c-8d33-3c43abefc639"
   },
   "outputs": [],
   "execution_count": null
  },
  {
   "cell_type": "code",
   "source": [
    "# ============================================================\n",
    "# 4. Latent Factor and Clustering Analysis\n",
    "# ============================================================\n",
    "## 4.1 Build the Interaction Matrix\n",
    "def build_interaction_matrix(x_train, weight_map={'apply': 2, 'view': 1}):\n",
    "    sessions = x_train['session_id'].unique()\n",
    "    all_jobs = set()\n",
    "    for jobs in x_train['job_ids']:\n",
    "        all_jobs.update(jobs)\n",
    "    all_jobs = list(all_jobs)\n",
    "\n",
    "    session2idx = {s: i for i, s in enumerate(sessions)}\n",
    "    job2idx = {j: i for i, j in enumerate(all_jobs)}\n",
    "\n",
    "    matrix = np.zeros((len(sessions), len(all_jobs)))\n",
    "    for _, row in x_train.iterrows():\n",
    "        s_idx = session2idx[row['session_id']]\n",
    "        for job, act in zip(row['job_ids'], row['actions']):\n",
    "            j_idx = job2idx[job]\n",
    "            matrix[s_idx, j_idx] += weight_map.get(act, 1)\n",
    "    return matrix, session2idx, job2idx\n",
    "\n",
    "interaction_matrix, session2idx, job2idx = build_interaction_matrix(df_x)\n",
    "\n",
    "## 4.2 Matrix Factorization via SVD\n",
    "n_components = 20\n",
    "svd = TruncatedSVD(n_components=n_components, random_state=42)\n",
    "user_factors = svd.fit_transform(interaction_matrix)  # Session latent factors\n",
    "job_factors = svd.components_.T                       # Job latent factors\n",
    "\n",
    "## 4.3 Visualize the Latent Space using t-SNE\n",
    "tsne = TSNE(n_components=2, random_state=42)\n",
    "user_tsne = tsne.fit_transform(user_factors)\n",
    "\n",
    "plt.figure(figsize=(8, 6))\n",
    "sns.scatterplot(x=user_tsne[:, 0], y=user_tsne[:, 1])\n",
    "plt.title(\"t-SNE of Session Latent Factors\")\n",
    "plt.xlabel(\"t-SNE Component 1\")\n",
    "plt.ylabel(\"t-SNE Component 2\")\n",
    "plt.show()\n",
    "\n",
    "## 4.4 K-Means Clustering on Session Latent Factors\n",
    "kmeans = KMeans(n_clusters=5, random_state=42)\n",
    "clusters = kmeans.fit_predict(user_factors)\n",
    "sil_score = silhouette_score(user_factors, clusters)\n",
    "print(f\"\\nSilhouette Score for K-Means clustering (k=5): {sil_score:.4f}\")\n",
    "\n",
    "plt.figure(figsize=(8, 6))\n",
    "sns.scatterplot(x=user_tsne[:, 0], y=user_tsne[:, 1], hue=clusters, palette='viridis', legend='full')\n",
    "plt.title(\"t-SNE Visualization with K-Means Clusters\")\n",
    "plt.xlabel(\"t-SNE Component 1\")\n",
    "plt.ylabel(\"t-SNE Component 2\")\n",
    "plt.legend(title=\"Cluster\")\n",
    "plt.show()"
   ],
   "metadata": {
    "colab": {
     "base_uri": "https://localhost:8080/",
     "height": 1000
    },
    "id": "df_bzdCgQUp5",
    "outputId": "e702bd54-4e42-4343-ce2c-4b5cd9333680"
   },
   "outputs": [],
   "execution_count": null
  },
  {
   "cell_type": "code",
   "source": [
    "# ============================================================\n",
    "# 5. Predictive Model Analysis: Next-Action Prediction\n",
    "# ============================================================\n",
    "## 5.1 Feature Engineering: Build Session Features\n",
    "def build_session_features(x_train):\n",
    "    features = []\n",
    "    session_ids = []\n",
    "    for _, row in x_train.iterrows():\n",
    "        s_id = row['session_id']\n",
    "        total = len(row['actions'])\n",
    "        count_apply = row['actions'].count('apply')\n",
    "        count_view = row['actions'].count('view')\n",
    "        features.append([total, count_apply, count_view])\n",
    "        session_ids.append(s_id)\n",
    "    feature_df = pd.DataFrame(features, columns=['total', 'apply_count', 'view_count'])\n",
    "    feature_df['session_id'] = session_ids\n",
    "    return feature_df\n",
    "\n",
    "session_features = build_session_features(df_x)\n",
    "data_model = pd.merge(session_features, df_y, on='session_id', how='inner')\n",
    "\n",
    "# Prepare features and target (encode 'apply' as 1, 'view' as 0)\n",
    "X = data_model[['total', 'apply_count', 'view_count']]\n",
    "y = data_model['action'].apply(lambda x: 1 if x == 'apply' else 0)\n",
    "\n",
    "# Train a logistic regression classifier\n",
    "clf = LogisticRegression()\n",
    "clf.fit(X, y)\n",
    "\n",
    "print(\"\\nLogistic Regression Feature Coefficients:\")\n",
    "coeff_df = pd.Series(clf.coef_[0], index=X.columns)\n",
    "print(coeff_df)\n",
    "\n",
    "## 5.2 Error Analysis: Confusion Matrix\n",
    "y_pred = clf.predict(X)\n",
    "cm = confusion_matrix(y, y_pred)\n",
    "plt.figure(figsize=(6, 4))\n",
    "sns.heatmap(cm, annot=True, fmt='d', cmap='Blues')\n",
    "plt.title(\"Confusion Matrix: Next-Action Prediction\")\n",
    "plt.xlabel(\"Predicted\")\n",
    "plt.ylabel(\"Actual\")\n",
    "plt.show()\n",
    "\n",
    "## 5.3 Evaluation Metric Analysis: Recommendation MRR\n",
    "def predict_session(session_idx, user_factors, job_factors, interaction_matrix, top_n=10):\n",
    "    scores = user_factors[session_idx].dot(job_factors.T)\n",
    "    # Exclude already-interacted jobs\n",
    "    scores[interaction_matrix[session_idx] > 0] = -np.inf\n",
    "    top_indices = np.argsort(scores)[-top_n:][::-1]\n",
    "    return top_indices\n",
    "\n",
    "# Prepare mapping from job index back to job ID\n",
    "idx2job = {i: j for j, i in job2idx.items()}\n",
    "\n",
    "# Compute reciprocal ranks for each session in df_y\n",
    "reciprocal_ranks = []\n",
    "for _, row in df_y.iterrows():\n",
    "    s_id = row['session_id']\n",
    "    if s_id in session2idx:\n",
    "        s_idx = session2idx[s_id]\n",
    "        top_indices = predict_session(s_idx, user_factors, job_factors, interaction_matrix, top_n=10)\n",
    "        recommended_jobs = [idx2job[i] for i in top_indices]\n",
    "        # Calculate reciprocal rank\n",
    "        try:\n",
    "            rank = recommended_jobs.index(row['job_id']) + 1\n",
    "            rr = 1.0 / rank\n",
    "        except ValueError:\n",
    "            rr = 0.0\n",
    "        reciprocal_ranks.append(rr)\n",
    "\n",
    "plt.figure(figsize=(6, 4))\n",
    "sns.boxplot(y=reciprocal_ranks, color='lightgreen')\n",
    "plt.title(\"Distribution of Reciprocal Ranks (MRR) for Recommendations\")\n",
    "plt.ylabel(\"Reciprocal Rank\")\n",
    "plt.show()\n",
    "\n",
    "mrr = np.mean(reciprocal_ranks)\n",
    "print(f\"Mean Reciprocal Rank (MRR): {mrr:.4f}\")\n",
    "\n",
    "# Also, display next-action prediction accuracy\n",
    "action_accuracy = accuracy_score(y, y_pred)\n",
    "print(f\"Next-Action Prediction Accuracy: {action_accuracy:.4f}\")"
   ],
   "metadata": {
    "colab": {
     "base_uri": "https://localhost:8080/",
     "height": 904
    },
    "id": "3nu1CgGtQZIg",
    "outputId": "4b7c32f0-a963-4d48-b706-8a4397c5962f"
   },
   "outputs": [],
   "execution_count": null
  },
  {
   "cell_type": "code",
   "source": [
    "# ============================================================\n",
    "# 6. User Behavior Segmentation\n",
    "# ============================================================\n",
    "# Segment users based on session features\n",
    "kmeans_seg = KMeans(n_clusters=3, random_state=42)\n",
    "session_features['segment'] = kmeans_seg.fit_predict(session_features[['total', 'apply_count', 'view_count']])\n",
    "\n",
    "print(\"\\nUser Segmentation (Session Behavior) Summary:\")\n",
    "print(session_features.groupby('segment').mean())\n",
    "\n",
    "plt.figure(figsize=(8, 6))\n",
    "sns.boxplot(x='segment', y='total', data=session_features, palette='Set3')\n",
    "plt.title(\"Session Total Interactions by Segment\")\n",
    "plt.xlabel(\"Segment\")\n",
    "plt.ylabel(\"Total Interactions\")\n",
    "plt.show()"
   ],
   "metadata": {
    "colab": {
     "base_uri": "https://localhost:8080/",
     "height": 792
    },
    "id": "ntbi-yGzPnIx",
    "outputId": "10be98a1-d037-4459-b018-9fbb7db0c4ea"
   },
   "outputs": [],
   "execution_count": null
  },
  {
   "cell_type": "markdown",
   "source": [
    "## Collaborative filtering"
   ],
   "metadata": {
    "id": "WNKVFGLK_pSz"
   }
  },
  {
   "cell_type": "code",
   "source": [
    "# ---------------------------\n",
    "# 2. Build the Interaction Matrix (Collaborative Filtering)\n",
    "# ---------------------------\n",
    "def build_interaction_matrix(x_train, weight_map={'apply': 5, 'view': 1}):\n",
    "    \"\"\"\n",
    "    Create a user-item interaction matrix with weights based on action type.\n",
    "    \"\"\"\n",
    "    sessions = x_train['session_id'].unique()\n",
    "\n",
    "    # Extract unique job IDs\n",
    "    all_jobs = set()\n",
    "    for jobs in x_train['job_ids']:\n",
    "        all_jobs.update(jobs)\n",
    "    all_jobs = list(all_jobs)\n",
    "\n",
    "    # Mapping dictionaries\n",
    "    session2idx = {s: i for i, s in enumerate(sessions)}\n",
    "    job2idx = {j: i for i, j in enumerate(all_jobs)}\n",
    "\n",
    "    # Initialize interaction matrix\n",
    "    matrix = np.zeros((len(sessions), len(all_jobs)))\n",
    "\n",
    "    # Populate the matrix\n",
    "    for _, row in x_train.iterrows():\n",
    "        s_idx = session2idx[row['session_id']]\n",
    "        for job, act in zip(row['job_ids'], row['actions']):\n",
    "            j_idx = job2idx[job]\n",
    "            matrix[s_idx, j_idx] += weight_map.get(act, 1)\n",
    "\n",
    "    return matrix, session2idx, job2idx\n",
    "\n",
    "interaction_matrix, session2idx, job2idx = build_interaction_matrix(df_x)\n",
    "\n",
    "# ---------------------------\n",
    "# 3. Apply SVD for Collaborative Filtering\n",
    "# ---------------------------\n",
    "n_components = 20\n",
    "svd = TruncatedSVD(n_components=n_components, random_state=42)\n",
    "user_factors = svd.fit_transform(interaction_matrix)  # Session representations\n",
    "job_factors = svd.components_.T                      # Job representations\n",
    "\n",
    "def predict_session(session_idx, user_factors, job_factors, interaction_matrix, top_n=10):\n",
    "    \"\"\"\n",
    "    Generate top-N job recommendations for a given session.\n",
    "    \"\"\"\n",
    "    scores = user_factors[session_idx].dot(job_factors.T)\n",
    "    scores[interaction_matrix[session_idx] > 0] = -np.inf  # Exclude seen jobs\n",
    "    top_indices = np.argsort(scores)[-top_n:][::-1]\n",
    "    return top_indices\n",
    "\n",
    "# ---------------------------\n",
    "# 4. Next-Action Prediction (Logistic Regression)\n",
    "# ---------------------------\n",
    "def build_session_features(x_train):\n",
    "    \"\"\"\n",
    "    Extract session-level features based on action history.\n",
    "    \"\"\"\n",
    "    features = []\n",
    "    session_ids = []\n",
    "\n",
    "    for _, row in x_train.iterrows():\n",
    "        s_id = row['session_id']\n",
    "        actions = row['actions']\n",
    "        features.append([len(actions), actions.count('apply'), actions.count('view')])\n",
    "        session_ids.append(s_id)\n",
    "\n",
    "    feature_df = pd.DataFrame(features, columns=['total', 'apply_count', 'view_count'])\n",
    "    feature_df['session_id'] = session_ids\n",
    "    return feature_df\n",
    "\n",
    "session_features = build_session_features(df_x)\n",
    "data = pd.merge(session_features, df_y, on='session_id', how='inner')\n",
    "\n",
    "# Prepare features and labels\n",
    "X = data[['total', 'apply_count', 'view_count']]\n",
    "y = data['action'].apply(lambda x: 1 if x == 'apply' else 0)\n",
    "\n",
    "# Train logistic regression\n",
    "clf = LogisticRegression()\n",
    "clf.fit(X, y)\n",
    "\n",
    "# ---------------------------\n",
    "# 5. Generate Recommendations & Predictions\n",
    "# ---------------------------\n",
    "results = {}\n",
    "idx2job = {i: j for j, i in job2idx.items()}\n",
    "\n",
    "y_true_jobs = []  # Store actual next job interactions\n",
    "y_pred_jobs = []  # Store predicted job lists\n",
    "\n",
    "y_true_actions = []  # Store actual actions\n",
    "y_pred_actions = []  # Store predicted actions\n",
    "\n",
    "for _, row in df_y.iterrows():\n",
    "    s_id = row['session_id']\n",
    "\n",
    "    if s_id in session2idx:\n",
    "        s_idx = session2idx[s_id]\n",
    "        top_indices = predict_session(s_idx, user_factors, job_factors, interaction_matrix, top_n=10)\n",
    "        recommended_jobs = [idx2job[i] for i in top_indices]\n",
    "\n",
    "        # Store for MRR calculation\n",
    "        y_true_jobs.append(row['job_id'])\n",
    "        y_pred_jobs.append(recommended_jobs)\n",
    "\n",
    "        # Predict next action (Fixed)\n",
    "        feat = session_features[session_features['session_id'] == s_id][['total', 'apply_count', 'view_count']]\n",
    "        if not feat.empty:\n",
    "            predicted_action = clf.predict(feat)[0]  # No warnings\n",
    "            predicted_action = 'apply' if predicted_action == 1 else 'view'\n",
    "        else:\n",
    "            predicted_action = 'view'  # Default fallback\n",
    "\n",
    "        y_true_actions.append(row['action'])\n",
    "        y_pred_actions.append(predicted_action)\n",
    "\n",
    "\n",
    "# ---------------------------\n",
    "# 6. Evaluation Metrics: MRR & Accuracy\n",
    "# ---------------------------\n",
    "def mean_reciprocal_rank(y_true, y_pred, k=10):\n",
    "    \"\"\"\n",
    "    Compute Mean Reciprocal Rank (MRR) at K.\n",
    "    \"\"\"\n",
    "    rr_sum = 0.0\n",
    "    for true_job, pred_jobs in zip(y_true, y_pred):\n",
    "        try:\n",
    "            rank = pred_jobs.index(true_job) + 1\n",
    "            rr_sum += 1.0 / rank\n",
    "        except ValueError:\n",
    "            rr_sum += 0.0  # Not in top-k\n",
    "\n",
    "    return rr_sum / len(y_true)\n",
    "\n",
    "def compute_final_score(mrr, accuracy):\n",
    "    \"\"\"\n",
    "    Compute the final score as:\n",
    "      70% MRR + 30% Accuracy\n",
    "    \"\"\"\n",
    "    return (0.7 * mrr) + (0.3 * accuracy)\n",
    "\n",
    "# Calculate MRR\n",
    "mrr_score = mean_reciprocal_rank(y_true_jobs, y_pred_jobs)\n",
    "\n",
    "# Calculate Accuracy\n",
    "action_accuracy = accuracy_score([1 if x == 'apply' else 0 for x in y_true_actions],\n",
    "                                 [1 if x == 'apply' else 0 for x in y_pred_actions])\n",
    "\n",
    "# Compute final weighted score\n",
    "final_score = compute_final_score(mrr_score, action_accuracy)\n",
    "\n",
    "print(\"\\nEvaluation Results:\")\n",
    "print(f\"  🔹 MRR Score: {mrr_score:.4f}\")\n",
    "print(f\"  🔹 Action Prediction Accuracy: {action_accuracy:.4f}\")\n",
    "print(f\"  🔹 Final Score (70% MRR + 30% Accuracy): {final_score:.4f}\")\n",
    "\n",
    "# ---------------------------\n",
    "# 7. Clustering & Visualization\n",
    "# ---------------------------\n",
    "n_clusters = 10\n",
    "kmeans = KMeans(n_clusters=n_clusters, random_state=42)\n",
    "session_clusters = kmeans.fit_predict(user_factors)\n",
    "\n",
    "session_cluster_df = pd.DataFrame({'session_id': list(session2idx.keys()), 'cluster': session_clusters})\n",
    "session_plot_df = pd.merge(session_features, session_cluster_df, on='session_id')\n",
    "\n",
    "tsne = TSNE(n_components=2, random_state=42)\n",
    "user_tsne = tsne.fit_transform(user_factors)\n",
    "\n",
    "plt.figure(figsize=(10, 6))\n",
    "sns.scatterplot(x=user_tsne[:, 0], y=user_tsne[:, 1], hue=session_clusters, palette='viridis', legend='full')\n",
    "plt.title(\"Session Clusters via t-SNE\")\n",
    "plt.xlabel(\"t-SNE Dimension 1\")\n",
    "plt.ylabel(\"t-SNE Dimension 2\")\n",
    "plt.legend(title=\"Cluster\")\n",
    "plt.show()\n"
   ],
   "metadata": {
    "colab": {
     "base_uri": "https://localhost:8080/",
     "height": 651
    },
    "id": "9UXnI_MK_sTJ",
    "outputId": "58d38e36-fe14-4b03-8f15-9718ceda3eea"
   },
   "outputs": [],
   "execution_count": null
  },
  {
   "cell_type": "code",
   "source": [
    "\n",
    "# ---------------------------\n",
    "# 1. Load Data\n",
    "# ---------------------------\n",
    "df_x = pd.read_csv('/content/x_train_Meacfjr.csv')\n",
    "df_y = pd.read_csv('/content/y_train_SwJNMSu.csv')\n",
    "\n",
    "# Convert 'job_ids' and 'actions' from strings to actual lists\n",
    "df_x[\"job_ids\"] = df_x[\"job_ids\"].apply(ast.literal_eval)\n",
    "df_x[\"actions\"] = df_x[\"actions\"].apply(ast.literal_eval)\n",
    "\n",
    "# ---------------------------\n",
    "# 2. Build the Interaction Matrix (Collaborative Filtering)\n",
    "# ---------------------------\n",
    "def build_interaction_matrix(x_train, weight_map={'apply': 5, 'view': 1}):\n",
    "    \"\"\"\n",
    "    Create a user-item interaction matrix with weights based on action type.\n",
    "    \"\"\"\n",
    "    sessions = x_train['session_id'].unique()\n",
    "\n",
    "    # Extract unique job IDs\n",
    "    all_jobs = set()\n",
    "    for jobs in x_train['job_ids']:\n",
    "        all_jobs.update(jobs)\n",
    "    all_jobs = list(all_jobs)\n",
    "\n",
    "    # Mapping dictionaries\n",
    "    session2idx = {s: i for i, s in enumerate(sessions)}\n",
    "    job2idx = {j: i for i, j in enumerate(all_jobs)}\n",
    "\n",
    "    # Initialize interaction matrix\n",
    "    matrix = np.zeros((len(sessions), len(all_jobs)))\n",
    "\n",
    "    # Populate the matrix\n",
    "    for _, row in x_train.iterrows():\n",
    "        s_idx = session2idx[row['session_id']]\n",
    "        for job, act in zip(row['job_ids'], row['actions']):\n",
    "            j_idx = job2idx[job]\n",
    "            matrix[s_idx, j_idx] += weight_map.get(act, 1)\n",
    "\n",
    "    return matrix, session2idx, job2idx\n",
    "\n",
    "interaction_matrix, session2idx, job2idx = build_interaction_matrix(df_x)\n",
    "\n",
    "# ---------------------------\n",
    "# 3. Apply SVD for Collaborative Filtering\n",
    "# ---------------------------\n",
    "n_components = 50\n",
    "svd = TruncatedSVD(n_components=n_components, random_state=42)\n",
    "user_factors = svd.fit_transform(interaction_matrix)  # Session representations\n",
    "job_factors = svd.components_.T                      # Job representations\n",
    "\n",
    "def predict_session(session_idx, user_factors, job_factors, interaction_matrix, top_n=10):\n",
    "    \"\"\"\n",
    "    Generate top-N job recommendations for a given session.\n",
    "    \"\"\"\n",
    "    scores = user_factors[session_idx].dot(job_factors.T)\n",
    "    scores[interaction_matrix[session_idx] > 0] = -np.inf  # Exclude seen jobs\n",
    "    top_indices = np.argsort(scores)[-top_n:][::-1]\n",
    "    return top_indices\n",
    "\n",
    "# ---------------------------\n",
    "# 4. Next-Action Prediction (Logistic Regression)\n",
    "# ---------------------------\n",
    "def build_session_features(x_train):\n",
    "    \"\"\"\n",
    "    Extract session-level features based on action history.\n",
    "    \"\"\"\n",
    "    features = []\n",
    "    session_ids = []\n",
    "\n",
    "    for _, row in x_train.iterrows():\n",
    "        s_id = row['session_id']\n",
    "        actions = row['actions']\n",
    "        features.append([len(actions), actions.count('apply'), actions.count('view')])\n",
    "        session_ids.append(s_id)\n",
    "\n",
    "    feature_df = pd.DataFrame(features, columns=['total', 'apply_count', 'view_count'])\n",
    "    feature_df['session_id'] = session_ids\n",
    "    return feature_df\n",
    "\n",
    "session_features = build_session_features(df_x)\n",
    "data = pd.merge(session_features, df_y, on='session_id', how='inner')\n",
    "\n",
    "# Prepare features and labels\n",
    "X = data[['total', 'apply_count', 'view_count']]\n",
    "y = data['action'].apply(lambda x: 1 if x == 'apply' else 0)\n",
    "\n",
    "# Train logistic regression\n",
    "clf = LogisticRegression()\n",
    "clf.fit(X, y)\n",
    "\n",
    "# ---------------------------\n",
    "# 5. Generate Recommendations & Predictions\n",
    "# ---------------------------\n",
    "results = {}\n",
    "idx2job = {i: j for j, i in job2idx.items()}\n",
    "\n",
    "y_true_jobs = []  # Store actual next job interactions\n",
    "y_pred_jobs = []  # Store predicted job lists\n",
    "\n",
    "y_true_actions = []  # Store actual actions\n",
    "y_pred_actions = []  # Store predicted actions\n",
    "\n",
    "for _, row in df_y.iterrows():\n",
    "    s_id = row['session_id']\n",
    "\n",
    "    if s_id in session2idx:\n",
    "        s_idx = session2idx[s_id]\n",
    "        top_indices = predict_session(s_idx, user_factors, job_factors, interaction_matrix, top_n=10)\n",
    "        recommended_jobs = [idx2job[i] for i in top_indices]\n",
    "\n",
    "        # Store for MRR calculation\n",
    "        y_true_jobs.append(row['job_id'])\n",
    "        y_pred_jobs.append(recommended_jobs)\n",
    "\n",
    "        # Predict next action (Fixed)\n",
    "        feat = session_features[session_features['session_id'] == s_id][['total', 'apply_count', 'view_count']]\n",
    "        if not feat.empty:\n",
    "            predicted_action = clf.predict(feat)[0]  # No warnings\n",
    "            predicted_action = 'apply' if predicted_action == 1 else 'view'\n",
    "        else:\n",
    "            predicted_action = 'view'  # Default fallback\n",
    "\n",
    "        y_true_actions.append(row['action'])\n",
    "        y_pred_actions.append(predicted_action)\n",
    "\n",
    "\n",
    "# ---------------------------\n",
    "# 6. Evaluation Metrics: MRR & Accuracy\n",
    "# ---------------------------\n",
    "def mean_reciprocal_rank(y_true, y_pred, k=10):\n",
    "    \"\"\"\n",
    "    Compute Mean Reciprocal Rank (MRR) at K.\n",
    "    \"\"\"\n",
    "    rr_sum = 0.0\n",
    "    for true_job, pred_jobs in zip(y_true, y_pred):\n",
    "        try:\n",
    "            rank = pred_jobs.index(true_job) + 1\n",
    "            rr_sum += 1.0 / rank\n",
    "        except ValueError:\n",
    "            rr_sum += 0.0  # Not in top-k\n",
    "\n",
    "    return rr_sum / len(y_true)\n",
    "\n",
    "def compute_final_score(mrr, accuracy):\n",
    "    \"\"\"\n",
    "    Compute the final score as:\n",
    "      70% MRR + 30% Accuracy\n",
    "    \"\"\"\n",
    "    return (0.7 * mrr) + (0.3 * accuracy)\n",
    "\n",
    "# Calculate MRR\n",
    "mrr_score = mean_reciprocal_rank(y_true_jobs, y_pred_jobs)\n",
    "\n",
    "# Calculate Accuracy\n",
    "action_accuracy = accuracy_score([1 if x == 'apply' else 0 for x in y_true_actions],\n",
    "                                 [1 if x == 'apply' else 0 for x in y_pred_actions])\n",
    "\n",
    "# Compute final weighted score\n",
    "final_score = compute_final_score(mrr_score, action_accuracy)\n",
    "\n",
    "print(\"\\nEvaluation Results:\")\n",
    "print(f\"  🔹 MRR Score: {mrr_score:.4f}\")\n",
    "print(f\"  🔹 Action Prediction Accuracy: {action_accuracy:.4f}\")\n",
    "print(f\"  🔹 Final Score (70% MRR + 30% Accuracy): {final_score:.4f}\")\n",
    "\n",
    "# ---------------------------\n",
    "# 7. Clustering & Visualization\n",
    "# ---------------------------\n",
    "n_clusters = 10\n",
    "kmeans = KMeans(n_clusters=n_clusters, random_state=42)\n",
    "session_clusters = kmeans.fit_predict(user_factors)\n",
    "\n",
    "session_cluster_df = pd.DataFrame({'session_id': list(session2idx.keys()), 'cluster': session_clusters})\n",
    "session_plot_df = pd.merge(session_features, session_cluster_df, on='session_id')\n",
    "\n",
    "tsne = TSNE(n_components=2, random_state=42)\n",
    "user_tsne = tsne.fit_transform(user_factors)\n",
    "\n",
    "plt.figure(figsize=(10, 6))\n",
    "sns.scatterplot(x=user_tsne[:, 0], y=user_tsne[:, 1], hue=session_clusters, palette='viridis', legend='full')\n",
    "plt.title(\"Session Clusters via t-SNE\")\n",
    "plt.xlabel(\"t-SNE Dimension 1\")\n",
    "plt.ylabel(\"t-SNE Dimension 2\")\n",
    "plt.legend(title=\"Cluster\")\n",
    "plt.show()\n"
   ],
   "metadata": {
    "colab": {
     "base_uri": "https://localhost:8080/",
     "height": 651
    },
    "id": "fEO9BqHsFunk",
    "outputId": "a478a0d0-d364-43d5-954d-471064370a0b"
   },
   "outputs": [],
   "execution_count": null
  },
  {
   "cell_type": "code",
   "source": [
    "!pip install plotly --quiet"
   ],
   "metadata": {
    "id": "B7QlNuDVXJEG"
   },
   "outputs": [],
   "execution_count": null
  },
  {
   "cell_type": "code",
   "source": [
    "import plotly.express as px\n",
    "\n",
    "# Assuming user_factors and session_clusters have been computed previously.\n",
    "tsne_3d = TSNE(n_components=3, random_state=42)\n",
    "user_tsne_3d = tsne_3d.fit_transform(user_factors)\n",
    "\n",
    "# Create a DataFrame for Plotly\n",
    "df_plot = pd.DataFrame(user_tsne_3d, columns=['Dim1', 'Dim2', 'Dim3'])\n",
    "df_plot['cluster'] = session_clusters\n",
    "\n",
    "fig = px.scatter_3d(df_plot, x='Dim1', y='Dim2', z='Dim3', color='cluster',\n",
    "                    title='Session Clusters via 3D t-SNE (Interactive)')\n",
    "fig.show()\n"
   ],
   "metadata": {
    "colab": {
     "base_uri": "https://localhost:8080/",
     "height": 542
    },
    "id": "IMxUrX1vMs8U",
    "outputId": "878cd95c-7f45-4223-a27e-88755faa4020"
   },
   "outputs": [],
   "execution_count": null
  }
 ]
}
