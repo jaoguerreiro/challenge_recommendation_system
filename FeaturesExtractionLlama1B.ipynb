{
 "nbformat": 4,
 "nbformat_minor": 0,
 "metadata": {
  "colab": {
   "provenance": [],
   "collapsed_sections": [
    "4d2bb0844b5f595c"
   ],
   "gpuType": "T4"
  },
  "kernelspec": {
   "name": "python3",
   "display_name": "Python 3 (ipykernel)",
   "language": "python"
  },
  "language_info": {
   "name": "python"
  },
  "accelerator": "GPU",
  "widgets": {
   "application/vnd.jupyter.widget-state+json": {
    "7d468554f4424205b437a78587fce562": {
     "model_module": "@jupyter-widgets/controls",
     "model_name": "HBoxModel",
     "model_module_version": "1.5.0",
     "state": {
      "_dom_classes": [],
      "_model_module": "@jupyter-widgets/controls",
      "_model_module_version": "1.5.0",
      "_model_name": "HBoxModel",
      "_view_count": null,
      "_view_module": "@jupyter-widgets/controls",
      "_view_module_version": "1.5.0",
      "_view_name": "HBoxView",
      "box_style": "",
      "children": [
       "IPY_MODEL_b8e7a8f4774b452caf10f542bb07c5a7",
       "IPY_MODEL_7fa1aaa1e5fb471b94d9f77bce425aa2",
       "IPY_MODEL_e180fa117ddd496faa1a8344754019f0"
      ],
      "layout": "IPY_MODEL_334eeb36fd314282b5dfc62fe6f236af"
     }
    },
    "b8e7a8f4774b452caf10f542bb07c5a7": {
     "model_module": "@jupyter-widgets/controls",
     "model_name": "HTMLModel",
     "model_module_version": "1.5.0",
     "state": {
      "_dom_classes": [],
      "_model_module": "@jupyter-widgets/controls",
      "_model_module_version": "1.5.0",
      "_model_name": "HTMLModel",
      "_view_count": null,
      "_view_module": "@jupyter-widgets/controls",
      "_view_module_version": "1.5.0",
      "_view_name": "HTMLView",
      "description": "",
      "description_tooltip": null,
      "layout": "IPY_MODEL_a6b61f632a6a4941bfd8d585e56051ca",
      "placeholder": "​",
      "style": "IPY_MODEL_dc8875f486e04519a3a081d5e3b5226d",
      "value": "config.json: 100%"
     }
    },
    "7fa1aaa1e5fb471b94d9f77bce425aa2": {
     "model_module": "@jupyter-widgets/controls",
     "model_name": "FloatProgressModel",
     "model_module_version": "1.5.0",
     "state": {
      "_dom_classes": [],
      "_model_module": "@jupyter-widgets/controls",
      "_model_module_version": "1.5.0",
      "_model_name": "FloatProgressModel",
      "_view_count": null,
      "_view_module": "@jupyter-widgets/controls",
      "_view_module_version": "1.5.0",
      "_view_name": "ProgressView",
      "bar_style": "success",
      "description": "",
      "description_tooltip": null,
      "layout": "IPY_MODEL_693cbcb1af944be68fbf03b8f2671d31",
      "max": 949,
      "min": 0,
      "orientation": "horizontal",
      "style": "IPY_MODEL_5a1df1c8f1f0441689d11f95ebbfca20",
      "value": 949
     }
    },
    "e180fa117ddd496faa1a8344754019f0": {
     "model_module": "@jupyter-widgets/controls",
     "model_name": "HTMLModel",
     "model_module_version": "1.5.0",
     "state": {
      "_dom_classes": [],
      "_model_module": "@jupyter-widgets/controls",
      "_model_module_version": "1.5.0",
      "_model_name": "HTMLModel",
      "_view_count": null,
      "_view_module": "@jupyter-widgets/controls",
      "_view_module_version": "1.5.0",
      "_view_name": "HTMLView",
      "description": "",
      "description_tooltip": null,
      "layout": "IPY_MODEL_886eb22f794b45cdbd5b7619b775c5d1",
      "placeholder": "​",
      "style": "IPY_MODEL_378b8a512299428bb1bb6dfa54ce512b",
      "value": " 949/949 [00:00&lt;00:00, 43.4kB/s]"
     }
    },
    "334eeb36fd314282b5dfc62fe6f236af": {
     "model_module": "@jupyter-widgets/base",
     "model_name": "LayoutModel",
     "model_module_version": "1.2.0",
     "state": {
      "_model_module": "@jupyter-widgets/base",
      "_model_module_version": "1.2.0",
      "_model_name": "LayoutModel",
      "_view_count": null,
      "_view_module": "@jupyter-widgets/base",
      "_view_module_version": "1.2.0",
      "_view_name": "LayoutView",
      "align_content": null,
      "align_items": null,
      "align_self": null,
      "border": null,
      "bottom": null,
      "display": null,
      "flex": null,
      "flex_flow": null,
      "grid_area": null,
      "grid_auto_columns": null,
      "grid_auto_flow": null,
      "grid_auto_rows": null,
      "grid_column": null,
      "grid_gap": null,
      "grid_row": null,
      "grid_template_areas": null,
      "grid_template_columns": null,
      "grid_template_rows": null,
      "height": null,
      "justify_content": null,
      "justify_items": null,
      "left": null,
      "margin": null,
      "max_height": null,
      "max_width": null,
      "min_height": null,
      "min_width": null,
      "object_fit": null,
      "object_position": null,
      "order": null,
      "overflow": null,
      "overflow_x": null,
      "overflow_y": null,
      "padding": null,
      "right": null,
      "top": null,
      "visibility": null,
      "width": null
     }
    },
    "a6b61f632a6a4941bfd8d585e56051ca": {
     "model_module": "@jupyter-widgets/base",
     "model_name": "LayoutModel",
     "model_module_version": "1.2.0",
     "state": {
      "_model_module": "@jupyter-widgets/base",
      "_model_module_version": "1.2.0",
      "_model_name": "LayoutModel",
      "_view_count": null,
      "_view_module": "@jupyter-widgets/base",
      "_view_module_version": "1.2.0",
      "_view_name": "LayoutView",
      "align_content": null,
      "align_items": null,
      "align_self": null,
      "border": null,
      "bottom": null,
      "display": null,
      "flex": null,
      "flex_flow": null,
      "grid_area": null,
      "grid_auto_columns": null,
      "grid_auto_flow": null,
      "grid_auto_rows": null,
      "grid_column": null,
      "grid_gap": null,
      "grid_row": null,
      "grid_template_areas": null,
      "grid_template_columns": null,
      "grid_template_rows": null,
      "height": null,
      "justify_content": null,
      "justify_items": null,
      "left": null,
      "margin": null,
      "max_height": null,
      "max_width": null,
      "min_height": null,
      "min_width": null,
      "object_fit": null,
      "object_position": null,
      "order": null,
      "overflow": null,
      "overflow_x": null,
      "overflow_y": null,
      "padding": null,
      "right": null,
      "top": null,
      "visibility": null,
      "width": null
     }
    },
    "dc8875f486e04519a3a081d5e3b5226d": {
     "model_module": "@jupyter-widgets/controls",
     "model_name": "DescriptionStyleModel",
     "model_module_version": "1.5.0",
     "state": {
      "_model_module": "@jupyter-widgets/controls",
      "_model_module_version": "1.5.0",
      "_model_name": "DescriptionStyleModel",
      "_view_count": null,
      "_view_module": "@jupyter-widgets/base",
      "_view_module_version": "1.2.0",
      "_view_name": "StyleView",
      "description_width": ""
     }
    },
    "693cbcb1af944be68fbf03b8f2671d31": {
     "model_module": "@jupyter-widgets/base",
     "model_name": "LayoutModel",
     "model_module_version": "1.2.0",
     "state": {
      "_model_module": "@jupyter-widgets/base",
      "_model_module_version": "1.2.0",
      "_model_name": "LayoutModel",
      "_view_count": null,
      "_view_module": "@jupyter-widgets/base",
      "_view_module_version": "1.2.0",
      "_view_name": "LayoutView",
      "align_content": null,
      "align_items": null,
      "align_self": null,
      "border": null,
      "bottom": null,
      "display": null,
      "flex": null,
      "flex_flow": null,
      "grid_area": null,
      "grid_auto_columns": null,
      "grid_auto_flow": null,
      "grid_auto_rows": null,
      "grid_column": null,
      "grid_gap": null,
      "grid_row": null,
      "grid_template_areas": null,
      "grid_template_columns": null,
      "grid_template_rows": null,
      "height": null,
      "justify_content": null,
      "justify_items": null,
      "left": null,
      "margin": null,
      "max_height": null,
      "max_width": null,
      "min_height": null,
      "min_width": null,
      "object_fit": null,
      "object_position": null,
      "order": null,
      "overflow": null,
      "overflow_x": null,
      "overflow_y": null,
      "padding": null,
      "right": null,
      "top": null,
      "visibility": null,
      "width": null
     }
    },
    "5a1df1c8f1f0441689d11f95ebbfca20": {
     "model_module": "@jupyter-widgets/controls",
     "model_name": "ProgressStyleModel",
     "model_module_version": "1.5.0",
     "state": {
      "_model_module": "@jupyter-widgets/controls",
      "_model_module_version": "1.5.0",
      "_model_name": "ProgressStyleModel",
      "_view_count": null,
      "_view_module": "@jupyter-widgets/base",
      "_view_module_version": "1.2.0",
      "_view_name": "StyleView",
      "bar_color": null,
      "description_width": ""
     }
    },
    "886eb22f794b45cdbd5b7619b775c5d1": {
     "model_module": "@jupyter-widgets/base",
     "model_name": "LayoutModel",
     "model_module_version": "1.2.0",
     "state": {
      "_model_module": "@jupyter-widgets/base",
      "_model_module_version": "1.2.0",
      "_model_name": "LayoutModel",
      "_view_count": null,
      "_view_module": "@jupyter-widgets/base",
      "_view_module_version": "1.2.0",
      "_view_name": "LayoutView",
      "align_content": null,
      "align_items": null,
      "align_self": null,
      "border": null,
      "bottom": null,
      "display": null,
      "flex": null,
      "flex_flow": null,
      "grid_area": null,
      "grid_auto_columns": null,
      "grid_auto_flow": null,
      "grid_auto_rows": null,
      "grid_column": null,
      "grid_gap": null,
      "grid_row": null,
      "grid_template_areas": null,
      "grid_template_columns": null,
      "grid_template_rows": null,
      "height": null,
      "justify_content": null,
      "justify_items": null,
      "left": null,
      "margin": null,
      "max_height": null,
      "max_width": null,
      "min_height": null,
      "min_width": null,
      "object_fit": null,
      "object_position": null,
      "order": null,
      "overflow": null,
      "overflow_x": null,
      "overflow_y": null,
      "padding": null,
      "right": null,
      "top": null,
      "visibility": null,
      "width": null
     }
    },
    "378b8a512299428bb1bb6dfa54ce512b": {
     "model_module": "@jupyter-widgets/controls",
     "model_name": "DescriptionStyleModel",
     "model_module_version": "1.5.0",
     "state": {
      "_model_module": "@jupyter-widgets/controls",
      "_model_module_version": "1.5.0",
      "_model_name": "DescriptionStyleModel",
      "_view_count": null,
      "_view_module": "@jupyter-widgets/base",
      "_view_module_version": "1.2.0",
      "_view_name": "StyleView",
      "description_width": ""
     }
    },
    "ca2f00aea9d24eb1868193d6b4f21612": {
     "model_module": "@jupyter-widgets/controls",
     "model_name": "HBoxModel",
     "model_module_version": "1.5.0",
     "state": {
      "_dom_classes": [],
      "_model_module": "@jupyter-widgets/controls",
      "_model_module_version": "1.5.0",
      "_model_name": "HBoxModel",
      "_view_count": null,
      "_view_module": "@jupyter-widgets/controls",
      "_view_module_version": "1.5.0",
      "_view_name": "HBoxView",
      "box_style": "",
      "children": [
       "IPY_MODEL_5f4c77376efb46d4bd46d9a499fbf0d1",
       "IPY_MODEL_55ad51321c1240ac85de48e9e929ffd8",
       "IPY_MODEL_80496f1ccd394fe89ad2126ac6fe8274"
      ],
      "layout": "IPY_MODEL_1d778dac397d45b8a42ad1b7e870121c"
     }
    },
    "5f4c77376efb46d4bd46d9a499fbf0d1": {
     "model_module": "@jupyter-widgets/controls",
     "model_name": "HTMLModel",
     "model_module_version": "1.5.0",
     "state": {
      "_dom_classes": [],
      "_model_module": "@jupyter-widgets/controls",
      "_model_module_version": "1.5.0",
      "_model_name": "HTMLModel",
      "_view_count": null,
      "_view_module": "@jupyter-widgets/controls",
      "_view_module_version": "1.5.0",
      "_view_name": "HTMLView",
      "description": "",
      "description_tooltip": null,
      "layout": "IPY_MODEL_20d645ee71ab432da4851de66ccd4f80",
      "placeholder": "​",
      "style": "IPY_MODEL_7a8b569068984755ad7f4115ada29f2a",
      "value": "tokenizer_config.json: 100%"
     }
    },
    "55ad51321c1240ac85de48e9e929ffd8": {
     "model_module": "@jupyter-widgets/controls",
     "model_name": "FloatProgressModel",
     "model_module_version": "1.5.0",
     "state": {
      "_dom_classes": [],
      "_model_module": "@jupyter-widgets/controls",
      "_model_module_version": "1.5.0",
      "_model_name": "FloatProgressModel",
      "_view_count": null,
      "_view_module": "@jupyter-widgets/controls",
      "_view_module_version": "1.5.0",
      "_view_name": "ProgressView",
      "bar_style": "success",
      "description": "",
      "description_tooltip": null,
      "layout": "IPY_MODEL_2f40398c5dbd490e8513f6268a4fa80d",
      "max": 54670,
      "min": 0,
      "orientation": "horizontal",
      "style": "IPY_MODEL_5d45c384a2d54c088b13db5e3a14ae9e",
      "value": 54670
     }
    },
    "80496f1ccd394fe89ad2126ac6fe8274": {
     "model_module": "@jupyter-widgets/controls",
     "model_name": "HTMLModel",
     "model_module_version": "1.5.0",
     "state": {
      "_dom_classes": [],
      "_model_module": "@jupyter-widgets/controls",
      "_model_module_version": "1.5.0",
      "_model_name": "HTMLModel",
      "_view_count": null,
      "_view_module": "@jupyter-widgets/controls",
      "_view_module_version": "1.5.0",
      "_view_name": "HTMLView",
      "description": "",
      "description_tooltip": null,
      "layout": "IPY_MODEL_74fc2c4f7b764622b7b97b76679acc57",
      "placeholder": "​",
      "style": "IPY_MODEL_7d01167ca60e4ca2908a9214eb15c805",
      "value": " 54.7k/54.7k [00:00&lt;00:00, 3.16MB/s]"
     }
    },
    "1d778dac397d45b8a42ad1b7e870121c": {
     "model_module": "@jupyter-widgets/base",
     "model_name": "LayoutModel",
     "model_module_version": "1.2.0",
     "state": {
      "_model_module": "@jupyter-widgets/base",
      "_model_module_version": "1.2.0",
      "_model_name": "LayoutModel",
      "_view_count": null,
      "_view_module": "@jupyter-widgets/base",
      "_view_module_version": "1.2.0",
      "_view_name": "LayoutView",
      "align_content": null,
      "align_items": null,
      "align_self": null,
      "border": null,
      "bottom": null,
      "display": null,
      "flex": null,
      "flex_flow": null,
      "grid_area": null,
      "grid_auto_columns": null,
      "grid_auto_flow": null,
      "grid_auto_rows": null,
      "grid_column": null,
      "grid_gap": null,
      "grid_row": null,
      "grid_template_areas": null,
      "grid_template_columns": null,
      "grid_template_rows": null,
      "height": null,
      "justify_content": null,
      "justify_items": null,
      "left": null,
      "margin": null,
      "max_height": null,
      "max_width": null,
      "min_height": null,
      "min_width": null,
      "object_fit": null,
      "object_position": null,
      "order": null,
      "overflow": null,
      "overflow_x": null,
      "overflow_y": null,
      "padding": null,
      "right": null,
      "top": null,
      "visibility": null,
      "width": null
     }
    },
    "20d645ee71ab432da4851de66ccd4f80": {
     "model_module": "@jupyter-widgets/base",
     "model_name": "LayoutModel",
     "model_module_version": "1.2.0",
     "state": {
      "_model_module": "@jupyter-widgets/base",
      "_model_module_version": "1.2.0",
      "_model_name": "LayoutModel",
      "_view_count": null,
      "_view_module": "@jupyter-widgets/base",
      "_view_module_version": "1.2.0",
      "_view_name": "LayoutView",
      "align_content": null,
      "align_items": null,
      "align_self": null,
      "border": null,
      "bottom": null,
      "display": null,
      "flex": null,
      "flex_flow": null,
      "grid_area": null,
      "grid_auto_columns": null,
      "grid_auto_flow": null,
      "grid_auto_rows": null,
      "grid_column": null,
      "grid_gap": null,
      "grid_row": null,
      "grid_template_areas": null,
      "grid_template_columns": null,
      "grid_template_rows": null,
      "height": null,
      "justify_content": null,
      "justify_items": null,
      "left": null,
      "margin": null,
      "max_height": null,
      "max_width": null,
      "min_height": null,
      "min_width": null,
      "object_fit": null,
      "object_position": null,
      "order": null,
      "overflow": null,
      "overflow_x": null,
      "overflow_y": null,
      "padding": null,
      "right": null,
      "top": null,
      "visibility": null,
      "width": null
     }
    },
    "7a8b569068984755ad7f4115ada29f2a": {
     "model_module": "@jupyter-widgets/controls",
     "model_name": "DescriptionStyleModel",
     "model_module_version": "1.5.0",
     "state": {
      "_model_module": "@jupyter-widgets/controls",
      "_model_module_version": "1.5.0",
      "_model_name": "DescriptionStyleModel",
      "_view_count": null,
      "_view_module": "@jupyter-widgets/base",
      "_view_module_version": "1.2.0",
      "_view_name": "StyleView",
      "description_width": ""
     }
    },
    "2f40398c5dbd490e8513f6268a4fa80d": {
     "model_module": "@jupyter-widgets/base",
     "model_name": "LayoutModel",
     "model_module_version": "1.2.0",
     "state": {
      "_model_module": "@jupyter-widgets/base",
      "_model_module_version": "1.2.0",
      "_model_name": "LayoutModel",
      "_view_count": null,
      "_view_module": "@jupyter-widgets/base",
      "_view_module_version": "1.2.0",
      "_view_name": "LayoutView",
      "align_content": null,
      "align_items": null,
      "align_self": null,
      "border": null,
      "bottom": null,
      "display": null,
      "flex": null,
      "flex_flow": null,
      "grid_area": null,
      "grid_auto_columns": null,
      "grid_auto_flow": null,
      "grid_auto_rows": null,
      "grid_column": null,
      "grid_gap": null,
      "grid_row": null,
      "grid_template_areas": null,
      "grid_template_columns": null,
      "grid_template_rows": null,
      "height": null,
      "justify_content": null,
      "justify_items": null,
      "left": null,
      "margin": null,
      "max_height": null,
      "max_width": null,
      "min_height": null,
      "min_width": null,
      "object_fit": null,
      "object_position": null,
      "order": null,
      "overflow": null,
      "overflow_x": null,
      "overflow_y": null,
      "padding": null,
      "right": null,
      "top": null,
      "visibility": null,
      "width": null
     }
    },
    "5d45c384a2d54c088b13db5e3a14ae9e": {
     "model_module": "@jupyter-widgets/controls",
     "model_name": "ProgressStyleModel",
     "model_module_version": "1.5.0",
     "state": {
      "_model_module": "@jupyter-widgets/controls",
      "_model_module_version": "1.5.0",
      "_model_name": "ProgressStyleModel",
      "_view_count": null,
      "_view_module": "@jupyter-widgets/base",
      "_view_module_version": "1.2.0",
      "_view_name": "StyleView",
      "bar_color": null,
      "description_width": ""
     }
    },
    "74fc2c4f7b764622b7b97b76679acc57": {
     "model_module": "@jupyter-widgets/base",
     "model_name": "LayoutModel",
     "model_module_version": "1.2.0",
     "state": {
      "_model_module": "@jupyter-widgets/base",
      "_model_module_version": "1.2.0",
      "_model_name": "LayoutModel",
      "_view_count": null,
      "_view_module": "@jupyter-widgets/base",
      "_view_module_version": "1.2.0",
      "_view_name": "LayoutView",
      "align_content": null,
      "align_items": null,
      "align_self": null,
      "border": null,
      "bottom": null,
      "display": null,
      "flex": null,
      "flex_flow": null,
      "grid_area": null,
      "grid_auto_columns": null,
      "grid_auto_flow": null,
      "grid_auto_rows": null,
      "grid_column": null,
      "grid_gap": null,
      "grid_row": null,
      "grid_template_areas": null,
      "grid_template_columns": null,
      "grid_template_rows": null,
      "height": null,
      "justify_content": null,
      "justify_items": null,
      "left": null,
      "margin": null,
      "max_height": null,
      "max_width": null,
      "min_height": null,
      "min_width": null,
      "object_fit": null,
      "object_position": null,
      "order": null,
      "overflow": null,
      "overflow_x": null,
      "overflow_y": null,
      "padding": null,
      "right": null,
      "top": null,
      "visibility": null,
      "width": null
     }
    },
    "7d01167ca60e4ca2908a9214eb15c805": {
     "model_module": "@jupyter-widgets/controls",
     "model_name": "DescriptionStyleModel",
     "model_module_version": "1.5.0",
     "state": {
      "_model_module": "@jupyter-widgets/controls",
      "_model_module_version": "1.5.0",
      "_model_name": "DescriptionStyleModel",
      "_view_count": null,
      "_view_module": "@jupyter-widgets/base",
      "_view_module_version": "1.2.0",
      "_view_name": "StyleView",
      "description_width": ""
     }
    },
    "517d2c45e4c14287b370ec019f41cff6": {
     "model_module": "@jupyter-widgets/controls",
     "model_name": "HBoxModel",
     "model_module_version": "1.5.0",
     "state": {
      "_dom_classes": [],
      "_model_module": "@jupyter-widgets/controls",
      "_model_module_version": "1.5.0",
      "_model_name": "HBoxModel",
      "_view_count": null,
      "_view_module": "@jupyter-widgets/controls",
      "_view_module_version": "1.5.0",
      "_view_name": "HBoxView",
      "box_style": "",
      "children": [
       "IPY_MODEL_74fa62d011694de89e0828d793ace2d7",
       "IPY_MODEL_5c82633dda5e4774a0f98e99caff972d",
       "IPY_MODEL_964dc577b5cd41e4872b794b5b01a630"
      ],
      "layout": "IPY_MODEL_38a6b14ad1994c668778909459f297ce"
     }
    },
    "74fa62d011694de89e0828d793ace2d7": {
     "model_module": "@jupyter-widgets/controls",
     "model_name": "HTMLModel",
     "model_module_version": "1.5.0",
     "state": {
      "_dom_classes": [],
      "_model_module": "@jupyter-widgets/controls",
      "_model_module_version": "1.5.0",
      "_model_name": "HTMLModel",
      "_view_count": null,
      "_view_module": "@jupyter-widgets/controls",
      "_view_module_version": "1.5.0",
      "_view_name": "HTMLView",
      "description": "",
      "description_tooltip": null,
      "layout": "IPY_MODEL_6ca422e2b81844af8f38869e3dbc13c5",
      "placeholder": "​",
      "style": "IPY_MODEL_90fc9008e4bb4efa9699b68ff23b4a10",
      "value": "tokenizer.json: 100%"
     }
    },
    "5c82633dda5e4774a0f98e99caff972d": {
     "model_module": "@jupyter-widgets/controls",
     "model_name": "FloatProgressModel",
     "model_module_version": "1.5.0",
     "state": {
      "_dom_classes": [],
      "_model_module": "@jupyter-widgets/controls",
      "_model_module_version": "1.5.0",
      "_model_name": "FloatProgressModel",
      "_view_count": null,
      "_view_module": "@jupyter-widgets/controls",
      "_view_module_version": "1.5.0",
      "_view_name": "ProgressView",
      "bar_style": "success",
      "description": "",
      "description_tooltip": null,
      "layout": "IPY_MODEL_fa5c2ae63cce44508ed5033261bf14c0",
      "max": 17209920,
      "min": 0,
      "orientation": "horizontal",
      "style": "IPY_MODEL_5fae6115c6b94fe0bf0482eea419f5ec",
      "value": 17209920
     }
    },
    "964dc577b5cd41e4872b794b5b01a630": {
     "model_module": "@jupyter-widgets/controls",
     "model_name": "HTMLModel",
     "model_module_version": "1.5.0",
     "state": {
      "_dom_classes": [],
      "_model_module": "@jupyter-widgets/controls",
      "_model_module_version": "1.5.0",
      "_model_name": "HTMLModel",
      "_view_count": null,
      "_view_module": "@jupyter-widgets/controls",
      "_view_module_version": "1.5.0",
      "_view_name": "HTMLView",
      "description": "",
      "description_tooltip": null,
      "layout": "IPY_MODEL_9a208da7cabb4e55bd560a11d662bb74",
      "placeholder": "​",
      "style": "IPY_MODEL_ed0c3ac933ee4deb8dcfc73e511853a0",
      "value": " 17.2M/17.2M [00:00&lt;00:00, 43.2MB/s]"
     }
    },
    "38a6b14ad1994c668778909459f297ce": {
     "model_module": "@jupyter-widgets/base",
     "model_name": "LayoutModel",
     "model_module_version": "1.2.0",
     "state": {
      "_model_module": "@jupyter-widgets/base",
      "_model_module_version": "1.2.0",
      "_model_name": "LayoutModel",
      "_view_count": null,
      "_view_module": "@jupyter-widgets/base",
      "_view_module_version": "1.2.0",
      "_view_name": "LayoutView",
      "align_content": null,
      "align_items": null,
      "align_self": null,
      "border": null,
      "bottom": null,
      "display": null,
      "flex": null,
      "flex_flow": null,
      "grid_area": null,
      "grid_auto_columns": null,
      "grid_auto_flow": null,
      "grid_auto_rows": null,
      "grid_column": null,
      "grid_gap": null,
      "grid_row": null,
      "grid_template_areas": null,
      "grid_template_columns": null,
      "grid_template_rows": null,
      "height": null,
      "justify_content": null,
      "justify_items": null,
      "left": null,
      "margin": null,
      "max_height": null,
      "max_width": null,
      "min_height": null,
      "min_width": null,
      "object_fit": null,
      "object_position": null,
      "order": null,
      "overflow": null,
      "overflow_x": null,
      "overflow_y": null,
      "padding": null,
      "right": null,
      "top": null,
      "visibility": null,
      "width": null
     }
    },
    "6ca422e2b81844af8f38869e3dbc13c5": {
     "model_module": "@jupyter-widgets/base",
     "model_name": "LayoutModel",
     "model_module_version": "1.2.0",
     "state": {
      "_model_module": "@jupyter-widgets/base",
      "_model_module_version": "1.2.0",
      "_model_name": "LayoutModel",
      "_view_count": null,
      "_view_module": "@jupyter-widgets/base",
      "_view_module_version": "1.2.0",
      "_view_name": "LayoutView",
      "align_content": null,
      "align_items": null,
      "align_self": null,
      "border": null,
      "bottom": null,
      "display": null,
      "flex": null,
      "flex_flow": null,
      "grid_area": null,
      "grid_auto_columns": null,
      "grid_auto_flow": null,
      "grid_auto_rows": null,
      "grid_column": null,
      "grid_gap": null,
      "grid_row": null,
      "grid_template_areas": null,
      "grid_template_columns": null,
      "grid_template_rows": null,
      "height": null,
      "justify_content": null,
      "justify_items": null,
      "left": null,
      "margin": null,
      "max_height": null,
      "max_width": null,
      "min_height": null,
      "min_width": null,
      "object_fit": null,
      "object_position": null,
      "order": null,
      "overflow": null,
      "overflow_x": null,
      "overflow_y": null,
      "padding": null,
      "right": null,
      "top": null,
      "visibility": null,
      "width": null
     }
    },
    "90fc9008e4bb4efa9699b68ff23b4a10": {
     "model_module": "@jupyter-widgets/controls",
     "model_name": "DescriptionStyleModel",
     "model_module_version": "1.5.0",
     "state": {
      "_model_module": "@jupyter-widgets/controls",
      "_model_module_version": "1.5.0",
      "_model_name": "DescriptionStyleModel",
      "_view_count": null,
      "_view_module": "@jupyter-widgets/base",
      "_view_module_version": "1.2.0",
      "_view_name": "StyleView",
      "description_width": ""
     }
    },
    "fa5c2ae63cce44508ed5033261bf14c0": {
     "model_module": "@jupyter-widgets/base",
     "model_name": "LayoutModel",
     "model_module_version": "1.2.0",
     "state": {
      "_model_module": "@jupyter-widgets/base",
      "_model_module_version": "1.2.0",
      "_model_name": "LayoutModel",
      "_view_count": null,
      "_view_module": "@jupyter-widgets/base",
      "_view_module_version": "1.2.0",
      "_view_name": "LayoutView",
      "align_content": null,
      "align_items": null,
      "align_self": null,
      "border": null,
      "bottom": null,
      "display": null,
      "flex": null,
      "flex_flow": null,
      "grid_area": null,
      "grid_auto_columns": null,
      "grid_auto_flow": null,
      "grid_auto_rows": null,
      "grid_column": null,
      "grid_gap": null,
      "grid_row": null,
      "grid_template_areas": null,
      "grid_template_columns": null,
      "grid_template_rows": null,
      "height": null,
      "justify_content": null,
      "justify_items": null,
      "left": null,
      "margin": null,
      "max_height": null,
      "max_width": null,
      "min_height": null,
      "min_width": null,
      "object_fit": null,
      "object_position": null,
      "order": null,
      "overflow": null,
      "overflow_x": null,
      "overflow_y": null,
      "padding": null,
      "right": null,
      "top": null,
      "visibility": null,
      "width": null
     }
    },
    "5fae6115c6b94fe0bf0482eea419f5ec": {
     "model_module": "@jupyter-widgets/controls",
     "model_name": "ProgressStyleModel",
     "model_module_version": "1.5.0",
     "state": {
      "_model_module": "@jupyter-widgets/controls",
      "_model_module_version": "1.5.0",
      "_model_name": "ProgressStyleModel",
      "_view_count": null,
      "_view_module": "@jupyter-widgets/base",
      "_view_module_version": "1.2.0",
      "_view_name": "StyleView",
      "bar_color": null,
      "description_width": ""
     }
    },
    "9a208da7cabb4e55bd560a11d662bb74": {
     "model_module": "@jupyter-widgets/base",
     "model_name": "LayoutModel",
     "model_module_version": "1.2.0",
     "state": {
      "_model_module": "@jupyter-widgets/base",
      "_model_module_version": "1.2.0",
      "_model_name": "LayoutModel",
      "_view_count": null,
      "_view_module": "@jupyter-widgets/base",
      "_view_module_version": "1.2.0",
      "_view_name": "LayoutView",
      "align_content": null,
      "align_items": null,
      "align_self": null,
      "border": null,
      "bottom": null,
      "display": null,
      "flex": null,
      "flex_flow": null,
      "grid_area": null,
      "grid_auto_columns": null,
      "grid_auto_flow": null,
      "grid_auto_rows": null,
      "grid_column": null,
      "grid_gap": null,
      "grid_row": null,
      "grid_template_areas": null,
      "grid_template_columns": null,
      "grid_template_rows": null,
      "height": null,
      "justify_content": null,
      "justify_items": null,
      "left": null,
      "margin": null,
      "max_height": null,
      "max_width": null,
      "min_height": null,
      "min_width": null,
      "object_fit": null,
      "object_position": null,
      "order": null,
      "overflow": null,
      "overflow_x": null,
      "overflow_y": null,
      "padding": null,
      "right": null,
      "top": null,
      "visibility": null,
      "width": null
     }
    },
    "ed0c3ac933ee4deb8dcfc73e511853a0": {
     "model_module": "@jupyter-widgets/controls",
     "model_name": "DescriptionStyleModel",
     "model_module_version": "1.5.0",
     "state": {
      "_model_module": "@jupyter-widgets/controls",
      "_model_module_version": "1.5.0",
      "_model_name": "DescriptionStyleModel",
      "_view_count": null,
      "_view_module": "@jupyter-widgets/base",
      "_view_module_version": "1.2.0",
      "_view_name": "StyleView",
      "description_width": ""
     }
    },
    "dfc9752cf76b4d10a0fcd19e290ba0bd": {
     "model_module": "@jupyter-widgets/controls",
     "model_name": "HBoxModel",
     "model_module_version": "1.5.0",
     "state": {
      "_dom_classes": [],
      "_model_module": "@jupyter-widgets/controls",
      "_model_module_version": "1.5.0",
      "_model_name": "HBoxModel",
      "_view_count": null,
      "_view_module": "@jupyter-widgets/controls",
      "_view_module_version": "1.5.0",
      "_view_name": "HBoxView",
      "box_style": "",
      "children": [
       "IPY_MODEL_cd512a1bf3454bef8632b824266ad3ee",
       "IPY_MODEL_74ac491cf76f4b43b1e069d2cbccc8a3",
       "IPY_MODEL_ddc67bcdc1114708b63225e2acedf64a"
      ],
      "layout": "IPY_MODEL_0c1b608a238a4de7808d88859706277b"
     }
    },
    "cd512a1bf3454bef8632b824266ad3ee": {
     "model_module": "@jupyter-widgets/controls",
     "model_name": "HTMLModel",
     "model_module_version": "1.5.0",
     "state": {
      "_dom_classes": [],
      "_model_module": "@jupyter-widgets/controls",
      "_model_module_version": "1.5.0",
      "_model_name": "HTMLModel",
      "_view_count": null,
      "_view_module": "@jupyter-widgets/controls",
      "_view_module_version": "1.5.0",
      "_view_name": "HTMLView",
      "description": "",
      "description_tooltip": null,
      "layout": "IPY_MODEL_34233bca2c774064994cb730ed6690f8",
      "placeholder": "​",
      "style": "IPY_MODEL_ef033ce23c5a4c3099806dac55090c54",
      "value": "special_tokens_map.json: 100%"
     }
    },
    "74ac491cf76f4b43b1e069d2cbccc8a3": {
     "model_module": "@jupyter-widgets/controls",
     "model_name": "FloatProgressModel",
     "model_module_version": "1.5.0",
     "state": {
      "_dom_classes": [],
      "_model_module": "@jupyter-widgets/controls",
      "_model_module_version": "1.5.0",
      "_model_name": "FloatProgressModel",
      "_view_count": null,
      "_view_module": "@jupyter-widgets/controls",
      "_view_module_version": "1.5.0",
      "_view_name": "ProgressView",
      "bar_style": "success",
      "description": "",
      "description_tooltip": null,
      "layout": "IPY_MODEL_37a69b7002ea4dd8b975507a1f68ad41",
      "max": 454,
      "min": 0,
      "orientation": "horizontal",
      "style": "IPY_MODEL_600998060b294fbf889ce5f888107a1c",
      "value": 454
     }
    },
    "ddc67bcdc1114708b63225e2acedf64a": {
     "model_module": "@jupyter-widgets/controls",
     "model_name": "HTMLModel",
     "model_module_version": "1.5.0",
     "state": {
      "_dom_classes": [],
      "_model_module": "@jupyter-widgets/controls",
      "_model_module_version": "1.5.0",
      "_model_name": "HTMLModel",
      "_view_count": null,
      "_view_module": "@jupyter-widgets/controls",
      "_view_module_version": "1.5.0",
      "_view_name": "HTMLView",
      "description": "",
      "description_tooltip": null,
      "layout": "IPY_MODEL_0c8b8d773a7748119ad8f9feffc7e9b5",
      "placeholder": "​",
      "style": "IPY_MODEL_5f20bd4aa37345b9aba288f53da8cc49",
      "value": " 454/454 [00:00&lt;00:00, 29.2kB/s]"
     }
    },
    "0c1b608a238a4de7808d88859706277b": {
     "model_module": "@jupyter-widgets/base",
     "model_name": "LayoutModel",
     "model_module_version": "1.2.0",
     "state": {
      "_model_module": "@jupyter-widgets/base",
      "_model_module_version": "1.2.0",
      "_model_name": "LayoutModel",
      "_view_count": null,
      "_view_module": "@jupyter-widgets/base",
      "_view_module_version": "1.2.0",
      "_view_name": "LayoutView",
      "align_content": null,
      "align_items": null,
      "align_self": null,
      "border": null,
      "bottom": null,
      "display": null,
      "flex": null,
      "flex_flow": null,
      "grid_area": null,
      "grid_auto_columns": null,
      "grid_auto_flow": null,
      "grid_auto_rows": null,
      "grid_column": null,
      "grid_gap": null,
      "grid_row": null,
      "grid_template_areas": null,
      "grid_template_columns": null,
      "grid_template_rows": null,
      "height": null,
      "justify_content": null,
      "justify_items": null,
      "left": null,
      "margin": null,
      "max_height": null,
      "max_width": null,
      "min_height": null,
      "min_width": null,
      "object_fit": null,
      "object_position": null,
      "order": null,
      "overflow": null,
      "overflow_x": null,
      "overflow_y": null,
      "padding": null,
      "right": null,
      "top": null,
      "visibility": null,
      "width": null
     }
    },
    "34233bca2c774064994cb730ed6690f8": {
     "model_module": "@jupyter-widgets/base",
     "model_name": "LayoutModel",
     "model_module_version": "1.2.0",
     "state": {
      "_model_module": "@jupyter-widgets/base",
      "_model_module_version": "1.2.0",
      "_model_name": "LayoutModel",
      "_view_count": null,
      "_view_module": "@jupyter-widgets/base",
      "_view_module_version": "1.2.0",
      "_view_name": "LayoutView",
      "align_content": null,
      "align_items": null,
      "align_self": null,
      "border": null,
      "bottom": null,
      "display": null,
      "flex": null,
      "flex_flow": null,
      "grid_area": null,
      "grid_auto_columns": null,
      "grid_auto_flow": null,
      "grid_auto_rows": null,
      "grid_column": null,
      "grid_gap": null,
      "grid_row": null,
      "grid_template_areas": null,
      "grid_template_columns": null,
      "grid_template_rows": null,
      "height": null,
      "justify_content": null,
      "justify_items": null,
      "left": null,
      "margin": null,
      "max_height": null,
      "max_width": null,
      "min_height": null,
      "min_width": null,
      "object_fit": null,
      "object_position": null,
      "order": null,
      "overflow": null,
      "overflow_x": null,
      "overflow_y": null,
      "padding": null,
      "right": null,
      "top": null,
      "visibility": null,
      "width": null
     }
    },
    "ef033ce23c5a4c3099806dac55090c54": {
     "model_module": "@jupyter-widgets/controls",
     "model_name": "DescriptionStyleModel",
     "model_module_version": "1.5.0",
     "state": {
      "_model_module": "@jupyter-widgets/controls",
      "_model_module_version": "1.5.0",
      "_model_name": "DescriptionStyleModel",
      "_view_count": null,
      "_view_module": "@jupyter-widgets/base",
      "_view_module_version": "1.2.0",
      "_view_name": "StyleView",
      "description_width": ""
     }
    },
    "37a69b7002ea4dd8b975507a1f68ad41": {
     "model_module": "@jupyter-widgets/base",
     "model_name": "LayoutModel",
     "model_module_version": "1.2.0",
     "state": {
      "_model_module": "@jupyter-widgets/base",
      "_model_module_version": "1.2.0",
      "_model_name": "LayoutModel",
      "_view_count": null,
      "_view_module": "@jupyter-widgets/base",
      "_view_module_version": "1.2.0",
      "_view_name": "LayoutView",
      "align_content": null,
      "align_items": null,
      "align_self": null,
      "border": null,
      "bottom": null,
      "display": null,
      "flex": null,
      "flex_flow": null,
      "grid_area": null,
      "grid_auto_columns": null,
      "grid_auto_flow": null,
      "grid_auto_rows": null,
      "grid_column": null,
      "grid_gap": null,
      "grid_row": null,
      "grid_template_areas": null,
      "grid_template_columns": null,
      "grid_template_rows": null,
      "height": null,
      "justify_content": null,
      "justify_items": null,
      "left": null,
      "margin": null,
      "max_height": null,
      "max_width": null,
      "min_height": null,
      "min_width": null,
      "object_fit": null,
      "object_position": null,
      "order": null,
      "overflow": null,
      "overflow_x": null,
      "overflow_y": null,
      "padding": null,
      "right": null,
      "top": null,
      "visibility": null,
      "width": null
     }
    },
    "600998060b294fbf889ce5f888107a1c": {
     "model_module": "@jupyter-widgets/controls",
     "model_name": "ProgressStyleModel",
     "model_module_version": "1.5.0",
     "state": {
      "_model_module": "@jupyter-widgets/controls",
      "_model_module_version": "1.5.0",
      "_model_name": "ProgressStyleModel",
      "_view_count": null,
      "_view_module": "@jupyter-widgets/base",
      "_view_module_version": "1.2.0",
      "_view_name": "StyleView",
      "bar_color": null,
      "description_width": ""
     }
    },
    "0c8b8d773a7748119ad8f9feffc7e9b5": {
     "model_module": "@jupyter-widgets/base",
     "model_name": "LayoutModel",
     "model_module_version": "1.2.0",
     "state": {
      "_model_module": "@jupyter-widgets/base",
      "_model_module_version": "1.2.0",
      "_model_name": "LayoutModel",
      "_view_count": null,
      "_view_module": "@jupyter-widgets/base",
      "_view_module_version": "1.2.0",
      "_view_name": "LayoutView",
      "align_content": null,
      "align_items": null,
      "align_self": null,
      "border": null,
      "bottom": null,
      "display": null,
      "flex": null,
      "flex_flow": null,
      "grid_area": null,
      "grid_auto_columns": null,
      "grid_auto_flow": null,
      "grid_auto_rows": null,
      "grid_column": null,
      "grid_gap": null,
      "grid_row": null,
      "grid_template_areas": null,
      "grid_template_columns": null,
      "grid_template_rows": null,
      "height": null,
      "justify_content": null,
      "justify_items": null,
      "left": null,
      "margin": null,
      "max_height": null,
      "max_width": null,
      "min_height": null,
      "min_width": null,
      "object_fit": null,
      "object_position": null,
      "order": null,
      "overflow": null,
      "overflow_x": null,
      "overflow_y": null,
      "padding": null,
      "right": null,
      "top": null,
      "visibility": null,
      "width": null
     }
    },
    "5f20bd4aa37345b9aba288f53da8cc49": {
     "model_module": "@jupyter-widgets/controls",
     "model_name": "DescriptionStyleModel",
     "model_module_version": "1.5.0",
     "state": {
      "_model_module": "@jupyter-widgets/controls",
      "_model_module_version": "1.5.0",
      "_model_name": "DescriptionStyleModel",
      "_view_count": null,
      "_view_module": "@jupyter-widgets/base",
      "_view_module_version": "1.2.0",
      "_view_name": "StyleView",
      "description_width": ""
     }
    },
    "151b3dd68a1c4f96b279d41933adb73c": {
     "model_module": "@jupyter-widgets/controls",
     "model_name": "HBoxModel",
     "model_module_version": "1.5.0",
     "state": {
      "_dom_classes": [],
      "_model_module": "@jupyter-widgets/controls",
      "_model_module_version": "1.5.0",
      "_model_name": "HBoxModel",
      "_view_count": null,
      "_view_module": "@jupyter-widgets/controls",
      "_view_module_version": "1.5.0",
      "_view_name": "HBoxView",
      "box_style": "",
      "children": [
       "IPY_MODEL_db15fbda7a624108ab5ca4f274ef6a89",
       "IPY_MODEL_31b024dc814d4281bcfd124cb9f40bea",
       "IPY_MODEL_2557208e99f74bba8f76496cba7e0987"
      ],
      "layout": "IPY_MODEL_0ff64525a7594e40bf939380bac0dadd"
     }
    },
    "db15fbda7a624108ab5ca4f274ef6a89": {
     "model_module": "@jupyter-widgets/controls",
     "model_name": "HTMLModel",
     "model_module_version": "1.5.0",
     "state": {
      "_dom_classes": [],
      "_model_module": "@jupyter-widgets/controls",
      "_model_module_version": "1.5.0",
      "_model_name": "HTMLModel",
      "_view_count": null,
      "_view_module": "@jupyter-widgets/controls",
      "_view_module_version": "1.5.0",
      "_view_name": "HTMLView",
      "description": "",
      "description_tooltip": null,
      "layout": "IPY_MODEL_1e61451abe294ebabc2a1629b489efa0",
      "placeholder": "​",
      "style": "IPY_MODEL_f93a3b6aec35478e8f1e8f9d94629736",
      "value": "generation_config.json: 100%"
     }
    },
    "31b024dc814d4281bcfd124cb9f40bea": {
     "model_module": "@jupyter-widgets/controls",
     "model_name": "FloatProgressModel",
     "model_module_version": "1.5.0",
     "state": {
      "_dom_classes": [],
      "_model_module": "@jupyter-widgets/controls",
      "_model_module_version": "1.5.0",
      "_model_name": "FloatProgressModel",
      "_view_count": null,
      "_view_module": "@jupyter-widgets/controls",
      "_view_module_version": "1.5.0",
      "_view_name": "ProgressView",
      "bar_style": "success",
      "description": "",
      "description_tooltip": null,
      "layout": "IPY_MODEL_6a19c7bbb6a74ed68711c511e8d0c5a6",
      "max": 239,
      "min": 0,
      "orientation": "horizontal",
      "style": "IPY_MODEL_3925a3168b5b421fb731d60a0313a121",
      "value": 239
     }
    },
    "2557208e99f74bba8f76496cba7e0987": {
     "model_module": "@jupyter-widgets/controls",
     "model_name": "HTMLModel",
     "model_module_version": "1.5.0",
     "state": {
      "_dom_classes": [],
      "_model_module": "@jupyter-widgets/controls",
      "_model_module_version": "1.5.0",
      "_model_name": "HTMLModel",
      "_view_count": null,
      "_view_module": "@jupyter-widgets/controls",
      "_view_module_version": "1.5.0",
      "_view_name": "HTMLView",
      "description": "",
      "description_tooltip": null,
      "layout": "IPY_MODEL_a715d76551a0465d8f136710fa1cddd9",
      "placeholder": "​",
      "style": "IPY_MODEL_89ba36cb56fd4cdeba0375bb44110250",
      "value": " 239/239 [00:00&lt;00:00, 25.6kB/s]"
     }
    },
    "0ff64525a7594e40bf939380bac0dadd": {
     "model_module": "@jupyter-widgets/base",
     "model_name": "LayoutModel",
     "model_module_version": "1.2.0",
     "state": {
      "_model_module": "@jupyter-widgets/base",
      "_model_module_version": "1.2.0",
      "_model_name": "LayoutModel",
      "_view_count": null,
      "_view_module": "@jupyter-widgets/base",
      "_view_module_version": "1.2.0",
      "_view_name": "LayoutView",
      "align_content": null,
      "align_items": null,
      "align_self": null,
      "border": null,
      "bottom": null,
      "display": null,
      "flex": null,
      "flex_flow": null,
      "grid_area": null,
      "grid_auto_columns": null,
      "grid_auto_flow": null,
      "grid_auto_rows": null,
      "grid_column": null,
      "grid_gap": null,
      "grid_row": null,
      "grid_template_areas": null,
      "grid_template_columns": null,
      "grid_template_rows": null,
      "height": null,
      "justify_content": null,
      "justify_items": null,
      "left": null,
      "margin": null,
      "max_height": null,
      "max_width": null,
      "min_height": null,
      "min_width": null,
      "object_fit": null,
      "object_position": null,
      "order": null,
      "overflow": null,
      "overflow_x": null,
      "overflow_y": null,
      "padding": null,
      "right": null,
      "top": null,
      "visibility": null,
      "width": null
     }
    },
    "1e61451abe294ebabc2a1629b489efa0": {
     "model_module": "@jupyter-widgets/base",
     "model_name": "LayoutModel",
     "model_module_version": "1.2.0",
     "state": {
      "_model_module": "@jupyter-widgets/base",
      "_model_module_version": "1.2.0",
      "_model_name": "LayoutModel",
      "_view_count": null,
      "_view_module": "@jupyter-widgets/base",
      "_view_module_version": "1.2.0",
      "_view_name": "LayoutView",
      "align_content": null,
      "align_items": null,
      "align_self": null,
      "border": null,
      "bottom": null,
      "display": null,
      "flex": null,
      "flex_flow": null,
      "grid_area": null,
      "grid_auto_columns": null,
      "grid_auto_flow": null,
      "grid_auto_rows": null,
      "grid_column": null,
      "grid_gap": null,
      "grid_row": null,
      "grid_template_areas": null,
      "grid_template_columns": null,
      "grid_template_rows": null,
      "height": null,
      "justify_content": null,
      "justify_items": null,
      "left": null,
      "margin": null,
      "max_height": null,
      "max_width": null,
      "min_height": null,
      "min_width": null,
      "object_fit": null,
      "object_position": null,
      "order": null,
      "overflow": null,
      "overflow_x": null,
      "overflow_y": null,
      "padding": null,
      "right": null,
      "top": null,
      "visibility": null,
      "width": null
     }
    },
    "f93a3b6aec35478e8f1e8f9d94629736": {
     "model_module": "@jupyter-widgets/controls",
     "model_name": "DescriptionStyleModel",
     "model_module_version": "1.5.0",
     "state": {
      "_model_module": "@jupyter-widgets/controls",
      "_model_module_version": "1.5.0",
      "_model_name": "DescriptionStyleModel",
      "_view_count": null,
      "_view_module": "@jupyter-widgets/base",
      "_view_module_version": "1.2.0",
      "_view_name": "StyleView",
      "description_width": ""
     }
    },
    "6a19c7bbb6a74ed68711c511e8d0c5a6": {
     "model_module": "@jupyter-widgets/base",
     "model_name": "LayoutModel",
     "model_module_version": "1.2.0",
     "state": {
      "_model_module": "@jupyter-widgets/base",
      "_model_module_version": "1.2.0",
      "_model_name": "LayoutModel",
      "_view_count": null,
      "_view_module": "@jupyter-widgets/base",
      "_view_module_version": "1.2.0",
      "_view_name": "LayoutView",
      "align_content": null,
      "align_items": null,
      "align_self": null,
      "border": null,
      "bottom": null,
      "display": null,
      "flex": null,
      "flex_flow": null,
      "grid_area": null,
      "grid_auto_columns": null,
      "grid_auto_flow": null,
      "grid_auto_rows": null,
      "grid_column": null,
      "grid_gap": null,
      "grid_row": null,
      "grid_template_areas": null,
      "grid_template_columns": null,
      "grid_template_rows": null,
      "height": null,
      "justify_content": null,
      "justify_items": null,
      "left": null,
      "margin": null,
      "max_height": null,
      "max_width": null,
      "min_height": null,
      "min_width": null,
      "object_fit": null,
      "object_position": null,
      "order": null,
      "overflow": null,
      "overflow_x": null,
      "overflow_y": null,
      "padding": null,
      "right": null,
      "top": null,
      "visibility": null,
      "width": null
     }
    },
    "3925a3168b5b421fb731d60a0313a121": {
     "model_module": "@jupyter-widgets/controls",
     "model_name": "ProgressStyleModel",
     "model_module_version": "1.5.0",
     "state": {
      "_model_module": "@jupyter-widgets/controls",
      "_model_module_version": "1.5.0",
      "_model_name": "ProgressStyleModel",
      "_view_count": null,
      "_view_module": "@jupyter-widgets/base",
      "_view_module_version": "1.2.0",
      "_view_name": "StyleView",
      "bar_color": null,
      "description_width": ""
     }
    },
    "a715d76551a0465d8f136710fa1cddd9": {
     "model_module": "@jupyter-widgets/base",
     "model_name": "LayoutModel",
     "model_module_version": "1.2.0",
     "state": {
      "_model_module": "@jupyter-widgets/base",
      "_model_module_version": "1.2.0",
      "_model_name": "LayoutModel",
      "_view_count": null,
      "_view_module": "@jupyter-widgets/base",
      "_view_module_version": "1.2.0",
      "_view_name": "LayoutView",
      "align_content": null,
      "align_items": null,
      "align_self": null,
      "border": null,
      "bottom": null,
      "display": null,
      "flex": null,
      "flex_flow": null,
      "grid_area": null,
      "grid_auto_columns": null,
      "grid_auto_flow": null,
      "grid_auto_rows": null,
      "grid_column": null,
      "grid_gap": null,
      "grid_row": null,
      "grid_template_areas": null,
      "grid_template_columns": null,
      "grid_template_rows": null,
      "height": null,
      "justify_content": null,
      "justify_items": null,
      "left": null,
      "margin": null,
      "max_height": null,
      "max_width": null,
      "min_height": null,
      "min_width": null,
      "object_fit": null,
      "object_position": null,
      "order": null,
      "overflow": null,
      "overflow_x": null,
      "overflow_y": null,
      "padding": null,
      "right": null,
      "top": null,
      "visibility": null,
      "width": null
     }
    },
    "89ba36cb56fd4cdeba0375bb44110250": {
     "model_module": "@jupyter-widgets/controls",
     "model_name": "DescriptionStyleModel",
     "model_module_version": "1.5.0",
     "state": {
      "_model_module": "@jupyter-widgets/controls",
      "_model_module_version": "1.5.0",
      "_model_name": "DescriptionStyleModel",
      "_view_count": null,
      "_view_module": "@jupyter-widgets/base",
      "_view_module_version": "1.2.0",
      "_view_name": "StyleView",
      "description_width": ""
     }
    },
    "51c2adce471f4a67b2c9861736a63452": {
     "model_module": "@jupyter-widgets/controls",
     "model_name": "HBoxModel",
     "model_module_version": "1.5.0",
     "state": {
      "_dom_classes": [],
      "_model_module": "@jupyter-widgets/controls",
      "_model_module_version": "1.5.0",
      "_model_name": "HBoxModel",
      "_view_count": null,
      "_view_module": "@jupyter-widgets/controls",
      "_view_module_version": "1.5.0",
      "_view_name": "HBoxView",
      "box_style": "",
      "children": [
       "IPY_MODEL_310c49224e564282a51a251eda3e85df",
       "IPY_MODEL_c69c3149388149a7aeab469689c5b706",
       "IPY_MODEL_0aaef93ec770424a84b33be5ada6fc4c"
      ],
      "layout": "IPY_MODEL_fcf34ae90edf4f0a95e668152b539bb1"
     }
    },
    "310c49224e564282a51a251eda3e85df": {
     "model_module": "@jupyter-widgets/controls",
     "model_name": "HTMLModel",
     "model_module_version": "1.5.0",
     "state": {
      "_dom_classes": [],
      "_model_module": "@jupyter-widgets/controls",
      "_model_module_version": "1.5.0",
      "_model_name": "HTMLModel",
      "_view_count": null,
      "_view_module": "@jupyter-widgets/controls",
      "_view_module_version": "1.5.0",
      "_view_name": "HTMLView",
      "description": "",
      "description_tooltip": null,
      "layout": "IPY_MODEL_138b4151c687489d8938793f2ccb2d0b",
      "placeholder": "​",
      "style": "IPY_MODEL_1047599da2fe499cadaa3da9f5c5224d",
      "value": "model.safetensors: 100%"
     }
    },
    "c69c3149388149a7aeab469689c5b706": {
     "model_module": "@jupyter-widgets/controls",
     "model_name": "FloatProgressModel",
     "model_module_version": "1.5.0",
     "state": {
      "_dom_classes": [],
      "_model_module": "@jupyter-widgets/controls",
      "_model_module_version": "1.5.0",
      "_model_name": "FloatProgressModel",
      "_view_count": null,
      "_view_module": "@jupyter-widgets/controls",
      "_view_module_version": "1.5.0",
      "_view_name": "ProgressView",
      "bar_style": "success",
      "description": "",
      "description_tooltip": null,
      "layout": "IPY_MODEL_0b19e78fa69d4b4d95f2d00da1e26bba",
      "max": 2471645608,
      "min": 0,
      "orientation": "horizontal",
      "style": "IPY_MODEL_3f3085bd8ec344c8914a6a5e25a02db2",
      "value": 2471645608
     }
    },
    "0aaef93ec770424a84b33be5ada6fc4c": {
     "model_module": "@jupyter-widgets/controls",
     "model_name": "HTMLModel",
     "model_module_version": "1.5.0",
     "state": {
      "_dom_classes": [],
      "_model_module": "@jupyter-widgets/controls",
      "_model_module_version": "1.5.0",
      "_model_name": "HTMLModel",
      "_view_count": null,
      "_view_module": "@jupyter-widgets/controls",
      "_view_module_version": "1.5.0",
      "_view_name": "HTMLView",
      "description": "",
      "description_tooltip": null,
      "layout": "IPY_MODEL_2c1ce5b189c249d593c6c67c0c08fcaf",
      "placeholder": "​",
      "style": "IPY_MODEL_4febf0a5dc4743e586c07168300a108e",
      "value": " 2.47G/2.47G [00:16&lt;00:00, 200MB/s]"
     }
    },
    "fcf34ae90edf4f0a95e668152b539bb1": {
     "model_module": "@jupyter-widgets/base",
     "model_name": "LayoutModel",
     "model_module_version": "1.2.0",
     "state": {
      "_model_module": "@jupyter-widgets/base",
      "_model_module_version": "1.2.0",
      "_model_name": "LayoutModel",
      "_view_count": null,
      "_view_module": "@jupyter-widgets/base",
      "_view_module_version": "1.2.0",
      "_view_name": "LayoutView",
      "align_content": null,
      "align_items": null,
      "align_self": null,
      "border": null,
      "bottom": null,
      "display": null,
      "flex": null,
      "flex_flow": null,
      "grid_area": null,
      "grid_auto_columns": null,
      "grid_auto_flow": null,
      "grid_auto_rows": null,
      "grid_column": null,
      "grid_gap": null,
      "grid_row": null,
      "grid_template_areas": null,
      "grid_template_columns": null,
      "grid_template_rows": null,
      "height": null,
      "justify_content": null,
      "justify_items": null,
      "left": null,
      "margin": null,
      "max_height": null,
      "max_width": null,
      "min_height": null,
      "min_width": null,
      "object_fit": null,
      "object_position": null,
      "order": null,
      "overflow": null,
      "overflow_x": null,
      "overflow_y": null,
      "padding": null,
      "right": null,
      "top": null,
      "visibility": null,
      "width": null
     }
    },
    "138b4151c687489d8938793f2ccb2d0b": {
     "model_module": "@jupyter-widgets/base",
     "model_name": "LayoutModel",
     "model_module_version": "1.2.0",
     "state": {
      "_model_module": "@jupyter-widgets/base",
      "_model_module_version": "1.2.0",
      "_model_name": "LayoutModel",
      "_view_count": null,
      "_view_module": "@jupyter-widgets/base",
      "_view_module_version": "1.2.0",
      "_view_name": "LayoutView",
      "align_content": null,
      "align_items": null,
      "align_self": null,
      "border": null,
      "bottom": null,
      "display": null,
      "flex": null,
      "flex_flow": null,
      "grid_area": null,
      "grid_auto_columns": null,
      "grid_auto_flow": null,
      "grid_auto_rows": null,
      "grid_column": null,
      "grid_gap": null,
      "grid_row": null,
      "grid_template_areas": null,
      "grid_template_columns": null,
      "grid_template_rows": null,
      "height": null,
      "justify_content": null,
      "justify_items": null,
      "left": null,
      "margin": null,
      "max_height": null,
      "max_width": null,
      "min_height": null,
      "min_width": null,
      "object_fit": null,
      "object_position": null,
      "order": null,
      "overflow": null,
      "overflow_x": null,
      "overflow_y": null,
      "padding": null,
      "right": null,
      "top": null,
      "visibility": null,
      "width": null
     }
    },
    "1047599da2fe499cadaa3da9f5c5224d": {
     "model_module": "@jupyter-widgets/controls",
     "model_name": "DescriptionStyleModel",
     "model_module_version": "1.5.0",
     "state": {
      "_model_module": "@jupyter-widgets/controls",
      "_model_module_version": "1.5.0",
      "_model_name": "DescriptionStyleModel",
      "_view_count": null,
      "_view_module": "@jupyter-widgets/base",
      "_view_module_version": "1.2.0",
      "_view_name": "StyleView",
      "description_width": ""
     }
    },
    "0b19e78fa69d4b4d95f2d00da1e26bba": {
     "model_module": "@jupyter-widgets/base",
     "model_name": "LayoutModel",
     "model_module_version": "1.2.0",
     "state": {
      "_model_module": "@jupyter-widgets/base",
      "_model_module_version": "1.2.0",
      "_model_name": "LayoutModel",
      "_view_count": null,
      "_view_module": "@jupyter-widgets/base",
      "_view_module_version": "1.2.0",
      "_view_name": "LayoutView",
      "align_content": null,
      "align_items": null,
      "align_self": null,
      "border": null,
      "bottom": null,
      "display": null,
      "flex": null,
      "flex_flow": null,
      "grid_area": null,
      "grid_auto_columns": null,
      "grid_auto_flow": null,
      "grid_auto_rows": null,
      "grid_column": null,
      "grid_gap": null,
      "grid_row": null,
      "grid_template_areas": null,
      "grid_template_columns": null,
      "grid_template_rows": null,
      "height": null,
      "justify_content": null,
      "justify_items": null,
      "left": null,
      "margin": null,
      "max_height": null,
      "max_width": null,
      "min_height": null,
      "min_width": null,
      "object_fit": null,
      "object_position": null,
      "order": null,
      "overflow": null,
      "overflow_x": null,
      "overflow_y": null,
      "padding": null,
      "right": null,
      "top": null,
      "visibility": null,
      "width": null
     }
    },
    "3f3085bd8ec344c8914a6a5e25a02db2": {
     "model_module": "@jupyter-widgets/controls",
     "model_name": "ProgressStyleModel",
     "model_module_version": "1.5.0",
     "state": {
      "_model_module": "@jupyter-widgets/controls",
      "_model_module_version": "1.5.0",
      "_model_name": "ProgressStyleModel",
      "_view_count": null,
      "_view_module": "@jupyter-widgets/base",
      "_view_module_version": "1.2.0",
      "_view_name": "StyleView",
      "bar_color": null,
      "description_width": ""
     }
    },
    "2c1ce5b189c249d593c6c67c0c08fcaf": {
     "model_module": "@jupyter-widgets/base",
     "model_name": "LayoutModel",
     "model_module_version": "1.2.0",
     "state": {
      "_model_module": "@jupyter-widgets/base",
      "_model_module_version": "1.2.0",
      "_model_name": "LayoutModel",
      "_view_count": null,
      "_view_module": "@jupyter-widgets/base",
      "_view_module_version": "1.2.0",
      "_view_name": "LayoutView",
      "align_content": null,
      "align_items": null,
      "align_self": null,
      "border": null,
      "bottom": null,
      "display": null,
      "flex": null,
      "flex_flow": null,
      "grid_area": null,
      "grid_auto_columns": null,
      "grid_auto_flow": null,
      "grid_auto_rows": null,
      "grid_column": null,
      "grid_gap": null,
      "grid_row": null,
      "grid_template_areas": null,
      "grid_template_columns": null,
      "grid_template_rows": null,
      "height": null,
      "justify_content": null,
      "justify_items": null,
      "left": null,
      "margin": null,
      "max_height": null,
      "max_width": null,
      "min_height": null,
      "min_width": null,
      "object_fit": null,
      "object_position": null,
      "order": null,
      "overflow": null,
      "overflow_x": null,
      "overflow_y": null,
      "padding": null,
      "right": null,
      "top": null,
      "visibility": null,
      "width": null
     }
    },
    "4febf0a5dc4743e586c07168300a108e": {
     "model_module": "@jupyter-widgets/controls",
     "model_name": "DescriptionStyleModel",
     "model_module_version": "1.5.0",
     "state": {
      "_model_module": "@jupyter-widgets/controls",
      "_model_module_version": "1.5.0",
      "_model_name": "DescriptionStyleModel",
      "_view_count": null,
      "_view_module": "@jupyter-widgets/base",
      "_view_module_version": "1.2.0",
      "_view_name": "StyleView",
      "description_width": ""
     }
    },
    "036d496aec2c4ce293d462b262d32d49": {
     "model_module": "@jupyter-widgets/controls",
     "model_name": "HBoxModel",
     "model_module_version": "1.5.0",
     "state": {
      "_dom_classes": [],
      "_model_module": "@jupyter-widgets/controls",
      "_model_module_version": "1.5.0",
      "_model_name": "HBoxModel",
      "_view_count": null,
      "_view_module": "@jupyter-widgets/controls",
      "_view_module_version": "1.5.0",
      "_view_name": "HBoxView",
      "box_style": "",
      "children": [
       "IPY_MODEL_ed6d1ade2d034e0f8c126decb4013f25",
       "IPY_MODEL_282f6c46a4414654bf02964219aa6bae",
       "IPY_MODEL_a4d27740470e47f8b3db93107e456752"
      ],
      "layout": "IPY_MODEL_2c7e854b71c54473a584cc991987ffe3"
     }
    },
    "ed6d1ade2d034e0f8c126decb4013f25": {
     "model_module": "@jupyter-widgets/controls",
     "model_name": "HTMLModel",
     "model_module_version": "1.5.0",
     "state": {
      "_dom_classes": [],
      "_model_module": "@jupyter-widgets/controls",
      "_model_module_version": "1.5.0",
      "_model_name": "HTMLModel",
      "_view_count": null,
      "_view_module": "@jupyter-widgets/controls",
      "_view_module_version": "1.5.0",
      "_view_name": "HTMLView",
      "description": "",
      "description_tooltip": null,
      "layout": "IPY_MODEL_666b3356beae4888bf332bb715a8fba3",
      "placeholder": "​",
      "style": "IPY_MODEL_d9b9d6e608554b1c9cdcaa705643e145",
      "value": ""
     }
    },
    "282f6c46a4414654bf02964219aa6bae": {
     "model_module": "@jupyter-widgets/controls",
     "model_name": "FloatProgressModel",
     "model_module_version": "1.5.0",
     "state": {
      "_dom_classes": [],
      "_model_module": "@jupyter-widgets/controls",
      "_model_module_version": "1.5.0",
      "_model_name": "FloatProgressModel",
      "_view_count": null,
      "_view_module": "@jupyter-widgets/controls",
      "_view_module_version": "1.5.0",
      "_view_name": "ProgressView",
      "bar_style": "success",
      "description": "",
      "description_tooltip": null,
      "layout": "IPY_MODEL_ec9c380bb69c4dbea55abc3219f23b00",
      "max": 1,
      "min": 0,
      "orientation": "horizontal",
      "style": "IPY_MODEL_70836bfb909e45eea540e415c0110a52",
      "value": 1
     }
    },
    "a4d27740470e47f8b3db93107e456752": {
     "model_module": "@jupyter-widgets/controls",
     "model_name": "HTMLModel",
     "model_module_version": "1.5.0",
     "state": {
      "_dom_classes": [],
      "_model_module": "@jupyter-widgets/controls",
      "_model_module_version": "1.5.0",
      "_model_name": "HTMLModel",
      "_view_count": null,
      "_view_module": "@jupyter-widgets/controls",
      "_view_module_version": "1.5.0",
      "_view_name": "HTMLView",
      "description": "",
      "description_tooltip": null,
      "layout": "IPY_MODEL_e8ea26abe39d480db0b8317fc80ce8d3",
      "placeholder": "​",
      "style": "IPY_MODEL_6b0b7d17bb3148fca04d76ff4df5cac6",
      "value": "Loading safetensors checkpoint shards: 100% Completed | 1/1 [00:03&lt;00:00,  3.86s/it]\n"
     }
    },
    "2c7e854b71c54473a584cc991987ffe3": {
     "model_module": "@jupyter-widgets/base",
     "model_name": "LayoutModel",
     "model_module_version": "1.2.0",
     "state": {
      "_model_module": "@jupyter-widgets/base",
      "_model_module_version": "1.2.0",
      "_model_name": "LayoutModel",
      "_view_count": null,
      "_view_module": "@jupyter-widgets/base",
      "_view_module_version": "1.2.0",
      "_view_name": "LayoutView",
      "align_content": null,
      "align_items": null,
      "align_self": null,
      "border": null,
      "bottom": null,
      "display": null,
      "flex": null,
      "flex_flow": null,
      "grid_area": null,
      "grid_auto_columns": null,
      "grid_auto_flow": null,
      "grid_auto_rows": null,
      "grid_column": null,
      "grid_gap": null,
      "grid_row": null,
      "grid_template_areas": null,
      "grid_template_columns": null,
      "grid_template_rows": null,
      "height": null,
      "justify_content": null,
      "justify_items": null,
      "left": null,
      "margin": null,
      "max_height": null,
      "max_width": null,
      "min_height": null,
      "min_width": null,
      "object_fit": null,
      "object_position": null,
      "order": null,
      "overflow": null,
      "overflow_x": null,
      "overflow_y": null,
      "padding": null,
      "right": null,
      "top": null,
      "visibility": null,
      "width": null
     }
    },
    "666b3356beae4888bf332bb715a8fba3": {
     "model_module": "@jupyter-widgets/base",
     "model_name": "LayoutModel",
     "model_module_version": "1.2.0",
     "state": {
      "_model_module": "@jupyter-widgets/base",
      "_model_module_version": "1.2.0",
      "_model_name": "LayoutModel",
      "_view_count": null,
      "_view_module": "@jupyter-widgets/base",
      "_view_module_version": "1.2.0",
      "_view_name": "LayoutView",
      "align_content": null,
      "align_items": null,
      "align_self": null,
      "border": null,
      "bottom": null,
      "display": null,
      "flex": null,
      "flex_flow": null,
      "grid_area": null,
      "grid_auto_columns": null,
      "grid_auto_flow": null,
      "grid_auto_rows": null,
      "grid_column": null,
      "grid_gap": null,
      "grid_row": null,
      "grid_template_areas": null,
      "grid_template_columns": null,
      "grid_template_rows": null,
      "height": null,
      "justify_content": null,
      "justify_items": null,
      "left": null,
      "margin": null,
      "max_height": null,
      "max_width": null,
      "min_height": null,
      "min_width": null,
      "object_fit": null,
      "object_position": null,
      "order": null,
      "overflow": null,
      "overflow_x": null,
      "overflow_y": null,
      "padding": null,
      "right": null,
      "top": null,
      "visibility": null,
      "width": null
     }
    },
    "d9b9d6e608554b1c9cdcaa705643e145": {
     "model_module": "@jupyter-widgets/controls",
     "model_name": "DescriptionStyleModel",
     "model_module_version": "1.5.0",
     "state": {
      "_model_module": "@jupyter-widgets/controls",
      "_model_module_version": "1.5.0",
      "_model_name": "DescriptionStyleModel",
      "_view_count": null,
      "_view_module": "@jupyter-widgets/base",
      "_view_module_version": "1.2.0",
      "_view_name": "StyleView",
      "description_width": ""
     }
    },
    "ec9c380bb69c4dbea55abc3219f23b00": {
     "model_module": "@jupyter-widgets/base",
     "model_name": "LayoutModel",
     "model_module_version": "1.2.0",
     "state": {
      "_model_module": "@jupyter-widgets/base",
      "_model_module_version": "1.2.0",
      "_model_name": "LayoutModel",
      "_view_count": null,
      "_view_module": "@jupyter-widgets/base",
      "_view_module_version": "1.2.0",
      "_view_name": "LayoutView",
      "align_content": null,
      "align_items": null,
      "align_self": null,
      "border": null,
      "bottom": null,
      "display": null,
      "flex": null,
      "flex_flow": null,
      "grid_area": null,
      "grid_auto_columns": null,
      "grid_auto_flow": null,
      "grid_auto_rows": null,
      "grid_column": null,
      "grid_gap": null,
      "grid_row": null,
      "grid_template_areas": null,
      "grid_template_columns": null,
      "grid_template_rows": null,
      "height": null,
      "justify_content": null,
      "justify_items": null,
      "left": null,
      "margin": null,
      "max_height": null,
      "max_width": null,
      "min_height": null,
      "min_width": null,
      "object_fit": null,
      "object_position": null,
      "order": null,
      "overflow": null,
      "overflow_x": null,
      "overflow_y": null,
      "padding": null,
      "right": null,
      "top": null,
      "visibility": null,
      "width": null
     }
    },
    "70836bfb909e45eea540e415c0110a52": {
     "model_module": "@jupyter-widgets/controls",
     "model_name": "ProgressStyleModel",
     "model_module_version": "1.5.0",
     "state": {
      "_model_module": "@jupyter-widgets/controls",
      "_model_module_version": "1.5.0",
      "_model_name": "ProgressStyleModel",
      "_view_count": null,
      "_view_module": "@jupyter-widgets/base",
      "_view_module_version": "1.2.0",
      "_view_name": "StyleView",
      "bar_color": null,
      "description_width": ""
     }
    },
    "e8ea26abe39d480db0b8317fc80ce8d3": {
     "model_module": "@jupyter-widgets/base",
     "model_name": "LayoutModel",
     "model_module_version": "1.2.0",
     "state": {
      "_model_module": "@jupyter-widgets/base",
      "_model_module_version": "1.2.0",
      "_model_name": "LayoutModel",
      "_view_count": null,
      "_view_module": "@jupyter-widgets/base",
      "_view_module_version": "1.2.0",
      "_view_name": "LayoutView",
      "align_content": null,
      "align_items": null,
      "align_self": null,
      "border": null,
      "bottom": null,
      "display": null,
      "flex": null,
      "flex_flow": null,
      "grid_area": null,
      "grid_auto_columns": null,
      "grid_auto_flow": null,
      "grid_auto_rows": null,
      "grid_column": null,
      "grid_gap": null,
      "grid_row": null,
      "grid_template_areas": null,
      "grid_template_columns": null,
      "grid_template_rows": null,
      "height": null,
      "justify_content": null,
      "justify_items": null,
      "left": null,
      "margin": null,
      "max_height": null,
      "max_width": null,
      "min_height": null,
      "min_width": null,
      "object_fit": null,
      "object_position": null,
      "order": null,
      "overflow": null,
      "overflow_x": null,
      "overflow_y": null,
      "padding": null,
      "right": null,
      "top": null,
      "visibility": null,
      "width": null
     }
    },
    "6b0b7d17bb3148fca04d76ff4df5cac6": {
     "model_module": "@jupyter-widgets/controls",
     "model_name": "DescriptionStyleModel",
     "model_module_version": "1.5.0",
     "state": {
      "_model_module": "@jupyter-widgets/controls",
      "_model_module_version": "1.5.0",
      "_model_name": "DescriptionStyleModel",
      "_view_count": null,
      "_view_module": "@jupyter-widgets/base",
      "_view_module_version": "1.2.0",
      "_view_name": "StyleView",
      "description_width": ""
     }
    }
   }
  }
 },
 "cells": [
  {
   "cell_type": "markdown",
   "source": [
    "# Features Extraction with open LLMs\n",
    "\n",
    "The present notebook uses Hugging Face libraries and models (specificly Llama 3.2 Instruct 1B) running in T4 Google Colab GPU to extract information from text.\n",
    "\n",
    "The data consists of 21k job description (job ads from HrFlow.ai) with an average of 1k tokens per job description.\n",
    "\n",
    "The goal is to extract the location, experience level, company name and the industry of the company for each job ad.\n",
    "\n",
    "The task was completed in 3 hours with around 80M tokens of input with near maximum GPU memory utilization."
   ],
   "metadata": {
    "id": "qODCH2p1SMdO"
   }
  },
  {
   "cell_type": "code",
   "metadata": {
    "collapsed": true,
    "ExecuteTime": {
     "end_time": "2025-03-04T10:31:17.094271Z",
     "start_time": "2025-03-04T10:31:17.091560Z"
    },
    "id": "initial_id"
   },
   "source": [
    "import os\n",
    "import ast\n",
    "import re\n",
    "import json\n",
    "from IPython.display import display, HTML\n",
    "import numpy as np\n",
    "import pandas as pd\n",
    "import time\n",
    "import gc\n",
    "import torch"
   ],
   "outputs": [],
   "execution_count": null
  },
  {
   "cell_type": "code",
   "source": [
    "from google.colab import drive\n",
    "drive.mount('/content/drive')\n",
    "\n",
    "\n",
    "\n",
    "# HF_TOKEN = \"\"\n",
    "# os.environ[\"HUGGING_FACE_HUB_TOKEN\"] = HF_TOKEN"
   ],
   "metadata": {
    "id": "ReuYQdnXswi6",
    "colab": {
     "base_uri": "https://localhost:8080/"
    },
    "outputId": "0f22d63a-4eb5-470a-8aab-5a9ae528361d"
   },
   "outputs": [],
   "execution_count": null
  },
  {
   "metadata": {
    "ExecuteTime": {
     "end_time": "2025-03-04T10:31:17.802422Z",
     "start_time": "2025-03-04T10:31:17.182064Z"
    },
    "id": "504ecea9d77b03c"
   },
   "cell_type": "code",
   "source": [
    "# X_train = pd.read_csv(\"/content/drive/MyDrive/Colab Notebooks/Challenge/data/x_train_Meacfjr.csv\", delimiter=\",\", quotechar='\"')\n",
    "# y_train = pd.read_csv(\"/content/drive/MyDrive/Colab Notebooks/Challenge/data/y_train_SwJNMSu.csv\", delimiter=\",\", quotechar='\"')\n",
    "\n",
    "# # Convert 'job_ids' and 'actions' from strings to actual lists\n",
    "# X_train[\"job_ids\"] = X_train[\"job_ids\"].apply(ast.literal_eval)\n",
    "# X_train[\"actions\"] = X_train[\"actions\"].apply(ast.literal_eval)\n",
    "\n",
    "with open(\"/content/drive/MyDrive/Colab Notebooks/Challenge/data/job_listings.json\", \"r\") as file:\n",
    "    jobs = json.load(file)"
   ],
   "outputs": [],
   "execution_count": null
  },
  {
   "metadata": {
    "id": "fdb6b29e1486eec4"
   },
   "cell_type": "markdown",
   "source": [
    "# 1. Data Preprocessing"
   ]
  },
  {
   "metadata": {
    "id": "4d2bb0844b5f595c"
   },
   "cell_type": "markdown",
   "source": [
    "## 1.1 Split Job Description"
   ]
  },
  {
   "metadata": {
    "ExecuteTime": {
     "end_time": "2025-03-04T10:31:17.814157Z",
     "start_time": "2025-03-04T10:31:17.807405Z"
    },
    "id": "5d3ac8c4704242a5"
   },
   "cell_type": "code",
   "source": [
    "def extract_info(job_id, text):\n",
    "\n",
    "    job_description = text\n",
    "    main = text.split(\"SECTION\")[0]\n",
    "\n",
    "    # Extract title\n",
    "    title_match = re.search(r\"TITLE\\n(.+)\", text)\n",
    "    title = title_match.group(1).strip() if title_match else None\n",
    "\n",
    "    # Extract summary\n",
    "    summary_match = re.search(r\"SUMMARY\\n([\\s\\S]+?)(?:\\nSECTION:|$)\", text)\n",
    "    summary = summary_match.group(1).strip() if summary_match else None\n",
    "\n",
    "    # Extract descriptions\n",
    "    descriptions = re.findall(r\"SECTION:\\nDESCRIPTION: ([\\s\\S]+?)(?:\\nSECTION:|$)\", text)\n",
    "\n",
    "    # Extract skills only from the SKILLS section\n",
    "    skills_match = re.findall(r\"SKILLS\\n(?:- (\\{.*?\\})\\n?)+\", text)\n",
    "    skills = [\n",
    "        ast.literal_eval(skill)[\"name\"]\n",
    "        for match in skills_match for skill in re.findall(r\"- (\\{.*?\\})\", match)\n",
    "        if \"'name':\" in skill\n",
    "    ]\n",
    "\n",
    "    # Extract tasks only from the TASKS section\n",
    "    tasks_match = re.findall(r\"TASKS\\n(?:- (\\{.*?\\})\\n?)+\", text)\n",
    "    tasks = [\n",
    "        ast.literal_eval(task)[\"name\"]\n",
    "        for match in tasks_match for task in re.findall(r\"- (\\{.*?\\})\", match)\n",
    "        if \"'name':\" in task\n",
    "    ]\n",
    "\n",
    "    # Extract languages, certifications (currently empty sections)\n",
    "    languages = []\n",
    "    certifications = []\n",
    "\n",
    "    # Extracted data\n",
    "    row = {\n",
    "        \"job_id\": int(job_id),\n",
    "        \"title_section\": title,\n",
    "        # \"summary\": summary,\n",
    "        # \"descriptions\": \"\\n\\n\".join(descriptions),\n",
    "        # \"languages\": \"\\n\".join(languages),\n",
    "        # \"certifications\": \"\\n\".join(certifications),\n",
    "        # \"skills\": \"\\n\".join(skills),\n",
    "        # \"tasks\": \"\\n\".join(tasks),\n",
    "        \"job_description\": job_description,\n",
    "        # \"main\": main,\n",
    "        # \"embedding\": []\n",
    "    }\n",
    "    return row"
   ],
   "outputs": [],
   "execution_count": null
  },
  {
   "metadata": {
    "ExecuteTime": {
     "end_time": "2025-03-04T10:31:18.953464Z",
     "start_time": "2025-03-04T10:31:17.816096Z"
    },
    "id": "ee725a30b3788280",
    "outputId": "25b5825e-0199-4c54-ba83-de86010e2abf",
    "colab": {
     "base_uri": "https://localhost:8080/"
    }
   },
   "cell_type": "code",
   "source": [
    "rows = []\n",
    "for job_id in jobs.keys():\n",
    "    row = extract_info(job_id, jobs[job_id])\n",
    "    rows.append(row)\n",
    "df_jobs = pd.DataFrame(rows)\n",
    "\n",
    "print(df_jobs.shape)\n",
    "print(df_jobs.info())"
   ],
   "outputs": [
    {
     "output_type": "stream",
     "name": "stdout",
     "text": [
      "(21917, 3)\n",
      "<class 'pandas.core.frame.DataFrame'>\n",
      "RangeIndex: 21917 entries, 0 to 21916\n",
      "Data columns (total 3 columns):\n",
      " #   Column           Non-Null Count  Dtype \n",
      "---  ------           --------------  ----- \n",
      " 0   job_id           21917 non-null  int64 \n",
      " 1   title_section    21913 non-null  object\n",
      " 2   job_description  21917 non-null  object\n",
      "dtypes: int64(1), object(2)\n",
      "memory usage: 513.8+ KB\n",
      "None\n"
     ]
    }
   ],
   "execution_count": null
  },
  {
   "metadata": {
    "id": "50610445dad042f8"
   },
   "cell_type": "markdown",
   "source": [
    "# 1.2 Create Features - title, location, seniority, summary, company, industry, contract type, linguas exigidas"
   ]
  },
  {
   "cell_type": "markdown",
   "source": [
    "## GPU Requirements"
   ],
   "metadata": {
    "id": "KCSl3J8sbH_B"
   }
  },
  {
   "cell_type": "code",
   "source": [
    "!nvcc --version # find the CUDA driver build above"
   ],
   "metadata": {
    "colab": {
     "base_uri": "https://localhost:8080/"
    },
    "id": "nj8FZCXshH-Y",
    "outputId": "2a5d0789-ccdf-41b5-e91e-f30ce8289c05"
   },
   "execution_count": null,
   "outputs": [
    {
     "output_type": "stream",
     "name": "stdout",
     "text": [
      "nvcc: NVIDIA (R) Cuda compiler driver\n",
      "Copyright (c) 2005-2024 NVIDIA Corporation\n",
      "Built on Thu_Jun__6_02:18:23_PDT_2024\n",
      "Cuda compilation tools, release 12.5, V12.5.82\n",
      "Build cuda_12.5.r12.5/compiler.34385749_0\n"
     ]
    }
   ]
  },
  {
   "cell_type": "code",
   "source": [
    "gpu_info = !nvidia-smi\n",
    "gpu_info = '\\n'.join(gpu_info)\n",
    "if gpu_info.find('failed') >= 0:\n",
    "  print('Not connected to a GPU')\n",
    "else:\n",
    "  print(gpu_info)"
   ],
   "metadata": {
    "colab": {
     "base_uri": "https://localhost:8080/"
    },
    "id": "U6MNYPcr9G0A",
    "outputId": "7121f0cf-2226-4fb9-d3b6-113e11abdac2"
   },
   "execution_count": null,
   "outputs": [
    {
     "output_type": "stream",
     "name": "stdout",
     "text": [
      "Sun Mar  9 16:50:13 2025       \n",
      "+-----------------------------------------------------------------------------------------+\n",
      "| NVIDIA-SMI 550.54.15              Driver Version: 550.54.15      CUDA Version: 12.4     |\n",
      "|-----------------------------------------+------------------------+----------------------+\n",
      "| GPU  Name                 Persistence-M | Bus-Id          Disp.A | Volatile Uncorr. ECC |\n",
      "| Fan  Temp   Perf          Pwr:Usage/Cap |           Memory-Usage | GPU-Util  Compute M. |\n",
      "|                                         |                        |               MIG M. |\n",
      "|=========================================+========================+======================|\n",
      "|   0  Tesla T4                       Off |   00000000:00:04.0 Off |                    0 |\n",
      "| N/A   52C    P8             10W /   70W |       0MiB /  15360MiB |      0%      Default |\n",
      "|                                         |                        |                  N/A |\n",
      "+-----------------------------------------+------------------------+----------------------+\n",
      "                                                                                         \n",
      "+-----------------------------------------------------------------------------------------+\n",
      "| Processes:                                                                              |\n",
      "|  GPU   GI   CI        PID   Type   Process name                              GPU Memory |\n",
      "|        ID   ID                                                               Usage      |\n",
      "|=========================================================================================|\n",
      "|  No running processes found                                                             |\n",
      "+-----------------------------------------------------------------------------------------+\n"
     ]
    }
   ]
  },
  {
   "cell_type": "code",
   "source": [
    "from psutil import virtual_memory\n",
    "ram_gb = virtual_memory().total / 1e9\n",
    "print('Your runtime has {:.1f} gigabytes of available RAM\\n'.format(ram_gb))\n",
    "\n",
    "if ram_gb < 20:\n",
    "  print('Not using a high-RAM runtime')\n",
    "else:\n",
    "  print('You are using a high-RAM runtime!')"
   ],
   "metadata": {
    "colab": {
     "base_uri": "https://localhost:8080/"
    },
    "id": "owb5PR9L9IF8",
    "outputId": "baefff03-01cf-412c-8cd7-092b3bae4860"
   },
   "execution_count": null,
   "outputs": [
    {
     "output_type": "stream",
     "name": "stdout",
     "text": [
      "Your runtime has 13.6 gigabytes of available RAM\n",
      "\n",
      "Not using a high-RAM runtime\n"
     ]
    }
   ]
  },
  {
   "cell_type": "code",
   "source": [
    "!pip install vllm accelerate transformers"
   ],
   "metadata": {
    "colab": {
     "base_uri": "https://localhost:8080/"
    },
    "id": "_-WtoJJ8Sa8D",
    "outputId": "0de0d7b5-6f3f-49ad-ddde-35cb814f1ecb"
   },
   "execution_count": null,
   "outputs": [
    {
     "output_type": "stream",
     "name": "stdout",
     "text": [
      "Collecting vllm\n",
      "  Downloading vllm-0.7.3-cp38-abi3-manylinux1_x86_64.whl.metadata (25 kB)\n",
      "Requirement already satisfied: accelerate in /usr/local/lib/python3.11/dist-packages (1.3.0)\n",
      "Requirement already satisfied: transformers in /usr/local/lib/python3.11/dist-packages (4.48.3)\n",
      "Requirement already satisfied: psutil in /usr/local/lib/python3.11/dist-packages (from vllm) (5.9.5)\n",
      "Requirement already satisfied: sentencepiece in /usr/local/lib/python3.11/dist-packages (from vllm) (0.2.0)\n",
      "Requirement already satisfied: numpy<2.0.0 in /usr/local/lib/python3.11/dist-packages (from vllm) (1.26.4)\n",
      "Requirement already satisfied: numba==0.60.0 in /usr/local/lib/python3.11/dist-packages (from vllm) (0.60.0)\n",
      "Requirement already satisfied: requests>=2.26.0 in /usr/local/lib/python3.11/dist-packages (from vllm) (2.32.3)\n",
      "Requirement already satisfied: tqdm in /usr/local/lib/python3.11/dist-packages (from vllm) (4.67.1)\n",
      "Collecting blake3 (from vllm)\n",
      "  Downloading blake3-1.0.4-cp311-cp311-manylinux_2_17_x86_64.manylinux2014_x86_64.whl.metadata (4.2 kB)\n",
      "Requirement already satisfied: py-cpuinfo in /usr/local/lib/python3.11/dist-packages (from vllm) (9.0.0)\n",
      "Requirement already satisfied: tokenizers>=0.19.1 in /usr/local/lib/python3.11/dist-packages (from vllm) (0.21.0)\n",
      "Requirement already satisfied: protobuf in /usr/local/lib/python3.11/dist-packages (from vllm) (4.25.6)\n",
      "Collecting fastapi!=0.113.*,!=0.114.0,>=0.107.0 (from fastapi[standard]!=0.113.*,!=0.114.0,>=0.107.0; python_version >= \"3.9\"->vllm)\n",
      "  Downloading fastapi-0.115.11-py3-none-any.whl.metadata (27 kB)\n",
      "Requirement already satisfied: aiohttp in /usr/local/lib/python3.11/dist-packages (from vllm) (3.11.13)\n",
      "Requirement already satisfied: openai>=1.52.0 in /usr/local/lib/python3.11/dist-packages (from vllm) (1.61.1)\n",
      "Requirement already satisfied: pydantic>=2.9 in /usr/local/lib/python3.11/dist-packages (from vllm) (2.10.6)\n",
      "Requirement already satisfied: prometheus_client>=0.18.0 in /usr/local/lib/python3.11/dist-packages (from vllm) (0.21.1)\n",
      "Requirement already satisfied: pillow in /usr/local/lib/python3.11/dist-packages (from vllm) (11.1.0)\n",
      "Collecting prometheus-fastapi-instrumentator>=7.0.0 (from vllm)\n",
      "  Downloading prometheus_fastapi_instrumentator-7.0.2-py3-none-any.whl.metadata (13 kB)\n",
      "Collecting tiktoken>=0.6.0 (from vllm)\n",
      "  Downloading tiktoken-0.9.0-cp311-cp311-manylinux_2_17_x86_64.manylinux2014_x86_64.whl.metadata (6.7 kB)\n",
      "Collecting lm-format-enforcer<0.11,>=0.10.9 (from vllm)\n",
      "  Downloading lm_format_enforcer-0.10.11-py3-none-any.whl.metadata (17 kB)\n",
      "Collecting outlines==0.1.11 (from vllm)\n",
      "  Downloading outlines-0.1.11-py3-none-any.whl.metadata (17 kB)\n",
      "Collecting lark==1.2.2 (from vllm)\n",
      "  Downloading lark-1.2.2-py3-none-any.whl.metadata (1.8 kB)\n",
      "Collecting xgrammar==0.1.11 (from vllm)\n",
      "  Downloading xgrammar-0.1.11-cp311-cp311-manylinux_2_27_x86_64.manylinux_2_28_x86_64.whl.metadata (2.0 kB)\n",
      "Requirement already satisfied: typing_extensions>=4.10 in /usr/local/lib/python3.11/dist-packages (from vllm) (4.12.2)\n",
      "Requirement already satisfied: filelock>=3.16.1 in /usr/local/lib/python3.11/dist-packages (from vllm) (3.17.0)\n",
      "Collecting partial-json-parser (from vllm)\n",
      "  Downloading partial_json_parser-0.2.1.1.post5-py3-none-any.whl.metadata (6.1 kB)\n",
      "Requirement already satisfied: pyzmq in /usr/local/lib/python3.11/dist-packages (from vllm) (24.0.1)\n",
      "Collecting msgspec (from vllm)\n",
      "  Downloading msgspec-0.19.0-cp311-cp311-manylinux_2_17_x86_64.manylinux2014_x86_64.whl.metadata (6.9 kB)\n",
      "Collecting gguf==0.10.0 (from vllm)\n",
      "  Downloading gguf-0.10.0-py3-none-any.whl.metadata (3.5 kB)\n",
      "Requirement already satisfied: importlib_metadata in /usr/local/lib/python3.11/dist-packages (from vllm) (8.6.1)\n",
      "Collecting mistral_common>=1.5.0 (from mistral_common[opencv]>=1.5.0->vllm)\n",
      "  Downloading mistral_common-1.5.3-py3-none-any.whl.metadata (4.5 kB)\n",
      "Requirement already satisfied: pyyaml in /usr/local/lib/python3.11/dist-packages (from vllm) (6.0.2)\n",
      "Requirement already satisfied: einops in /usr/local/lib/python3.11/dist-packages (from vllm) (0.8.1)\n",
      "Collecting compressed-tensors==0.9.1 (from vllm)\n",
      "  Downloading compressed_tensors-0.9.1-py3-none-any.whl.metadata (6.8 kB)\n",
      "Collecting depyf==0.18.0 (from vllm)\n",
      "  Downloading depyf-0.18.0-py3-none-any.whl.metadata (7.1 kB)\n",
      "Requirement already satisfied: cloudpickle in /usr/local/lib/python3.11/dist-packages (from vllm) (3.1.1)\n",
      "Collecting ray==2.40.0 (from ray[adag]==2.40.0->vllm)\n",
      "  Downloading ray-2.40.0-cp311-cp311-manylinux2014_x86_64.whl.metadata (17 kB)\n",
      "Requirement already satisfied: torch==2.5.1 in /usr/local/lib/python3.11/dist-packages (from vllm) (2.5.1+cu124)\n",
      "Requirement already satisfied: torchaudio==2.5.1 in /usr/local/lib/python3.11/dist-packages (from vllm) (2.5.1+cu124)\n",
      "Requirement already satisfied: torchvision==0.20.1 in /usr/local/lib/python3.11/dist-packages (from vllm) (0.20.1+cu124)\n",
      "Collecting xformers==0.0.28.post3 (from vllm)\n",
      "  Downloading xformers-0.0.28.post3-cp311-cp311-manylinux_2_28_x86_64.whl.metadata (1.0 kB)\n",
      "Collecting astor (from depyf==0.18.0->vllm)\n",
      "  Downloading astor-0.8.1-py2.py3-none-any.whl.metadata (4.2 kB)\n",
      "Collecting dill (from depyf==0.18.0->vllm)\n",
      "  Downloading dill-0.3.9-py3-none-any.whl.metadata (10 kB)\n",
      "Requirement already satisfied: llvmlite<0.44,>=0.43.0dev0 in /usr/local/lib/python3.11/dist-packages (from numba==0.60.0->vllm) (0.43.0)\n",
      "Collecting interegular (from outlines==0.1.11->vllm)\n",
      "  Downloading interegular-0.3.3-py37-none-any.whl.metadata (3.0 kB)\n",
      "Requirement already satisfied: jinja2 in /usr/local/lib/python3.11/dist-packages (from outlines==0.1.11->vllm) (3.1.5)\n",
      "Requirement already satisfied: nest_asyncio in /usr/local/lib/python3.11/dist-packages (from outlines==0.1.11->vllm) (1.6.0)\n",
      "Collecting diskcache (from outlines==0.1.11->vllm)\n",
      "  Downloading diskcache-5.6.3-py3-none-any.whl.metadata (20 kB)\n",
      "Requirement already satisfied: referencing in /usr/local/lib/python3.11/dist-packages (from outlines==0.1.11->vllm) (0.36.2)\n",
      "Requirement already satisfied: jsonschema in /usr/local/lib/python3.11/dist-packages (from outlines==0.1.11->vllm) (4.23.0)\n",
      "Collecting pycountry (from outlines==0.1.11->vllm)\n",
      "  Downloading pycountry-24.6.1-py3-none-any.whl.metadata (12 kB)\n",
      "Collecting airportsdata (from outlines==0.1.11->vllm)\n",
      "  Downloading airportsdata-20250224-py3-none-any.whl.metadata (9.0 kB)\n",
      "Collecting outlines_core==0.1.26 (from outlines==0.1.11->vllm)\n",
      "  Downloading outlines_core-0.1.26-cp311-cp311-manylinux_2_17_x86_64.manylinux2014_x86_64.whl.metadata (3.8 kB)\n",
      "Requirement already satisfied: click>=7.0 in /usr/local/lib/python3.11/dist-packages (from ray==2.40.0->ray[adag]==2.40.0->vllm) (8.1.8)\n",
      "Requirement already satisfied: msgpack<2.0.0,>=1.0.0 in /usr/local/lib/python3.11/dist-packages (from ray==2.40.0->ray[adag]==2.40.0->vllm) (1.1.0)\n",
      "Requirement already satisfied: packaging in /usr/local/lib/python3.11/dist-packages (from ray==2.40.0->ray[adag]==2.40.0->vllm) (24.2)\n",
      "Requirement already satisfied: aiosignal in /usr/local/lib/python3.11/dist-packages (from ray==2.40.0->ray[adag]==2.40.0->vllm) (1.3.2)\n",
      "Requirement already satisfied: frozenlist in /usr/local/lib/python3.11/dist-packages (from ray==2.40.0->ray[adag]==2.40.0->vllm) (1.5.0)\n",
      "Requirement already satisfied: cupy-cuda12x in /usr/local/lib/python3.11/dist-packages (from ray[adag]==2.40.0->vllm) (13.3.0)\n",
      "Requirement already satisfied: networkx in /usr/local/lib/python3.11/dist-packages (from torch==2.5.1->vllm) (3.4.2)\n",
      "Requirement already satisfied: fsspec in /usr/local/lib/python3.11/dist-packages (from torch==2.5.1->vllm) (2024.10.0)\n",
      "Collecting nvidia-cuda-nvrtc-cu12==12.4.127 (from torch==2.5.1->vllm)\n",
      "  Downloading nvidia_cuda_nvrtc_cu12-12.4.127-py3-none-manylinux2014_x86_64.whl.metadata (1.5 kB)\n",
      "Collecting nvidia-cuda-runtime-cu12==12.4.127 (from torch==2.5.1->vllm)\n",
      "  Downloading nvidia_cuda_runtime_cu12-12.4.127-py3-none-manylinux2014_x86_64.whl.metadata (1.5 kB)\n",
      "Collecting nvidia-cuda-cupti-cu12==12.4.127 (from torch==2.5.1->vllm)\n",
      "  Downloading nvidia_cuda_cupti_cu12-12.4.127-py3-none-manylinux2014_x86_64.whl.metadata (1.6 kB)\n",
      "Collecting nvidia-cudnn-cu12==9.1.0.70 (from torch==2.5.1->vllm)\n",
      "  Downloading nvidia_cudnn_cu12-9.1.0.70-py3-none-manylinux2014_x86_64.whl.metadata (1.6 kB)\n",
      "Collecting nvidia-cublas-cu12==12.4.5.8 (from torch==2.5.1->vllm)\n",
      "  Downloading nvidia_cublas_cu12-12.4.5.8-py3-none-manylinux2014_x86_64.whl.metadata (1.5 kB)\n",
      "Collecting nvidia-cufft-cu12==11.2.1.3 (from torch==2.5.1->vllm)\n",
      "  Downloading nvidia_cufft_cu12-11.2.1.3-py3-none-manylinux2014_x86_64.whl.metadata (1.5 kB)\n",
      "Collecting nvidia-curand-cu12==10.3.5.147 (from torch==2.5.1->vllm)\n",
      "  Downloading nvidia_curand_cu12-10.3.5.147-py3-none-manylinux2014_x86_64.whl.metadata (1.5 kB)\n",
      "Collecting nvidia-cusolver-cu12==11.6.1.9 (from torch==2.5.1->vllm)\n",
      "  Downloading nvidia_cusolver_cu12-11.6.1.9-py3-none-manylinux2014_x86_64.whl.metadata (1.6 kB)\n",
      "Collecting nvidia-cusparse-cu12==12.3.1.170 (from torch==2.5.1->vllm)\n",
      "  Downloading nvidia_cusparse_cu12-12.3.1.170-py3-none-manylinux2014_x86_64.whl.metadata (1.6 kB)\n",
      "Requirement already satisfied: nvidia-nccl-cu12==2.21.5 in /usr/local/lib/python3.11/dist-packages (from torch==2.5.1->vllm) (2.21.5)\n",
      "Requirement already satisfied: nvidia-nvtx-cu12==12.4.127 in /usr/local/lib/python3.11/dist-packages (from torch==2.5.1->vllm) (12.4.127)\n",
      "Collecting nvidia-nvjitlink-cu12==12.4.127 (from torch==2.5.1->vllm)\n",
      "  Downloading nvidia_nvjitlink_cu12-12.4.127-py3-none-manylinux2014_x86_64.whl.metadata (1.5 kB)\n",
      "Requirement already satisfied: triton==3.1.0 in /usr/local/lib/python3.11/dist-packages (from torch==2.5.1->vllm) (3.1.0)\n",
      "Requirement already satisfied: sympy==1.13.1 in /usr/local/lib/python3.11/dist-packages (from torch==2.5.1->vllm) (1.13.1)\n",
      "Collecting pybind11 (from xgrammar==0.1.11->vllm)\n",
      "  Downloading pybind11-2.13.6-py3-none-any.whl.metadata (9.5 kB)\n",
      "Requirement already satisfied: pytest in /usr/local/lib/python3.11/dist-packages (from xgrammar==0.1.11->vllm) (8.3.5)\n",
      "Requirement already satisfied: mpmath<1.4,>=1.1.0 in /usr/local/lib/python3.11/dist-packages (from sympy==1.13.1->torch==2.5.1->vllm) (1.3.0)\n",
      "Requirement already satisfied: huggingface-hub>=0.21.0 in /usr/local/lib/python3.11/dist-packages (from accelerate) (0.28.1)\n",
      "Requirement already satisfied: safetensors>=0.4.3 in /usr/local/lib/python3.11/dist-packages (from accelerate) (0.5.3)\n",
      "Requirement already satisfied: regex!=2019.12.17 in /usr/local/lib/python3.11/dist-packages (from transformers) (2024.11.6)\n",
      "Collecting starlette<0.47.0,>=0.40.0 (from fastapi!=0.113.*,!=0.114.0,>=0.107.0->fastapi[standard]!=0.113.*,!=0.114.0,>=0.107.0; python_version >= \"3.9\"->vllm)\n",
      "  Downloading starlette-0.46.1-py3-none-any.whl.metadata (6.2 kB)\n",
      "Collecting fastapi-cli>=0.0.5 (from fastapi-cli[standard]>=0.0.5; extra == \"standard\"->fastapi[standard]!=0.113.*,!=0.114.0,>=0.107.0; python_version >= \"3.9\"->vllm)\n",
      "  Downloading fastapi_cli-0.0.7-py3-none-any.whl.metadata (6.2 kB)\n",
      "Requirement already satisfied: httpx>=0.23.0 in /usr/local/lib/python3.11/dist-packages (from fastapi[standard]!=0.113.*,!=0.114.0,>=0.107.0; python_version >= \"3.9\"->vllm) (0.28.1)\n",
      "Collecting python-multipart>=0.0.18 (from fastapi[standard]!=0.113.*,!=0.114.0,>=0.107.0; python_version >= \"3.9\"->vllm)\n",
      "  Downloading python_multipart-0.0.20-py3-none-any.whl.metadata (1.8 kB)\n",
      "Collecting email-validator>=2.0.0 (from fastapi[standard]!=0.113.*,!=0.114.0,>=0.107.0; python_version >= \"3.9\"->vllm)\n",
      "  Downloading email_validator-2.2.0-py3-none-any.whl.metadata (25 kB)\n",
      "Collecting uvicorn>=0.12.0 (from uvicorn[standard]>=0.12.0; extra == \"standard\"->fastapi[standard]!=0.113.*,!=0.114.0,>=0.107.0; python_version >= \"3.9\"->vllm)\n",
      "  Downloading uvicorn-0.34.0-py3-none-any.whl.metadata (6.5 kB)\n",
      "Requirement already satisfied: opencv-python-headless>=4.0.0 in /usr/local/lib/python3.11/dist-packages (from mistral_common[opencv]>=1.5.0->vllm) (4.11.0.86)\n",
      "Requirement already satisfied: anyio<5,>=3.5.0 in /usr/local/lib/python3.11/dist-packages (from openai>=1.52.0->vllm) (3.7.1)\n",
      "Requirement already satisfied: distro<2,>=1.7.0 in /usr/local/lib/python3.11/dist-packages (from openai>=1.52.0->vllm) (1.9.0)\n",
      "Requirement already satisfied: jiter<1,>=0.4.0 in /usr/local/lib/python3.11/dist-packages (from openai>=1.52.0->vllm) (0.8.2)\n",
      "Requirement already satisfied: sniffio in /usr/local/lib/python3.11/dist-packages (from openai>=1.52.0->vllm) (1.3.1)\n",
      "Requirement already satisfied: annotated-types>=0.6.0 in /usr/local/lib/python3.11/dist-packages (from pydantic>=2.9->vllm) (0.7.0)\n",
      "Requirement already satisfied: pydantic-core==2.27.2 in /usr/local/lib/python3.11/dist-packages (from pydantic>=2.9->vllm) (2.27.2)\n",
      "Requirement already satisfied: charset-normalizer<4,>=2 in /usr/local/lib/python3.11/dist-packages (from requests>=2.26.0->vllm) (3.4.1)\n",
      "Requirement already satisfied: idna<4,>=2.5 in /usr/local/lib/python3.11/dist-packages (from requests>=2.26.0->vllm) (3.10)\n",
      "Requirement already satisfied: urllib3<3,>=1.21.1 in /usr/local/lib/python3.11/dist-packages (from requests>=2.26.0->vllm) (2.3.0)\n",
      "Requirement already satisfied: certifi>=2017.4.17 in /usr/local/lib/python3.11/dist-packages (from requests>=2.26.0->vllm) (2025.1.31)\n",
      "Requirement already satisfied: aiohappyeyeballs>=2.3.0 in /usr/local/lib/python3.11/dist-packages (from aiohttp->vllm) (2.4.6)\n",
      "Requirement already satisfied: attrs>=17.3.0 in /usr/local/lib/python3.11/dist-packages (from aiohttp->vllm) (25.1.0)\n",
      "Requirement already satisfied: multidict<7.0,>=4.5 in /usr/local/lib/python3.11/dist-packages (from aiohttp->vllm) (6.1.0)\n",
      "Requirement already satisfied: propcache>=0.2.0 in /usr/local/lib/python3.11/dist-packages (from aiohttp->vllm) (0.3.0)\n",
      "Requirement already satisfied: yarl<2.0,>=1.17.0 in /usr/local/lib/python3.11/dist-packages (from aiohttp->vllm) (1.18.3)\n",
      "Requirement already satisfied: zipp>=3.20 in /usr/local/lib/python3.11/dist-packages (from importlib_metadata->vllm) (3.21.0)\n",
      "Collecting dnspython>=2.0.0 (from email-validator>=2.0.0->fastapi[standard]!=0.113.*,!=0.114.0,>=0.107.0; python_version >= \"3.9\"->vllm)\n",
      "  Downloading dnspython-2.7.0-py3-none-any.whl.metadata (5.8 kB)\n",
      "Requirement already satisfied: typer>=0.12.3 in /usr/local/lib/python3.11/dist-packages (from fastapi-cli>=0.0.5->fastapi-cli[standard]>=0.0.5; extra == \"standard\"->fastapi[standard]!=0.113.*,!=0.114.0,>=0.107.0; python_version >= \"3.9\"->vllm) (0.15.2)\n",
      "Collecting rich-toolkit>=0.11.1 (from fastapi-cli>=0.0.5->fastapi-cli[standard]>=0.0.5; extra == \"standard\"->fastapi[standard]!=0.113.*,!=0.114.0,>=0.107.0; python_version >= \"3.9\"->vllm)\n",
      "  Downloading rich_toolkit-0.13.2-py3-none-any.whl.metadata (999 bytes)\n",
      "Requirement already satisfied: httpcore==1.* in /usr/local/lib/python3.11/dist-packages (from httpx>=0.23.0->fastapi[standard]!=0.113.*,!=0.114.0,>=0.107.0; python_version >= \"3.9\"->vllm) (1.0.7)\n",
      "Requirement already satisfied: h11<0.15,>=0.13 in /usr/local/lib/python3.11/dist-packages (from httpcore==1.*->httpx>=0.23.0->fastapi[standard]!=0.113.*,!=0.114.0,>=0.107.0; python_version >= \"3.9\"->vllm) (0.14.0)\n",
      "Requirement already satisfied: MarkupSafe>=2.0 in /usr/local/lib/python3.11/dist-packages (from jinja2->outlines==0.1.11->vllm) (3.0.2)\n",
      "Requirement already satisfied: jsonschema-specifications>=2023.03.6 in /usr/local/lib/python3.11/dist-packages (from jsonschema->outlines==0.1.11->vllm) (2024.10.1)\n",
      "Requirement already satisfied: rpds-py>=0.7.1 in /usr/local/lib/python3.11/dist-packages (from jsonschema->outlines==0.1.11->vllm) (0.23.1)\n",
      "Collecting httptools>=0.6.3 (from uvicorn[standard]>=0.12.0; extra == \"standard\"->fastapi[standard]!=0.113.*,!=0.114.0,>=0.107.0; python_version >= \"3.9\"->vllm)\n",
      "  Downloading httptools-0.6.4-cp311-cp311-manylinux_2_5_x86_64.manylinux1_x86_64.manylinux_2_17_x86_64.manylinux2014_x86_64.whl.metadata (3.6 kB)\n",
      "Collecting python-dotenv>=0.13 (from uvicorn[standard]>=0.12.0; extra == \"standard\"->fastapi[standard]!=0.113.*,!=0.114.0,>=0.107.0; python_version >= \"3.9\"->vllm)\n",
      "  Downloading python_dotenv-1.0.1-py3-none-any.whl.metadata (23 kB)\n",
      "Collecting uvloop!=0.15.0,!=0.15.1,>=0.14.0 (from uvicorn[standard]>=0.12.0; extra == \"standard\"->fastapi[standard]!=0.113.*,!=0.114.0,>=0.107.0; python_version >= \"3.9\"->vllm)\n",
      "  Downloading uvloop-0.21.0-cp311-cp311-manylinux_2_17_x86_64.manylinux2014_x86_64.whl.metadata (4.9 kB)\n",
      "Collecting watchfiles>=0.13 (from uvicorn[standard]>=0.12.0; extra == \"standard\"->fastapi[standard]!=0.113.*,!=0.114.0,>=0.107.0; python_version >= \"3.9\"->vllm)\n",
      "  Downloading watchfiles-1.0.4-cp311-cp311-manylinux_2_17_x86_64.manylinux2014_x86_64.whl.metadata (4.9 kB)\n",
      "Requirement already satisfied: websockets>=10.4 in /usr/local/lib/python3.11/dist-packages (from uvicorn[standard]>=0.12.0; extra == \"standard\"->fastapi[standard]!=0.113.*,!=0.114.0,>=0.107.0; python_version >= \"3.9\"->vllm) (14.2)\n",
      "Requirement already satisfied: fastrlock>=0.5 in /usr/local/lib/python3.11/dist-packages (from cupy-cuda12x->ray[adag]==2.40.0->vllm) (0.8.3)\n",
      "Requirement already satisfied: iniconfig in /usr/local/lib/python3.11/dist-packages (from pytest->xgrammar==0.1.11->vllm) (2.0.0)\n",
      "Requirement already satisfied: pluggy<2,>=1.5 in /usr/local/lib/python3.11/dist-packages (from pytest->xgrammar==0.1.11->vllm) (1.5.0)\n",
      "Requirement already satisfied: rich>=13.7.1 in /usr/local/lib/python3.11/dist-packages (from rich-toolkit>=0.11.1->fastapi-cli>=0.0.5->fastapi-cli[standard]>=0.0.5; extra == \"standard\"->fastapi[standard]!=0.113.*,!=0.114.0,>=0.107.0; python_version >= \"3.9\"->vllm) (13.9.4)\n",
      "Requirement already satisfied: shellingham>=1.3.0 in /usr/local/lib/python3.11/dist-packages (from typer>=0.12.3->fastapi-cli>=0.0.5->fastapi-cli[standard]>=0.0.5; extra == \"standard\"->fastapi[standard]!=0.113.*,!=0.114.0,>=0.107.0; python_version >= \"3.9\"->vllm) (1.5.4)\n",
      "Requirement already satisfied: markdown-it-py>=2.2.0 in /usr/local/lib/python3.11/dist-packages (from rich>=13.7.1->rich-toolkit>=0.11.1->fastapi-cli>=0.0.5->fastapi-cli[standard]>=0.0.5; extra == \"standard\"->fastapi[standard]!=0.113.*,!=0.114.0,>=0.107.0; python_version >= \"3.9\"->vllm) (3.0.0)\n",
      "Requirement already satisfied: pygments<3.0.0,>=2.13.0 in /usr/local/lib/python3.11/dist-packages (from rich>=13.7.1->rich-toolkit>=0.11.1->fastapi-cli>=0.0.5->fastapi-cli[standard]>=0.0.5; extra == \"standard\"->fastapi[standard]!=0.113.*,!=0.114.0,>=0.107.0; python_version >= \"3.9\"->vllm) (2.18.0)\n",
      "Requirement already satisfied: mdurl~=0.1 in /usr/local/lib/python3.11/dist-packages (from markdown-it-py>=2.2.0->rich>=13.7.1->rich-toolkit>=0.11.1->fastapi-cli>=0.0.5->fastapi-cli[standard]>=0.0.5; extra == \"standard\"->fastapi[standard]!=0.113.*,!=0.114.0,>=0.107.0; python_version >= \"3.9\"->vllm) (0.1.2)\n",
      "Downloading vllm-0.7.3-cp38-abi3-manylinux1_x86_64.whl (264.6 MB)\n",
      "\u001B[2K   \u001B[90m━━━━━━━━━━━━━━━━━━━━━━━━━━━━━━━━━━━━━━━━\u001B[0m \u001B[32m264.6/264.6 MB\u001B[0m \u001B[31m5.7 MB/s\u001B[0m eta \u001B[36m0:00:00\u001B[0m\n",
      "\u001B[?25hDownloading compressed_tensors-0.9.1-py3-none-any.whl (96 kB)\n",
      "\u001B[2K   \u001B[90m━━━━━━━━━━━━━━━━━━━━━━━━━━━━━━━━━━━━━━━━\u001B[0m \u001B[32m96.5/96.5 kB\u001B[0m \u001B[31m8.2 MB/s\u001B[0m eta \u001B[36m0:00:00\u001B[0m\n",
      "\u001B[?25hDownloading depyf-0.18.0-py3-none-any.whl (38 kB)\n",
      "Downloading gguf-0.10.0-py3-none-any.whl (71 kB)\n",
      "\u001B[2K   \u001B[90m━━━━━━━━━━━━━━━━━━━━━━━━━━━━━━━━━━━━━━━━\u001B[0m \u001B[32m71.6/71.6 kB\u001B[0m \u001B[31m6.9 MB/s\u001B[0m eta \u001B[36m0:00:00\u001B[0m\n",
      "\u001B[?25hDownloading lark-1.2.2-py3-none-any.whl (111 kB)\n",
      "\u001B[2K   \u001B[90m━━━━━━━━━━━━━━━━━━━━━━━━━━━━━━━━━━━━━━━━\u001B[0m \u001B[32m111.0/111.0 kB\u001B[0m \u001B[31m10.6 MB/s\u001B[0m eta \u001B[36m0:00:00\u001B[0m\n",
      "\u001B[?25hDownloading outlines-0.1.11-py3-none-any.whl (87 kB)\n",
      "\u001B[2K   \u001B[90m━━━━━━━━━━━━━━━━━━━━━━━━━━━━━━━━━━━━━━━━\u001B[0m \u001B[32m87.6/87.6 kB\u001B[0m \u001B[31m8.8 MB/s\u001B[0m eta \u001B[36m0:00:00\u001B[0m\n",
      "\u001B[?25hDownloading ray-2.40.0-cp311-cp311-manylinux2014_x86_64.whl (67.0 MB)\n",
      "\u001B[2K   \u001B[90m━━━━━━━━━━━━━━━━━━━━━━━━━━━━━━━━━━━━━━━━\u001B[0m \u001B[32m67.0/67.0 MB\u001B[0m \u001B[31m11.7 MB/s\u001B[0m eta \u001B[36m0:00:00\u001B[0m\n",
      "\u001B[?25hDownloading xformers-0.0.28.post3-cp311-cp311-manylinux_2_28_x86_64.whl (16.7 MB)\n",
      "\u001B[2K   \u001B[90m━━━━━━━━━━━━━━━━━━━━━━━━━━━━━━━━━━━━━━━━\u001B[0m \u001B[32m16.7/16.7 MB\u001B[0m \u001B[31m100.8 MB/s\u001B[0m eta \u001B[36m0:00:00\u001B[0m\n",
      "\u001B[?25hDownloading xgrammar-0.1.11-cp311-cp311-manylinux_2_27_x86_64.manylinux_2_28_x86_64.whl (396 kB)\n",
      "\u001B[2K   \u001B[90m━━━━━━━━━━━━━━━━━━━━━━━━━━━━━━━━━━━━━━━━\u001B[0m \u001B[32m396.9/396.9 kB\u001B[0m \u001B[31m33.2 MB/s\u001B[0m eta \u001B[36m0:00:00\u001B[0m\n",
      "\u001B[?25hDownloading nvidia_cublas_cu12-12.4.5.8-py3-none-manylinux2014_x86_64.whl (363.4 MB)\n",
      "\u001B[2K   \u001B[90m━━━━━━━━━━━━━━━━━━━━━━━━━━━━━━━━━━━━━━━━\u001B[0m \u001B[32m363.4/363.4 MB\u001B[0m \u001B[31m2.7 MB/s\u001B[0m eta \u001B[36m0:00:00\u001B[0m\n",
      "\u001B[?25hDownloading nvidia_cuda_cupti_cu12-12.4.127-py3-none-manylinux2014_x86_64.whl (13.8 MB)\n",
      "\u001B[2K   \u001B[90m━━━━━━━━━━━━━━━━━━━━━━━━━━━━━━━━━━━━━━━━\u001B[0m \u001B[32m13.8/13.8 MB\u001B[0m \u001B[31m113.9 MB/s\u001B[0m eta \u001B[36m0:00:00\u001B[0m\n",
      "\u001B[?25hDownloading nvidia_cuda_nvrtc_cu12-12.4.127-py3-none-manylinux2014_x86_64.whl (24.6 MB)\n",
      "\u001B[2K   \u001B[90m━━━━━━━━━━━━━━━━━━━━━━━━━━━━━━━━━━━━━━━━\u001B[0m \u001B[32m24.6/24.6 MB\u001B[0m \u001B[31m87.8 MB/s\u001B[0m eta \u001B[36m0:00:00\u001B[0m\n",
      "\u001B[?25hDownloading nvidia_cuda_runtime_cu12-12.4.127-py3-none-manylinux2014_x86_64.whl (883 kB)\n",
      "\u001B[2K   \u001B[90m━━━━━━━━━━━━━━━━━━━━━━━━━━━━━━━━━━━━━━━━\u001B[0m \u001B[32m883.7/883.7 kB\u001B[0m \u001B[31m58.0 MB/s\u001B[0m eta \u001B[36m0:00:00\u001B[0m\n",
      "\u001B[?25hDownloading nvidia_cudnn_cu12-9.1.0.70-py3-none-manylinux2014_x86_64.whl (664.8 MB)\n",
      "\u001B[2K   \u001B[90m━━━━━━━━━━━━━━━━━━━━━━━━━━━━━━━━━━━━━━━━\u001B[0m \u001B[32m664.8/664.8 MB\u001B[0m \u001B[31m2.1 MB/s\u001B[0m eta \u001B[36m0:00:00\u001B[0m\n",
      "\u001B[?25hDownloading nvidia_cufft_cu12-11.2.1.3-py3-none-manylinux2014_x86_64.whl (211.5 MB)\n",
      "\u001B[2K   \u001B[90m━━━━━━━━━━━━━━━━━━━━━━━━━━━━━━━━━━━━━━━━\u001B[0m \u001B[32m211.5/211.5 MB\u001B[0m \u001B[31m5.5 MB/s\u001B[0m eta \u001B[36m0:00:00\u001B[0m\n",
      "\u001B[?25hDownloading nvidia_curand_cu12-10.3.5.147-py3-none-manylinux2014_x86_64.whl (56.3 MB)\n",
      "\u001B[2K   \u001B[90m━━━━━━━━━━━━━━━━━━━━━━━━━━━━━━━━━━━━━━━━\u001B[0m \u001B[32m56.3/56.3 MB\u001B[0m \u001B[31m20.1 MB/s\u001B[0m eta \u001B[36m0:00:00\u001B[0m\n",
      "\u001B[?25hDownloading nvidia_cusolver_cu12-11.6.1.9-py3-none-manylinux2014_x86_64.whl (127.9 MB)\n",
      "\u001B[2K   \u001B[90m━━━━━━━━━━━━━━━━━━━━━━━━━━━━━━━━━━━━━━━━\u001B[0m \u001B[32m127.9/127.9 MB\u001B[0m \u001B[31m7.5 MB/s\u001B[0m eta \u001B[36m0:00:00\u001B[0m\n",
      "\u001B[?25hDownloading nvidia_cusparse_cu12-12.3.1.170-py3-none-manylinux2014_x86_64.whl (207.5 MB)\n",
      "\u001B[2K   \u001B[90m━━━━━━━━━━━━━━━━━━━━━━━━━━━━━━━━━━━━━━━━\u001B[0m \u001B[32m207.5/207.5 MB\u001B[0m \u001B[31m5.7 MB/s\u001B[0m eta \u001B[36m0:00:00\u001B[0m\n",
      "\u001B[?25hDownloading nvidia_nvjitlink_cu12-12.4.127-py3-none-manylinux2014_x86_64.whl (21.1 MB)\n",
      "\u001B[2K   \u001B[90m━━━━━━━━━━━━━━━━━━━━━━━━━━━━━━━━━━━━━━━━\u001B[0m \u001B[32m21.1/21.1 MB\u001B[0m \u001B[31m94.6 MB/s\u001B[0m eta \u001B[36m0:00:00\u001B[0m\n",
      "\u001B[?25hDownloading outlines_core-0.1.26-cp311-cp311-manylinux_2_17_x86_64.manylinux2014_x86_64.whl (343 kB)\n",
      "\u001B[2K   \u001B[90m━━━━━━━━━━━━━━━━━━━━━━━━━━━━━━━━━━━━━━━━\u001B[0m \u001B[32m343.3/343.3 kB\u001B[0m \u001B[31m31.5 MB/s\u001B[0m eta \u001B[36m0:00:00\u001B[0m\n",
      "\u001B[?25hDownloading fastapi-0.115.11-py3-none-any.whl (94 kB)\n",
      "\u001B[2K   \u001B[90m━━━━━━━━━━━━━━━━━━━━━━━━━━━━━━━━━━━━━━━━\u001B[0m \u001B[32m94.9/94.9 kB\u001B[0m \u001B[31m9.4 MB/s\u001B[0m eta \u001B[36m0:00:00\u001B[0m\n",
      "\u001B[?25hDownloading lm_format_enforcer-0.10.11-py3-none-any.whl (44 kB)\n",
      "\u001B[2K   \u001B[90m━━━━━━━━━━━━━━━━━━━━━━━━━━━━━━━━━━━━━━━━\u001B[0m \u001B[32m44.2/44.2 kB\u001B[0m \u001B[31m4.2 MB/s\u001B[0m eta \u001B[36m0:00:00\u001B[0m\n",
      "\u001B[?25hDownloading mistral_common-1.5.3-py3-none-any.whl (6.5 MB)\n",
      "\u001B[2K   \u001B[90m━━━━━━━━━━━━━━━━━━━━━━━━━━━━━━━━━━━━━━━━\u001B[0m \u001B[32m6.5/6.5 MB\u001B[0m \u001B[31m110.6 MB/s\u001B[0m eta \u001B[36m0:00:00\u001B[0m\n",
      "\u001B[?25hDownloading prometheus_fastapi_instrumentator-7.0.2-py3-none-any.whl (18 kB)\n",
      "Downloading tiktoken-0.9.0-cp311-cp311-manylinux_2_17_x86_64.manylinux2014_x86_64.whl (1.2 MB)\n",
      "\u001B[2K   \u001B[90m━━━━━━━━━━━━━━━━━━━━━━━━━━━━━━━━━━━━━━━━\u001B[0m \u001B[32m1.2/1.2 MB\u001B[0m \u001B[31m72.9 MB/s\u001B[0m eta \u001B[36m0:00:00\u001B[0m\n",
      "\u001B[?25hDownloading blake3-1.0.4-cp311-cp311-manylinux_2_17_x86_64.manylinux2014_x86_64.whl (376 kB)\n",
      "\u001B[2K   \u001B[90m━━━━━━━━━━━━━━━━━━━━━━━━━━━━━━━━━━━━━━━━\u001B[0m \u001B[32m376.2/376.2 kB\u001B[0m \u001B[31m34.3 MB/s\u001B[0m eta \u001B[36m0:00:00\u001B[0m\n",
      "\u001B[?25hDownloading msgspec-0.19.0-cp311-cp311-manylinux_2_17_x86_64.manylinux2014_x86_64.whl (210 kB)\n",
      "\u001B[2K   \u001B[90m━━━━━━━━━━━━━━━━━━━━━━━━━━━━━━━━━━━━━━━━\u001B[0m \u001B[32m210.7/210.7 kB\u001B[0m \u001B[31m18.9 MB/s\u001B[0m eta \u001B[36m0:00:00\u001B[0m\n",
      "\u001B[?25hDownloading partial_json_parser-0.2.1.1.post5-py3-none-any.whl (10 kB)\n",
      "Downloading email_validator-2.2.0-py3-none-any.whl (33 kB)\n",
      "Downloading fastapi_cli-0.0.7-py3-none-any.whl (10 kB)\n",
      "Downloading interegular-0.3.3-py37-none-any.whl (23 kB)\n",
      "Downloading python_multipart-0.0.20-py3-none-any.whl (24 kB)\n",
      "Downloading starlette-0.46.1-py3-none-any.whl (71 kB)\n",
      "\u001B[2K   \u001B[90m━━━━━━━━━━━━━━━━━━━━━━━━━━━━━━━━━━━━━━━━\u001B[0m \u001B[32m72.0/72.0 kB\u001B[0m \u001B[31m7.1 MB/s\u001B[0m eta \u001B[36m0:00:00\u001B[0m\n",
      "\u001B[?25hDownloading uvicorn-0.34.0-py3-none-any.whl (62 kB)\n",
      "\u001B[2K   \u001B[90m━━━━━━━━━━━━━━━━━━━━━━━━━━━━━━━━━━━━━━━━\u001B[0m \u001B[32m62.3/62.3 kB\u001B[0m \u001B[31m5.6 MB/s\u001B[0m eta \u001B[36m0:00:00\u001B[0m\n",
      "\u001B[?25hDownloading airportsdata-20250224-py3-none-any.whl (913 kB)\n",
      "\u001B[2K   \u001B[90m━━━━━━━━━━━━━━━━━━━━━━━━━━━━━━━━━━━━━━━━\u001B[0m \u001B[32m913.7/913.7 kB\u001B[0m \u001B[31m60.4 MB/s\u001B[0m eta \u001B[36m0:00:00\u001B[0m\n",
      "\u001B[?25hDownloading astor-0.8.1-py2.py3-none-any.whl (27 kB)\n",
      "Downloading dill-0.3.9-py3-none-any.whl (119 kB)\n",
      "\u001B[2K   \u001B[90m━━━━━━━━━━━━━━━━━━━━━━━━━━━━━━━━━━━━━━━━\u001B[0m \u001B[32m119.4/119.4 kB\u001B[0m \u001B[31m11.3 MB/s\u001B[0m eta \u001B[36m0:00:00\u001B[0m\n",
      "\u001B[?25hDownloading diskcache-5.6.3-py3-none-any.whl (45 kB)\n",
      "\u001B[2K   \u001B[90m━━━━━━━━━━━━━━━━━━━━━━━━━━━━━━━━━━━━━━━━\u001B[0m \u001B[32m45.5/45.5 kB\u001B[0m \u001B[31m4.4 MB/s\u001B[0m eta \u001B[36m0:00:00\u001B[0m\n",
      "\u001B[?25hDownloading pybind11-2.13.6-py3-none-any.whl (243 kB)\n",
      "\u001B[2K   \u001B[90m━━━━━━━━━━━━━━━━━━━━━━━━━━━━━━━━━━━━━━━━\u001B[0m \u001B[32m243.3/243.3 kB\u001B[0m \u001B[31m24.0 MB/s\u001B[0m eta \u001B[36m0:00:00\u001B[0m\n",
      "\u001B[?25hDownloading pycountry-24.6.1-py3-none-any.whl (6.3 MB)\n",
      "\u001B[2K   \u001B[90m━━━━━━━━━━━━━━━━━━━━━━━━━━━━━━━━━━━━━━━━\u001B[0m \u001B[32m6.3/6.3 MB\u001B[0m \u001B[31m115.1 MB/s\u001B[0m eta \u001B[36m0:00:00\u001B[0m\n",
      "\u001B[?25hDownloading dnspython-2.7.0-py3-none-any.whl (313 kB)\n",
      "\u001B[2K   \u001B[90m━━━━━━━━━━━━━━━━━━━━━━━━━━━━━━━━━━━━━━━━\u001B[0m \u001B[32m313.6/313.6 kB\u001B[0m \u001B[31m28.4 MB/s\u001B[0m eta \u001B[36m0:00:00\u001B[0m\n",
      "\u001B[?25hDownloading httptools-0.6.4-cp311-cp311-manylinux_2_5_x86_64.manylinux1_x86_64.manylinux_2_17_x86_64.manylinux2014_x86_64.whl (459 kB)\n",
      "\u001B[2K   \u001B[90m━━━━━━━━━━━━━━━━━━━━━━━━━━━━━━━━━━━━━━━━\u001B[0m \u001B[32m459.8/459.8 kB\u001B[0m \u001B[31m35.2 MB/s\u001B[0m eta \u001B[36m0:00:00\u001B[0m\n",
      "\u001B[?25hDownloading python_dotenv-1.0.1-py3-none-any.whl (19 kB)\n",
      "Downloading rich_toolkit-0.13.2-py3-none-any.whl (13 kB)\n",
      "Downloading uvloop-0.21.0-cp311-cp311-manylinux_2_17_x86_64.manylinux2014_x86_64.whl (4.0 MB)\n",
      "\u001B[2K   \u001B[90m━━━━━━━━━━━━━━━━━━━━━━━━━━━━━━━━━━━━━━━━\u001B[0m \u001B[32m4.0/4.0 MB\u001B[0m \u001B[31m108.4 MB/s\u001B[0m eta \u001B[36m0:00:00\u001B[0m\n",
      "\u001B[?25hDownloading watchfiles-1.0.4-cp311-cp311-manylinux_2_17_x86_64.manylinux2014_x86_64.whl (452 kB)\n",
      "\u001B[2K   \u001B[90m━━━━━━━━━━━━━━━━━━━━━━━━━━━━━━━━━━━━━━━━\u001B[0m \u001B[32m452.6/452.6 kB\u001B[0m \u001B[31m12.5 MB/s\u001B[0m eta \u001B[36m0:00:00\u001B[0m\n",
      "\u001B[?25hInstalling collected packages: blake3, uvloop, uvicorn, python-multipart, python-dotenv, pycountry, pybind11, partial-json-parser, nvidia-nvjitlink-cu12, nvidia-curand-cu12, nvidia-cufft-cu12, nvidia-cuda-runtime-cu12, nvidia-cuda-nvrtc-cu12, nvidia-cuda-cupti-cu12, nvidia-cublas-cu12, msgspec, lark, interegular, httptools, gguf, dnspython, diskcache, dill, astor, airportsdata, watchfiles, tiktoken, starlette, nvidia-cusparse-cu12, nvidia-cudnn-cu12, email-validator, depyf, rich-toolkit, prometheus-fastapi-instrumentator, nvidia-cusolver-cu12, lm-format-enforcer, fastapi, ray, outlines_core, mistral_common, fastapi-cli, xgrammar, xformers, outlines, compressed-tensors, vllm\n",
      "  Attempting uninstall: nvidia-nvjitlink-cu12\n",
      "    Found existing installation: nvidia-nvjitlink-cu12 12.5.82\n",
      "    Uninstalling nvidia-nvjitlink-cu12-12.5.82:\n",
      "      Successfully uninstalled nvidia-nvjitlink-cu12-12.5.82\n",
      "  Attempting uninstall: nvidia-curand-cu12\n",
      "    Found existing installation: nvidia-curand-cu12 10.3.6.82\n",
      "    Uninstalling nvidia-curand-cu12-10.3.6.82:\n",
      "      Successfully uninstalled nvidia-curand-cu12-10.3.6.82\n",
      "  Attempting uninstall: nvidia-cufft-cu12\n",
      "    Found existing installation: nvidia-cufft-cu12 11.2.3.61\n",
      "    Uninstalling nvidia-cufft-cu12-11.2.3.61:\n",
      "      Successfully uninstalled nvidia-cufft-cu12-11.2.3.61\n",
      "  Attempting uninstall: nvidia-cuda-runtime-cu12\n",
      "    Found existing installation: nvidia-cuda-runtime-cu12 12.5.82\n",
      "    Uninstalling nvidia-cuda-runtime-cu12-12.5.82:\n",
      "      Successfully uninstalled nvidia-cuda-runtime-cu12-12.5.82\n",
      "  Attempting uninstall: nvidia-cuda-nvrtc-cu12\n",
      "    Found existing installation: nvidia-cuda-nvrtc-cu12 12.5.82\n",
      "    Uninstalling nvidia-cuda-nvrtc-cu12-12.5.82:\n",
      "      Successfully uninstalled nvidia-cuda-nvrtc-cu12-12.5.82\n",
      "  Attempting uninstall: nvidia-cuda-cupti-cu12\n",
      "    Found existing installation: nvidia-cuda-cupti-cu12 12.5.82\n",
      "    Uninstalling nvidia-cuda-cupti-cu12-12.5.82:\n",
      "      Successfully uninstalled nvidia-cuda-cupti-cu12-12.5.82\n",
      "  Attempting uninstall: nvidia-cublas-cu12\n",
      "    Found existing installation: nvidia-cublas-cu12 12.5.3.2\n",
      "    Uninstalling nvidia-cublas-cu12-12.5.3.2:\n",
      "      Successfully uninstalled nvidia-cublas-cu12-12.5.3.2\n",
      "  Attempting uninstall: nvidia-cusparse-cu12\n",
      "    Found existing installation: nvidia-cusparse-cu12 12.5.1.3\n",
      "    Uninstalling nvidia-cusparse-cu12-12.5.1.3:\n",
      "      Successfully uninstalled nvidia-cusparse-cu12-12.5.1.3\n",
      "  Attempting uninstall: nvidia-cudnn-cu12\n",
      "    Found existing installation: nvidia-cudnn-cu12 9.3.0.75\n",
      "    Uninstalling nvidia-cudnn-cu12-9.3.0.75:\n",
      "      Successfully uninstalled nvidia-cudnn-cu12-9.3.0.75\n",
      "  Attempting uninstall: nvidia-cusolver-cu12\n",
      "    Found existing installation: nvidia-cusolver-cu12 11.6.3.83\n",
      "    Uninstalling nvidia-cusolver-cu12-11.6.3.83:\n",
      "      Successfully uninstalled nvidia-cusolver-cu12-11.6.3.83\n",
      "Successfully installed airportsdata-20250224 astor-0.8.1 blake3-1.0.4 compressed-tensors-0.9.1 depyf-0.18.0 dill-0.3.9 diskcache-5.6.3 dnspython-2.7.0 email-validator-2.2.0 fastapi-0.115.11 fastapi-cli-0.0.7 gguf-0.10.0 httptools-0.6.4 interegular-0.3.3 lark-1.2.2 lm-format-enforcer-0.10.11 mistral_common-1.5.3 msgspec-0.19.0 nvidia-cublas-cu12-12.4.5.8 nvidia-cuda-cupti-cu12-12.4.127 nvidia-cuda-nvrtc-cu12-12.4.127 nvidia-cuda-runtime-cu12-12.4.127 nvidia-cudnn-cu12-9.1.0.70 nvidia-cufft-cu12-11.2.1.3 nvidia-curand-cu12-10.3.5.147 nvidia-cusolver-cu12-11.6.1.9 nvidia-cusparse-cu12-12.3.1.170 nvidia-nvjitlink-cu12-12.4.127 outlines-0.1.11 outlines_core-0.1.26 partial-json-parser-0.2.1.1.post5 prometheus-fastapi-instrumentator-7.0.2 pybind11-2.13.6 pycountry-24.6.1 python-dotenv-1.0.1 python-multipart-0.0.20 ray-2.40.0 rich-toolkit-0.13.2 starlette-0.46.1 tiktoken-0.9.0 uvicorn-0.34.0 uvloop-0.21.0 vllm-0.7.3 watchfiles-1.0.4 xformers-0.0.28.post3 xgrammar-0.1.11\n"
     ]
    }
   ]
  },
  {
   "cell_type": "markdown",
   "source": [
    "##Test llama 3.2 3B"
   ],
   "metadata": {
    "id": "QEzVMLMkuqh6"
   }
  },
  {
   "cell_type": "code",
   "source": [
    "from vllm import SamplingParams, LLM"
   ],
   "metadata": {
    "id": "q8CWjn7EboJk"
   },
   "execution_count": null,
   "outputs": []
  },
  {
   "cell_type": "code",
   "source": [
    "# Load model into GPU memory\n",
    "llm = LLM(\n",
    "    model=\"unsloth/Llama-3.2-1B-Instruct\",\n",
    "    dtype=\"float16\",      # Use bfloat16 if you are using better GPU than T4\n",
    "    max_model_len=4096,\n",
    "    task=\"auto\")"
   ],
   "metadata": {
    "colab": {
     "base_uri": "https://localhost:8080/",
     "height": 723,
     "referenced_widgets": [
      "7d468554f4424205b437a78587fce562",
      "b8e7a8f4774b452caf10f542bb07c5a7",
      "7fa1aaa1e5fb471b94d9f77bce425aa2",
      "e180fa117ddd496faa1a8344754019f0",
      "334eeb36fd314282b5dfc62fe6f236af",
      "a6b61f632a6a4941bfd8d585e56051ca",
      "dc8875f486e04519a3a081d5e3b5226d",
      "693cbcb1af944be68fbf03b8f2671d31",
      "5a1df1c8f1f0441689d11f95ebbfca20",
      "886eb22f794b45cdbd5b7619b775c5d1",
      "378b8a512299428bb1bb6dfa54ce512b",
      "ca2f00aea9d24eb1868193d6b4f21612",
      "5f4c77376efb46d4bd46d9a499fbf0d1",
      "55ad51321c1240ac85de48e9e929ffd8",
      "80496f1ccd394fe89ad2126ac6fe8274",
      "1d778dac397d45b8a42ad1b7e870121c",
      "20d645ee71ab432da4851de66ccd4f80",
      "7a8b569068984755ad7f4115ada29f2a",
      "2f40398c5dbd490e8513f6268a4fa80d",
      "5d45c384a2d54c088b13db5e3a14ae9e",
      "74fc2c4f7b764622b7b97b76679acc57",
      "7d01167ca60e4ca2908a9214eb15c805",
      "517d2c45e4c14287b370ec019f41cff6",
      "74fa62d011694de89e0828d793ace2d7",
      "5c82633dda5e4774a0f98e99caff972d",
      "964dc577b5cd41e4872b794b5b01a630",
      "38a6b14ad1994c668778909459f297ce",
      "6ca422e2b81844af8f38869e3dbc13c5",
      "90fc9008e4bb4efa9699b68ff23b4a10",
      "fa5c2ae63cce44508ed5033261bf14c0",
      "5fae6115c6b94fe0bf0482eea419f5ec",
      "9a208da7cabb4e55bd560a11d662bb74",
      "ed0c3ac933ee4deb8dcfc73e511853a0",
      "dfc9752cf76b4d10a0fcd19e290ba0bd",
      "cd512a1bf3454bef8632b824266ad3ee",
      "74ac491cf76f4b43b1e069d2cbccc8a3",
      "ddc67bcdc1114708b63225e2acedf64a",
      "0c1b608a238a4de7808d88859706277b",
      "34233bca2c774064994cb730ed6690f8",
      "ef033ce23c5a4c3099806dac55090c54",
      "37a69b7002ea4dd8b975507a1f68ad41",
      "600998060b294fbf889ce5f888107a1c",
      "0c8b8d773a7748119ad8f9feffc7e9b5",
      "5f20bd4aa37345b9aba288f53da8cc49",
      "151b3dd68a1c4f96b279d41933adb73c",
      "db15fbda7a624108ab5ca4f274ef6a89",
      "31b024dc814d4281bcfd124cb9f40bea",
      "2557208e99f74bba8f76496cba7e0987",
      "0ff64525a7594e40bf939380bac0dadd",
      "1e61451abe294ebabc2a1629b489efa0",
      "f93a3b6aec35478e8f1e8f9d94629736",
      "6a19c7bbb6a74ed68711c511e8d0c5a6",
      "3925a3168b5b421fb731d60a0313a121",
      "a715d76551a0465d8f136710fa1cddd9",
      "89ba36cb56fd4cdeba0375bb44110250",
      "51c2adce471f4a67b2c9861736a63452",
      "310c49224e564282a51a251eda3e85df",
      "c69c3149388149a7aeab469689c5b706",
      "0aaef93ec770424a84b33be5ada6fc4c",
      "fcf34ae90edf4f0a95e668152b539bb1",
      "138b4151c687489d8938793f2ccb2d0b",
      "1047599da2fe499cadaa3da9f5c5224d",
      "0b19e78fa69d4b4d95f2d00da1e26bba",
      "3f3085bd8ec344c8914a6a5e25a02db2",
      "2c1ce5b189c249d593c6c67c0c08fcaf",
      "4febf0a5dc4743e586c07168300a108e",
      "036d496aec2c4ce293d462b262d32d49",
      "ed6d1ade2d034e0f8c126decb4013f25",
      "282f6c46a4414654bf02964219aa6bae",
      "a4d27740470e47f8b3db93107e456752",
      "2c7e854b71c54473a584cc991987ffe3",
      "666b3356beae4888bf332bb715a8fba3",
      "d9b9d6e608554b1c9cdcaa705643e145",
      "ec9c380bb69c4dbea55abc3219f23b00",
      "70836bfb909e45eea540e415c0110a52",
      "e8ea26abe39d480db0b8317fc80ce8d3",
      "6b0b7d17bb3148fca04d76ff4df5cac6"
     ]
    },
    "id": "FtuqynaIP9-z",
    "outputId": "f47c3d98-88c2-41b5-9efd-b71e32c39cb9"
   },
   "execution_count": null,
   "outputs": [
    {
     "output_type": "stream",
     "name": "stdout",
     "text": [
      "INFO 03-09 16:52:39 __init__.py:207] Automatically detected platform cuda.\n"
     ]
    },
    {
     "output_type": "stream",
     "name": "stderr",
     "text": [
      "/usr/local/lib/python3.11/dist-packages/huggingface_hub/utils/_auth.py:94: UserWarning: \n",
      "The secret `HF_TOKEN` does not exist in your Colab secrets.\n",
      "To authenticate with the Hugging Face Hub, create a token in your settings tab (https://huggingface.co/settings/tokens), set it as secret in your Google Colab and restart your session.\n",
      "You will be able to reuse this secret in all of your notebooks.\n",
      "Please note that authentication is recommended but still optional to access public models or datasets.\n",
      "  warnings.warn(\n"
     ]
    },
    {
     "output_type": "display_data",
     "data": {
      "text/plain": [
       "config.json:   0%|          | 0.00/949 [00:00<?, ?B/s]"
      ],
      "application/vnd.jupyter.widget-view+json": {
       "version_major": 2,
       "version_minor": 0,
       "model_id": "7d468554f4424205b437a78587fce562"
      }
     },
     "metadata": {}
    },
    {
     "output_type": "stream",
     "name": "stdout",
     "text": [
      "WARNING 03-09 16:52:40 config.py:2448] Casting torch.bfloat16 to torch.float16.\n",
      "INFO 03-09 16:53:07 config.py:549] This model supports multiple tasks: {'reward', 'embed', 'classify', 'generate', 'score'}. Defaulting to 'generate'.\n",
      "INFO 03-09 16:53:07 llm_engine.py:234] Initializing a V0 LLM engine (v0.7.3) with config: model='unsloth/Llama-3.2-1B-Instruct', speculative_config=None, tokenizer='unsloth/Llama-3.2-1B-Instruct', skip_tokenizer_init=False, tokenizer_mode=auto, revision=None, override_neuron_config=None, tokenizer_revision=None, trust_remote_code=False, dtype=torch.float16, max_seq_len=4096, download_dir=None, load_format=LoadFormat.AUTO, tensor_parallel_size=1, pipeline_parallel_size=1, disable_custom_all_reduce=False, quantization=None, enforce_eager=False, kv_cache_dtype=auto,  device_config=cuda, decoding_config=DecodingConfig(guided_decoding_backend='xgrammar'), observability_config=ObservabilityConfig(otlp_traces_endpoint=None, collect_model_forward_time=False, collect_model_execute_time=False), seed=0, served_model_name=unsloth/Llama-3.2-1B-Instruct, num_scheduler_steps=1, multi_step_stream_outputs=True, enable_prefix_caching=False, chunked_prefill_enabled=False, use_async_output_proc=True, disable_mm_preprocessor_cache=False, mm_processor_kwargs=None, pooler_config=None, compilation_config={\"splitting_ops\":[],\"compile_sizes\":[],\"cudagraph_capture_sizes\":[256,248,240,232,224,216,208,200,192,184,176,168,160,152,144,136,128,120,112,104,96,88,80,72,64,56,48,40,32,24,16,8,4,2,1],\"max_capture_size\":256}, use_cached_outputs=False, \n"
     ]
    },
    {
     "output_type": "display_data",
     "data": {
      "text/plain": [
       "tokenizer_config.json:   0%|          | 0.00/54.7k [00:00<?, ?B/s]"
      ],
      "application/vnd.jupyter.widget-view+json": {
       "version_major": 2,
       "version_minor": 0,
       "model_id": "ca2f00aea9d24eb1868193d6b4f21612"
      }
     },
     "metadata": {}
    },
    {
     "output_type": "display_data",
     "data": {
      "text/plain": [
       "tokenizer.json:   0%|          | 0.00/17.2M [00:00<?, ?B/s]"
      ],
      "application/vnd.jupyter.widget-view+json": {
       "version_major": 2,
       "version_minor": 0,
       "model_id": "517d2c45e4c14287b370ec019f41cff6"
      }
     },
     "metadata": {}
    },
    {
     "output_type": "display_data",
     "data": {
      "text/plain": [
       "special_tokens_map.json:   0%|          | 0.00/454 [00:00<?, ?B/s]"
      ],
      "application/vnd.jupyter.widget-view+json": {
       "version_major": 2,
       "version_minor": 0,
       "model_id": "dfc9752cf76b4d10a0fcd19e290ba0bd"
      }
     },
     "metadata": {}
    },
    {
     "output_type": "display_data",
     "data": {
      "text/plain": [
       "generation_config.json:   0%|          | 0.00/239 [00:00<?, ?B/s]"
      ],
      "application/vnd.jupyter.widget-view+json": {
       "version_major": 2,
       "version_minor": 0,
       "model_id": "151b3dd68a1c4f96b279d41933adb73c"
      }
     },
     "metadata": {}
    },
    {
     "output_type": "stream",
     "name": "stdout",
     "text": [
      "INFO 03-09 16:53:10 cuda.py:178] Cannot use FlashAttention-2 backend for Volta and Turing GPUs.\n",
      "INFO 03-09 16:53:10 cuda.py:226] Using XFormers backend.\n",
      "INFO 03-09 16:53:11 model_runner.py:1110] Starting to load model unsloth/Llama-3.2-1B-Instruct...\n",
      "INFO 03-09 16:53:12 weight_utils.py:254] Using model weights format ['*.safetensors']\n"
     ]
    },
    {
     "output_type": "display_data",
     "data": {
      "text/plain": [
       "model.safetensors:   0%|          | 0.00/2.47G [00:00<?, ?B/s]"
      ],
      "application/vnd.jupyter.widget-view+json": {
       "version_major": 2,
       "version_minor": 0,
       "model_id": "51c2adce471f4a67b2c9861736a63452"
      }
     },
     "metadata": {}
    },
    {
     "output_type": "stream",
     "name": "stdout",
     "text": [
      "INFO 03-09 16:53:29 weight_utils.py:270] Time spent downloading weights for unsloth/Llama-3.2-1B-Instruct: 16.866020 seconds\n",
      "INFO 03-09 16:53:29 weight_utils.py:304] No model.safetensors.index.json found in remote.\n"
     ]
    },
    {
     "output_type": "display_data",
     "data": {
      "text/plain": [
       "Loading safetensors checkpoint shards:   0% Completed | 0/1 [00:00<?, ?it/s]\n"
      ],
      "application/vnd.jupyter.widget-view+json": {
       "version_major": 2,
       "version_minor": 0,
       "model_id": "036d496aec2c4ce293d462b262d32d49"
      }
     },
     "metadata": {}
    },
    {
     "output_type": "stream",
     "name": "stdout",
     "text": [
      "INFO 03-09 16:53:33 model_runner.py:1115] Loading model weights took 2.3185 GB\n",
      "INFO 03-09 16:53:35 worker.py:267] Memory profiling takes 1.39 seconds\n",
      "INFO 03-09 16:53:35 worker.py:267] the current vLLM instance can use total_gpu_memory (14.74GiB) x gpu_memory_utilization (0.90) = 13.27GiB\n",
      "INFO 03-09 16:53:35 worker.py:267] model weights take 2.32GiB; non_torch_memory takes 0.05GiB; PyTorch activation peak memory takes 1.19GiB; the rest of the memory reserved for KV Cache is 9.72GiB.\n",
      "INFO 03-09 16:53:35 executor_base.py:111] # cuda blocks: 19896, # CPU blocks: 8192\n",
      "INFO 03-09 16:53:35 executor_base.py:116] Maximum concurrency for 4096 tokens per request: 77.72x\n",
      "INFO 03-09 16:53:38 model_runner.py:1434] Capturing cudagraphs for decoding. This may lead to unexpected consequences if the model is not static. To run the model in eager mode, set 'enforce_eager=True' or use '--enforce-eager' in the CLI. If out-of-memory error occurs during cudagraph capture, consider decreasing `gpu_memory_utilization` or switching to eager mode. You can also reduce the `max_num_seqs` as needed to decrease memory usage.\n"
     ]
    },
    {
     "output_type": "stream",
     "name": "stderr",
     "text": [
      "Capturing CUDA graph shapes: 100%|██████████| 35/35 [00:35<00:00,  1.01s/it]"
     ]
    },
    {
     "output_type": "stream",
     "name": "stdout",
     "text": [
      "INFO 03-09 16:54:14 model_runner.py:1562] Graph capturing finished in 35 secs, took 0.12 GiB\n",
      "INFO 03-09 16:54:14 llm_engine.py:436] init engine (profile, create kv cache, warmup model) took 40.58 seconds\n"
     ]
    },
    {
     "output_type": "stream",
     "name": "stderr",
     "text": [
      "\n"
     ]
    }
   ]
  },
  {
   "cell_type": "code",
   "source": [
    "df_test = df_jobs.sample(100)"
   ],
   "metadata": {
    "id": "OKdvH-sU1xz2"
   },
   "execution_count": null,
   "outputs": []
  },
  {
   "cell_type": "code",
   "source": [
    "sampling_params = SamplingParams(\n",
    "    max_tokens=10,  # Limit output length\n",
    "    temperature=0.0  # Make results deterministic\n",
    ")\n",
    "\n",
    "# 🌟 Example batch of prompts\n",
    "prompts = [f'Here is the job description: \\n\\n \\\"\\\"\\\"{j}\\\"\\\"\\\" \\n\\n Return ONLY the location in the format \"city, country\" or \"No location specifiec\" otherwise.\\n\\n Response: ' for j in df_test[\"job_description\"]]\n",
    "\n",
    "# 🚀 Run batch inference (processed in parallel)\n",
    "start_time = time.time()\n",
    "outputs = llm.generate(prompts, sampling_params)  # increase tensor_parallel_size=2 if using better GPU\n",
    "\n",
    "\n",
    "print(\"\\nProcess time of 100 job descriptions:\", time.time() - start_time)"
   ],
   "metadata": {
    "id": "XF7cx28HVPBJ"
   },
   "execution_count": null,
   "outputs": []
  },
  {
   "cell_type": "markdown",
   "source": [
    "Around 6 job descriptions or 6k tokens per second. Resulting hopefully in 1h10min per feature extraction."
   ],
   "metadata": {
    "id": "PBBWanICc2Sc"
   }
  },
  {
   "cell_type": "code",
   "source": [
    "# Manual truncation after generation using stop sequences\n",
    "def clean_response(response):\n",
    "    stop_chars = ['\\n', '.', 'The']  # Stop at newline, period, or \"The\"\n",
    "    for char in stop_chars:\n",
    "        if char in response:\n",
    "            return response.split(char)[0].strip()  # Keep the first part\n",
    "    return response.strip()  # Trim spaces and return\n",
    "\n",
    "processed_responses = [clean_response(output.outputs[0].text) for output in outputs]\n",
    "\n",
    "# Print results\n",
    "for i, res in enumerate(processed_responses):\n",
    "    print(f\"Response {i+1}: {res}\")"
   ],
   "metadata": {
    "id": "YyZlHlHgfGTq"
   },
   "execution_count": null,
   "outputs": []
  },
  {
   "cell_type": "markdown",
   "source": [
    "## Create Features"
   ],
   "metadata": {
    "id": "5caXoBiybO9Q"
   }
  },
  {
   "metadata": {
    "ExecuteTime": {
     "end_time": "2025-03-04T10:31:18.978583Z",
     "start_time": "2025-03-04T10:31:18.972987Z"
    },
    "id": "e59cf9626a9eea6"
   },
   "cell_type": "code",
   "source": [
    "# Define Features\n",
    "features = ['location', 'seniority', 'company', 'industry']\n",
    "for feature in features:\n",
    "    df_jobs[feature] =  pd.NA"
   ],
   "outputs": [],
   "execution_count": null
  },
  {
   "cell_type": "code",
   "source": [
    "# Define feature-specific prompt creation and response cleaning functions\n",
    "def create_location_prompt(job_desc):\n",
    "    return f'Here is the job description: \\n\\n \\\"\\\"\\\"{job_desc}\\\"\\\"\\\" \\n\\n Return ONLY the location in the format \"city, country\" or \"No location specifiec\" otherwise.\\n\\n Response: '\n",
    "\n",
    "def create_seniority_prompt(job_desc):\n",
    "    return f'Here is the job description: \\n\\n \\\"\\\"\\\"{job_desc}\\\"\\\"\\\" \\n\\n \\\n",
    "    The senirioty level of the job is either Intern, Junior, Mid, Senior or Direction/Executive.\\n\\n \\\n",
    "    Return ONLY the seniority level of this job among the options. Return \"Not Specified\" if it was not specified in the job ad.\\n\\n Response :'\n",
    "\n",
    "def create_company_prompt(job_desc):\n",
    "    return f'Here is the job description: \\n\\n \\\"\\\"\\\"{job_desc}\\\"\\\"\\\" \\n\\n \\\n",
    "    Return ONLY the name of the company. \\n\\n Response: '\n",
    "\n",
    "def create_industry_prompt(job_desc):\n",
    "    return f'Here is the job description: \\n\\n \\\"\\\"\\\"{job_desc}\\\"\\\"\\\" \\n\\n \\\n",
    "    Return ONLY the industry sector of the company. \\n\\n Response: '\n",
    "\n",
    "def clean_response(response):\n",
    "    stop_chars = ['\\n', '.', 'The']\n",
    "    for char in stop_chars:\n",
    "        if char in response:\n",
    "            return response.split(char)[0].strip()\n",
    "    return response.strip()\n",
    "\n",
    "def clean_location_response(response):\n",
    "    return clean_response(response)\n",
    "\n",
    "def clean_seniority_response(response):\n",
    "    return clean_response(response)\n",
    "\n",
    "def clean_company_response(response):\n",
    "    return clean_response(response)\n",
    "\n",
    "def clean_industry_response(response):\n",
    "    return clean_response(response)\n",
    "\n",
    "# Map feature to its prompt and clean function\n",
    "feature_prompts = {\n",
    "    'location': create_location_prompt,\n",
    "    'seniority': create_seniority_prompt,\n",
    "    'company': create_company_prompt,\n",
    "    'industry': create_industry_prompt\n",
    "}\n",
    "\n",
    "feature_cleaners = {\n",
    "    'location': clean_location_response,\n",
    "    'seniority': clean_seniority_response,\n",
    "    'company': clean_company_response,\n",
    "    'industry': clean_industry_response\n",
    "}"
   ],
   "metadata": {
    "id": "HIsF6mbajgGd"
   },
   "execution_count": null,
   "outputs": []
  },
  {
   "cell_type": "code",
   "source": [
    "from transformers import AutoTokenizer\n",
    "\n",
    "# Load the tokenizer for Llama 3.2 Instruct 1B\n",
    "tokenizer = AutoTokenizer.from_pretrained(\"meta-llama/Llama-3.2-1B-Instruct\")\n",
    "\n",
    "def truncate_prompt(prompt, max_tokens=4000):\n",
    "    \"\"\"\n",
    "    Truncates the input prompt to ensure it does not exceed the max token limit.\n",
    "    Uses Hugging Face tokenizer to tokenize the prompt and truncate it accordingly.\n",
    "    \"\"\"\n",
    "    # Tokenize the prompt and ensure it doesn't exceed the max token length\n",
    "    encoded = tokenizer(prompt, truncation=True, max_length=max_tokens)\n",
    "    return tokenizer.decode(encoded['input_ids'])"
   ],
   "metadata": {
    "id": "aIL8vyR19vz2"
   },
   "execution_count": null,
   "outputs": []
  },
  {
   "cell_type": "code",
   "source": [
    "output_file = \"/content/drive/MyDrive/Colab Notebooks/Challenge/data/job_features.csv\"\n",
    "\n",
    "def create_features(df, batch_size, save_every=10):\n",
    "    for feature in features:\n",
    "\n",
    "        # Split the DataFrame into smaller chunks for batch processing\n",
    "        chunks = np.array_split(df['job_description'], len(df) // batch_size + 1)\n",
    "\n",
    "        # Process each chunk (batch)\n",
    "        for i, chunk in enumerate(chunks):\n",
    "            # Create batch prompts for the current chunk\n",
    "            batch_prompts = [truncate_prompt(feature_prompts[feature](j)) for j in chunk]\n",
    "\n",
    "            print(f\"Processing batch {i + 1}/{len(chunks)} with batch size: {len(batch_prompts)}\")\n",
    "\n",
    "            # Run batch inference on GPU\n",
    "            start_time = time.time()\n",
    "            outputs = llm.generate(batch_prompts, sampling_params)  # Run LLM generation\n",
    "            end_time = time.time()\n",
    "\n",
    "            # Clean the responses and store them in the feature column\n",
    "            processed_responses = [feature_cleaners[feature](output.outputs[0].text) for output in outputs]\n",
    "\n",
    "            # Store the results back into the dataframe (use an offset to update the corresponding rows)\n",
    "            df.loc[chunk.index, feature] = processed_responses\n",
    "\n",
    "            print(f\"Feature '{feature}' processed in {i + 1} batch(s) in {end_time - start_time:.2f} seconds\")\n",
    "\n",
    "            # Save periodically after every `save_every` batches\n",
    "            if (i + 1) % save_every == 0:\n",
    "                print(f\"Saving...\")\n",
    "                df.to_csv(output_file, index=False)  # Save to CSV (or use df.to_pickle() for faster saving)\n",
    "\n",
    "            # Clear GPU cache and collect garbage after each batch to optimize memory\n",
    "            torch.cuda.empty_cache()  # Clear PyTorch cache\n",
    "            gc.collect()  # Run garbage collection\n",
    "\n",
    "        print(f\"Completed feature {feature}.\\nSaving...\\n\\n\")\n",
    "        df.to_csv(output_file, index=False)\n",
    "\n",
    "    return df"
   ],
   "metadata": {
    "id": "vH3u_6KknZ-r"
   },
   "execution_count": null,
   "outputs": []
  },
  {
   "cell_type": "code",
   "source": [
    "df_jobs = create_features(df_jobs, batch_size=128)"
   ],
   "metadata": {
    "colab": {
     "base_uri": "https://localhost:8080/"
    },
    "id": "HknGoDEp-_rD",
    "outputId": "0c785765-40f7-4e42-8ed5-03af0d295190"
   },
   "execution_count": null,
   "outputs": [
    {
     "metadata": {
      "tags": null
     },
     "name": "stdout",
     "output_type": "stream",
     "text": [
      "Processing batch 1/172 with batch size: 128\n"
     ]
    },
    {
     "metadata": {
      "tags": null
     },
     "name": "stderr",
     "output_type": "stream",
     "text": [
      "Processed prompts: 100%|██████████| 128/128 [00:25<00:00,  4.94it/s, est. speed input: 7484.63 toks/s, output: 21.59 toks/s]\n"
     ]
    },
    {
     "metadata": {
      "tags": null
     },
     "name": "stdout",
     "output_type": "stream",
     "text": [
      "Feature 'seniority' processed in 1 batch(s) in 26.36 seconds\n",
      "Processing batch 2/172 with batch size: 128\n"
     ]
    },
    {
     "metadata": {
      "tags": null
     },
     "name": "stderr",
     "output_type": "stream",
     "text": [
      "Processed prompts: 100%|██████████| 128/128 [00:21<00:00,  5.88it/s, est. speed input: 8154.03 toks/s, output: 18.89 toks/s]\n"
     ]
    },
    {
     "metadata": {
      "tags": null
     },
     "name": "stdout",
     "output_type": "stream",
     "text": [
      "Feature 'seniority' processed in 2 batch(s) in 22.29 seconds\n",
      "Processing batch 3/172 with batch size: 128\n"
     ]
    },
    {
     "metadata": {
      "tags": null
     },
     "name": "stderr",
     "output_type": "stream",
     "text": [
      "Processed prompts: 100%|██████████| 128/128 [00:21<00:00,  6.02it/s, est. speed input: 8173.41 toks/s, output: 23.32 toks/s]\n"
     ]
    },
    {
     "metadata": {
      "tags": null
     },
     "name": "stdout",
     "output_type": "stream",
     "text": [
      "Feature 'seniority' processed in 3 batch(s) in 21.93 seconds\n",
      "Processing batch 4/172 with batch size: 128\n"
     ]
    },
    {
     "metadata": {
      "tags": null
     },
     "name": "stderr",
     "output_type": "stream",
     "text": [
      "Processed prompts: 100%|██████████| 128/128 [00:22<00:00,  5.65it/s, est. speed input: 7890.53 toks/s, output: 21.06 toks/s]\n"
     ]
    },
    {
     "metadata": {
      "tags": null
     },
     "name": "stdout",
     "output_type": "stream",
     "text": [
      "Feature 'seniority' processed in 4 batch(s) in 23.12 seconds\n",
      "Processing batch 5/172 with batch size: 128\n"
     ]
    },
    {
     "metadata": {
      "tags": null
     },
     "name": "stderr",
     "output_type": "stream",
     "text": [
      "Processed prompts: 100%|██████████| 128/128 [00:21<00:00,  5.95it/s, est. speed input: 8015.39 toks/s, output: 21.62 toks/s]\n"
     ]
    },
    {
     "metadata": {
      "tags": null
     },
     "name": "stdout",
     "output_type": "stream",
     "text": [
      "Feature 'seniority' processed in 5 batch(s) in 21.96 seconds\n",
      "Processing batch 6/172 with batch size: 128\n"
     ]
    },
    {
     "metadata": {
      "tags": null
     },
     "name": "stderr",
     "output_type": "stream",
     "text": [
      "Processed prompts: 100%|██████████| 128/128 [00:23<00:00,  5.39it/s, est. speed input: 8036.50 toks/s, output: 21.09 toks/s]\n"
     ]
    },
    {
     "metadata": {
      "tags": null
     },
     "name": "stdout",
     "output_type": "stream",
     "text": [
      "Feature 'seniority' processed in 6 batch(s) in 24.24 seconds\n",
      "Processing batch 7/172 with batch size: 128\n"
     ]
    },
    {
     "metadata": {
      "tags": null
     },
     "name": "stderr",
     "output_type": "stream",
     "text": [
      "Processed prompts: 100%|██████████| 128/128 [00:21<00:00,  5.92it/s, est. speed input: 8056.08 toks/s, output: 21.17 toks/s]\n"
     ]
    },
    {
     "metadata": {
      "tags": null
     },
     "name": "stdout",
     "output_type": "stream",
     "text": [
      "Feature 'seniority' processed in 7 batch(s) in 22.07 seconds\n",
      "Processing batch 8/172 with batch size: 128\n"
     ]
    },
    {
     "metadata": {
      "tags": null
     },
     "name": "stderr",
     "output_type": "stream",
     "text": [
      "Processed prompts: 100%|██████████| 128/128 [00:24<00:00,  5.22it/s, est. speed input: 7910.23 toks/s, output: 20.82 toks/s]\n"
     ]
    },
    {
     "metadata": {
      "tags": null
     },
     "name": "stdout",
     "output_type": "stream",
     "text": [
      "Feature 'seniority' processed in 8 batch(s) in 25.05 seconds\n",
      "Processing batch 9/172 with batch size: 128\n"
     ]
    },
    {
     "metadata": {
      "tags": null
     },
     "name": "stderr",
     "output_type": "stream",
     "text": [
      "Processed prompts: 100%|██████████| 128/128 [00:23<00:00,  5.49it/s, est. speed input: 8031.28 toks/s, output: 21.63 toks/s]\n"
     ]
    },
    {
     "metadata": {
      "tags": null
     },
     "name": "stdout",
     "output_type": "stream",
     "text": [
      "Feature 'seniority' processed in 9 batch(s) in 23.79 seconds\n",
      "Processing batch 10/172 with batch size: 128\n"
     ]
    },
    {
     "metadata": {
      "tags": null
     },
     "name": "stderr",
     "output_type": "stream",
     "text": [
      "Processed prompts: 100%|██████████| 128/128 [00:22<00:00,  5.80it/s, est. speed input: 8024.57 toks/s, output: 23.84 toks/s]\n"
     ]
    },
    {
     "metadata": {
      "tags": null
     },
     "name": "stdout",
     "output_type": "stream",
     "text": [
      "Feature 'seniority' processed in 10 batch(s) in 22.53 seconds\n",
      "Saving...\n",
      "Processing batch 11/172 with batch size: 128\n"
     ]
    },
    {
     "metadata": {
      "tags": null
     },
     "name": "stderr",
     "output_type": "stream",
     "text": [
      "Processed prompts: 100%|██████████| 128/128 [00:25<00:00,  5.05it/s, est. speed input: 7898.15 toks/s, output: 22.50 toks/s]\n"
     ]
    },
    {
     "metadata": {
      "tags": null
     },
     "name": "stdout",
     "output_type": "stream",
     "text": [
      "Feature 'seniority' processed in 11 batch(s) in 26.13 seconds\n",
      "Processing batch 12/172 with batch size: 128\n"
     ]
    },
    {
     "metadata": {
      "tags": null
     },
     "name": "stderr",
     "output_type": "stream",
     "text": [
      "Processed prompts: 100%|██████████| 128/128 [00:23<00:00,  5.35it/s, est. speed input: 7961.44 toks/s, output: 22.32 toks/s]\n"
     ]
    },
    {
     "metadata": {
      "tags": null
     },
     "name": "stdout",
     "output_type": "stream",
     "text": [
      "Feature 'seniority' processed in 12 batch(s) in 24.43 seconds\n",
      "Processing batch 13/172 with batch size: 128\n"
     ]
    },
    {
     "metadata": {
      "tags": null
     },
     "name": "stderr",
     "output_type": "stream",
     "text": [
      "Processed prompts: 100%|██████████| 128/128 [00:22<00:00,  5.68it/s, est. speed input: 8079.27 toks/s, output: 22.02 toks/s]\n"
     ]
    },
    {
     "metadata": {
      "tags": null
     },
     "name": "stdout",
     "output_type": "stream",
     "text": [
      "Feature 'seniority' processed in 13 batch(s) in 22.99 seconds\n",
      "Processing batch 14/172 with batch size: 128\n"
     ]
    },
    {
     "metadata": {
      "tags": null
     },
     "name": "stderr",
     "output_type": "stream",
     "text": [
      "Processed prompts: 100%|██████████| 128/128 [00:22<00:00,  5.80it/s, est. speed input: 8045.06 toks/s, output: 24.13 toks/s]\n"
     ]
    },
    {
     "metadata": {
      "tags": null
     },
     "name": "stdout",
     "output_type": "stream",
     "text": [
      "Feature 'seniority' processed in 14 batch(s) in 22.52 seconds\n",
      "Processing batch 15/172 with batch size: 128\n"
     ]
    },
    {
     "metadata": {
      "tags": null
     },
     "name": "stderr",
     "output_type": "stream",
     "text": [
      "Processed prompts: 100%|██████████| 128/128 [00:22<00:00,  5.74it/s, est. speed input: 7885.81 toks/s, output: 23.35 toks/s]\n"
     ]
    },
    {
     "metadata": {
      "tags": null
     },
     "name": "stdout",
     "output_type": "stream",
     "text": [
      "Feature 'seniority' processed in 15 batch(s) in 22.76 seconds\n",
      "Processing batch 16/172 with batch size: 128\n"
     ]
    },
    {
     "metadata": {
      "tags": null
     },
     "name": "stderr",
     "output_type": "stream",
     "text": [
      "Processed prompts: 100%|██████████| 128/128 [00:22<00:00,  5.71it/s, est. speed input: 7985.65 toks/s, output: 24.71 toks/s]\n"
     ]
    },
    {
     "metadata": {
      "tags": null
     },
     "name": "stdout",
     "output_type": "stream",
     "text": [
      "Feature 'seniority' processed in 16 batch(s) in 22.90 seconds\n",
      "Processing batch 17/172 with batch size: 128\n"
     ]
    },
    {
     "metadata": {
      "tags": null
     },
     "name": "stderr",
     "output_type": "stream",
     "text": [
      "Processed prompts: 100%|██████████| 128/128 [00:22<00:00,  5.61it/s, est. speed input: 8038.39 toks/s, output: 24.69 toks/s]\n"
     ]
    },
    {
     "metadata": {
      "tags": null
     },
     "name": "stdout",
     "output_type": "stream",
     "text": [
      "Feature 'seniority' processed in 17 batch(s) in 23.31 seconds\n",
      "Processing batch 18/172 with batch size: 128\n"
     ]
    },
    {
     "metadata": {
      "tags": null
     },
     "name": "stderr",
     "output_type": "stream",
     "text": [
      "Processed prompts: 100%|██████████| 128/128 [00:21<00:00,  5.90it/s, est. speed input: 8049.42 toks/s, output: 22.40 toks/s]\n"
     ]
    },
    {
     "metadata": {
      "tags": null
     },
     "name": "stdout",
     "output_type": "stream",
     "text": [
      "Feature 'seniority' processed in 18 batch(s) in 22.15 seconds\n",
      "Processing batch 19/172 with batch size: 128\n"
     ]
    },
    {
     "metadata": {
      "tags": null
     },
     "name": "stderr",
     "output_type": "stream",
     "text": [
      "Processed prompts: 100%|██████████| 128/128 [00:22<00:00,  5.67it/s, est. speed input: 7997.12 toks/s, output: 25.14 toks/s]\n"
     ]
    },
    {
     "metadata": {
      "tags": null
     },
     "name": "stdout",
     "output_type": "stream",
     "text": [
      "Feature 'seniority' processed in 19 batch(s) in 23.27 seconds\n",
      "Processing batch 20/172 with batch size: 128\n"
     ]
    },
    {
     "metadata": {
      "tags": null
     },
     "name": "stderr",
     "output_type": "stream",
     "text": [
      "Processed prompts: 100%|██████████| 128/128 [00:20<00:00,  6.10it/s, est. speed input: 8070.70 toks/s, output: 24.12 toks/s]\n"
     ]
    },
    {
     "metadata": {
      "tags": null
     },
     "name": "stdout",
     "output_type": "stream",
     "text": [
      "Feature 'seniority' processed in 20 batch(s) in 21.64 seconds\n",
      "Saving...\n",
      "Processing batch 21/172 with batch size: 128\n"
     ]
    },
    {
     "metadata": {
      "tags": null
     },
     "name": "stderr",
     "output_type": "stream",
     "text": [
      "Processed prompts: 100%|██████████| 128/128 [00:23<00:00,  5.45it/s, est. speed input: 7735.26 toks/s, output: 23.74 toks/s]\n"
     ]
    },
    {
     "metadata": {
      "tags": null
     },
     "name": "stdout",
     "output_type": "stream",
     "text": [
      "Feature 'seniority' processed in 21 batch(s) in 24.20 seconds\n",
      "Processing batch 22/172 with batch size: 128\n"
     ]
    },
    {
     "metadata": {
      "tags": null
     },
     "name": "stderr",
     "output_type": "stream",
     "text": [
      "Processed prompts: 100%|██████████| 128/128 [00:23<00:00,  5.38it/s, est. speed input: 7926.76 toks/s, output: 25.66 toks/s]\n"
     ]
    },
    {
     "metadata": {
      "tags": null
     },
     "name": "stdout",
     "output_type": "stream",
     "text": [
      "Feature 'seniority' processed in 22 batch(s) in 24.53 seconds\n",
      "Processing batch 23/172 with batch size: 128\n"
     ]
    },
    {
     "metadata": {
      "tags": null
     },
     "name": "stderr",
     "output_type": "stream",
     "text": [
      "Processed prompts: 100%|██████████| 128/128 [00:21<00:00,  5.84it/s, est. speed input: 8092.77 toks/s, output: 22.09 toks/s]\n"
     ]
    },
    {
     "metadata": {
      "tags": null
     },
     "name": "stdout",
     "output_type": "stream",
     "text": [
      "Feature 'seniority' processed in 23 batch(s) in 22.38 seconds\n",
      "Processing batch 24/172 with batch size: 128\n"
     ]
    },
    {
     "metadata": {
      "tags": null
     },
     "name": "stderr",
     "output_type": "stream",
     "text": [
      "Processed prompts: 100%|██████████| 128/128 [00:22<00:00,  5.68it/s, est. speed input: 7914.91 toks/s, output: 25.20 toks/s]\n"
     ]
    },
    {
     "metadata": {
      "tags": null
     },
     "name": "stdout",
     "output_type": "stream",
     "text": [
      "Feature 'seniority' processed in 24 batch(s) in 23.14 seconds\n",
      "Processing batch 25/172 with batch size: 128\n"
     ]
    },
    {
     "metadata": {
      "tags": null
     },
     "name": "stderr",
     "output_type": "stream",
     "text": [
      "Processed prompts: 100%|██████████| 128/128 [00:22<00:00,  5.71it/s, est. speed input: 7950.04 toks/s, output: 19.88 toks/s]\n"
     ]
    },
    {
     "metadata": {
      "tags": null
     },
     "name": "stdout",
     "output_type": "stream",
     "text": [
      "Feature 'seniority' processed in 25 batch(s) in 23.13 seconds\n",
      "Processing batch 26/172 with batch size: 128\n"
     ]
    },
    {
     "metadata": {
      "tags": null
     },
     "name": "stderr",
     "output_type": "stream",
     "text": [
      "Processed prompts: 100%|██████████| 128/128 [00:22<00:00,  5.66it/s, est. speed input: 7978.77 toks/s, output: 20.36 toks/s]\n"
     ]
    },
    {
     "metadata": {
      "tags": null
     },
     "name": "stdout",
     "output_type": "stream",
     "text": [
      "Feature 'seniority' processed in 26 batch(s) in 23.29 seconds\n",
      "Processing batch 27/172 with batch size: 128\n"
     ]
    },
    {
     "metadata": {
      "tags": null
     },
     "name": "stderr",
     "output_type": "stream",
     "text": [
      "Processed prompts: 100%|██████████| 128/128 [00:21<00:00,  5.89it/s, est. speed input: 8125.43 toks/s, output: 22.30 toks/s]\n"
     ]
    },
    {
     "metadata": {
      "tags": null
     },
     "name": "stdout",
     "output_type": "stream",
     "text": [
      "Feature 'seniority' processed in 27 batch(s) in 22.46 seconds\n",
      "Processing batch 28/172 with batch size: 128\n"
     ]
    },
    {
     "metadata": {
      "tags": null
     },
     "name": "stderr",
     "output_type": "stream",
     "text": [
      "Processed prompts: 100%|██████████| 128/128 [00:20<00:00,  6.29it/s, est. speed input: 8018.20 toks/s, output: 19.71 toks/s]\n"
     ]
    },
    {
     "metadata": {
      "tags": null
     },
     "name": "stdout",
     "output_type": "stream",
     "text": [
      "Feature 'seniority' processed in 28 batch(s) in 20.98 seconds\n",
      "Processing batch 29/172 with batch size: 128\n"
     ]
    },
    {
     "metadata": {
      "tags": null
     },
     "name": "stderr",
     "output_type": "stream",
     "text": [
      "Processed prompts: 100%|██████████| 128/128 [00:22<00:00,  5.60it/s, est. speed input: 7874.39 toks/s, output: 23.29 toks/s]\n"
     ]
    },
    {
     "metadata": {
      "tags": null
     },
     "name": "stdout",
     "output_type": "stream",
     "text": [
      "Feature 'seniority' processed in 29 batch(s) in 23.30 seconds\n",
      "Processing batch 30/172 with batch size: 128\n"
     ]
    },
    {
     "metadata": {
      "tags": null
     },
     "name": "stderr",
     "output_type": "stream",
     "text": [
      "Processed prompts: 100%|██████████| 128/128 [00:24<00:00,  5.29it/s, est. speed input: 8005.53 toks/s, output: 22.00 toks/s]\n"
     ]
    },
    {
     "metadata": {
      "tags": null
     },
     "name": "stdout",
     "output_type": "stream",
     "text": [
      "Feature 'seniority' processed in 30 batch(s) in 24.68 seconds\n",
      "Saving...\n",
      "Processing batch 31/172 with batch size: 128\n"
     ]
    },
    {
     "metadata": {
      "tags": null
     },
     "name": "stderr",
     "output_type": "stream",
     "text": [
      "Processed prompts: 100%|██████████| 128/128 [00:21<00:00,  6.05it/s, est. speed input: 8105.05 toks/s, output: 23.25 toks/s]\n"
     ]
    },
    {
     "metadata": {
      "tags": null
     },
     "name": "stdout",
     "output_type": "stream",
     "text": [
      "Feature 'seniority' processed in 31 batch(s) in 21.85 seconds\n",
      "Processing batch 32/172 with batch size: 128\n"
     ]
    },
    {
     "metadata": {
      "tags": null
     },
     "name": "stderr",
     "output_type": "stream",
     "text": [
      "Processed prompts: 100%|██████████| 128/128 [00:23<00:00,  5.56it/s, est. speed input: 7885.27 toks/s, output: 23.28 toks/s]\n"
     ]
    },
    {
     "metadata": {
      "tags": null
     },
     "name": "stdout",
     "output_type": "stream",
     "text": [
      "Feature 'seniority' processed in 32 batch(s) in 23.51 seconds\n",
      "Processing batch 33/172 with batch size: 128\n"
     ]
    },
    {
     "metadata": {
      "tags": null
     },
     "name": "stderr",
     "output_type": "stream",
     "text": [
      "Processed prompts: 100%|██████████| 128/128 [00:23<00:00,  5.44it/s, est. speed input: 7946.21 toks/s, output: 23.08 toks/s]\n"
     ]
    },
    {
     "metadata": {
      "tags": null
     },
     "name": "stdout",
     "output_type": "stream",
     "text": [
      "Feature 'seniority' processed in 33 batch(s) in 24.00 seconds\n",
      "Processing batch 34/172 with batch size: 128\n"
     ]
    },
    {
     "metadata": {
      "tags": null
     },
     "name": "stderr",
     "output_type": "stream",
     "text": [
      "Processed prompts: 100%|██████████| 128/128 [00:22<00:00,  5.69it/s, est. speed input: 8041.41 toks/s, output: 23.46 toks/s]\n"
     ]
    },
    {
     "metadata": {
      "tags": null
     },
     "name": "stdout",
     "output_type": "stream",
     "text": [
      "Feature 'seniority' processed in 34 batch(s) in 22.96 seconds\n",
      "Processing batch 35/172 with batch size: 128\n"
     ]
    },
    {
     "metadata": {
      "tags": null
     },
     "name": "stderr",
     "output_type": "stream",
     "text": [
      "Processed prompts: 100%|██████████| 128/128 [00:22<00:00,  5.79it/s, est. speed input: 8041.07 toks/s, output: 20.18 toks/s]\n"
     ]
    },
    {
     "metadata": {
      "tags": null
     },
     "name": "stdout",
     "output_type": "stream",
     "text": [
      "Feature 'seniority' processed in 35 batch(s) in 22.57 seconds\n",
      "Processing batch 36/172 with batch size: 128\n"
     ]
    },
    {
     "metadata": {
      "tags": null
     },
     "name": "stderr",
     "output_type": "stream",
     "text": [
      "Processed prompts: 100%|██████████| 128/128 [00:21<00:00,  5.96it/s, est. speed input: 8075.91 toks/s, output: 25.14 toks/s]\n"
     ]
    },
    {
     "metadata": {
      "tags": null
     },
     "name": "stdout",
     "output_type": "stream",
     "text": [
      "Feature 'seniority' processed in 36 batch(s) in 21.93 seconds\n",
      "Processing batch 37/172 with batch size: 128\n"
     ]
    },
    {
     "metadata": {
      "tags": null
     },
     "name": "stderr",
     "output_type": "stream",
     "text": [
      "Processed prompts: 100%|██████████| 128/128 [00:22<00:00,  5.62it/s, est. speed input: 8026.69 toks/s, output: 21.36 toks/s]\n"
     ]
    },
    {
     "metadata": {
      "tags": null
     },
     "name": "stdout",
     "output_type": "stream",
     "text": [
      "Feature 'seniority' processed in 37 batch(s) in 23.27 seconds\n",
      "Processing batch 38/172 with batch size: 128\n"
     ]
    },
    {
     "metadata": {
      "tags": null
     },
     "name": "stderr",
     "output_type": "stream",
     "text": [
      "Processed prompts: 100%|██████████| 128/128 [00:23<00:00,  5.39it/s, est. speed input: 7995.77 toks/s, output: 22.54 toks/s]\n"
     ]
    },
    {
     "metadata": {
      "tags": null
     },
     "name": "stdout",
     "output_type": "stream",
     "text": [
      "Feature 'seniority' processed in 38 batch(s) in 24.21 seconds\n",
      "Processing batch 39/172 with batch size: 128\n"
     ]
    },
    {
     "metadata": {
      "tags": null
     },
     "name": "stderr",
     "output_type": "stream",
     "text": [
      "Processed prompts: 100%|██████████| 128/128 [00:22<00:00,  5.77it/s, est. speed input: 8055.71 toks/s, output: 22.69 toks/s]\n"
     ]
    },
    {
     "metadata": {
      "tags": null
     },
     "name": "stdout",
     "output_type": "stream",
     "text": [
      "Feature 'seniority' processed in 39 batch(s) in 22.64 seconds\n",
      "Processing batch 40/172 with batch size: 128\n"
     ]
    },
    {
     "metadata": {
      "tags": null
     },
     "name": "stderr",
     "output_type": "stream",
     "text": [
      "Processed prompts: 100%|██████████| 128/128 [00:22<00:00,  5.66it/s, est. speed input: 8050.21 toks/s, output: 22.44 toks/s]\n"
     ]
    },
    {
     "metadata": {
      "tags": null
     },
     "name": "stdout",
     "output_type": "stream",
     "text": [
      "Feature 'seniority' processed in 40 batch(s) in 23.06 seconds\n",
      "Saving...\n",
      "Processing batch 41/172 with batch size: 128\n"
     ]
    },
    {
     "metadata": {
      "tags": null
     },
     "name": "stderr",
     "output_type": "stream",
     "text": [
      "Processed prompts: 100%|██████████| 128/128 [00:21<00:00,  5.92it/s, est. speed input: 8094.25 toks/s, output: 23.64 toks/s]\n"
     ]
    },
    {
     "metadata": {
      "tags": null
     },
     "name": "stdout",
     "output_type": "stream",
     "text": [
      "Feature 'seniority' processed in 41 batch(s) in 22.06 seconds\n",
      "Processing batch 42/172 with batch size: 128\n"
     ]
    },
    {
     "metadata": {
      "tags": null
     },
     "name": "stderr",
     "output_type": "stream",
     "text": [
      "Processed prompts: 100%|██████████| 128/128 [00:20<00:00,  6.10it/s, est. speed input: 7978.07 toks/s, output: 21.84 toks/s]\n"
     ]
    },
    {
     "metadata": {
      "tags": null
     },
     "name": "stdout",
     "output_type": "stream",
     "text": [
      "Feature 'seniority' processed in 42 batch(s) in 21.41 seconds\n",
      "Processing batch 43/172 with batch size: 128\n"
     ]
    },
    {
     "metadata": {
      "tags": null
     },
     "name": "stderr",
     "output_type": "stream",
     "text": [
      "Processed prompts: 100%|██████████| 128/128 [00:21<00:00,  5.87it/s, est. speed input: 7942.50 toks/s, output: 20.99 toks/s]\n"
     ]
    },
    {
     "metadata": {
      "tags": null
     },
     "name": "stdout",
     "output_type": "stream",
     "text": [
      "Feature 'seniority' processed in 43 batch(s) in 22.26 seconds\n",
      "Processing batch 44/172 with batch size: 128\n"
     ]
    },
    {
     "metadata": {
      "tags": null
     },
     "name": "stderr",
     "output_type": "stream",
     "text": [
      "Processed prompts: 100%|██████████| 128/128 [00:21<00:00,  6.03it/s, est. speed input: 8161.73 toks/s, output: 19.87 toks/s]\n"
     ]
    },
    {
     "metadata": {
      "tags": null
     },
     "name": "stdout",
     "output_type": "stream",
     "text": [
      "Feature 'seniority' processed in 44 batch(s) in 21.70 seconds\n",
      "Processing batch 45/172 with batch size: 128\n"
     ]
    },
    {
     "metadata": {
      "tags": null
     },
     "name": "stderr",
     "output_type": "stream",
     "text": [
      "Processed prompts: 100%|██████████| 128/128 [00:20<00:00,  6.16it/s, est. speed input: 8006.32 toks/s, output: 22.29 toks/s]\n"
     ]
    },
    {
     "metadata": {
      "tags": null
     },
     "name": "stdout",
     "output_type": "stream",
     "text": [
      "Feature 'seniority' processed in 45 batch(s) in 21.43 seconds\n",
      "Processing batch 46/172 with batch size: 128\n"
     ]
    },
    {
     "metadata": {
      "tags": null
     },
     "name": "stderr",
     "output_type": "stream",
     "text": [
      "Processed prompts: 100%|██████████| 128/128 [00:23<00:00,  5.54it/s, est. speed input: 7985.02 toks/s, output: 20.16 toks/s]\n"
     ]
    },
    {
     "metadata": {
      "tags": null
     },
     "name": "stdout",
     "output_type": "stream",
     "text": [
      "Feature 'seniority' processed in 46 batch(s) in 23.60 seconds\n",
      "Processing batch 47/172 with batch size: 128\n"
     ]
    },
    {
     "metadata": {
      "tags": null
     },
     "name": "stderr",
     "output_type": "stream",
     "text": [
      "Processed prompts: 100%|██████████| 128/128 [00:21<00:00,  5.94it/s, est. speed input: 8070.40 toks/s, output: 23.06 toks/s]\n"
     ]
    },
    {
     "metadata": {
      "tags": null
     },
     "name": "stdout",
     "output_type": "stream",
     "text": [
      "Feature 'seniority' processed in 47 batch(s) in 22.01 seconds\n",
      "Processing batch 48/172 with batch size: 128\n"
     ]
    },
    {
     "metadata": {
      "tags": null
     },
     "name": "stderr",
     "output_type": "stream",
     "text": [
      "Processed prompts: 100%|██████████| 128/128 [00:21<00:00,  5.91it/s, est. speed input: 8041.14 toks/s, output: 24.75 toks/s]\n"
     ]
    },
    {
     "metadata": {
      "tags": null
     },
     "name": "stdout",
     "output_type": "stream",
     "text": [
      "Feature 'seniority' processed in 48 batch(s) in 22.12 seconds\n",
      "Processing batch 49/172 with batch size: 128\n"
     ]
    },
    {
     "metadata": {
      "tags": null
     },
     "name": "stderr",
     "output_type": "stream",
     "text": [
      "Processed prompts: 100%|██████████| 128/128 [00:21<00:00,  5.84it/s, est. speed input: 8006.08 toks/s, output: 22.35 toks/s]\n"
     ]
    },
    {
     "metadata": {
      "tags": null
     },
     "name": "stdout",
     "output_type": "stream",
     "text": [
      "Feature 'seniority' processed in 49 batch(s) in 22.37 seconds\n",
      "Processing batch 50/172 with batch size: 128\n"
     ]
    },
    {
     "metadata": {
      "tags": null
     },
     "name": "stderr",
     "output_type": "stream",
     "text": [
      "Processed prompts: 100%|██████████| 128/128 [00:22<00:00,  5.75it/s, est. speed input: 8022.06 toks/s, output: 19.26 toks/s]\n"
     ]
    },
    {
     "metadata": {
      "tags": null
     },
     "name": "stdout",
     "output_type": "stream",
     "text": [
      "Feature 'seniority' processed in 50 batch(s) in 22.72 seconds\n",
      "Saving...\n",
      "Processing batch 51/172 with batch size: 128\n"
     ]
    },
    {
     "metadata": {
      "tags": null
     },
     "name": "stderr",
     "output_type": "stream",
     "text": [
      "Processed prompts: 100%|██████████| 128/128 [00:24<00:00,  5.31it/s, est. speed input: 7966.61 toks/s, output: 22.44 toks/s]\n"
     ]
    },
    {
     "metadata": {
      "tags": null
     },
     "name": "stdout",
     "output_type": "stream",
     "text": [
      "Feature 'seniority' processed in 51 batch(s) in 24.61 seconds\n",
      "Processing batch 52/172 with batch size: 128\n"
     ]
    },
    {
     "metadata": {
      "tags": null
     },
     "name": "stderr",
     "output_type": "stream",
     "text": [
      "Processed prompts: 100%|██████████| 128/128 [00:25<00:00,  4.93it/s, est. speed input: 7901.43 toks/s, output: 20.63 toks/s]\n"
     ]
    },
    {
     "metadata": {
      "tags": null
     },
     "name": "stdout",
     "output_type": "stream",
     "text": [
      "Feature 'seniority' processed in 52 batch(s) in 26.50 seconds\n",
      "Processing batch 53/172 with batch size: 128\n"
     ]
    },
    {
     "metadata": {
      "tags": null
     },
     "name": "stderr",
     "output_type": "stream",
     "text": [
      "Processed prompts: 100%|██████████| 128/128 [00:22<00:00,  5.66it/s, est. speed input: 8064.56 toks/s, output: 23.34 toks/s]\n"
     ]
    },
    {
     "metadata": {
      "tags": null
     },
     "name": "stdout",
     "output_type": "stream",
     "text": [
      "Feature 'seniority' processed in 53 batch(s) in 23.08 seconds\n",
      "Processing batch 54/172 with batch size: 128\n"
     ]
    },
    {
     "metadata": {
      "tags": null
     },
     "name": "stderr",
     "output_type": "stream",
     "text": [
      "Processed prompts: 100%|██████████| 128/128 [00:23<00:00,  5.50it/s, est. speed input: 8051.73 toks/s, output: 21.95 toks/s]\n"
     ]
    },
    {
     "metadata": {
      "tags": null
     },
     "name": "stdout",
     "output_type": "stream",
     "text": [
      "Feature 'seniority' processed in 54 batch(s) in 23.76 seconds\n",
      "Processing batch 55/172 with batch size: 128\n"
     ]
    },
    {
     "metadata": {
      "tags": null
     },
     "name": "stderr",
     "output_type": "stream",
     "text": [
      "Processed prompts: 100%|██████████| 128/128 [00:21<00:00,  6.00it/s, est. speed input: 8082.47 toks/s, output: 20.58 toks/s]\n"
     ]
    },
    {
     "metadata": {
      "tags": null
     },
     "name": "stdout",
     "output_type": "stream",
     "text": [
      "Feature 'seniority' processed in 55 batch(s) in 21.78 seconds\n",
      "Processing batch 56/172 with batch size: 128\n"
     ]
    },
    {
     "metadata": {
      "tags": null
     },
     "name": "stderr",
     "output_type": "stream",
     "text": [
      "Processed prompts: 100%|██████████| 128/128 [00:23<00:00,  5.47it/s, est. speed input: 7946.92 toks/s, output: 22.61 toks/s]\n"
     ]
    },
    {
     "metadata": {
      "tags": null
     },
     "name": "stdout",
     "output_type": "stream",
     "text": [
      "Feature 'seniority' processed in 56 batch(s) in 23.88 seconds\n",
      "Processing batch 57/172 with batch size: 128\n"
     ]
    },
    {
     "metadata": {
      "tags": null
     },
     "name": "stderr",
     "output_type": "stream",
     "text": [
      "Processed prompts: 100%|██████████| 128/128 [00:21<00:00,  5.85it/s, est. speed input: 8112.31 toks/s, output: 19.30 toks/s]\n"
     ]
    },
    {
     "metadata": {
      "tags": null
     },
     "name": "stdout",
     "output_type": "stream",
     "text": [
      "Feature 'seniority' processed in 57 batch(s) in 22.33 seconds\n",
      "Processing batch 58/172 with batch size: 128\n"
     ]
    },
    {
     "metadata": {
      "tags": null
     },
     "name": "stderr",
     "output_type": "stream",
     "text": [
      "Processed prompts: 100%|██████████| 128/128 [00:21<00:00,  6.00it/s, est. speed input: 8074.64 toks/s, output: 21.80 toks/s]\n"
     ]
    },
    {
     "metadata": {
      "tags": null
     },
     "name": "stdout",
     "output_type": "stream",
     "text": [
      "Feature 'seniority' processed in 58 batch(s) in 21.77 seconds\n",
      "Processing batch 59/172 with batch size: 128\n"
     ]
    },
    {
     "metadata": {
      "tags": null
     },
     "name": "stderr",
     "output_type": "stream",
     "text": [
      "Processed prompts: 100%|██████████| 128/128 [00:21<00:00,  5.97it/s, est. speed input: 7994.06 toks/s, output: 21.40 toks/s]\n"
     ]
    },
    {
     "metadata": {
      "tags": null
     },
     "name": "stdout",
     "output_type": "stream",
     "text": [
      "Feature 'seniority' processed in 59 batch(s) in 21.90 seconds\n",
      "Processing batch 60/172 with batch size: 128\n"
     ]
    },
    {
     "metadata": {
      "tags": null
     },
     "name": "stderr",
     "output_type": "stream",
     "text": [
      "Processed prompts: 100%|██████████| 128/128 [00:23<00:00,  5.56it/s, est. speed input: 8071.26 toks/s, output: 20.32 toks/s]\n"
     ]
    },
    {
     "metadata": {
      "tags": null
     },
     "name": "stdout",
     "output_type": "stream",
     "text": [
      "Feature 'seniority' processed in 60 batch(s) in 23.58 seconds\n",
      "Saving...\n",
      "Processing batch 61/172 with batch size: 128\n"
     ]
    },
    {
     "metadata": {
      "tags": null
     },
     "name": "stderr",
     "output_type": "stream",
     "text": [
      "Processed prompts: 100%|██████████| 128/128 [00:23<00:00,  5.43it/s, est. speed input: 7949.95 toks/s, output: 23.68 toks/s]\n"
     ]
    },
    {
     "metadata": {
      "tags": null
     },
     "name": "stdout",
     "output_type": "stream",
     "text": [
      "Feature 'seniority' processed in 61 batch(s) in 24.06 seconds\n",
      "Processing batch 62/172 with batch size: 128\n"
     ]
    },
    {
     "metadata": {
      "tags": null
     },
     "name": "stderr",
     "output_type": "stream",
     "text": [
      "Processed prompts: 100%|██████████| 128/128 [00:24<00:00,  5.14it/s, est. speed input: 7941.67 toks/s, output: 18.82 toks/s]\n"
     ]
    },
    {
     "metadata": {
      "tags": null
     },
     "name": "stdout",
     "output_type": "stream",
     "text": [
      "Feature 'seniority' processed in 62 batch(s) in 25.42 seconds\n",
      "Processing batch 63/172 with batch size: 128\n"
     ]
    },
    {
     "metadata": {
      "tags": null
     },
     "name": "stderr",
     "output_type": "stream",
     "text": [
      "Processed prompts: 100%|██████████| 128/128 [00:22<00:00,  5.78it/s, est. speed input: 8056.74 toks/s, output: 21.45 toks/s]\n"
     ]
    },
    {
     "metadata": {
      "tags": null
     },
     "name": "stdout",
     "output_type": "stream",
     "text": [
      "Feature 'seniority' processed in 63 batch(s) in 22.61 seconds\n",
      "Processing batch 64/172 with batch size: 128\n"
     ]
    },
    {
     "metadata": {
      "tags": null
     },
     "name": "stderr",
     "output_type": "stream",
     "text": [
      "Processed prompts: 100%|██████████| 128/128 [00:20<00:00,  6.36it/s, est. speed input: 8079.22 toks/s, output: 21.43 toks/s]\n"
     ]
    },
    {
     "metadata": {
      "tags": null
     },
     "name": "stdout",
     "output_type": "stream",
     "text": [
      "Feature 'seniority' processed in 64 batch(s) in 20.53 seconds\n",
      "Processing batch 65/172 with batch size: 128\n"
     ]
    },
    {
     "metadata": {
      "tags": null
     },
     "name": "stderr",
     "output_type": "stream",
     "text": [
      "Processed prompts: 100%|██████████| 128/128 [00:17<00:00,  7.33it/s, est. speed input: 8085.93 toks/s, output: 21.07 toks/s]\n"
     ]
    },
    {
     "metadata": {
      "tags": null
     },
     "name": "stdout",
     "output_type": "stream",
     "text": [
      "Feature 'seniority' processed in 65 batch(s) in 17.84 seconds\n",
      "Processing batch 66/172 with batch size: 128\n"
     ]
    },
    {
     "metadata": {
      "tags": null
     },
     "name": "stderr",
     "output_type": "stream",
     "text": [
      "Processed prompts: 100%|██████████| 128/128 [00:18<00:00,  6.94it/s, est. speed input: 8028.81 toks/s, output: 24.24 toks/s]\n"
     ]
    },
    {
     "metadata": {
      "tags": null
     },
     "name": "stdout",
     "output_type": "stream",
     "text": [
      "Feature 'seniority' processed in 66 batch(s) in 18.85 seconds\n",
      "Processing batch 67/172 with batch size: 128\n"
     ]
    },
    {
     "metadata": {
      "tags": null
     },
     "name": "stderr",
     "output_type": "stream",
     "text": [
      "Processed prompts: 100%|██████████| 128/128 [00:17<00:00,  7.21it/s, est. speed input: 8140.79 toks/s, output: 27.72 toks/s]\n"
     ]
    },
    {
     "metadata": {
      "tags": null
     },
     "name": "stdout",
     "output_type": "stream",
     "text": [
      "Feature 'seniority' processed in 67 batch(s) in 18.13 seconds\n",
      "Processing batch 68/172 with batch size: 128\n"
     ]
    },
    {
     "metadata": {
      "tags": null
     },
     "name": "stderr",
     "output_type": "stream",
     "text": [
      "Processed prompts: 100%|██████████| 128/128 [00:17<00:00,  7.14it/s, est. speed input: 8175.10 toks/s, output: 24.11 toks/s]\n"
     ]
    },
    {
     "metadata": {
      "tags": null
     },
     "name": "stdout",
     "output_type": "stream",
     "text": [
      "Feature 'seniority' processed in 68 batch(s) in 18.31 seconds\n",
      "Processing batch 69/172 with batch size: 128\n"
     ]
    },
    {
     "metadata": {
      "tags": null
     },
     "name": "stderr",
     "output_type": "stream",
     "text": [
      "Processed prompts: 100%|██████████| 128/128 [00:17<00:00,  7.19it/s, est. speed input: 8104.57 toks/s, output: 29.56 toks/s]\n"
     ]
    },
    {
     "metadata": {
      "tags": null
     },
     "name": "stdout",
     "output_type": "stream",
     "text": [
      "Feature 'seniority' processed in 69 batch(s) in 18.20 seconds\n",
      "Processing batch 70/172 with batch size: 128\n"
     ]
    },
    {
     "metadata": {
      "tags": null
     },
     "name": "stderr",
     "output_type": "stream",
     "text": [
      "Processed prompts: 100%|██████████| 128/128 [00:18<00:00,  7.04it/s, est. speed input: 7992.26 toks/s, output: 24.46 toks/s]\n"
     ]
    },
    {
     "metadata": {
      "tags": null
     },
     "name": "stdout",
     "output_type": "stream",
     "text": [
      "Feature 'seniority' processed in 70 batch(s) in 18.79 seconds\n",
      "Saving...\n",
      "Processing batch 71/172 with batch size: 128\n"
     ]
    },
    {
     "metadata": {
      "tags": null
     },
     "name": "stderr",
     "output_type": "stream",
     "text": [
      "Processed prompts: 100%|██████████| 128/128 [00:17<00:00,  7.50it/s, est. speed input: 8193.71 toks/s, output: 25.65 toks/s]\n"
     ]
    },
    {
     "metadata": {
      "tags": null
     },
     "name": "stdout",
     "output_type": "stream",
     "text": [
      "Feature 'seniority' processed in 71 batch(s) in 17.48 seconds\n",
      "Processing batch 72/172 with batch size: 128\n"
     ]
    },
    {
     "metadata": {
      "tags": null
     },
     "name": "stderr",
     "output_type": "stream",
     "text": [
      "Processed prompts: 100%|██████████| 128/128 [00:18<00:00,  7.05it/s, est. speed input: 8005.32 toks/s, output: 27.71 toks/s]\n"
     ]
    },
    {
     "metadata": {
      "tags": null
     },
     "name": "stdout",
     "output_type": "stream",
     "text": [
      "Feature 'seniority' processed in 72 batch(s) in 18.56 seconds\n",
      "Processing batch 73/172 with batch size: 128\n"
     ]
    },
    {
     "metadata": {
      "tags": null
     },
     "name": "stderr",
     "output_type": "stream",
     "text": [
      "Processed prompts: 100%|██████████| 128/128 [00:18<00:00,  7.02it/s, est. speed input: 8095.86 toks/s, output: 25.43 toks/s]\n"
     ]
    },
    {
     "metadata": {
      "tags": null
     },
     "name": "stdout",
     "output_type": "stream",
     "text": [
      "Feature 'seniority' processed in 73 batch(s) in 18.65 seconds\n",
      "Processing batch 74/172 with batch size: 127\n"
     ]
    },
    {
     "metadata": {
      "tags": null
     },
     "name": "stderr",
     "output_type": "stream",
     "text": [
      "Processed prompts: 100%|██████████| 127/127 [00:17<00:00,  7.39it/s, est. speed input: 8146.53 toks/s, output: 26.65 toks/s]\n"
     ]
    },
    {
     "metadata": {
      "tags": null
     },
     "name": "stdout",
     "output_type": "stream",
     "text": [
      "Feature 'seniority' processed in 74 batch(s) in 17.59 seconds\n",
      "Processing batch 75/172 with batch size: 127\n"
     ]
    },
    {
     "metadata": {
      "tags": null
     },
     "name": "stderr",
     "output_type": "stream",
     "text": [
      "Processed prompts: 100%|██████████| 127/127 [00:17<00:00,  7.21it/s, est. speed input: 8100.80 toks/s, output: 26.17 toks/s]\n"
     ]
    },
    {
     "metadata": {
      "tags": null
     },
     "name": "stdout",
     "output_type": "stream",
     "text": [
      "Feature 'seniority' processed in 75 batch(s) in 18.21 seconds\n",
      "Processing batch 76/172 with batch size: 127\n"
     ]
    },
    {
     "metadata": {
      "tags": null
     },
     "name": "stderr",
     "output_type": "stream",
     "text": [
      "Processed prompts: 100%|██████████| 127/127 [00:17<00:00,  7.15it/s, est. speed input: 8176.88 toks/s, output: 23.36 toks/s]\n"
     ]
    },
    {
     "metadata": {
      "tags": null
     },
     "name": "stdout",
     "output_type": "stream",
     "text": [
      "Feature 'seniority' processed in 76 batch(s) in 18.15 seconds\n",
      "Processing batch 77/172 with batch size: 127\n"
     ]
    },
    {
     "metadata": {
      "tags": null
     },
     "name": "stderr",
     "output_type": "stream",
     "text": [
      "Processed prompts: 100%|██████████| 127/127 [00:18<00:00,  7.00it/s, est. speed input: 8159.08 toks/s, output: 23.15 toks/s]\n"
     ]
    },
    {
     "metadata": {
      "tags": null
     },
     "name": "stdout",
     "output_type": "stream",
     "text": [
      "Feature 'seniority' processed in 77 batch(s) in 18.66 seconds\n",
      "Processing batch 78/172 with batch size: 127\n"
     ]
    },
    {
     "metadata": {
      "tags": null
     },
     "name": "stderr",
     "output_type": "stream",
     "text": [
      "Processed prompts: 100%|██████████| 127/127 [00:18<00:00,  6.74it/s, est. speed input: 8011.43 toks/s, output: 30.67 toks/s]\n"
     ]
    },
    {
     "metadata": {
      "tags": null
     },
     "name": "stdout",
     "output_type": "stream",
     "text": [
      "Feature 'seniority' processed in 78 batch(s) in 19.26 seconds\n",
      "Processing batch 79/172 with batch size: 127\n"
     ]
    },
    {
     "metadata": {
      "tags": null
     },
     "name": "stderr",
     "output_type": "stream",
     "text": [
      "Processed prompts: 100%|██████████| 127/127 [00:19<00:00,  6.54it/s, est. speed input: 8066.50 toks/s, output: 26.41 toks/s]\n"
     ]
    },
    {
     "metadata": {
      "tags": null
     },
     "name": "stdout",
     "output_type": "stream",
     "text": [
      "Feature 'seniority' processed in 79 batch(s) in 19.87 seconds\n",
      "Processing batch 80/172 with batch size: 127\n"
     ]
    },
    {
     "metadata": {
      "tags": null
     },
     "name": "stderr",
     "output_type": "stream",
     "text": [
      "Processed prompts: 100%|██████████| 127/127 [00:16<00:00,  7.57it/s, est. speed input: 8177.02 toks/s, output: 29.26 toks/s]\n"
     ]
    },
    {
     "metadata": {
      "tags": null
     },
     "name": "stdout",
     "output_type": "stream",
     "text": [
      "Feature 'seniority' processed in 80 batch(s) in 17.32 seconds\n",
      "Saving...\n",
      "Processing batch 81/172 with batch size: 127\n"
     ]
    },
    {
     "metadata": {
      "tags": null
     },
     "name": "stderr",
     "output_type": "stream",
     "text": [
      "Processed prompts: 100%|██████████| 127/127 [00:18<00:00,  6.76it/s, est. speed input: 8080.83 toks/s, output: 22.14 toks/s]\n"
     ]
    },
    {
     "metadata": {
      "tags": null
     },
     "name": "stdout",
     "output_type": "stream",
     "text": [
      "Feature 'seniority' processed in 81 batch(s) in 19.19 seconds\n",
      "Processing batch 82/172 with batch size: 127\n"
     ]
    },
    {
     "metadata": {
      "tags": null
     },
     "name": "stderr",
     "output_type": "stream",
     "text": [
      "Processed prompts: 100%|██████████| 127/127 [00:17<00:00,  7.11it/s, est. speed input: 8018.44 toks/s, output: 24.29 toks/s]\n"
     ]
    },
    {
     "metadata": {
      "tags": null
     },
     "name": "stdout",
     "output_type": "stream",
     "text": [
      "Feature 'seniority' processed in 82 batch(s) in 18.26 seconds\n",
      "Processing batch 83/172 with batch size: 127\n"
     ]
    },
    {
     "metadata": {
      "tags": null
     },
     "name": "stderr",
     "output_type": "stream",
     "text": [
      "Processed prompts: 100%|██████████| 127/127 [00:18<00:00,  6.87it/s, est. speed input: 8056.91 toks/s, output: 25.09 toks/s]\n"
     ]
    },
    {
     "metadata": {
      "tags": null
     },
     "name": "stdout",
     "output_type": "stream",
     "text": [
      "Feature 'seniority' processed in 83 batch(s) in 19.10 seconds\n",
      "Processing batch 84/172 with batch size: 127\n"
     ]
    },
    {
     "metadata": {
      "tags": null
     },
     "name": "stderr",
     "output_type": "stream",
     "text": [
      "Processed prompts: 100%|██████████| 127/127 [00:17<00:00,  7.39it/s, est. speed input: 8129.19 toks/s, output: 25.08 toks/s]\n"
     ]
    },
    {
     "metadata": {
      "tags": null
     },
     "name": "stdout",
     "output_type": "stream",
     "text": [
      "Feature 'seniority' processed in 84 batch(s) in 17.56 seconds\n",
      "Processing batch 85/172 with batch size: 127\n"
     ]
    },
    {
     "metadata": {
      "tags": null
     },
     "name": "stderr",
     "output_type": "stream",
     "text": [
      "Processed prompts: 100%|██████████| 127/127 [00:16<00:00,  7.50it/s, est. speed input: 8224.11 toks/s, output: 27.34 toks/s]\n"
     ]
    },
    {
     "metadata": {
      "tags": null
     },
     "name": "stdout",
     "output_type": "stream",
     "text": [
      "Feature 'seniority' processed in 85 batch(s) in 17.33 seconds\n",
      "Processing batch 86/172 with batch size: 127\n"
     ]
    },
    {
     "metadata": {
      "tags": null
     },
     "name": "stderr",
     "output_type": "stream",
     "text": [
      "Processed prompts: 100%|██████████| 127/127 [00:16<00:00,  7.63it/s, est. speed input: 8198.52 toks/s, output: 27.53 toks/s]\n"
     ]
    },
    {
     "metadata": {
      "tags": null
     },
     "name": "stdout",
     "output_type": "stream",
     "text": [
      "Feature 'seniority' processed in 86 batch(s) in 17.01 seconds\n",
      "Processing batch 87/172 with batch size: 127\n"
     ]
    },
    {
     "metadata": {
      "tags": null
     },
     "name": "stderr",
     "output_type": "stream",
     "text": [
      "Processed prompts: 100%|██████████| 127/127 [00:18<00:00,  6.77it/s, est. speed input: 8012.44 toks/s, output: 25.15 toks/s]\n"
     ]
    },
    {
     "metadata": {
      "tags": null
     },
     "name": "stdout",
     "output_type": "stream",
     "text": [
      "Feature 'seniority' processed in 87 batch(s) in 19.34 seconds\n",
      "Processing batch 88/172 with batch size: 127\n"
     ]
    },
    {
     "metadata": {
      "tags": null
     },
     "name": "stderr",
     "output_type": "stream",
     "text": [
      "Processed prompts: 100%|██████████| 127/127 [00:17<00:00,  7.36it/s, est. speed input: 8035.84 toks/s, output: 23.94 toks/s]\n"
     ]
    },
    {
     "metadata": {
      "tags": null
     },
     "name": "stdout",
     "output_type": "stream",
     "text": [
      "Feature 'seniority' processed in 88 batch(s) in 17.64 seconds\n",
      "Processing batch 89/172 with batch size: 127\n"
     ]
    },
    {
     "metadata": {
      "tags": null
     },
     "name": "stderr",
     "output_type": "stream",
     "text": [
      "Processed prompts: 100%|██████████| 127/127 [00:18<00:00,  7.04it/s, est. speed input: 8146.89 toks/s, output: 25.61 toks/s]\n"
     ]
    },
    {
     "metadata": {
      "tags": null
     },
     "name": "stdout",
     "output_type": "stream",
     "text": [
      "Feature 'seniority' processed in 89 batch(s) in 18.44 seconds\n",
      "Processing batch 90/172 with batch size: 127\n"
     ]
    },
    {
     "metadata": {
      "tags": null
     },
     "name": "stderr",
     "output_type": "stream",
     "text": [
      "Processed prompts: 100%|██████████| 127/127 [00:18<00:00,  6.84it/s, est. speed input: 8168.29 toks/s, output: 21.96 toks/s]\n"
     ]
    },
    {
     "metadata": {
      "tags": null
     },
     "name": "stdout",
     "output_type": "stream",
     "text": [
      "Feature 'seniority' processed in 90 batch(s) in 18.98 seconds\n",
      "Saving...\n",
      "Processing batch 91/172 with batch size: 127\n"
     ]
    },
    {
     "metadata": {
      "tags": null
     },
     "name": "stderr",
     "output_type": "stream",
     "text": [
      "Processed prompts: 100%|██████████| 127/127 [00:17<00:00,  7.20it/s, est. speed input: 8074.20 toks/s, output: 24.90 toks/s]\n"
     ]
    },
    {
     "metadata": {
      "tags": null
     },
     "name": "stdout",
     "output_type": "stream",
     "text": [
      "Feature 'seniority' processed in 91 batch(s) in 18.01 seconds\n",
      "Processing batch 92/172 with batch size: 127\n"
     ]
    },
    {
     "metadata": {
      "tags": null
     },
     "name": "stderr",
     "output_type": "stream",
     "text": [
      "Processed prompts: 100%|██████████| 127/127 [00:19<00:00,  6.45it/s, est. speed input: 7930.19 toks/s, output: 24.78 toks/s]\n"
     ]
    },
    {
     "metadata": {
      "tags": null
     },
     "name": "stdout",
     "output_type": "stream",
     "text": [
      "Feature 'seniority' processed in 92 batch(s) in 20.11 seconds\n",
      "Processing batch 93/172 with batch size: 127\n"
     ]
    },
    {
     "metadata": {
      "tags": null
     },
     "name": "stderr",
     "output_type": "stream",
     "text": [
      "Processed prompts: 100%|██████████| 127/127 [00:17<00:00,  7.12it/s, est. speed input: 8107.67 toks/s, output: 22.75 toks/s]\n"
     ]
    },
    {
     "metadata": {
      "tags": null
     },
     "name": "stdout",
     "output_type": "stream",
     "text": [
      "Feature 'seniority' processed in 93 batch(s) in 18.43 seconds\n",
      "Processing batch 94/172 with batch size: 127\n"
     ]
    },
    {
     "metadata": {
      "tags": null
     },
     "name": "stderr",
     "output_type": "stream",
     "text": [
      "Processed prompts: 100%|██████████| 127/127 [00:18<00:00,  6.71it/s, est. speed input: 8129.59 toks/s, output: 24.20 toks/s]\n"
     ]
    },
    {
     "metadata": {
      "tags": null
     },
     "name": "stdout",
     "output_type": "stream",
     "text": [
      "Feature 'seniority' processed in 94 batch(s) in 19.33 seconds\n",
      "Processing batch 95/172 with batch size: 127\n"
     ]
    },
    {
     "metadata": {
      "tags": null
     },
     "name": "stderr",
     "output_type": "stream",
     "text": [
      "Processed prompts: 100%|██████████| 127/127 [00:17<00:00,  7.23it/s, est. speed input: 8210.25 toks/s, output: 22.67 toks/s]\n"
     ]
    },
    {
     "metadata": {
      "tags": null
     },
     "name": "stdout",
     "output_type": "stream",
     "text": [
      "Feature 'seniority' processed in 95 batch(s) in 17.96 seconds\n",
      "Processing batch 96/172 with batch size: 127\n"
     ]
    },
    {
     "metadata": {
      "tags": null
     },
     "name": "stderr",
     "output_type": "stream",
     "text": [
      "Processed prompts: 100%|██████████| 127/127 [00:17<00:00,  7.23it/s, est. speed input: 8085.02 toks/s, output: 24.75 toks/s]\n"
     ]
    },
    {
     "metadata": {
      "tags": null
     },
     "name": "stdout",
     "output_type": "stream",
     "text": [
      "Feature 'seniority' processed in 96 batch(s) in 17.97 seconds\n",
      "Processing batch 97/172 with batch size: 127\n"
     ]
    },
    {
     "metadata": {
      "tags": null
     },
     "name": "stderr",
     "output_type": "stream",
     "text": [
      "Processed prompts: 100%|██████████| 127/127 [00:18<00:00,  6.88it/s, est. speed input: 8037.52 toks/s, output: 19.38 toks/s]\n"
     ]
    },
    {
     "metadata": {
      "tags": null
     },
     "name": "stdout",
     "output_type": "stream",
     "text": [
      "Feature 'seniority' processed in 97 batch(s) in 18.87 seconds\n",
      "Processing batch 98/172 with batch size: 127\n"
     ]
    },
    {
     "metadata": {
      "tags": null
     },
     "name": "stderr",
     "output_type": "stream",
     "text": [
      "Processed prompts: 100%|██████████| 127/127 [00:13<00:00,  9.09it/s, est. speed input: 8277.36 toks/s, output: 18.18 toks/s]\n"
     ]
    },
    {
     "metadata": {
      "tags": null
     },
     "name": "stdout",
     "output_type": "stream",
     "text": [
      "Feature 'seniority' processed in 98 batch(s) in 14.29 seconds\n",
      "Processing batch 99/172 with batch size: 127\n"
     ]
    },
    {
     "metadata": {
      "tags": null
     },
     "name": "stderr",
     "output_type": "stream",
     "text": [
      "Processed prompts: 100%|██████████| 127/127 [00:13<00:00,  9.42it/s, est. speed input: 8387.81 toks/s, output: 20.91 toks/s]\n"
     ]
    },
    {
     "metadata": {
      "tags": null
     },
     "name": "stdout",
     "output_type": "stream",
     "text": [
      "Feature 'seniority' processed in 99 batch(s) in 13.96 seconds\n",
      "Processing batch 100/172 with batch size: 127\n"
     ]
    },
    {
     "metadata": {
      "tags": null
     },
     "name": "stderr",
     "output_type": "stream",
     "text": [
      "Processed prompts: 100%|██████████| 127/127 [00:12<00:00,  9.99it/s, est. speed input: 8393.81 toks/s, output: 20.60 toks/s]\n"
     ]
    },
    {
     "metadata": {
      "tags": null
     },
     "name": "stdout",
     "output_type": "stream",
     "text": [
      "Feature 'seniority' processed in 100 batch(s) in 13.02 seconds\n",
      "Saving...\n",
      "Processing batch 101/172 with batch size: 127\n"
     ]
    },
    {
     "metadata": {
      "tags": null
     },
     "name": "stderr",
     "output_type": "stream",
     "text": [
      "Processed prompts: 100%|██████████| 127/127 [00:13<00:00,  9.52it/s, est. speed input: 8414.03 toks/s, output: 19.05 toks/s]\n"
     ]
    },
    {
     "metadata": {
      "tags": null
     },
     "name": "stdout",
     "output_type": "stream",
     "text": [
      "Feature 'seniority' processed in 101 batch(s) in 13.65 seconds\n",
      "Processing batch 102/172 with batch size: 127\n"
     ]
    },
    {
     "metadata": {
      "tags": null
     },
     "name": "stderr",
     "output_type": "stream",
     "text": [
      "Processed prompts: 100%|██████████| 127/127 [00:15<00:00,  8.35it/s, est. speed input: 8013.45 toks/s, output: 18.28 toks/s]\n"
     ]
    },
    {
     "metadata": {
      "tags": null
     },
     "name": "stdout",
     "output_type": "stream",
     "text": [
      "Feature 'seniority' processed in 102 batch(s) in 15.56 seconds\n",
      "Processing batch 103/172 with batch size: 127\n"
     ]
    },
    {
     "metadata": {
      "tags": null
     },
     "name": "stderr",
     "output_type": "stream",
     "text": [
      "Processed prompts: 100%|██████████| 127/127 [00:14<00:00,  8.86it/s, est. speed input: 8063.94 toks/s, output: 18.84 toks/s]\n"
     ]
    },
    {
     "metadata": {
      "tags": null
     },
     "name": "stdout",
     "output_type": "stream",
     "text": [
      "Feature 'seniority' processed in 103 batch(s) in 14.80 seconds\n",
      "Processing batch 104/172 with batch size: 127\n"
     ]
    },
    {
     "metadata": {
      "tags": null
     },
     "name": "stderr",
     "output_type": "stream",
     "text": [
      "Processed prompts: 100%|██████████| 127/127 [00:12<00:00,  9.78it/s, est. speed input: 8257.53 toks/s, output: 20.19 toks/s]\n"
     ]
    },
    {
     "metadata": {
      "tags": null
     },
     "name": "stdout",
     "output_type": "stream",
     "text": [
      "Feature 'seniority' processed in 104 batch(s) in 13.29 seconds\n",
      "Processing batch 105/172 with batch size: 127\n"
     ]
    },
    {
     "metadata": {
      "tags": null
     },
     "name": "stderr",
     "output_type": "stream",
     "text": [
      "Processed prompts: 100%|██████████| 127/127 [00:13<00:00,  9.37it/s, est. speed input: 8332.43 toks/s, output: 19.32 toks/s]\n"
     ]
    },
    {
     "metadata": {
      "tags": null
     },
     "name": "stdout",
     "output_type": "stream",
     "text": [
      "Feature 'seniority' processed in 105 batch(s) in 13.87 seconds\n",
      "Processing batch 106/172 with batch size: 127\n"
     ]
    },
    {
     "metadata": {
      "tags": null
     },
     "name": "stderr",
     "output_type": "stream",
     "text": [
      "Processed prompts: 100%|██████████| 127/127 [00:13<00:00,  9.16it/s, est. speed input: 8364.31 toks/s, output: 18.32 toks/s]\n"
     ]
    },
    {
     "metadata": {
      "tags": null
     },
     "name": "stdout",
     "output_type": "stream",
     "text": [
      "Feature 'seniority' processed in 106 batch(s) in 14.18 seconds\n",
      "Processing batch 107/172 with batch size: 127\n"
     ]
    },
    {
     "metadata": {
      "tags": null
     },
     "name": "stderr",
     "output_type": "stream",
     "text": [
      "Processed prompts: 100%|██████████| 127/127 [00:13<00:00,  9.54it/s, est. speed input: 8251.01 toks/s, output: 22.09 toks/s]\n"
     ]
    },
    {
     "metadata": {
      "tags": null
     },
     "name": "stdout",
     "output_type": "stream",
     "text": [
      "Feature 'seniority' processed in 107 batch(s) in 13.61 seconds\n",
      "Processing batch 108/172 with batch size: 127\n"
     ]
    },
    {
     "metadata": {
      "tags": null
     },
     "name": "stderr",
     "output_type": "stream",
     "text": [
      "Processed prompts: 100%|██████████| 127/127 [00:14<00:00,  9.06it/s, est. speed input: 8103.56 toks/s, output: 19.26 toks/s]\n"
     ]
    },
    {
     "metadata": {
      "tags": null
     },
     "name": "stdout",
     "output_type": "stream",
     "text": [
      "Feature 'seniority' processed in 108 batch(s) in 14.48 seconds\n",
      "Processing batch 109/172 with batch size: 127\n"
     ]
    },
    {
     "metadata": {
      "tags": null
     },
     "name": "stderr",
     "output_type": "stream",
     "text": [
      "Processed prompts: 100%|██████████| 127/127 [00:13<00:00,  9.09it/s, est. speed input: 8097.64 toks/s, output: 20.48 toks/s]\n"
     ]
    },
    {
     "metadata": {
      "tags": null
     },
     "name": "stdout",
     "output_type": "stream",
     "text": [
      "Feature 'seniority' processed in 109 batch(s) in 14.28 seconds\n",
      "Processing batch 110/172 with batch size: 127\n"
     ]
    },
    {
     "metadata": {
      "tags": null
     },
     "name": "stderr",
     "output_type": "stream",
     "text": [
      "Processed prompts: 100%|██████████| 127/127 [00:14<00:00,  8.70it/s, est. speed input: 8201.72 toks/s, output: 21.79 toks/s]\n"
     ]
    },
    {
     "metadata": {
      "tags": null
     },
     "name": "stdout",
     "output_type": "stream",
     "text": [
      "Feature 'seniority' processed in 110 batch(s) in 14.93 seconds\n",
      "Saving...\n",
      "Processing batch 111/172 with batch size: 127\n"
     ]
    },
    {
     "metadata": {
      "tags": null
     },
     "name": "stderr",
     "output_type": "stream",
     "text": [
      "Processed prompts: 100%|██████████| 127/127 [00:14<00:00,  9.05it/s, est. speed input: 8387.54 toks/s, output: 21.66 toks/s]\n"
     ]
    },
    {
     "metadata": {
      "tags": null
     },
     "name": "stdout",
     "output_type": "stream",
     "text": [
      "Feature 'seniority' processed in 111 batch(s) in 14.53 seconds\n",
      "Processing batch 112/172 with batch size: 127\n"
     ]
    },
    {
     "metadata": {
      "tags": null
     },
     "name": "stderr",
     "output_type": "stream",
     "text": [
      "Processed prompts: 100%|██████████| 127/127 [00:14<00:00,  9.06it/s, est. speed input: 8182.89 toks/s, output: 19.26 toks/s]\n"
     ]
    },
    {
     "metadata": {
      "tags": null
     },
     "name": "stdout",
     "output_type": "stream",
     "text": [
      "Feature 'seniority' processed in 112 batch(s) in 14.33 seconds\n",
      "Processing batch 113/172 with batch size: 127\n"
     ]
    },
    {
     "metadata": {
      "tags": null
     },
     "name": "stderr",
     "output_type": "stream",
     "text": [
      "Processed prompts: 100%|██████████| 127/127 [00:13<00:00,  9.40it/s, est. speed input: 8170.40 toks/s, output: 20.72 toks/s]\n"
     ]
    },
    {
     "metadata": {
      "tags": null
     },
     "name": "stdout",
     "output_type": "stream",
     "text": [
      "Feature 'seniority' processed in 113 batch(s) in 13.84 seconds\n",
      "Processing batch 114/172 with batch size: 127\n"
     ]
    },
    {
     "metadata": {
      "tags": null
     },
     "name": "stderr",
     "output_type": "stream",
     "text": [
      "Processed prompts: 100%|██████████| 127/127 [00:14<00:00,  8.81it/s, est. speed input: 8121.09 toks/s, output: 20.54 toks/s]\n"
     ]
    },
    {
     "metadata": {
      "tags": null
     },
     "name": "stdout",
     "output_type": "stream",
     "text": [
      "Feature 'seniority' processed in 114 batch(s) in 14.74 seconds\n",
      "Processing batch 115/172 with batch size: 127\n"
     ]
    },
    {
     "metadata": {
      "tags": null
     },
     "name": "stderr",
     "output_type": "stream",
     "text": [
      "Processed prompts: 100%|██████████| 127/127 [00:13<00:00,  9.15it/s, est. speed input: 8291.89 toks/s, output: 18.88 toks/s]\n"
     ]
    },
    {
     "metadata": {
      "tags": null
     },
     "name": "stdout",
     "output_type": "stream",
     "text": [
      "Feature 'seniority' processed in 115 batch(s) in 14.20 seconds\n",
      "Processing batch 116/172 with batch size: 127\n"
     ]
    },
    {
     "metadata": {
      "tags": null
     },
     "name": "stderr",
     "output_type": "stream",
     "text": [
      "Processed prompts: 100%|██████████| 127/127 [00:13<00:00,  9.76it/s, est. speed input: 8264.69 toks/s, output: 23.21 toks/s]\n"
     ]
    },
    {
     "metadata": {
      "tags": null
     },
     "name": "stdout",
     "output_type": "stream",
     "text": [
      "Feature 'seniority' processed in 116 batch(s) in 13.39 seconds\n",
      "Processing batch 117/172 with batch size: 127\n"
     ]
    },
    {
     "metadata": {
      "tags": null
     },
     "name": "stderr",
     "output_type": "stream",
     "text": [
      "Processed prompts: 100%|██████████| 127/127 [00:13<00:00,  9.19it/s, est. speed input: 8234.63 toks/s, output: 20.70 toks/s]\n"
     ]
    },
    {
     "metadata": {
      "tags": null
     },
     "name": "stdout",
     "output_type": "stream",
     "text": [
      "Feature 'seniority' processed in 117 batch(s) in 14.15 seconds\n",
      "Processing batch 118/172 with batch size: 127\n"
     ]
    },
    {
     "metadata": {
      "tags": null
     },
     "name": "stderr",
     "output_type": "stream",
     "text": [
      "Processed prompts: 100%|██████████| 127/127 [00:13<00:00,  9.43it/s, est. speed input: 8273.22 toks/s, output: 20.64 toks/s]\n"
     ]
    },
    {
     "metadata": {
      "tags": null
     },
     "name": "stdout",
     "output_type": "stream",
     "text": [
      "Feature 'seniority' processed in 118 batch(s) in 13.78 seconds\n",
      "Processing batch 119/172 with batch size: 127\n"
     ]
    },
    {
     "metadata": {
      "tags": null
     },
     "name": "stderr",
     "output_type": "stream",
     "text": [
      "Processed prompts: 100%|██████████| 127/127 [00:13<00:00,  9.37it/s, est. speed input: 8135.68 toks/s, output: 19.33 toks/s]\n"
     ]
    },
    {
     "metadata": {
      "tags": null
     },
     "name": "stdout",
     "output_type": "stream",
     "text": [
      "Feature 'seniority' processed in 119 batch(s) in 13.87 seconds\n",
      "Processing batch 120/172 with batch size: 127\n"
     ]
    },
    {
     "metadata": {
      "tags": null
     },
     "name": "stderr",
     "output_type": "stream",
     "text": [
      "Processed prompts: 100%|██████████| 127/127 [00:12<00:00, 10.06it/s, est. speed input: 8328.94 toks/s, output: 22.65 toks/s]\n"
     ]
    },
    {
     "metadata": {
      "tags": null
     },
     "name": "stdout",
     "output_type": "stream",
     "text": [
      "Feature 'seniority' processed in 120 batch(s) in 12.94 seconds\n",
      "Saving...\n",
      "Processing batch 121/172 with batch size: 127\n"
     ]
    },
    {
     "metadata": {
      "tags": null
     },
     "name": "stderr",
     "output_type": "stream",
     "text": [
      "Processed prompts: 100%|██████████| 127/127 [00:12<00:00,  9.90it/s, est. speed input: 8364.98 toks/s, output: 21.21 toks/s]\n"
     ]
    },
    {
     "metadata": {
      "tags": null
     },
     "name": "stdout",
     "output_type": "stream",
     "text": [
      "Feature 'seniority' processed in 121 batch(s) in 13.11 seconds\n",
      "Processing batch 122/172 with batch size: 127\n"
     ]
    },
    {
     "metadata": {
      "tags": null
     },
     "name": "stderr",
     "output_type": "stream",
     "text": [
      "Processed prompts: 100%|██████████| 127/127 [00:14<00:00,  8.98it/s, est. speed input: 8134.15 toks/s, output: 19.10 toks/s]\n"
     ]
    },
    {
     "metadata": {
      "tags": null
     },
     "name": "stdout",
     "output_type": "stream",
     "text": [
      "Feature 'seniority' processed in 122 batch(s) in 14.45 seconds\n",
      "Processing batch 123/172 with batch size: 127\n"
     ]
    },
    {
     "metadata": {
      "tags": null
     },
     "name": "stderr",
     "output_type": "stream",
     "text": [
      "Processed prompts: 100%|██████████| 127/127 [00:14<00:00,  9.03it/s, est. speed input: 8031.56 toks/s, output: 22.60 toks/s]\n"
     ]
    },
    {
     "metadata": {
      "tags": null
     },
     "name": "stdout",
     "output_type": "stream",
     "text": [
      "Feature 'seniority' processed in 123 batch(s) in 14.39 seconds\n",
      "Processing batch 124/172 with batch size: 127\n"
     ]
    },
    {
     "metadata": {
      "tags": null
     },
     "name": "stderr",
     "output_type": "stream",
     "text": [
      "Processed prompts: 100%|██████████| 127/127 [00:13<00:00,  9.61it/s, est. speed input: 8088.44 toks/s, output: 22.25 toks/s]\n"
     ]
    },
    {
     "metadata": {
      "tags": null
     },
     "name": "stdout",
     "output_type": "stream",
     "text": [
      "Feature 'seniority' processed in 124 batch(s) in 13.51 seconds\n",
      "Processing batch 125/172 with batch size: 127\n"
     ]
    },
    {
     "metadata": {
      "tags": null
     },
     "name": "stderr",
     "output_type": "stream",
     "text": [
      "Processed prompts: 100%|██████████| 127/127 [00:12<00:00, 10.02it/s, est. speed input: 8365.12 toks/s, output: 21.94 toks/s]\n"
     ]
    },
    {
     "metadata": {
      "tags": null
     },
     "name": "stdout",
     "output_type": "stream",
     "text": [
      "Feature 'seniority' processed in 125 batch(s) in 13.11 seconds\n",
      "Processing batch 126/172 with batch size: 127\n"
     ]
    },
    {
     "metadata": {
      "tags": null
     },
     "name": "stderr",
     "output_type": "stream",
     "text": [
      "Processed prompts: 100%|██████████| 127/127 [00:13<00:00,  9.65it/s, est. speed input: 8473.19 toks/s, output: 19.92 toks/s]\n"
     ]
    },
    {
     "metadata": {
      "tags": null
     },
     "name": "stdout",
     "output_type": "stream",
     "text": [
      "Feature 'seniority' processed in 126 batch(s) in 13.47 seconds\n",
      "Processing batch 127/172 with batch size: 127\n"
     ]
    },
    {
     "metadata": {
      "tags": null
     },
     "name": "stderr",
     "output_type": "stream",
     "text": [
      "Processed prompts: 100%|██████████| 127/127 [00:14<00:00,  8.54it/s, est. speed input: 8301.85 toks/s, output: 19.23 toks/s]\n"
     ]
    },
    {
     "metadata": {
      "tags": null
     },
     "name": "stdout",
     "output_type": "stream",
     "text": [
      "Feature 'seniority' processed in 127 batch(s) in 15.20 seconds\n",
      "Processing batch 128/172 with batch size: 127\n"
     ]
    },
    {
     "metadata": {
      "tags": null
     },
     "name": "stderr",
     "output_type": "stream",
     "text": [
      "Processed prompts: 100%|██████████| 127/127 [00:14<00:00,  9.02it/s, est. speed input: 8015.96 toks/s, output: 26.56 toks/s]\n"
     ]
    },
    {
     "metadata": {
      "tags": null
     },
     "name": "stdout",
     "output_type": "stream",
     "text": [
      "Feature 'seniority' processed in 128 batch(s) in 14.40 seconds\n",
      "Processing batch 129/172 with batch size: 127\n"
     ]
    },
    {
     "metadata": {
      "tags": null
     },
     "name": "stderr",
     "output_type": "stream",
     "text": [
      "Processed prompts: 100%|██████████| 127/127 [00:13<00:00,  9.49it/s, est. speed input: 8068.60 toks/s, output: 21.96 toks/s]\n"
     ]
    },
    {
     "metadata": {
      "tags": null
     },
     "name": "stdout",
     "output_type": "stream",
     "text": [
      "Feature 'seniority' processed in 129 batch(s) in 13.69 seconds\n",
      "Processing batch 130/172 with batch size: 127\n"
     ]
    },
    {
     "metadata": {
      "tags": null
     },
     "name": "stderr",
     "output_type": "stream",
     "text": [
      "Processed prompts: 100%|██████████| 127/127 [00:14<00:00,  8.63it/s, est. speed input: 8139.77 toks/s, output: 21.05 toks/s]\n"
     ]
    },
    {
     "metadata": {
      "tags": null
     },
     "name": "stdout",
     "output_type": "stream",
     "text": [
      "Feature 'seniority' processed in 130 batch(s) in 15.20 seconds\n",
      "Saving...\n",
      "Processing batch 131/172 with batch size: 127\n"
     ]
    },
    {
     "metadata": {
      "tags": null
     },
     "name": "stderr",
     "output_type": "stream",
     "text": [
      "Processed prompts: 100%|██████████| 127/127 [00:14<00:00,  8.92it/s, est. speed input: 8332.84 toks/s, output: 24.01 toks/s]\n"
     ]
    },
    {
     "metadata": {
      "tags": null
     },
     "name": "stdout",
     "output_type": "stream",
     "text": [
      "Feature 'seniority' processed in 131 batch(s) in 14.58 seconds\n",
      "Processing batch 132/172 with batch size: 127\n"
     ]
    },
    {
     "metadata": {
      "tags": null
     },
     "name": "stderr",
     "output_type": "stream",
     "text": [
      "Processed prompts: 100%|██████████| 127/127 [00:13<00:00,  9.31it/s, est. speed input: 8154.71 toks/s, output: 23.46 toks/s]\n"
     ]
    },
    {
     "metadata": {
      "tags": null
     },
     "name": "stdout",
     "output_type": "stream",
     "text": [
      "Feature 'seniority' processed in 132 batch(s) in 13.94 seconds\n",
      "Processing batch 133/172 with batch size: 127\n"
     ]
    },
    {
     "metadata": {
      "tags": null
     },
     "name": "stderr",
     "output_type": "stream",
     "text": [
      "Processed prompts: 100%|██████████| 127/127 [00:15<00:00,  8.46it/s, est. speed input: 8141.18 toks/s, output: 22.37 toks/s]\n"
     ]
    },
    {
     "metadata": {
      "tags": null
     },
     "name": "stdout",
     "output_type": "stream",
     "text": [
      "Feature 'seniority' processed in 133 batch(s) in 15.53 seconds\n",
      "Processing batch 134/172 with batch size: 127\n"
     ]
    },
    {
     "metadata": {
      "tags": null
     },
     "name": "stderr",
     "output_type": "stream",
     "text": [
      "Processed prompts: 100%|██████████| 127/127 [00:16<00:00,  7.56it/s, est. speed input: 8103.85 toks/s, output: 22.13 toks/s]\n"
     ]
    },
    {
     "metadata": {
      "tags": null
     },
     "name": "stdout",
     "output_type": "stream",
     "text": [
      "Feature 'seniority' processed in 134 batch(s) in 17.18 seconds\n",
      "Processing batch 135/172 with batch size: 127\n"
     ]
    },
    {
     "metadata": {
      "tags": null
     },
     "name": "stderr",
     "output_type": "stream",
     "text": [
      "Processed prompts: 100%|██████████| 127/127 [00:16<00:00,  7.63it/s, est. speed input: 8232.35 toks/s, output: 22.12 toks/s]\n"
     ]
    },
    {
     "metadata": {
      "tags": null
     },
     "name": "stdout",
     "output_type": "stream",
     "text": [
      "Feature 'seniority' processed in 135 batch(s) in 17.02 seconds\n",
      "Processing batch 136/172 with batch size: 127\n"
     ]
    },
    {
     "metadata": {
      "tags": null
     },
     "name": "stderr",
     "output_type": "stream",
     "text": [
      "Processed prompts: 100%|██████████| 127/127 [00:14<00:00,  8.65it/s, est. speed input: 8269.42 toks/s, output: 24.53 toks/s]\n"
     ]
    },
    {
     "metadata": {
      "tags": null
     },
     "name": "stdout",
     "output_type": "stream",
     "text": [
      "Feature 'seniority' processed in 136 batch(s) in 15.01 seconds\n",
      "Processing batch 137/172 with batch size: 127\n"
     ]
    },
    {
     "metadata": {
      "tags": null
     },
     "name": "stderr",
     "output_type": "stream",
     "text": [
      "Processed prompts: 100%|██████████| 127/127 [00:15<00:00,  8.09it/s, est. speed input: 8193.99 toks/s, output: 22.80 toks/s]\n"
     ]
    },
    {
     "metadata": {
      "tags": null
     },
     "name": "stdout",
     "output_type": "stream",
     "text": [
      "Feature 'seniority' processed in 137 batch(s) in 16.06 seconds\n",
      "Processing batch 138/172 with batch size: 127\n"
     ]
    },
    {
     "metadata": {
      "tags": null
     },
     "name": "stderr",
     "output_type": "stream",
     "text": [
      "Processed prompts: 100%|██████████| 127/127 [00:14<00:00,  8.71it/s, est. speed input: 8177.96 toks/s, output: 20.30 toks/s]\n"
     ]
    },
    {
     "metadata": {
      "tags": null
     },
     "name": "stdout",
     "output_type": "stream",
     "text": [
      "Feature 'seniority' processed in 138 batch(s) in 15.06 seconds\n",
      "Processing batch 139/172 with batch size: 127\n"
     ]
    },
    {
     "metadata": {
      "tags": null
     },
     "name": "stderr",
     "output_type": "stream",
     "text": [
      "Processed prompts: 100%|██████████| 127/127 [00:13<00:00,  9.31it/s, est. speed input: 8091.39 toks/s, output: 24.48 toks/s]\n"
     ]
    },
    {
     "metadata": {
      "tags": null
     },
     "name": "stdout",
     "output_type": "stream",
     "text": [
      "Feature 'seniority' processed in 139 batch(s) in 13.96 seconds\n",
      "Processing batch 140/172 with batch size: 127\n"
     ]
    },
    {
     "metadata": {
      "tags": null
     },
     "name": "stderr",
     "output_type": "stream",
     "text": [
      "Processed prompts: 100%|██████████| 127/127 [00:14<00:00,  8.52it/s, est. speed input: 8242.35 toks/s, output: 20.80 toks/s]\n"
     ]
    },
    {
     "metadata": {
      "tags": null
     },
     "name": "stdout",
     "output_type": "stream",
     "text": [
      "Feature 'seniority' processed in 140 batch(s) in 15.25 seconds\n",
      "Saving...\n",
      "Processing batch 141/172 with batch size: 127\n"
     ]
    },
    {
     "metadata": {
      "tags": null
     },
     "name": "stderr",
     "output_type": "stream",
     "text": [
      "Processed prompts: 100%|██████████| 127/127 [00:16<00:00,  7.73it/s, est. speed input: 8184.50 toks/s, output: 24.34 toks/s]\n"
     ]
    },
    {
     "metadata": {
      "tags": null
     },
     "name": "stdout",
     "output_type": "stream",
     "text": [
      "Feature 'seniority' processed in 141 batch(s) in 16.98 seconds\n",
      "Processing batch 142/172 with batch size: 127\n"
     ]
    },
    {
     "metadata": {
      "tags": null
     },
     "name": "stderr",
     "output_type": "stream",
     "text": [
      "Processed prompts: 100%|██████████| 127/127 [00:15<00:00,  8.03it/s, est. speed input: 8149.82 toks/s, output: 20.86 toks/s]\n"
     ]
    },
    {
     "metadata": {
      "tags": null
     },
     "name": "stdout",
     "output_type": "stream",
     "text": [
      "Feature 'seniority' processed in 142 batch(s) in 16.17 seconds\n",
      "Processing batch 143/172 with batch size: 127\n"
     ]
    },
    {
     "metadata": {
      "tags": null
     },
     "name": "stderr",
     "output_type": "stream",
     "text": [
      "Processed prompts: 100%|██████████| 127/127 [00:15<00:00,  8.29it/s, est. speed input: 8219.80 toks/s, output: 24.09 toks/s]\n"
     ]
    },
    {
     "metadata": {
      "tags": null
     },
     "name": "stdout",
     "output_type": "stream",
     "text": [
      "Feature 'seniority' processed in 143 batch(s) in 15.66 seconds\n",
      "Processing batch 144/172 with batch size: 127\n"
     ]
    },
    {
     "metadata": {
      "tags": null
     },
     "name": "stderr",
     "output_type": "stream",
     "text": [
      "Processed prompts: 100%|██████████| 127/127 [00:15<00:00,  8.08it/s, est. speed input: 8147.45 toks/s, output: 19.86 toks/s]\n"
     ]
    },
    {
     "metadata": {
      "tags": null
     },
     "name": "stdout",
     "output_type": "stream",
     "text": [
      "Feature 'seniority' processed in 144 batch(s) in 16.25 seconds\n",
      "Processing batch 145/172 with batch size: 127\n"
     ]
    },
    {
     "metadata": {
      "tags": null
     },
     "name": "stderr",
     "output_type": "stream",
     "text": [
      "Processed prompts: 100%|██████████| 127/127 [00:16<00:00,  7.86it/s, est. speed input: 8076.85 toks/s, output: 21.78 toks/s]\n"
     ]
    },
    {
     "metadata": {
      "tags": null
     },
     "name": "stdout",
     "output_type": "stream",
     "text": [
      "Feature 'seniority' processed in 145 batch(s) in 16.51 seconds\n",
      "Processing batch 146/172 with batch size: 127\n"
     ]
    },
    {
     "metadata": {
      "tags": null
     },
     "name": "stderr",
     "output_type": "stream",
     "text": [
      "Processed prompts: 100%|██████████| 127/127 [00:14<00:00,  8.56it/s, est. speed input: 8206.62 toks/s, output: 20.89 toks/s]\n"
     ]
    },
    {
     "metadata": {
      "tags": null
     },
     "name": "stdout",
     "output_type": "stream",
     "text": [
      "Feature 'seniority' processed in 146 batch(s) in 15.16 seconds\n",
      "Processing batch 147/172 with batch size: 127\n"
     ]
    },
    {
     "metadata": {
      "tags": null
     },
     "name": "stderr",
     "output_type": "stream",
     "text": [
      "Processed prompts: 100%|██████████| 127/127 [00:12<00:00,  9.87it/s, est. speed input: 8353.81 toks/s, output: 20.37 toks/s]\n"
     ]
    },
    {
     "metadata": {
      "tags": null
     },
     "name": "stdout",
     "output_type": "stream",
     "text": [
      "Feature 'seniority' processed in 147 batch(s) in 13.17 seconds\n",
      "Processing batch 148/172 with batch size: 127\n"
     ]
    },
    {
     "metadata": {
      "tags": null
     },
     "name": "stderr",
     "output_type": "stream",
     "text": [
      "Processed prompts: 100%|██████████| 127/127 [00:13<00:00,  9.09it/s, est. speed input: 8374.58 toks/s, output: 18.18 toks/s]\n"
     ]
    },
    {
     "metadata": {
      "tags": null
     },
     "name": "stdout",
     "output_type": "stream",
     "text": [
      "Feature 'seniority' processed in 148 batch(s) in 14.28 seconds\n",
      "Processing batch 149/172 with batch size: 127\n"
     ]
    },
    {
     "metadata": {
      "tags": null
     },
     "name": "stderr",
     "output_type": "stream",
     "text": [
      "Processed prompts: 100%|██████████| 127/127 [00:13<00:00,  9.48it/s, est. speed input: 8361.57 toks/s, output: 18.96 toks/s]\n"
     ]
    },
    {
     "metadata": {
      "tags": null
     },
     "name": "stdout",
     "output_type": "stream",
     "text": [
      "Feature 'seniority' processed in 149 batch(s) in 13.71 seconds\n",
      "Processing batch 150/172 with batch size: 127\n"
     ]
    },
    {
     "metadata": {
      "tags": null
     },
     "name": "stderr",
     "output_type": "stream",
     "text": [
      "Processed prompts: 100%|██████████| 127/127 [00:11<00:00, 10.95it/s, est. speed input: 8294.71 toks/s, output: 23.27 toks/s]\n"
     ]
    },
    {
     "metadata": {
      "tags": null
     },
     "name": "stdout",
     "output_type": "stream",
     "text": [
      "Feature 'seniority' processed in 150 batch(s) in 11.88 seconds\n",
      "Saving...\n",
      "Processing batch 151/172 with batch size: 127\n"
     ]
    },
    {
     "metadata": {
      "tags": null
     },
     "name": "stderr",
     "output_type": "stream",
     "text": [
      "Processed prompts: 100%|██████████| 127/127 [00:13<00:00,  9.28it/s, est. speed input: 8203.59 toks/s, output: 19.74 toks/s]\n"
     ]
    },
    {
     "metadata": {
      "tags": null
     },
     "name": "stdout",
     "output_type": "stream",
     "text": [
      "Feature 'seniority' processed in 151 batch(s) in 14.16 seconds\n",
      "Processing batch 152/172 with batch size: 127\n"
     ]
    },
    {
     "metadata": {
      "tags": null
     },
     "name": "stderr",
     "output_type": "stream",
     "text": [
      "Processed prompts: 100%|██████████| 127/127 [00:12<00:00, 10.25it/s, est. speed input: 8200.98 toks/s, output: 20.49 toks/s]\n"
     ]
    },
    {
     "metadata": {
      "tags": null
     },
     "name": "stdout",
     "output_type": "stream",
     "text": [
      "Feature 'seniority' processed in 152 batch(s) in 12.67 seconds\n",
      "Processing batch 153/172 with batch size: 127\n"
     ]
    },
    {
     "metadata": {
      "tags": null
     },
     "name": "stderr",
     "output_type": "stream",
     "text": [
      "Processed prompts: 100%|██████████| 127/127 [00:13<00:00,  9.10it/s, est. speed input: 8113.96 toks/s, output: 19.35 toks/s]\n"
     ]
    },
    {
     "metadata": {
      "tags": null
     },
     "name": "stdout",
     "output_type": "stream",
     "text": [
      "Feature 'seniority' processed in 153 batch(s) in 14.27 seconds\n",
      "Processing batch 154/172 with batch size: 127\n"
     ]
    },
    {
     "metadata": {
      "tags": null
     },
     "name": "stderr",
     "output_type": "stream",
     "text": [
      "Processed prompts: 100%|██████████| 127/127 [00:15<00:00,  8.34it/s, est. speed input: 8062.90 toks/s, output: 18.25 toks/s]\n"
     ]
    },
    {
     "metadata": {
      "tags": null
     },
     "name": "stdout",
     "output_type": "stream",
     "text": [
      "Feature 'seniority' processed in 154 batch(s) in 15.56 seconds\n",
      "Processing batch 155/172 with batch size: 127\n"
     ]
    },
    {
     "metadata": {
      "tags": null
     },
     "name": "stderr",
     "output_type": "stream",
     "text": [
      "Processed prompts: 100%|██████████| 127/127 [00:12<00:00, 10.12it/s, est. speed input: 8423.46 toks/s, output: 21.52 toks/s]\n"
     ]
    },
    {
     "metadata": {
      "tags": null
     },
     "name": "stdout",
     "output_type": "stream",
     "text": [
      "Feature 'seniority' processed in 155 batch(s) in 12.86 seconds\n",
      "Processing batch 156/172 with batch size: 127\n"
     ]
    },
    {
     "metadata": {
      "tags": null
     },
     "name": "stderr",
     "output_type": "stream",
     "text": [
      "Processed prompts: 100%|██████████| 127/127 [00:12<00:00, 10.18it/s, est. speed input: 8493.94 toks/s, output: 20.36 toks/s]\n"
     ]
    },
    {
     "metadata": {
      "tags": null
     },
     "name": "stdout",
     "output_type": "stream",
     "text": [
      "Feature 'seniority' processed in 156 batch(s) in 12.77 seconds\n",
      "Processing batch 157/172 with batch size: 127\n"
     ]
    },
    {
     "metadata": {
      "tags": null
     },
     "name": "stderr",
     "output_type": "stream",
     "text": [
      "Processed prompts: 100%|██████████| 127/127 [00:13<00:00,  9.57it/s, est. speed input: 8306.24 toks/s, output: 19.74 toks/s]\n"
     ]
    },
    {
     "metadata": {
      "tags": null
     },
     "name": "stdout",
     "output_type": "stream",
     "text": [
      "Feature 'seniority' processed in 157 batch(s) in 13.73 seconds\n",
      "Processing batch 158/172 with batch size: 127\n"
     ]
    },
    {
     "metadata": {
      "tags": null
     },
     "name": "stderr",
     "output_type": "stream",
     "text": [
      "Processed prompts: 100%|██████████| 127/127 [00:12<00:00,  9.84it/s, est. speed input: 8087.57 toks/s, output: 20.30 toks/s]\n"
     ]
    },
    {
     "metadata": {
      "tags": null
     },
     "name": "stdout",
     "output_type": "stream",
     "text": [
      "Feature 'seniority' processed in 158 batch(s) in 13.21 seconds\n",
      "Processing batch 159/172 with batch size: 127\n"
     ]
    },
    {
     "metadata": {
      "tags": null
     },
     "name": "stderr",
     "output_type": "stream",
     "text": [
      "Processed prompts: 100%|██████████| 127/127 [00:12<00:00, 10.40it/s, est. speed input: 8077.24 toks/s, output: 22.11 toks/s]\n"
     ]
    },
    {
     "metadata": {
      "tags": null
     },
     "name": "stdout",
     "output_type": "stream",
     "text": [
      "Feature 'seniority' processed in 159 batch(s) in 12.52 seconds\n",
      "Processing batch 160/172 with batch size: 127\n"
     ]
    },
    {
     "metadata": {
      "tags": null
     },
     "name": "stderr",
     "output_type": "stream",
     "text": [
      "Processed prompts: 100%|██████████| 127/127 [00:12<00:00, 10.18it/s, est. speed input: 8150.94 toks/s, output: 21.00 toks/s]\n"
     ]
    },
    {
     "metadata": {
      "tags": null
     },
     "name": "stdout",
     "output_type": "stream",
     "text": [
      "Feature 'seniority' processed in 160 batch(s) in 12.76 seconds\n",
      "Saving...\n",
      "Processing batch 161/172 with batch size: 127\n"
     ]
    },
    {
     "metadata": {
      "tags": null
     },
     "name": "stderr",
     "output_type": "stream",
     "text": [
      "Processed prompts: 100%|██████████| 127/127 [00:12<00:00, 10.14it/s, est. speed input: 8437.00 toks/s, output: 20.44 toks/s]\n"
     ]
    },
    {
     "metadata": {
      "tags": null
     },
     "name": "stdout",
     "output_type": "stream",
     "text": [
      "Feature 'seniority' processed in 161 batch(s) in 12.84 seconds\n",
      "Processing batch 162/172 with batch size: 127\n"
     ]
    },
    {
     "metadata": {
      "tags": null
     },
     "name": "stderr",
     "output_type": "stream",
     "text": [
      "Processed prompts: 100%|██████████| 127/127 [00:13<00:00,  9.18it/s, est. speed input: 8285.60 toks/s, output: 19.52 toks/s]\n"
     ]
    },
    {
     "metadata": {
      "tags": null
     },
     "name": "stdout",
     "output_type": "stream",
     "text": [
      "Feature 'seniority' processed in 162 batch(s) in 14.15 seconds\n",
      "Processing batch 163/172 with batch size: 127\n"
     ]
    },
    {
     "metadata": {
      "tags": null
     },
     "name": "stderr",
     "output_type": "stream",
     "text": [
      "Processed prompts: 100%|██████████| 127/127 [00:13<00:00,  9.34it/s, est. speed input: 8171.29 toks/s, output: 21.03 toks/s]\n"
     ]
    },
    {
     "metadata": {
      "tags": null
     },
     "name": "stdout",
     "output_type": "stream",
     "text": [
      "Feature 'seniority' processed in 163 batch(s) in 14.06 seconds\n",
      "Processing batch 164/172 with batch size: 127\n"
     ]
    },
    {
     "metadata": {
      "tags": null
     },
     "name": "stderr",
     "output_type": "stream",
     "text": [
      "Processed prompts: 100%|██████████| 127/127 [00:14<00:00,  8.76it/s, est. speed input: 8080.38 toks/s, output: 19.18 toks/s]\n"
     ]
    },
    {
     "metadata": {
      "tags": null
     },
     "name": "stdout",
     "output_type": "stream",
     "text": [
      "Feature 'seniority' processed in 164 batch(s) in 14.81 seconds\n",
      "Processing batch 165/172 with batch size: 127\n"
     ]
    },
    {
     "metadata": {
      "tags": null
     },
     "name": "stderr",
     "output_type": "stream",
     "text": [
      "Processed prompts: 100%|██████████| 127/127 [00:14<00:00,  8.87it/s, est. speed input: 8140.37 toks/s, output: 18.30 toks/s]\n"
     ]
    },
    {
     "metadata": {
      "tags": null
     },
     "name": "stdout",
     "output_type": "stream",
     "text": [
      "Feature 'seniority' processed in 165 batch(s) in 14.65 seconds\n",
      "Processing batch 166/172 with batch size: 127\n"
     ]
    },
    {
     "metadata": {
      "tags": null
     },
     "name": "stderr",
     "output_type": "stream",
     "text": [
      "Processed prompts: 100%|██████████| 127/127 [00:13<00:00,  9.28it/s, est. speed input: 8257.88 toks/s, output: 19.14 toks/s]\n"
     ]
    },
    {
     "metadata": {
      "tags": null
     },
     "name": "stdout",
     "output_type": "stream",
     "text": [
      "Feature 'seniority' processed in 166 batch(s) in 14.01 seconds\n",
      "Processing batch 167/172 with batch size: 127\n"
     ]
    },
    {
     "metadata": {
      "tags": null
     },
     "name": "stderr",
     "output_type": "stream",
     "text": [
      "Processed prompts: 100%|██████████| 127/127 [00:13<00:00,  9.60it/s, est. speed input: 8350.35 toks/s, output: 19.20 toks/s]\n"
     ]
    },
    {
     "metadata": {
      "tags": null
     },
     "name": "stdout",
     "output_type": "stream",
     "text": [
      "Feature 'seniority' processed in 167 batch(s) in 13.70 seconds\n",
      "Processing batch 168/172 with batch size: 127\n"
     ]
    },
    {
     "metadata": {
      "tags": null
     },
     "name": "stderr",
     "output_type": "stream",
     "text": [
      "Processed prompts: 100%|██████████| 127/127 [00:13<00:00,  9.58it/s, est. speed input: 8146.88 toks/s, output: 19.77 toks/s]\n"
     ]
    },
    {
     "metadata": {
      "tags": null
     },
     "name": "stdout",
     "output_type": "stream",
     "text": [
      "Feature 'seniority' processed in 168 batch(s) in 13.55 seconds\n",
      "Processing batch 169/172 with batch size: 127\n"
     ]
    },
    {
     "metadata": {
      "tags": null
     },
     "name": "stderr",
     "output_type": "stream",
     "text": [
      "Processed prompts: 100%|██████████| 127/127 [00:12<00:00, 10.11it/s, est. speed input: 8299.82 toks/s, output: 20.85 toks/s]\n"
     ]
    },
    {
     "metadata": {
      "tags": null
     },
     "name": "stdout",
     "output_type": "stream",
     "text": [
      "Feature 'seniority' processed in 169 batch(s) in 12.86 seconds\n",
      "Processing batch 170/172 with batch size: 127\n"
     ]
    },
    {
     "metadata": {
      "tags": null
     },
     "name": "stderr",
     "output_type": "stream",
     "text": [
      "Processed prompts: 100%|██████████| 127/127 [00:13<00:00,  9.48it/s, est. speed input: 8173.60 toks/s, output: 21.34 toks/s]\n"
     ]
    },
    {
     "metadata": {
      "tags": null
     },
     "name": "stdout",
     "output_type": "stream",
     "text": [
      "Feature 'seniority' processed in 170 batch(s) in 13.71 seconds\n",
      "Saving...\n",
      "Processing batch 171/172 with batch size: 127\n"
     ]
    },
    {
     "metadata": {
      "tags": null
     },
     "name": "stderr",
     "output_type": "stream",
     "text": [
      "Processed prompts: 100%|██████████| 127/127 [00:11<00:00, 10.64it/s, est. speed input: 8205.50 toks/s, output: 23.97 toks/s]\n"
     ]
    },
    {
     "metadata": {
      "tags": null
     },
     "name": "stdout",
     "output_type": "stream",
     "text": [
      "Feature 'seniority' processed in 171 batch(s) in 12.22 seconds\n",
      "Processing batch 172/172 with batch size: 127\n"
     ]
    },
    {
     "metadata": {
      "tags": null
     },
     "name": "stderr",
     "output_type": "stream",
     "text": [
      "Processed prompts: 100%|██████████| 127/127 [00:09<00:00, 13.11it/s, est. speed input: 8230.13 toks/s, output: 29.53 toks/s]\n"
     ]
    },
    {
     "metadata": {
      "tags": null
     },
     "name": "stdout",
     "output_type": "stream",
     "text": [
      "Feature 'seniority' processed in 172 batch(s) in 9.92 seconds\n",
      "Completed feature seniority.\n",
      "Saving...\n",
      "\n",
      "\n"
     ]
    },
    {
     "metadata": {
      "tags": null
     },
     "name": "stderr",
     "output_type": "stream",
     "text": [
      "/usr/local/lib/python3.11/dist-packages/numpy/core/fromnumeric.py:59: FutureWarning: 'Series.swapaxes' is deprecated and will be removed in a future version. Please use 'Series.transpose' instead.\n",
      "  return bound(*args, **kwds)\n"
     ]
    },
    {
     "metadata": {
      "tags": null
     },
     "name": "stdout",
     "output_type": "stream",
     "text": [
      "Processing batch 1/172 with batch size: 128\n"
     ]
    },
    {
     "metadata": {
      "tags": null
     },
     "name": "stderr",
     "output_type": "stream",
     "text": [
      "Processed prompts: 100%|██████████| 128/128 [00:23<00:00,  5.41it/s, est. speed input: 7962.78 toks/s, output: 31.51 toks/s]\n"
     ]
    },
    {
     "metadata": {
      "tags": null
     },
     "name": "stdout",
     "output_type": "stream",
     "text": [
      "Feature 'company' processed in 1 batch(s) in 24.36 seconds\n",
      "Processing batch 2/172 with batch size: 128\n"
     ]
    },
    {
     "metadata": {
      "tags": null
     },
     "name": "stderr",
     "output_type": "stream",
     "text": [
      "Processed prompts: 100%|██████████| 128/128 [00:21<00:00,  5.84it/s, est. speed input: 7837.54 toks/s, output: 33.84 toks/s]\n"
     ]
    },
    {
     "metadata": {
      "tags": null
     },
     "name": "stdout",
     "output_type": "stream",
     "text": [
      "Feature 'company' processed in 2 batch(s) in 22.59 seconds\n",
      "Processing batch 3/172 with batch size: 128\n"
     ]
    },
    {
     "metadata": {
      "tags": null
     },
     "name": "stderr",
     "output_type": "stream",
     "text": [
      "Processed prompts: 100%|██████████| 128/128 [00:21<00:00,  6.05it/s, est. speed input: 7954.51 toks/s, output: 35.96 toks/s]\n"
     ]
    },
    {
     "metadata": {
      "tags": null
     },
     "name": "stdout",
     "output_type": "stream",
     "text": [
      "Feature 'company' processed in 3 batch(s) in 21.81 seconds\n",
      "Processing batch 4/172 with batch size: 128\n"
     ]
    },
    {
     "metadata": {
      "tags": null
     },
     "name": "stderr",
     "output_type": "stream",
     "text": [
      "Processed prompts: 100%|██████████| 128/128 [00:21<00:00,  5.94it/s, est. speed input: 8032.79 toks/s, output: 34.27 toks/s]\n"
     ]
    },
    {
     "metadata": {
      "tags": null
     },
     "name": "stdout",
     "output_type": "stream",
     "text": [
      "Feature 'company' processed in 4 batch(s) in 22.01 seconds\n",
      "Processing batch 5/172 with batch size: 128\n"
     ]
    },
    {
     "metadata": {
      "tags": null
     },
     "name": "stderr",
     "output_type": "stream",
     "text": [
      "Processed prompts: 100%|██████████| 128/128 [00:20<00:00,  6.16it/s, est. speed input: 8033.41 toks/s, output: 35.66 toks/s]\n"
     ]
    },
    {
     "metadata": {
      "tags": null
     },
     "name": "stdout",
     "output_type": "stream",
     "text": [
      "Feature 'company' processed in 5 batch(s) in 21.21 seconds\n",
      "Processing batch 6/172 with batch size: 128\n"
     ]
    },
    {
     "metadata": {
      "tags": null
     },
     "name": "stderr",
     "output_type": "stream",
     "text": [
      "Processed prompts: 100%|██████████| 128/128 [00:23<00:00,  5.48it/s, est. speed input: 7933.65 toks/s, output: 30.42 toks/s]\n"
     ]
    },
    {
     "metadata": {
      "tags": null
     },
     "name": "stdout",
     "output_type": "stream",
     "text": [
      "Feature 'company' processed in 6 batch(s) in 23.86 seconds\n",
      "Processing batch 7/172 with batch size: 128\n"
     ]
    },
    {
     "metadata": {
      "tags": null
     },
     "name": "stderr",
     "output_type": "stream",
     "text": [
      "Processed prompts: 100%|██████████| 128/128 [00:21<00:00,  6.09it/s, est. speed input: 8028.02 toks/s, output: 36.25 toks/s]\n"
     ]
    },
    {
     "metadata": {
      "tags": null
     },
     "name": "stdout",
     "output_type": "stream",
     "text": [
      "Feature 'company' processed in 7 batch(s) in 21.46 seconds\n",
      "Processing batch 8/172 with batch size: 128\n"
     ]
    },
    {
     "metadata": {
      "tags": null
     },
     "name": "stderr",
     "output_type": "stream",
     "text": [
      "Processed prompts: 100%|██████████| 128/128 [00:23<00:00,  5.37it/s, est. speed input: 7916.61 toks/s, output: 31.86 toks/s]\n"
     ]
    },
    {
     "metadata": {
      "tags": null
     },
     "name": "stdout",
     "output_type": "stream",
     "text": [
      "Feature 'company' processed in 8 batch(s) in 24.32 seconds\n",
      "Processing batch 9/172 with batch size: 128\n"
     ]
    },
    {
     "metadata": {
      "tags": null
     },
     "name": "stderr",
     "output_type": "stream",
     "text": [
      "Processed prompts: 100%|██████████| 128/128 [00:22<00:00,  5.60it/s, est. speed input: 7951.54 toks/s, output: 34.94 toks/s]\n"
     ]
    },
    {
     "metadata": {
      "tags": null
     },
     "name": "stdout",
     "output_type": "stream",
     "text": [
      "Feature 'company' processed in 9 batch(s) in 23.31 seconds\n",
      "Processing batch 10/172 with batch size: 128\n"
     ]
    },
    {
     "metadata": {
      "tags": null
     },
     "name": "stderr",
     "output_type": "stream",
     "text": [
      "Processed prompts: 100%|██████████| 128/128 [00:21<00:00,  5.98it/s, est. speed input: 8014.51 toks/s, output: 37.05 toks/s]\n"
     ]
    },
    {
     "metadata": {
      "tags": null
     },
     "name": "stdout",
     "output_type": "stream",
     "text": [
      "Feature 'company' processed in 10 batch(s) in 21.87 seconds\n",
      "Saving...\n",
      "Processing batch 11/172 with batch size: 128\n"
     ]
    },
    {
     "metadata": {
      "tags": null
     },
     "name": "stderr",
     "output_type": "stream",
     "text": [
      "Processed prompts: 100%|██████████| 128/128 [00:24<00:00,  5.25it/s, est. speed input: 7977.69 toks/s, output: 28.82 toks/s]\n"
     ]
    },
    {
     "metadata": {
      "tags": null
     },
     "name": "stdout",
     "output_type": "stream",
     "text": [
      "Feature 'company' processed in 11 batch(s) in 24.87 seconds\n",
      "Processing batch 12/172 with batch size: 128\n"
     ]
    },
    {
     "metadata": {
      "tags": null
     },
     "name": "stderr",
     "output_type": "stream",
     "text": [
      "Processed prompts: 100%|██████████| 128/128 [00:23<00:00,  5.46it/s, est. speed input: 7894.07 toks/s, output: 33.59 toks/s]\n"
     ]
    },
    {
     "metadata": {
      "tags": null
     },
     "name": "stdout",
     "output_type": "stream",
     "text": [
      "Feature 'company' processed in 12 batch(s) in 23.89 seconds\n",
      "Processing batch 13/172 with batch size: 128\n"
     ]
    },
    {
     "metadata": {
      "tags": null
     },
     "name": "stderr",
     "output_type": "stream",
     "text": [
      "Processed prompts: 100%|██████████| 128/128 [00:21<00:00,  5.85it/s, est. speed input: 8071.01 toks/s, output: 35.72 toks/s]\n"
     ]
    },
    {
     "metadata": {
      "tags": null
     },
     "name": "stdout",
     "output_type": "stream",
     "text": [
      "Feature 'company' processed in 13 batch(s) in 22.32 seconds\n",
      "Processing batch 14/172 with batch size: 128\n"
     ]
    },
    {
     "metadata": {
      "tags": null
     },
     "name": "stderr",
     "output_type": "stream",
     "text": [
      "Processed prompts: 100%|██████████| 128/128 [00:21<00:00,  5.94it/s, est. speed input: 7979.40 toks/s, output: 34.26 toks/s]\n"
     ]
    },
    {
     "metadata": {
      "tags": null
     },
     "name": "stdout",
     "output_type": "stream",
     "text": [
      "Feature 'company' processed in 14 batch(s) in 21.99 seconds\n",
      "Processing batch 15/172 with batch size: 128\n"
     ]
    },
    {
     "metadata": {
      "tags": null
     },
     "name": "stderr",
     "output_type": "stream",
     "text": [
      "Processed prompts: 100%|██████████| 128/128 [00:21<00:00,  5.96it/s, est. speed input: 7940.02 toks/s, output: 34.57 toks/s]\n"
     ]
    },
    {
     "metadata": {
      "tags": null
     },
     "name": "stdout",
     "output_type": "stream",
     "text": [
      "Feature 'company' processed in 15 batch(s) in 21.92 seconds\n",
      "Processing batch 16/172 with batch size: 128\n"
     ]
    },
    {
     "metadata": {
      "tags": null
     },
     "name": "stderr",
     "output_type": "stream",
     "text": [
      "Processed prompts: 100%|██████████| 128/128 [00:21<00:00,  5.95it/s, est. speed input: 8067.33 toks/s, output: 34.31 toks/s]\n"
     ]
    },
    {
     "metadata": {
      "tags": null
     },
     "name": "stdout",
     "output_type": "stream",
     "text": [
      "Feature 'company' processed in 16 batch(s) in 22.14 seconds\n",
      "Processing batch 17/172 with batch size: 128\n"
     ]
    },
    {
     "metadata": {
      "tags": null
     },
     "name": "stderr",
     "output_type": "stream",
     "text": [
      "Processed prompts: 100%|██████████| 128/128 [00:22<00:00,  5.67it/s, est. speed input: 7870.95 toks/s, output: 34.80 toks/s]\n"
     ]
    },
    {
     "metadata": {
      "tags": null
     },
     "name": "stdout",
     "output_type": "stream",
     "text": [
      "Feature 'company' processed in 17 batch(s) in 23.28 seconds\n",
      "Processing batch 18/172 with batch size: 128\n"
     ]
    },
    {
     "metadata": {
      "tags": null
     },
     "name": "stderr",
     "output_type": "stream",
     "text": [
      "Processed prompts: 100%|██████████| 128/128 [00:21<00:00,  5.98it/s, est. speed input: 7899.99 toks/s, output: 36.48 toks/s]\n"
     ]
    },
    {
     "metadata": {
      "tags": null
     },
     "name": "stdout",
     "output_type": "stream",
     "text": [
      "Feature 'company' processed in 18 batch(s) in 22.04 seconds\n",
      "Processing batch 19/172 with batch size: 128\n"
     ]
    },
    {
     "metadata": {
      "tags": null
     },
     "name": "stderr",
     "output_type": "stream",
     "text": [
      "Processed prompts: 100%|██████████| 128/128 [00:21<00:00,  5.86it/s, est. speed input: 8015.29 toks/s, output: 37.16 toks/s]\n"
     ]
    },
    {
     "metadata": {
      "tags": null
     },
     "name": "stdout",
     "output_type": "stream",
     "text": [
      "Feature 'company' processed in 19 batch(s) in 22.82 seconds\n",
      "Processing batch 20/172 with batch size: 128\n"
     ]
    },
    {
     "metadata": {
      "tags": null
     },
     "name": "stderr",
     "output_type": "stream",
     "text": [
      "Processed prompts: 100%|██████████| 128/128 [00:20<00:00,  6.26it/s, est. speed input: 8016.14 toks/s, output: 40.67 toks/s]\n"
     ]
    },
    {
     "metadata": {
      "tags": null
     },
     "name": "stdout",
     "output_type": "stream",
     "text": [
      "Feature 'company' processed in 20 batch(s) in 20.85 seconds\n",
      "Saving...\n",
      "Processing batch 21/172 with batch size: 128\n"
     ]
    },
    {
     "metadata": {
      "tags": null
     },
     "name": "stderr",
     "output_type": "stream",
     "text": [
      "Processed prompts: 100%|██████████| 128/128 [00:21<00:00,  5.84it/s, est. speed input: 8024.17 toks/s, output: 35.79 toks/s]\n"
     ]
    },
    {
     "metadata": {
      "tags": null
     },
     "name": "stdout",
     "output_type": "stream",
     "text": [
      "Feature 'company' processed in 21 batch(s) in 22.39 seconds\n",
      "Processing batch 22/172 with batch size: 128\n"
     ]
    },
    {
     "metadata": {
      "tags": null
     },
     "name": "stderr",
     "output_type": "stream",
     "text": [
      "Processed prompts: 100%|██████████| 128/128 [00:23<00:00,  5.47it/s, est. speed input: 7816.45 toks/s, output: 34.10 toks/s]\n"
     ]
    },
    {
     "metadata": {
      "tags": null
     },
     "name": "stdout",
     "output_type": "stream",
     "text": [
      "Feature 'company' processed in 22 batch(s) in 23.86 seconds\n",
      "Processing batch 23/172 with batch size: 128\n"
     ]
    },
    {
     "metadata": {
      "tags": null
     },
     "name": "stderr",
     "output_type": "stream",
     "text": [
      "Processed prompts: 100%|██████████| 128/128 [00:21<00:00,  5.93it/s, est. speed input: 7955.67 toks/s, output: 33.94 toks/s]\n"
     ]
    },
    {
     "metadata": {
      "tags": null
     },
     "name": "stdout",
     "output_type": "stream",
     "text": [
      "Feature 'company' processed in 23 batch(s) in 22.03 seconds\n",
      "Processing batch 24/172 with batch size: 128\n"
     ]
    },
    {
     "metadata": {
      "tags": null
     },
     "name": "stderr",
     "output_type": "stream",
     "text": [
      "Processed prompts: 100%|██████████| 128/128 [00:21<00:00,  5.97it/s, est. speed input: 8061.88 toks/s, output: 35.25 toks/s]\n"
     ]
    },
    {
     "metadata": {
      "tags": null
     },
     "name": "stdout",
     "output_type": "stream",
     "text": [
      "Feature 'company' processed in 24 batch(s) in 21.89 seconds\n",
      "Processing batch 25/172 with batch size: 128\n"
     ]
    },
    {
     "metadata": {
      "tags": null
     },
     "name": "stderr",
     "output_type": "stream",
     "text": [
      "Processed prompts: 100%|██████████| 128/128 [00:21<00:00,  5.99it/s, est. speed input: 8090.75 toks/s, output: 32.82 toks/s]\n"
     ]
    },
    {
     "metadata": {
      "tags": null
     },
     "name": "stdout",
     "output_type": "stream",
     "text": [
      "Feature 'company' processed in 25 batch(s) in 21.80 seconds\n",
      "Processing batch 26/172 with batch size: 128\n"
     ]
    },
    {
     "metadata": {
      "tags": null
     },
     "name": "stderr",
     "output_type": "stream",
     "text": [
      "Processed prompts: 100%|██████████| 128/128 [00:22<00:00,  5.73it/s, est. speed input: 7819.11 toks/s, output: 33.55 toks/s]\n"
     ]
    },
    {
     "metadata": {
      "tags": null
     },
     "name": "stdout",
     "output_type": "stream",
     "text": [
      "Feature 'company' processed in 26 batch(s) in 23.04 seconds\n",
      "Processing batch 27/172 with batch size: 128\n"
     ]
    },
    {
     "metadata": {
      "tags": null
     },
     "name": "stderr",
     "output_type": "stream",
     "text": [
      "Processed prompts: 100%|██████████| 128/128 [00:21<00:00,  5.90it/s, est. speed input: 7888.47 toks/s, output: 36.67 toks/s]\n"
     ]
    },
    {
     "metadata": {
      "tags": null
     },
     "name": "stdout",
     "output_type": "stream",
     "text": [
      "Feature 'company' processed in 27 batch(s) in 22.36 seconds\n",
      "Processing batch 28/172 with batch size: 128\n"
     ]
    },
    {
     "metadata": {
      "tags": null
     },
     "name": "stderr",
     "output_type": "stream",
     "text": [
      "Processed prompts: 100%|██████████| 128/128 [00:19<00:00,  6.61it/s, est. speed input: 8141.39 toks/s, output: 39.21 toks/s]\n"
     ]
    },
    {
     "metadata": {
      "tags": null
     },
     "name": "stdout",
     "output_type": "stream",
     "text": [
      "Feature 'company' processed in 28 batch(s) in 19.98 seconds\n",
      "Processing batch 29/172 with batch size: 128\n"
     ]
    },
    {
     "metadata": {
      "tags": null
     },
     "name": "stderr",
     "output_type": "stream",
     "text": [
      "Processed prompts: 100%|██████████| 128/128 [00:21<00:00,  5.86it/s, est. speed input: 7987.67 toks/s, output: 36.10 toks/s]\n"
     ]
    },
    {
     "metadata": {
      "tags": null
     },
     "name": "stdout",
     "output_type": "stream",
     "text": [
      "Feature 'company' processed in 29 batch(s) in 22.30 seconds\n",
      "Processing batch 30/172 with batch size: 128\n"
     ]
    },
    {
     "metadata": {
      "tags": null
     },
     "name": "stderr",
     "output_type": "stream",
     "text": [
      "Processed prompts: 100%|██████████| 128/128 [00:23<00:00,  5.34it/s, est. speed input: 7850.44 toks/s, output: 30.71 toks/s]\n"
     ]
    },
    {
     "metadata": {
      "tags": null
     },
     "name": "stdout",
     "output_type": "stream",
     "text": [
      "Feature 'company' processed in 30 batch(s) in 24.45 seconds\n",
      "Saving...\n",
      "Processing batch 31/172 with batch size: 128\n"
     ]
    },
    {
     "metadata": {
      "tags": null
     },
     "name": "stderr",
     "output_type": "stream",
     "text": [
      "Processed prompts: 100%|██████████| 128/128 [00:20<00:00,  6.14it/s, est. speed input: 7964.66 toks/s, output: 36.28 toks/s]\n"
     ]
    },
    {
     "metadata": {
      "tags": null
     },
     "name": "stdout",
     "output_type": "stream",
     "text": [
      "Feature 'company' processed in 31 batch(s) in 21.29 seconds\n",
      "Processing batch 32/172 with batch size: 128\n"
     ]
    },
    {
     "metadata": {
      "tags": null
     },
     "name": "stderr",
     "output_type": "stream",
     "text": [
      "Processed prompts: 100%|██████████| 128/128 [00:22<00:00,  5.75it/s, est. speed input: 7902.84 toks/s, output: 33.53 toks/s]\n"
     ]
    },
    {
     "metadata": {
      "tags": null
     },
     "name": "stdout",
     "output_type": "stream",
     "text": [
      "Feature 'company' processed in 32 batch(s) in 22.73 seconds\n",
      "Processing batch 33/172 with batch size: 128\n"
     ]
    },
    {
     "metadata": {
      "tags": null
     },
     "name": "stderr",
     "output_type": "stream",
     "text": [
      "Processed prompts: 100%|██████████| 128/128 [00:22<00:00,  5.67it/s, est. speed input: 8031.28 toks/s, output: 33.82 toks/s]\n"
     ]
    },
    {
     "metadata": {
      "tags": null
     },
     "name": "stdout",
     "output_type": "stream",
     "text": [
      "Feature 'company' processed in 33 batch(s) in 23.05 seconds\n",
      "Processing batch 34/172 with batch size: 128\n"
     ]
    },
    {
     "metadata": {
      "tags": null
     },
     "name": "stderr",
     "output_type": "stream",
     "text": [
      "Processed prompts: 100%|██████████| 128/128 [00:21<00:00,  5.85it/s, est. speed input: 8017.95 toks/s, output: 38.94 toks/s]\n"
     ]
    },
    {
     "metadata": {
      "tags": null
     },
     "name": "stdout",
     "output_type": "stream",
     "text": [
      "Feature 'company' processed in 34 batch(s) in 22.34 seconds\n",
      "Processing batch 35/172 with batch size: 128\n"
     ]
    },
    {
     "metadata": {
      "tags": null
     },
     "name": "stderr",
     "output_type": "stream",
     "text": [
      "Processed prompts: 100%|██████████| 128/128 [00:21<00:00,  5.90it/s, est. speed input: 7935.62 toks/s, output: 38.90 toks/s]\n"
     ]
    },
    {
     "metadata": {
      "tags": null
     },
     "name": "stdout",
     "output_type": "stream",
     "text": [
      "Feature 'company' processed in 35 batch(s) in 22.14 seconds\n",
      "Processing batch 36/172 with batch size: 128\n"
     ]
    },
    {
     "metadata": {
      "tags": null
     },
     "name": "stderr",
     "output_type": "stream",
     "text": [
      "Processed prompts: 100%|██████████| 128/128 [00:21<00:00,  6.06it/s, est. speed input: 7954.31 toks/s, output: 38.79 toks/s]\n"
     ]
    },
    {
     "metadata": {
      "tags": null
     },
     "name": "stdout",
     "output_type": "stream",
     "text": [
      "Feature 'company' processed in 36 batch(s) in 21.55 seconds\n",
      "Processing batch 37/172 with batch size: 128\n"
     ]
    },
    {
     "metadata": {
      "tags": null
     },
     "name": "stderr",
     "output_type": "stream",
     "text": [
      "Processed prompts: 100%|██████████| 128/128 [00:22<00:00,  5.74it/s, est. speed input: 7957.44 toks/s, output: 36.68 toks/s]\n"
     ]
    },
    {
     "metadata": {
      "tags": null
     },
     "name": "stdout",
     "output_type": "stream",
     "text": [
      "Feature 'company' processed in 37 batch(s) in 23.02 seconds\n",
      "Processing batch 38/172 with batch size: 128\n"
     ]
    },
    {
     "metadata": {
      "tags": null
     },
     "name": "stderr",
     "output_type": "stream",
     "text": [
      "Processed prompts: 100%|██████████| 128/128 [00:23<00:00,  5.52it/s, est. speed input: 7949.51 toks/s, output: 33.09 toks/s]\n"
     ]
    },
    {
     "metadata": {
      "tags": null
     },
     "name": "stdout",
     "output_type": "stream",
     "text": [
      "Feature 'company' processed in 38 batch(s) in 23.87 seconds\n",
      "Processing batch 39/172 with batch size: 128\n"
     ]
    },
    {
     "metadata": {
      "tags": null
     },
     "name": "stderr",
     "output_type": "stream",
     "text": [
      "Processed prompts: 100%|██████████| 128/128 [00:21<00:00,  5.86it/s, est. speed input: 7918.87 toks/s, output: 37.65 toks/s]\n"
     ]
    },
    {
     "metadata": {
      "tags": null
     },
     "name": "stdout",
     "output_type": "stream",
     "text": [
      "Feature 'company' processed in 39 batch(s) in 22.40 seconds\n",
      "Processing batch 40/172 with batch size: 128\n"
     ]
    },
    {
     "metadata": {
      "tags": null
     },
     "name": "stderr",
     "output_type": "stream",
     "text": [
      "Processed prompts: 100%|██████████| 128/128 [00:22<00:00,  5.78it/s, est. speed input: 7970.87 toks/s, output: 35.47 toks/s]\n"
     ]
    },
    {
     "metadata": {
      "tags": null
     },
     "name": "stdout",
     "output_type": "stream",
     "text": [
      "Feature 'company' processed in 40 batch(s) in 22.58 seconds\n",
      "Saving...\n",
      "Processing batch 41/172 with batch size: 128\n"
     ]
    },
    {
     "metadata": {
      "tags": null
     },
     "name": "stderr",
     "output_type": "stream",
     "text": [
      "Processed prompts: 100%|██████████| 128/128 [00:21<00:00,  6.02it/s, est. speed input: 7964.07 toks/s, output: 36.19 toks/s]\n"
     ]
    },
    {
     "metadata": {
      "tags": null
     },
     "name": "stdout",
     "output_type": "stream",
     "text": [
      "Feature 'company' processed in 41 batch(s) in 21.97 seconds\n",
      "Processing batch 42/172 with batch size: 128\n"
     ]
    },
    {
     "metadata": {
      "tags": null
     },
     "name": "stderr",
     "output_type": "stream",
     "text": [
      "Processed prompts: 100%|██████████| 128/128 [00:20<00:00,  6.28it/s, est. speed input: 7941.12 toks/s, output: 38.91 toks/s]\n"
     ]
    },
    {
     "metadata": {
      "tags": null
     },
     "name": "stdout",
     "output_type": "stream",
     "text": [
      "Feature 'company' processed in 42 batch(s) in 20.80 seconds\n",
      "Processing batch 43/172 with batch size: 128\n"
     ]
    },
    {
     "metadata": {
      "tags": null
     },
     "name": "stderr",
     "output_type": "stream",
     "text": [
      "Processed prompts: 100%|██████████| 128/128 [00:20<00:00,  6.19it/s, est. speed input: 8113.10 toks/s, output: 36.21 toks/s]\n"
     ]
    },
    {
     "metadata": {
      "tags": null
     },
     "name": "stdout",
     "output_type": "stream",
     "text": [
      "Feature 'company' processed in 43 batch(s) in 21.13 seconds\n",
      "Processing batch 44/172 with batch size: 128\n"
     ]
    },
    {
     "metadata": {
      "tags": null
     },
     "name": "stderr",
     "output_type": "stream",
     "text": [
      "Processed prompts: 100%|██████████| 128/128 [00:20<00:00,  6.15it/s, est. speed input: 8068.19 toks/s, output: 35.00 toks/s]\n"
     ]
    },
    {
     "metadata": {
      "tags": null
     },
     "name": "stdout",
     "output_type": "stream",
     "text": [
      "Feature 'company' processed in 44 batch(s) in 21.23 seconds\n",
      "Processing batch 45/172 with batch size: 128\n"
     ]
    },
    {
     "metadata": {
      "tags": null
     },
     "name": "stderr",
     "output_type": "stream",
     "text": [
      "Processed prompts: 100%|██████████| 128/128 [00:20<00:00,  6.30it/s, est. speed input: 7913.07 toks/s, output: 39.76 toks/s]\n"
     ]
    },
    {
     "metadata": {
      "tags": null
     },
     "name": "stdout",
     "output_type": "stream",
     "text": [
      "Feature 'company' processed in 45 batch(s) in 21.56 seconds\n",
      "Processing batch 46/172 with batch size: 128\n"
     ]
    },
    {
     "metadata": {
      "tags": null
     },
     "name": "stderr",
     "output_type": "stream",
     "text": [
      "Processed prompts: 100%|██████████| 128/128 [00:22<00:00,  5.66it/s, est. speed input: 7917.61 toks/s, output: 32.11 toks/s]\n"
     ]
    },
    {
     "metadata": {
      "tags": null
     },
     "name": "stdout",
     "output_type": "stream",
     "text": [
      "Feature 'company' processed in 46 batch(s) in 23.06 seconds\n",
      "Processing batch 47/172 with batch size: 128\n"
     ]
    },
    {
     "metadata": {
      "tags": null
     },
     "name": "stderr",
     "output_type": "stream",
     "text": [
      "Processed prompts: 100%|██████████| 128/128 [00:20<00:00,  6.13it/s, est. speed input: 8064.31 toks/s, output: 35.38 toks/s]\n"
     ]
    },
    {
     "metadata": {
      "tags": null
     },
     "name": "stdout",
     "output_type": "stream",
     "text": [
      "Feature 'company' processed in 47 batch(s) in 21.33 seconds\n",
      "Processing batch 48/172 with batch size: 128\n"
     ]
    },
    {
     "metadata": {
      "tags": null
     },
     "name": "stderr",
     "output_type": "stream",
     "text": [
      "Processed prompts: 100%|██████████| 128/128 [00:21<00:00,  6.09it/s, est. speed input: 8018.97 toks/s, output: 36.24 toks/s]\n"
     ]
    },
    {
     "metadata": {
      "tags": null
     },
     "name": "stdout",
     "output_type": "stream",
     "text": [
      "Feature 'company' processed in 48 batch(s) in 21.45 seconds\n",
      "Processing batch 49/172 with batch size: 128\n"
     ]
    },
    {
     "metadata": {
      "tags": null
     },
     "name": "stderr",
     "output_type": "stream",
     "text": [
      "Processed prompts: 100%|██████████| 128/128 [00:21<00:00,  5.94it/s, est. speed input: 7894.79 toks/s, output: 37.57 toks/s]\n"
     ]
    },
    {
     "metadata": {
      "tags": null
     },
     "name": "stdout",
     "output_type": "stream",
     "text": [
      "Feature 'company' processed in 49 batch(s) in 21.98 seconds\n",
      "Processing batch 50/172 with batch size: 128\n"
     ]
    },
    {
     "metadata": {
      "tags": null
     },
     "name": "stderr",
     "output_type": "stream",
     "text": [
      "Processed prompts: 100%|██████████| 128/128 [00:21<00:00,  5.94it/s, est. speed input: 8036.84 toks/s, output: 35.87 toks/s]\n"
     ]
    },
    {
     "metadata": {
      "tags": null
     },
     "name": "stdout",
     "output_type": "stream",
     "text": [
      "Feature 'company' processed in 50 batch(s) in 22.00 seconds\n",
      "Saving...\n",
      "Processing batch 51/172 with batch size: 128\n"
     ]
    },
    {
     "metadata": {
      "tags": null
     },
     "name": "stderr",
     "output_type": "stream",
     "text": [
      "Processed prompts: 100%|██████████| 128/128 [00:23<00:00,  5.49it/s, est. speed input: 7995.56 toks/s, output: 32.79 toks/s]\n"
     ]
    },
    {
     "metadata": {
      "tags": null
     },
     "name": "stdout",
     "output_type": "stream",
     "text": [
      "Feature 'company' processed in 51 batch(s) in 23.82 seconds\n",
      "Processing batch 52/172 with batch size: 128\n"
     ]
    },
    {
     "metadata": {
      "tags": null
     },
     "name": "stderr",
     "output_type": "stream",
     "text": [
      "Processed prompts: 100%|██████████| 128/128 [00:25<00:00,  5.02it/s, est. speed input: 7832.97 toks/s, output: 32.04 toks/s]\n"
     ]
    },
    {
     "metadata": {
      "tags": null
     },
     "name": "stdout",
     "output_type": "stream",
     "text": [
      "Feature 'company' processed in 52 batch(s) in 26.00 seconds\n",
      "Processing batch 53/172 with batch size: 128\n"
     ]
    },
    {
     "metadata": {
      "tags": null
     },
     "name": "stderr",
     "output_type": "stream",
     "text": [
      "Processed prompts: 100%|██████████| 128/128 [00:21<00:00,  5.84it/s, est. speed input: 8068.59 toks/s, output: 36.89 toks/s]\n"
     ]
    },
    {
     "metadata": {
      "tags": null
     },
     "name": "stdout",
     "output_type": "stream",
     "text": [
      "Feature 'company' processed in 53 batch(s) in 22.38 seconds\n",
      "Processing batch 54/172 with batch size: 128\n"
     ]
    },
    {
     "metadata": {
      "tags": null
     },
     "name": "stderr",
     "output_type": "stream",
     "text": [
      "Processed prompts: 100%|██████████| 128/128 [00:22<00:00,  5.64it/s, est. speed input: 8010.84 toks/s, output: 36.32 toks/s]\n"
     ]
    },
    {
     "metadata": {
      "tags": null
     },
     "name": "stdout",
     "output_type": "stream",
     "text": [
      "Feature 'company' processed in 54 batch(s) in 23.17 seconds\n",
      "Processing batch 55/172 with batch size: 128\n"
     ]
    },
    {
     "metadata": {
      "tags": null
     },
     "name": "stderr",
     "output_type": "stream",
     "text": [
      "Processed prompts: 100%|██████████| 128/128 [00:20<00:00,  6.11it/s, est. speed input: 7964.77 toks/s, output: 38.99 toks/s]\n"
     ]
    },
    {
     "metadata": {
      "tags": null
     },
     "name": "stdout",
     "output_type": "stream",
     "text": [
      "Feature 'company' processed in 55 batch(s) in 21.39 seconds\n",
      "Processing batch 56/172 with batch size: 128\n"
     ]
    },
    {
     "metadata": {
      "tags": null
     },
     "name": "stderr",
     "output_type": "stream",
     "text": [
      "Processed prompts: 100%|██████████| 128/128 [00:22<00:00,  5.62it/s, est. speed input: 7926.69 toks/s, output: 33.26 toks/s]\n"
     ]
    },
    {
     "metadata": {
      "tags": null
     },
     "name": "stdout",
     "output_type": "stream",
     "text": [
      "Feature 'company' processed in 56 batch(s) in 23.22 seconds\n",
      "Processing batch 57/172 with batch size: 128\n"
     ]
    },
    {
     "metadata": {
      "tags": null
     },
     "name": "stderr",
     "output_type": "stream",
     "text": [
      "Processed prompts: 100%|██████████| 128/128 [00:21<00:00,  5.91it/s, est. speed input: 7944.47 toks/s, output: 34.80 toks/s]\n"
     ]
    },
    {
     "metadata": {
      "tags": null
     },
     "name": "stdout",
     "output_type": "stream",
     "text": [
      "Feature 'company' processed in 57 batch(s) in 22.08 seconds\n",
      "Processing batch 58/172 with batch size: 128\n"
     ]
    },
    {
     "metadata": {
      "tags": null
     },
     "name": "stderr",
     "output_type": "stream",
     "text": [
      "Processed prompts: 100%|██████████| 128/128 [00:20<00:00,  6.14it/s, est. speed input: 8000.31 toks/s, output: 37.33 toks/s]\n"
     ]
    },
    {
     "metadata": {
      "tags": null
     },
     "name": "stdout",
     "output_type": "stream",
     "text": [
      "Feature 'company' processed in 58 batch(s) in 21.33 seconds\n",
      "Processing batch 59/172 with batch size: 128\n"
     ]
    },
    {
     "metadata": {
      "tags": null
     },
     "name": "stderr",
     "output_type": "stream",
     "text": [
      "Processed prompts: 100%|██████████| 128/128 [00:20<00:00,  6.16it/s, est. speed input: 7990.65 toks/s, output: 36.78 toks/s]\n"
     ]
    },
    {
     "metadata": {
      "tags": null
     },
     "name": "stdout",
     "output_type": "stream",
     "text": [
      "Feature 'company' processed in 59 batch(s) in 21.38 seconds\n",
      "Processing batch 60/172 with batch size: 128\n"
     ]
    },
    {
     "metadata": {
      "tags": null
     },
     "name": "stderr",
     "output_type": "stream",
     "text": [
      "Processed prompts: 100%|██████████| 128/128 [00:22<00:00,  5.65it/s, est. speed input: 7961.01 toks/s, output: 34.20 toks/s]\n"
     ]
    },
    {
     "metadata": {
      "tags": null
     },
     "name": "stdout",
     "output_type": "stream",
     "text": [
      "Feature 'company' processed in 60 batch(s) in 23.13 seconds\n",
      "Saving...\n",
      "Processing batch 61/172 with batch size: 128\n"
     ]
    },
    {
     "metadata": {
      "tags": null
     },
     "name": "stderr",
     "output_type": "stream",
     "text": [
      "Processed prompts: 100%|██████████| 128/128 [00:22<00:00,  5.60it/s, est. speed input: 7957.90 toks/s, output: 32.57 toks/s]\n"
     ]
    },
    {
     "metadata": {
      "tags": null
     },
     "name": "stdout",
     "output_type": "stream",
     "text": [
      "Feature 'company' processed in 61 batch(s) in 23.50 seconds\n",
      "Processing batch 62/172 with batch size: 128\n"
     ]
    },
    {
     "metadata": {
      "tags": null
     },
     "name": "stderr",
     "output_type": "stream",
     "text": [
      "Processed prompts: 100%|██████████| 128/128 [00:24<00:00,  5.27it/s, est. speed input: 7920.80 toks/s, output: 28.90 toks/s]\n"
     ]
    },
    {
     "metadata": {
      "tags": null
     },
     "name": "stdout",
     "output_type": "stream",
     "text": [
      "Feature 'company' processed in 62 batch(s) in 24.84 seconds\n",
      "Processing batch 63/172 with batch size: 128\n"
     ]
    },
    {
     "metadata": {
      "tags": null
     },
     "name": "stderr",
     "output_type": "stream",
     "text": [
      "Processed prompts: 100%|██████████| 128/128 [00:21<00:00,  5.92it/s, est. speed input: 8001.31 toks/s, output: 36.13 toks/s]\n"
     ]
    },
    {
     "metadata": {
      "tags": null
     },
     "name": "stdout",
     "output_type": "stream",
     "text": [
      "Feature 'company' processed in 63 batch(s) in 22.28 seconds\n",
      "Processing batch 64/172 with batch size: 128\n"
     ]
    },
    {
     "metadata": {
      "tags": null
     },
     "name": "stderr",
     "output_type": "stream",
     "text": [
      "Processed prompts: 100%|██████████| 128/128 [00:19<00:00,  6.53it/s, est. speed input: 8004.75 toks/s, output: 38.95 toks/s]\n"
     ]
    },
    {
     "metadata": {
      "tags": null
     },
     "name": "stdout",
     "output_type": "stream",
     "text": [
      "Feature 'company' processed in 64 batch(s) in 20.02 seconds\n",
      "Processing batch 65/172 with batch size: 128\n"
     ]
    },
    {
     "metadata": {
      "tags": null
     },
     "name": "stderr",
     "output_type": "stream",
     "text": [
      "Processed prompts: 100%|██████████| 128/128 [00:16<00:00,  7.63it/s, est. speed input: 8085.51 toks/s, output: 38.01 toks/s]\n"
     ]
    },
    {
     "metadata": {
      "tags": null
     },
     "name": "stdout",
     "output_type": "stream",
     "text": [
      "Feature 'company' processed in 65 batch(s) in 17.15 seconds\n",
      "Processing batch 66/172 with batch size: 128\n"
     ]
    },
    {
     "metadata": {
      "tags": null
     },
     "name": "stderr",
     "output_type": "stream",
     "text": [
      "Processed prompts: 100%|██████████| 128/128 [00:17<00:00,  7.22it/s, est. speed input: 8045.14 toks/s, output: 36.63 toks/s]\n"
     ]
    },
    {
     "metadata": {
      "tags": null
     },
     "name": "stdout",
     "output_type": "stream",
     "text": [
      "Feature 'company' processed in 66 batch(s) in 18.29 seconds\n",
      "Processing batch 67/172 with batch size: 128\n"
     ]
    },
    {
     "metadata": {
      "tags": null
     },
     "name": "stderr",
     "output_type": "stream",
     "text": [
      "Processed prompts: 100%|██████████| 128/128 [00:17<00:00,  7.47it/s, est. speed input: 8109.33 toks/s, output: 37.40 toks/s]\n"
     ]
    },
    {
     "metadata": {
      "tags": null
     },
     "name": "stdout",
     "output_type": "stream",
     "text": [
      "Feature 'company' processed in 67 batch(s) in 17.52 seconds\n",
      "Processing batch 68/172 with batch size: 128\n"
     ]
    },
    {
     "metadata": {
      "tags": null
     },
     "name": "stderr",
     "output_type": "stream",
     "text": [
      "Processed prompts: 100%|██████████| 128/128 [00:17<00:00,  7.32it/s, est. speed input: 8066.40 toks/s, output: 35.82 toks/s]\n"
     ]
    },
    {
     "metadata": {
      "tags": null
     },
     "name": "stdout",
     "output_type": "stream",
     "text": [
      "Feature 'company' processed in 68 batch(s) in 18.03 seconds\n",
      "Processing batch 69/172 with batch size: 128\n"
     ]
    },
    {
     "metadata": {
      "tags": null
     },
     "name": "stderr",
     "output_type": "stream",
     "text": [
      "Processed prompts: 100%|██████████| 128/128 [00:17<00:00,  7.48it/s, est. speed input: 8105.91 toks/s, output: 41.60 toks/s]\n"
     ]
    },
    {
     "metadata": {
      "tags": null
     },
     "name": "stdout",
     "output_type": "stream",
     "text": [
      "Feature 'company' processed in 69 batch(s) in 17.49 seconds\n",
      "Processing batch 70/172 with batch size: 128\n"
     ]
    },
    {
     "metadata": {
      "tags": null
     },
     "name": "stderr",
     "output_type": "stream",
     "text": [
      "Processed prompts: 100%|██████████| 128/128 [00:17<00:00,  7.42it/s, est. speed input: 8104.96 toks/s, output: 38.94 toks/s]\n"
     ]
    },
    {
     "metadata": {
      "tags": null
     },
     "name": "stdout",
     "output_type": "stream",
     "text": [
      "Feature 'company' processed in 70 batch(s) in 17.82 seconds\n",
      "Saving...\n",
      "Processing batch 71/172 with batch size: 128\n"
     ]
    },
    {
     "metadata": {
      "tags": null
     },
     "name": "stderr",
     "output_type": "stream",
     "text": [
      "Processed prompts: 100%|██████████| 128/128 [00:16<00:00,  7.73it/s, est. speed input: 8119.18 toks/s, output: 40.06 toks/s]\n"
     ]
    },
    {
     "metadata": {
      "tags": null
     },
     "name": "stdout",
     "output_type": "stream",
     "text": [
      "Feature 'company' processed in 71 batch(s) in 16.92 seconds\n",
      "Processing batch 72/172 with batch size: 128\n"
     ]
    },
    {
     "metadata": {
      "tags": null
     },
     "name": "stderr",
     "output_type": "stream",
     "text": [
      "Processed prompts: 100%|██████████| 128/128 [00:17<00:00,  7.38it/s, est. speed input: 8062.09 toks/s, output: 38.34 toks/s]\n"
     ]
    },
    {
     "metadata": {
      "tags": null
     },
     "name": "stdout",
     "output_type": "stream",
     "text": [
      "Feature 'company' processed in 72 batch(s) in 17.71 seconds\n",
      "Processing batch 73/172 with batch size: 128\n"
     ]
    },
    {
     "metadata": {
      "tags": null
     },
     "name": "stderr",
     "output_type": "stream",
     "text": [
      "Processed prompts: 100%|██████████| 128/128 [00:17<00:00,  7.31it/s, est. speed input: 8123.03 toks/s, output: 35.93 toks/s]\n"
     ]
    },
    {
     "metadata": {
      "tags": null
     },
     "name": "stdout",
     "output_type": "stream",
     "text": [
      "Feature 'company' processed in 73 batch(s) in 17.88 seconds\n",
      "Processing batch 74/172 with batch size: 127\n"
     ]
    },
    {
     "metadata": {
      "tags": null
     },
     "name": "stderr",
     "output_type": "stream",
     "text": [
      "Processed prompts: 100%|██████████| 127/127 [00:16<00:00,  7.62it/s, est. speed input: 8068.96 toks/s, output: 40.55 toks/s]\n"
     ]
    },
    {
     "metadata": {
      "tags": null
     },
     "name": "stdout",
     "output_type": "stream",
     "text": [
      "Feature 'company' processed in 74 batch(s) in 17.03 seconds\n",
      "Processing batch 75/172 with batch size: 127\n"
     ]
    },
    {
     "metadata": {
      "tags": null
     },
     "name": "stderr",
     "output_type": "stream",
     "text": [
      "Processed prompts: 100%|██████████| 127/127 [00:16<00:00,  7.55it/s, est. speed input: 8158.73 toks/s, output: 41.73 toks/s]\n"
     ]
    },
    {
     "metadata": {
      "tags": null
     },
     "name": "stdout",
     "output_type": "stream",
     "text": [
      "Feature 'company' processed in 75 batch(s) in 17.18 seconds\n",
      "Processing batch 76/172 with batch size: 127\n"
     ]
    },
    {
     "metadata": {
      "tags": null
     },
     "name": "stderr",
     "output_type": "stream",
     "text": [
      "Processed prompts: 100%|██████████| 127/127 [00:17<00:00,  7.35it/s, est. speed input: 8087.13 toks/s, output: 39.86 toks/s]\n"
     ]
    },
    {
     "metadata": {
      "tags": null
     },
     "name": "stdout",
     "output_type": "stream",
     "text": [
      "Feature 'company' processed in 76 batch(s) in 17.68 seconds\n",
      "Processing batch 77/172 with batch size: 127\n"
     ]
    },
    {
     "metadata": {
      "tags": null
     },
     "name": "stderr",
     "output_type": "stream",
     "text": [
      "Processed prompts: 100%|██████████| 127/127 [00:17<00:00,  7.16it/s, est. speed input: 8035.69 toks/s, output: 32.18 toks/s]\n"
     ]
    },
    {
     "metadata": {
      "tags": null
     },
     "name": "stdout",
     "output_type": "stream",
     "text": [
      "Feature 'company' processed in 77 batch(s) in 18.14 seconds\n",
      "Processing batch 78/172 with batch size: 127\n"
     ]
    },
    {
     "metadata": {
      "tags": null
     },
     "name": "stderr",
     "output_type": "stream",
     "text": [
      "Processed prompts: 100%|██████████| 127/127 [00:18<00:00,  7.04it/s, est. speed input: 8070.85 toks/s, output: 38.94 toks/s]\n"
     ]
    },
    {
     "metadata": {
      "tags": null
     },
     "name": "stdout",
     "output_type": "stream",
     "text": [
      "Feature 'company' processed in 78 batch(s) in 18.42 seconds\n",
      "Processing batch 79/172 with batch size: 127\n"
     ]
    },
    {
     "metadata": {
      "tags": null
     },
     "name": "stderr",
     "output_type": "stream",
     "text": [
      "Processed prompts: 100%|██████████| 127/127 [00:18<00:00,  6.81it/s, est. speed input: 8102.47 toks/s, output: 35.58 toks/s]\n"
     ]
    },
    {
     "metadata": {
      "tags": null
     },
     "name": "stdout",
     "output_type": "stream",
     "text": [
      "Feature 'company' processed in 79 batch(s) in 19.07 seconds\n",
      "Processing batch 80/172 with batch size: 127\n"
     ]
    },
    {
     "metadata": {
      "tags": null
     },
     "name": "stderr",
     "output_type": "stream",
     "text": [
      "Processed prompts: 100%|██████████| 127/127 [00:16<00:00,  7.83it/s, est. speed input: 8128.65 toks/s, output: 44.97 toks/s]\n"
     ]
    },
    {
     "metadata": {
      "tags": null
     },
     "name": "stdout",
     "output_type": "stream",
     "text": [
      "Feature 'company' processed in 80 batch(s) in 16.58 seconds\n",
      "Saving...\n",
      "Processing batch 81/172 with batch size: 127\n"
     ]
    },
    {
     "metadata": {
      "tags": null
     },
     "name": "stderr",
     "output_type": "stream",
     "text": [
      "Processed prompts: 100%|██████████| 127/127 [00:18<00:00,  7.03it/s, est. speed input: 8105.17 toks/s, output: 38.37 toks/s]\n"
     ]
    },
    {
     "metadata": {
      "tags": null
     },
     "name": "stdout",
     "output_type": "stream",
     "text": [
      "Feature 'company' processed in 81 batch(s) in 18.64 seconds\n",
      "Processing batch 82/172 with batch size: 127\n"
     ]
    },
    {
     "metadata": {
      "tags": null
     },
     "name": "stderr",
     "output_type": "stream",
     "text": [
      "Processed prompts: 100%|██████████| 127/127 [00:17<00:00,  7.33it/s, est. speed input: 7948.44 toks/s, output: 34.38 toks/s]\n"
     ]
    },
    {
     "metadata": {
      "tags": null
     },
     "name": "stdout",
     "output_type": "stream",
     "text": [
      "Feature 'company' processed in 82 batch(s) in 17.73 seconds\n",
      "Processing batch 83/172 with batch size: 127\n"
     ]
    },
    {
     "metadata": {
      "tags": null
     },
     "name": "stderr",
     "output_type": "stream",
     "text": [
      "Processed prompts: 100%|██████████| 127/127 [00:17<00:00,  7.17it/s, est. speed input: 8104.19 toks/s, output: 37.44 toks/s]\n"
     ]
    },
    {
     "metadata": {
      "tags": null
     },
     "name": "stdout",
     "output_type": "stream",
     "text": [
      "Feature 'company' processed in 83 batch(s) in 18.10 seconds\n",
      "Processing batch 84/172 with batch size: 127\n"
     ]
    },
    {
     "metadata": {
      "tags": null
     },
     "name": "stderr",
     "output_type": "stream",
     "text": [
      "Processed prompts: 100%|██████████| 127/127 [00:16<00:00,  7.69it/s, est. speed input: 8131.01 toks/s, output: 38.22 toks/s]\n"
     ]
    },
    {
     "metadata": {
      "tags": null
     },
     "name": "stdout",
     "output_type": "stream",
     "text": [
      "Feature 'company' processed in 84 batch(s) in 16.88 seconds\n",
      "Processing batch 85/172 with batch size: 127\n"
     ]
    },
    {
     "metadata": {
      "tags": null
     },
     "name": "stderr",
     "output_type": "stream",
     "text": [
      "Processed prompts: 100%|██████████| 127/127 [00:16<00:00,  7.75it/s, est. speed input: 8160.98 toks/s, output: 37.15 toks/s]\n"
     ]
    },
    {
     "metadata": {
      "tags": null
     },
     "name": "stdout",
     "output_type": "stream",
     "text": [
      "Feature 'company' processed in 85 batch(s) in 16.75 seconds\n",
      "Processing batch 86/172 with batch size: 127\n"
     ]
    },
    {
     "metadata": {
      "tags": null
     },
     "name": "stderr",
     "output_type": "stream",
     "text": [
      "Processed prompts: 100%|██████████| 127/127 [00:16<00:00,  7.79it/s, est. speed input: 8026.99 toks/s, output: 38.93 toks/s]\n"
     ]
    },
    {
     "metadata": {
      "tags": null
     },
     "name": "stdout",
     "output_type": "stream",
     "text": [
      "Feature 'company' processed in 86 batch(s) in 16.68 seconds\n",
      "Processing batch 87/172 with batch size: 127\n"
     ]
    },
    {
     "metadata": {
      "tags": null
     },
     "name": "stderr",
     "output_type": "stream",
     "text": [
      "Processed prompts: 100%|██████████| 127/127 [00:18<00:00,  7.03it/s, est. speed input: 8021.60 toks/s, output: 37.48 toks/s]\n"
     ]
    },
    {
     "metadata": {
      "tags": null
     },
     "name": "stdout",
     "output_type": "stream",
     "text": [
      "Feature 'company' processed in 87 batch(s) in 18.65 seconds\n",
      "Processing batch 88/172 with batch size: 127\n"
     ]
    },
    {
     "metadata": {
      "tags": null
     },
     "name": "stderr",
     "output_type": "stream",
     "text": [
      "Processed prompts: 100%|██████████| 127/127 [00:16<00:00,  7.71it/s, est. speed input: 8084.45 toks/s, output: 39.03 toks/s]\n"
     ]
    },
    {
     "metadata": {
      "tags": null
     },
     "name": "stdout",
     "output_type": "stream",
     "text": [
      "Feature 'company' processed in 88 batch(s) in 16.85 seconds\n",
      "Processing batch 89/172 with batch size: 127\n"
     ]
    },
    {
     "metadata": {
      "tags": null
     },
     "name": "stderr",
     "output_type": "stream",
     "text": [
      "Processed prompts: 100%|██████████| 127/127 [00:17<00:00,  7.32it/s, est. speed input: 8154.80 toks/s, output: 35.90 toks/s]\n"
     ]
    },
    {
     "metadata": {
      "tags": null
     },
     "name": "stdout",
     "output_type": "stream",
     "text": [
      "Feature 'company' processed in 89 batch(s) in 17.91 seconds\n",
      "Processing batch 90/172 with batch size: 127\n"
     ]
    },
    {
     "metadata": {
      "tags": null
     },
     "name": "stderr",
     "output_type": "stream",
     "text": [
      "Processed prompts: 100%|██████████| 127/127 [00:18<00:00,  7.01it/s, est. speed input: 8076.43 toks/s, output: 32.25 toks/s]\n"
     ]
    },
    {
     "metadata": {
      "tags": null
     },
     "name": "stdout",
     "output_type": "stream",
     "text": [
      "Feature 'company' processed in 90 batch(s) in 18.51 seconds\n",
      "Saving...\n",
      "Processing batch 91/172 with batch size: 127\n"
     ]
    },
    {
     "metadata": {
      "tags": null
     },
     "name": "stderr",
     "output_type": "stream",
     "text": [
      "Processed prompts: 100%|██████████| 127/127 [00:16<00:00,  7.57it/s, est. speed input: 8155.24 toks/s, output: 34.79 toks/s]\n"
     ]
    },
    {
     "metadata": {
      "tags": null
     },
     "name": "stdout",
     "output_type": "stream",
     "text": [
      "Feature 'company' processed in 91 batch(s) in 17.15 seconds\n",
      "Processing batch 92/172 with batch size: 127\n"
     ]
    },
    {
     "metadata": {
      "tags": null
     },
     "name": "stderr",
     "output_type": "stream",
     "text": [
      "Processed prompts: 100%|██████████| 127/127 [00:18<00:00,  6.72it/s, est. speed input: 7974.22 toks/s, output: 34.29 toks/s]\n"
     ]
    },
    {
     "metadata": {
      "tags": null
     },
     "name": "stdout",
     "output_type": "stream",
     "text": [
      "Feature 'company' processed in 92 batch(s) in 19.31 seconds\n",
      "Processing batch 93/172 with batch size: 127\n"
     ]
    },
    {
     "metadata": {
      "tags": null
     },
     "name": "stderr",
     "output_type": "stream",
     "text": [
      "Processed prompts: 100%|██████████| 127/127 [00:17<00:00,  7.33it/s, est. speed input: 8038.97 toks/s, output: 32.97 toks/s]\n"
     ]
    },
    {
     "metadata": {
      "tags": null
     },
     "name": "stdout",
     "output_type": "stream",
     "text": [
      "Feature 'company' processed in 93 batch(s) in 17.69 seconds\n",
      "Processing batch 94/172 with batch size: 127\n"
     ]
    },
    {
     "metadata": {
      "tags": null
     },
     "name": "stderr",
     "output_type": "stream",
     "text": [
      "Processed prompts: 100%|██████████| 127/127 [00:18<00:00,  6.97it/s, est. speed input: 8138.54 toks/s, output: 33.74 toks/s]\n"
     ]
    },
    {
     "metadata": {
      "tags": null
     },
     "name": "stdout",
     "output_type": "stream",
     "text": [
      "Feature 'company' processed in 94 batch(s) in 18.82 seconds\n",
      "Processing batch 95/172 with batch size: 127\n"
     ]
    },
    {
     "metadata": {
      "tags": null
     },
     "name": "stderr",
     "output_type": "stream",
     "text": [
      "Processed prompts: 100%|██████████| 127/127 [00:16<00:00,  7.50it/s, est. speed input: 8192.56 toks/s, output: 33.37 toks/s]\n"
     ]
    },
    {
     "metadata": {
      "tags": null
     },
     "name": "stdout",
     "output_type": "stream",
     "text": [
      "Feature 'company' processed in 95 batch(s) in 17.30 seconds\n",
      "Processing batch 96/172 with batch size: 127\n"
     ]
    },
    {
     "metadata": {
      "tags": null
     },
     "name": "stderr",
     "output_type": "stream",
     "text": [
      "Processed prompts: 100%|██████████| 127/127 [00:16<00:00,  7.55it/s, est. speed input: 8119.16 toks/s, output: 33.69 toks/s]\n"
     ]
    },
    {
     "metadata": {
      "tags": null
     },
     "name": "stdout",
     "output_type": "stream",
     "text": [
      "Feature 'company' processed in 96 batch(s) in 17.36 seconds\n",
      "Processing batch 97/172 with batch size: 127\n"
     ]
    },
    {
     "metadata": {
      "tags": null
     },
     "name": "stderr",
     "output_type": "stream",
     "text": [
      "Processed prompts: 100%|██████████| 127/127 [00:17<00:00,  7.16it/s, est. speed input: 8055.46 toks/s, output: 33.52 toks/s]\n"
     ]
    },
    {
     "metadata": {
      "tags": null
     },
     "name": "stdout",
     "output_type": "stream",
     "text": [
      "Feature 'company' processed in 97 batch(s) in 18.14 seconds\n",
      "Processing batch 98/172 with batch size: 127\n"
     ]
    },
    {
     "metadata": {
      "tags": null
     },
     "name": "stderr",
     "output_type": "stream",
     "text": [
      "Processed prompts: 100%|██████████| 127/127 [00:13<00:00,  9.35it/s, est. speed input: 8112.11 toks/s, output: 44.55 toks/s]\n"
     ]
    },
    {
     "metadata": {
      "tags": null
     },
     "name": "stdout",
     "output_type": "stream",
     "text": [
      "Feature 'company' processed in 98 batch(s) in 14.02 seconds\n",
      "Processing batch 99/172 with batch size: 127\n"
     ]
    },
    {
     "metadata": {
      "tags": null
     },
     "name": "stderr",
     "output_type": "stream",
     "text": [
      "Processed prompts: 100%|██████████| 127/127 [00:13<00:00,  9.67it/s, est. speed input: 8200.57 toks/s, output: 51.56 toks/s]\n"
     ]
    },
    {
     "metadata": {
      "tags": null
     },
     "name": "stdout",
     "output_type": "stream",
     "text": [
      "Feature 'company' processed in 99 batch(s) in 13.42 seconds\n",
      "Processing batch 100/172 with batch size: 127\n"
     ]
    },
    {
     "metadata": {
      "tags": null
     },
     "name": "stderr",
     "output_type": "stream",
     "text": [
      "Processed prompts: 100%|██████████| 127/127 [00:12<00:00, 10.19it/s, est. speed input: 8125.63 toks/s, output: 54.07 toks/s]\n"
     ]
    },
    {
     "metadata": {
      "tags": null
     },
     "name": "stdout",
     "output_type": "stream",
     "text": [
      "Feature 'company' processed in 100 batch(s) in 12.74 seconds\n",
      "Saving...\n",
      "Processing batch 101/172 with batch size: 127\n"
     ]
    },
    {
     "metadata": {
      "tags": null
     },
     "name": "stderr",
     "output_type": "stream",
     "text": [
      "Processed prompts: 100%|██████████| 127/127 [00:12<00:00,  9.84it/s, est. speed input: 8268.05 toks/s, output: 51.20 toks/s]\n"
     ]
    },
    {
     "metadata": {
      "tags": null
     },
     "name": "stdout",
     "output_type": "stream",
     "text": [
      "Feature 'company' processed in 101 batch(s) in 13.20 seconds\n",
      "Processing batch 102/172 with batch size: 127\n"
     ]
    },
    {
     "metadata": {
      "tags": null
     },
     "name": "stderr",
     "output_type": "stream",
     "text": [
      "Processed prompts: 100%|██████████| 127/127 [00:14<00:00,  8.83it/s, est. speed input: 8092.11 toks/s, output: 43.31 toks/s]\n"
     ]
    },
    {
     "metadata": {
      "tags": null
     },
     "name": "stdout",
     "output_type": "stream",
     "text": [
      "Feature 'company' processed in 102 batch(s) in 14.71 seconds\n",
      "Processing batch 103/172 with batch size: 127\n"
     ]
    },
    {
     "metadata": {
      "tags": null
     },
     "name": "stderr",
     "output_type": "stream",
     "text": [
      "Processed prompts: 100%|██████████| 127/127 [00:13<00:00,  9.42it/s, est. speed input: 8169.24 toks/s, output: 49.19 toks/s]\n"
     ]
    },
    {
     "metadata": {
      "tags": null
     },
     "name": "stdout",
     "output_type": "stream",
     "text": [
      "Feature 'company' processed in 103 batch(s) in 13.78 seconds\n",
      "Processing batch 104/172 with batch size: 127\n"
     ]
    },
    {
     "metadata": {
      "tags": null
     },
     "name": "stderr",
     "output_type": "stream",
     "text": [
      "Processed prompts: 100%|██████████| 127/127 [00:12<00:00, 10.14it/s, est. speed input: 8118.68 toks/s, output: 54.28 toks/s]\n"
     ]
    },
    {
     "metadata": {
      "tags": null
     },
     "name": "stdout",
     "output_type": "stream",
     "text": [
      "Feature 'company' processed in 104 batch(s) in 12.81 seconds\n",
      "Processing batch 105/172 with batch size: 127\n"
     ]
    },
    {
     "metadata": {
      "tags": null
     },
     "name": "stderr",
     "output_type": "stream",
     "text": [
      "Processed prompts: 100%|██████████| 127/127 [00:13<00:00,  9.68it/s, est. speed input: 8199.67 toks/s, output: 52.09 toks/s]\n"
     ]
    },
    {
     "metadata": {
      "tags": null
     },
     "name": "stdout",
     "output_type": "stream",
     "text": [
      "Feature 'company' processed in 105 batch(s) in 13.41 seconds\n",
      "Processing batch 106/172 with batch size: 127\n"
     ]
    },
    {
     "metadata": {
      "tags": null
     },
     "name": "stderr",
     "output_type": "stream",
     "text": [
      "Processed prompts: 100%|██████████| 127/127 [00:13<00:00,  9.42it/s, est. speed input: 8193.86 toks/s, output: 48.42 toks/s]\n"
     ]
    },
    {
     "metadata": {
      "tags": null
     },
     "name": "stdout",
     "output_type": "stream",
     "text": [
      "Feature 'company' processed in 106 batch(s) in 13.80 seconds\n",
      "Processing batch 107/172 with batch size: 127\n"
     ]
    },
    {
     "metadata": {
      "tags": null
     },
     "name": "stderr",
     "output_type": "stream",
     "text": [
      "Processed prompts: 100%|██████████| 127/127 [00:12<00:00, 10.02it/s, est. speed input: 8232.24 toks/s, output: 47.57 toks/s]\n"
     ]
    },
    {
     "metadata": {
      "tags": null
     },
     "name": "stdout",
     "output_type": "stream",
     "text": [
      "Feature 'company' processed in 107 batch(s) in 12.97 seconds\n",
      "Processing batch 108/172 with batch size: 127\n"
     ]
    },
    {
     "metadata": {
      "tags": null
     },
     "name": "stderr",
     "output_type": "stream",
     "text": [
      "Processed prompts: 100%|██████████| 127/127 [00:13<00:00,  9.59it/s, est. speed input: 8169.31 toks/s, output: 52.73 toks/s]\n"
     ]
    },
    {
     "metadata": {
      "tags": null
     },
     "name": "stdout",
     "output_type": "stream",
     "text": [
      "Feature 'company' processed in 108 batch(s) in 13.53 seconds\n",
      "Processing batch 109/172 with batch size: 127\n"
     ]
    },
    {
     "metadata": {
      "tags": null
     },
     "name": "stderr",
     "output_type": "stream",
     "text": [
      "Processed prompts: 100%|██████████| 127/127 [00:13<00:00,  9.57it/s, est. speed input: 8107.67 toks/s, output: 51.98 toks/s]\n"
     ]
    },
    {
     "metadata": {
      "tags": null
     },
     "name": "stdout",
     "output_type": "stream",
     "text": [
      "Feature 'company' processed in 109 batch(s) in 13.70 seconds\n",
      "Processing batch 110/172 with batch size: 127\n"
     ]
    },
    {
     "metadata": {
      "tags": null
     },
     "name": "stderr",
     "output_type": "stream",
     "text": [
      "Processed prompts: 100%|██████████| 127/127 [00:14<00:00,  8.94it/s, est. speed input: 8043.74 toks/s, output: 43.59 toks/s]\n"
     ]
    },
    {
     "metadata": {
      "tags": null
     },
     "name": "stdout",
     "output_type": "stream",
     "text": [
      "Feature 'company' processed in 110 batch(s) in 14.51 seconds\n",
      "Saving...\n",
      "Processing batch 111/172 with batch size: 127\n"
     ]
    },
    {
     "metadata": {
      "tags": null
     },
     "name": "stderr",
     "output_type": "stream",
     "text": [
      "Processed prompts: 100%|██████████| 127/127 [00:13<00:00,  9.14it/s, est. speed input: 8081.24 toks/s, output: 47.23 toks/s]\n"
     ]
    },
    {
     "metadata": {
      "tags": null
     },
     "name": "stdout",
     "output_type": "stream",
     "text": [
      "Feature 'company' processed in 111 batch(s) in 14.21 seconds\n",
      "Processing batch 112/172 with batch size: 127\n"
     ]
    },
    {
     "metadata": {
      "tags": null
     },
     "name": "stderr",
     "output_type": "stream",
     "text": [
      "Processed prompts: 100%|██████████| 127/127 [00:13<00:00,  9.36it/s, est. speed input: 8054.00 toks/s, output: 50.36 toks/s]\n"
     ]
    },
    {
     "metadata": {
      "tags": null
     },
     "name": "stdout",
     "output_type": "stream",
     "text": [
      "Feature 'company' processed in 112 batch(s) in 13.88 seconds\n",
      "Processing batch 113/172 with batch size: 127\n"
     ]
    },
    {
     "metadata": {
      "tags": null
     },
     "name": "stderr",
     "output_type": "stream",
     "text": [
      "Processed prompts: 100%|██████████| 127/127 [00:13<00:00,  9.74it/s, est. speed input: 8044.09 toks/s, output: 52.89 toks/s]\n"
     ]
    },
    {
     "metadata": {
      "tags": null
     },
     "name": "stdout",
     "output_type": "stream",
     "text": [
      "Feature 'company' processed in 113 batch(s) in 13.47 seconds\n",
      "Processing batch 114/172 with batch size: 127\n"
     ]
    },
    {
     "metadata": {
      "tags": null
     },
     "name": "stderr",
     "output_type": "stream",
     "text": [
      "Processed prompts: 100%|██████████| 127/127 [00:13<00:00,  9.24it/s, est. speed input: 8119.30 toks/s, output: 51.82 toks/s]\n"
     ]
    },
    {
     "metadata": {
      "tags": null
     },
     "name": "stdout",
     "output_type": "stream",
     "text": [
      "Feature 'company' processed in 114 batch(s) in 14.05 seconds\n",
      "Processing batch 115/172 with batch size: 127\n"
     ]
    },
    {
     "metadata": {
      "tags": null
     },
     "name": "stderr",
     "output_type": "stream",
     "text": [
      "Processed prompts: 100%|██████████| 127/127 [00:13<00:00,  9.61it/s, est. speed input: 8298.15 toks/s, output: 49.43 toks/s]\n"
     ]
    },
    {
     "metadata": {
      "tags": null
     },
     "name": "stdout",
     "output_type": "stream",
     "text": [
      "Feature 'company' processed in 115 batch(s) in 13.51 seconds\n",
      "Processing batch 116/172 with batch size: 127\n"
     ]
    },
    {
     "metadata": {
      "tags": null
     },
     "name": "stderr",
     "output_type": "stream",
     "text": [
      "Processed prompts: 100%|██████████| 127/127 [00:12<00:00, 10.15it/s, est. speed input: 8152.33 toks/s, output: 53.44 toks/s]\n"
     ]
    },
    {
     "metadata": {
      "tags": null
     },
     "name": "stdout",
     "output_type": "stream",
     "text": [
      "Feature 'company' processed in 116 batch(s) in 12.80 seconds\n",
      "Processing batch 117/172 with batch size: 127\n"
     ]
    },
    {
     "metadata": {
      "tags": null
     },
     "name": "stderr",
     "output_type": "stream",
     "text": [
      "Processed prompts: 100%|██████████| 127/127 [00:13<00:00,  9.71it/s, est. speed input: 8278.59 toks/s, output: 46.85 toks/s]\n"
     ]
    },
    {
     "metadata": {
      "tags": null
     },
     "name": "stdout",
     "output_type": "stream",
     "text": [
      "Feature 'company' processed in 117 batch(s) in 13.39 seconds\n",
      "Processing batch 118/172 with batch size: 127\n"
     ]
    },
    {
     "metadata": {
      "tags": null
     },
     "name": "stderr",
     "output_type": "stream",
     "text": [
      "Processed prompts: 100%|██████████| 127/127 [00:12<00:00,  9.85it/s, est. speed input: 8218.03 toks/s, output: 47.01 toks/s]\n"
     ]
    },
    {
     "metadata": {
      "tags": null
     },
     "name": "stdout",
     "output_type": "stream",
     "text": [
      "Feature 'company' processed in 118 batch(s) in 13.20 seconds\n",
      "Processing batch 119/172 with batch size: 127\n"
     ]
    },
    {
     "metadata": {
      "tags": null
     },
     "name": "stderr",
     "output_type": "stream",
     "text": [
      "Processed prompts: 100%|██████████| 127/127 [00:12<00:00,  9.83it/s, est. speed input: 8109.77 toks/s, output: 52.23 toks/s]\n"
     ]
    },
    {
     "metadata": {
      "tags": null
     },
     "name": "stdout",
     "output_type": "stream",
     "text": [
      "Feature 'company' processed in 119 batch(s) in 13.35 seconds\n",
      "Processing batch 120/172 with batch size: 127\n"
     ]
    },
    {
     "metadata": {
      "tags": null
     },
     "name": "stderr",
     "output_type": "stream",
     "text": [
      "Processed prompts: 100%|██████████| 127/127 [00:12<00:00, 10.31it/s, est. speed input: 8093.62 toks/s, output: 57.14 toks/s]\n"
     ]
    },
    {
     "metadata": {
      "tags": null
     },
     "name": "stdout",
     "output_type": "stream",
     "text": [
      "Feature 'company' processed in 120 batch(s) in 12.61 seconds\n",
      "Saving...\n",
      "Processing batch 121/172 with batch size: 127\n"
     ]
    },
    {
     "metadata": {
      "tags": null
     },
     "name": "stderr",
     "output_type": "stream",
     "text": [
      "Processed prompts: 100%|██████████| 127/127 [00:12<00:00, 10.27it/s, est. speed input: 8228.22 toks/s, output: 55.85 toks/s]\n"
     ]
    },
    {
     "metadata": {
      "tags": null
     },
     "name": "stdout",
     "output_type": "stream",
     "text": [
      "Feature 'company' processed in 121 batch(s) in 12.66 seconds\n",
      "Processing batch 122/172 with batch size: 127\n"
     ]
    },
    {
     "metadata": {
      "tags": null
     },
     "name": "stderr",
     "output_type": "stream",
     "text": [
      "Processed prompts: 100%|██████████| 127/127 [00:13<00:00,  9.34it/s, est. speed input: 8055.63 toks/s, output: 46.26 toks/s]\n"
     ]
    },
    {
     "metadata": {
      "tags": null
     },
     "name": "stdout",
     "output_type": "stream",
     "text": [
      "Feature 'company' processed in 122 batch(s) in 13.90 seconds\n",
      "Processing batch 123/172 with batch size: 127\n"
     ]
    },
    {
     "metadata": {
      "tags": null
     },
     "name": "stderr",
     "output_type": "stream",
     "text": [
      "Processed prompts: 100%|██████████| 127/127 [00:13<00:00,  9.51it/s, est. speed input: 8050.61 toks/s, output: 51.50 toks/s]\n"
     ]
    },
    {
     "metadata": {
      "tags": null
     },
     "name": "stdout",
     "output_type": "stream",
     "text": [
      "Feature 'company' processed in 123 batch(s) in 13.65 seconds\n",
      "Processing batch 124/172 with batch size: 127\n"
     ]
    },
    {
     "metadata": {
      "tags": null
     },
     "name": "stderr",
     "output_type": "stream",
     "text": [
      "Processed prompts: 100%|██████████| 127/127 [00:12<00:00, 10.13it/s, est. speed input: 8090.26 toks/s, output: 54.01 toks/s]\n"
     ]
    },
    {
     "metadata": {
      "tags": null
     },
     "name": "stdout",
     "output_type": "stream",
     "text": [
      "Feature 'company' processed in 124 batch(s) in 12.96 seconds\n",
      "Processing batch 125/172 with batch size: 127\n"
     ]
    },
    {
     "metadata": {
      "tags": null
     },
     "name": "stderr",
     "output_type": "stream",
     "text": [
      "Processed prompts: 100%|██████████| 127/127 [00:12<00:00, 10.44it/s, est. speed input: 8264.08 toks/s, output: 52.45 toks/s]\n"
     ]
    },
    {
     "metadata": {
      "tags": null
     },
     "name": "stdout",
     "output_type": "stream",
     "text": [
      "Feature 'company' processed in 125 batch(s) in 12.54 seconds\n",
      "Processing batch 126/172 with batch size: 127\n"
     ]
    },
    {
     "metadata": {
      "tags": null
     },
     "name": "stderr",
     "output_type": "stream",
     "text": [
      "Processed prompts: 100%|██████████| 127/127 [00:12<00:00,  9.87it/s, est. speed input: 8240.26 toks/s, output: 48.51 toks/s]\n"
     ]
    },
    {
     "metadata": {
      "tags": null
     },
     "name": "stdout",
     "output_type": "stream",
     "text": [
      "Feature 'company' processed in 126 batch(s) in 13.15 seconds\n",
      "Processing batch 127/172 with batch size: 127\n"
     ]
    },
    {
     "metadata": {
      "tags": null
     },
     "name": "stderr",
     "output_type": "stream",
     "text": [
      "Processed prompts: 100%|██████████| 127/127 [00:14<00:00,  8.81it/s, est. speed input: 8182.00 toks/s, output: 46.11 toks/s]\n"
     ]
    },
    {
     "metadata": {
      "tags": null
     },
     "name": "stdout",
     "output_type": "stream",
     "text": [
      "Feature 'company' processed in 127 batch(s) in 14.74 seconds\n",
      "Processing batch 128/172 with batch size: 127\n"
     ]
    },
    {
     "metadata": {
      "tags": null
     },
     "name": "stderr",
     "output_type": "stream",
     "text": [
      "Processed prompts: 100%|██████████| 127/127 [00:13<00:00,  9.52it/s, est. speed input: 8058.47 toks/s, output: 51.60 toks/s]\n"
     ]
    },
    {
     "metadata": {
      "tags": null
     },
     "name": "stdout",
     "output_type": "stream",
     "text": [
      "Feature 'company' processed in 128 batch(s) in 13.64 seconds\n",
      "Processing batch 129/172 with batch size: 127\n"
     ]
    },
    {
     "metadata": {
      "tags": null
     },
     "name": "stderr",
     "output_type": "stream",
     "text": [
      "Processed prompts: 100%|██████████| 127/127 [00:12<00:00, 10.08it/s, est. speed input: 8140.89 toks/s, output: 50.57 toks/s]\n"
     ]
    },
    {
     "metadata": {
      "tags": null
     },
     "name": "stdout",
     "output_type": "stream",
     "text": [
      "Feature 'company' processed in 129 batch(s) in 12.88 seconds\n",
      "Processing batch 130/172 with batch size: 127\n"
     ]
    },
    {
     "metadata": {
      "tags": null
     },
     "name": "stderr",
     "output_type": "stream",
     "text": [
      "Processed prompts: 100%|██████████| 127/127 [00:13<00:00,  9.08it/s, est. speed input: 8181.99 toks/s, output: 44.06 toks/s]\n"
     ]
    },
    {
     "metadata": {
      "tags": null
     },
     "name": "stdout",
     "output_type": "stream",
     "text": [
      "Feature 'company' processed in 130 batch(s) in 14.30 seconds\n",
      "Saving...\n",
      "Processing batch 131/172 with batch size: 127\n"
     ]
    },
    {
     "metadata": {
      "tags": null
     },
     "name": "stderr",
     "output_type": "stream",
     "text": [
      "Processed prompts: 100%|██████████| 127/127 [00:13<00:00,  9.20it/s, est. speed input: 8198.87 toks/s, output: 43.01 toks/s]\n"
     ]
    },
    {
     "metadata": {
      "tags": null
     },
     "name": "stdout",
     "output_type": "stream",
     "text": [
      "Feature 'company' processed in 131 batch(s) in 14.11 seconds\n",
      "Processing batch 132/172 with batch size: 127\n"
     ]
    },
    {
     "metadata": {
      "tags": null
     },
     "name": "stderr",
     "output_type": "stream",
     "text": [
      "Processed prompts: 100%|██████████| 127/127 [00:12<00:00,  9.78it/s, est. speed input: 8147.27 toks/s, output: 47.30 toks/s]\n"
     ]
    },
    {
     "metadata": {
      "tags": null
     },
     "name": "stdout",
     "output_type": "stream",
     "text": [
      "Feature 'company' processed in 132 batch(s) in 13.27 seconds\n",
      "Processing batch 133/172 with batch size: 127\n"
     ]
    },
    {
     "metadata": {
      "tags": null
     },
     "name": "stderr",
     "output_type": "stream",
     "text": [
      "Processed prompts: 100%|██████████| 127/127 [00:14<00:00,  8.79it/s, est. speed input: 8082.99 toks/s, output: 39.09 toks/s]\n"
     ]
    },
    {
     "metadata": {
      "tags": null
     },
     "name": "stdout",
     "output_type": "stream",
     "text": [
      "Feature 'company' processed in 133 batch(s) in 14.77 seconds\n",
      "Processing batch 134/172 with batch size: 127\n"
     ]
    },
    {
     "metadata": {
      "tags": null
     },
     "name": "stderr",
     "output_type": "stream",
     "text": [
      "Processed prompts: 100%|██████████| 127/127 [00:16<00:00,  7.92it/s, est. speed input: 8151.67 toks/s, output: 36.35 toks/s]\n"
     ]
    },
    {
     "metadata": {
      "tags": null
     },
     "name": "stdout",
     "output_type": "stream",
     "text": [
      "Feature 'company' processed in 134 batch(s) in 16.57 seconds\n",
      "Processing batch 135/172 with batch size: 127\n"
     ]
    },
    {
     "metadata": {
      "tags": null
     },
     "name": "stderr",
     "output_type": "stream",
     "text": [
      "Processed prompts: 100%|██████████| 127/127 [00:16<00:00,  7.91it/s, est. speed input: 8190.54 toks/s, output: 38.12 toks/s]\n"
     ]
    },
    {
     "metadata": {
      "tags": null
     },
     "name": "stdout",
     "output_type": "stream",
     "text": [
      "Feature 'company' processed in 135 batch(s) in 16.40 seconds\n",
      "Processing batch 136/172 with batch size: 127\n"
     ]
    },
    {
     "metadata": {
      "tags": null
     },
     "name": "stderr",
     "output_type": "stream",
     "text": [
      "Processed prompts: 100%|██████████| 127/127 [00:14<00:00,  8.86it/s, est. speed input: 8082.34 toks/s, output: 42.96 toks/s]\n"
     ]
    },
    {
     "metadata": {
      "tags": null
     },
     "name": "stdout",
     "output_type": "stream",
     "text": [
      "Feature 'company' processed in 136 batch(s) in 14.65 seconds\n",
      "Processing batch 137/172 with batch size: 127\n"
     ]
    },
    {
     "metadata": {
      "tags": null
     },
     "name": "stderr",
     "output_type": "stream",
     "text": [
      "Processed prompts: 100%|██████████| 127/127 [00:15<00:00,  8.42it/s, est. speed input: 8163.57 toks/s, output: 40.22 toks/s]\n"
     ]
    },
    {
     "metadata": {
      "tags": null
     },
     "name": "stdout",
     "output_type": "stream",
     "text": [
      "Feature 'company' processed in 137 batch(s) in 15.59 seconds\n",
      "Processing batch 138/172 with batch size: 127\n"
     ]
    },
    {
     "metadata": {
      "tags": null
     },
     "name": "stderr",
     "output_type": "stream",
     "text": [
      "Processed prompts: 100%|██████████| 127/127 [00:13<00:00,  9.08it/s, est. speed input: 8134.29 toks/s, output: 49.11 toks/s]\n"
     ]
    },
    {
     "metadata": {
      "tags": null
     },
     "name": "stdout",
     "output_type": "stream",
     "text": [
      "Feature 'company' processed in 138 batch(s) in 14.30 seconds\n",
      "Processing batch 139/172 with batch size: 127\n"
     ]
    },
    {
     "metadata": {
      "tags": null
     },
     "name": "stderr",
     "output_type": "stream",
     "text": [
      "Processed prompts: 100%|██████████| 127/127 [00:12<00:00,  9.89it/s, est. speed input: 8168.98 toks/s, output: 48.20 toks/s]\n"
     ]
    },
    {
     "metadata": {
      "tags": null
     },
     "name": "stdout",
     "output_type": "stream",
     "text": [
      "Feature 'company' processed in 139 batch(s) in 13.15 seconds\n",
      "Processing batch 140/172 with batch size: 127\n"
     ]
    },
    {
     "metadata": {
      "tags": null
     },
     "name": "stderr",
     "output_type": "stream",
     "text": [
      "Processed prompts: 100%|██████████| 127/127 [00:14<00:00,  8.91it/s, est. speed input: 8232.40 toks/s, output: 45.24 toks/s]\n"
     ]
    },
    {
     "metadata": {
      "tags": null
     },
     "name": "stdout",
     "output_type": "stream",
     "text": [
      "Feature 'company' processed in 140 batch(s) in 14.58 seconds\n",
      "Saving...\n",
      "Processing batch 141/172 with batch size: 127\n"
     ]
    },
    {
     "metadata": {
      "tags": null
     },
     "name": "stderr",
     "output_type": "stream",
     "text": [
      "Processed prompts: 100%|██████████| 127/127 [00:15<00:00,  7.96it/s, est. speed input: 8087.50 toks/s, output: 38.11 toks/s]\n"
     ]
    },
    {
     "metadata": {
      "tags": null
     },
     "name": "stdout",
     "output_type": "stream",
     "text": [
      "Feature 'company' processed in 141 batch(s) in 16.30 seconds\n",
      "Processing batch 142/172 with batch size: 127\n"
     ]
    },
    {
     "metadata": {
      "tags": null
     },
     "name": "stderr",
     "output_type": "stream",
     "text": [
      "Processed prompts: 100%|██████████| 127/127 [00:15<00:00,  8.22it/s, est. speed input: 7990.13 toks/s, output: 38.69 toks/s]\n"
     ]
    },
    {
     "metadata": {
      "tags": null
     },
     "name": "stdout",
     "output_type": "stream",
     "text": [
      "Feature 'company' processed in 142 batch(s) in 15.79 seconds\n",
      "Processing batch 143/172 with batch size: 127\n"
     ]
    },
    {
     "metadata": {
      "tags": null
     },
     "name": "stderr",
     "output_type": "stream",
     "text": [
      "Processed prompts: 100%|██████████| 127/127 [00:14<00:00,  8.57it/s, est. speed input: 8129.52 toks/s, output: 44.55 toks/s]\n"
     ]
    },
    {
     "metadata": {
      "tags": null
     },
     "name": "stdout",
     "output_type": "stream",
     "text": [
      "Feature 'company' processed in 143 batch(s) in 15.28 seconds\n",
      "Processing batch 144/172 with batch size: 127\n"
     ]
    },
    {
     "metadata": {
      "tags": null
     },
     "name": "stderr",
     "output_type": "stream",
     "text": [
      "Processed prompts: 100%|██████████| 127/127 [00:15<00:00,  8.40it/s, est. speed input: 8100.32 toks/s, output: 43.24 toks/s]\n"
     ]
    },
    {
     "metadata": {
      "tags": null
     },
     "name": "stdout",
     "output_type": "stream",
     "text": [
      "Feature 'company' processed in 144 batch(s) in 15.45 seconds\n",
      "Processing batch 145/172 with batch size: 127\n"
     ]
    },
    {
     "metadata": {
      "tags": null
     },
     "name": "stderr",
     "output_type": "stream",
     "text": [
      "Processed prompts: 100%|██████████| 127/127 [00:15<00:00,  8.32it/s, est. speed input: 8192.75 toks/s, output: 42.59 toks/s]\n"
     ]
    },
    {
     "metadata": {
      "tags": null
     },
     "name": "stdout",
     "output_type": "stream",
     "text": [
      "Feature 'company' processed in 145 batch(s) in 15.59 seconds\n",
      "Processing batch 146/172 with batch size: 127\n"
     ]
    },
    {
     "metadata": {
      "tags": null
     },
     "name": "stderr",
     "output_type": "stream",
     "text": [
      "Processed prompts: 100%|██████████| 127/127 [00:14<00:00,  8.90it/s, est. speed input: 8151.22 toks/s, output: 42.26 toks/s]\n"
     ]
    },
    {
     "metadata": {
      "tags": null
     },
     "name": "stdout",
     "output_type": "stream",
     "text": [
      "Feature 'company' processed in 146 batch(s) in 14.74 seconds\n",
      "Processing batch 147/172 with batch size: 127\n"
     ]
    },
    {
     "metadata": {
      "tags": null
     },
     "name": "stderr",
     "output_type": "stream",
     "text": [
      "Processed prompts: 100%|██████████| 127/127 [00:12<00:00, 10.07it/s, est. speed input: 8085.05 toks/s, output: 48.51 toks/s]\n"
     ]
    },
    {
     "metadata": {
      "tags": null
     },
     "name": "stdout",
     "output_type": "stream",
     "text": [
      "Feature 'company' processed in 147 batch(s) in 12.90 seconds\n",
      "Processing batch 148/172 with batch size: 127\n"
     ]
    },
    {
     "metadata": {
      "tags": null
     },
     "name": "stderr",
     "output_type": "stream",
     "text": [
      "Processed prompts: 100%|██████████| 127/127 [00:13<00:00,  9.26it/s, est. speed input: 8134.14 toks/s, output: 49.23 toks/s]\n"
     ]
    },
    {
     "metadata": {
      "tags": null
     },
     "name": "stdout",
     "output_type": "stream",
     "text": [
      "Feature 'company' processed in 148 batch(s) in 14.02 seconds\n",
      "Processing batch 149/172 with batch size: 127\n"
     ]
    },
    {
     "metadata": {
      "tags": null
     },
     "name": "stderr",
     "output_type": "stream",
     "text": [
      "Processed prompts: 100%|██████████| 127/127 [00:13<00:00,  9.70it/s, est. speed input: 8139.09 toks/s, output: 48.96 toks/s]\n"
     ]
    },
    {
     "metadata": {
      "tags": null
     },
     "name": "stdout",
     "output_type": "stream",
     "text": [
      "Feature 'company' processed in 149 batch(s) in 13.38 seconds\n",
      "Processing batch 150/172 with batch size: 127\n"
     ]
    },
    {
     "metadata": {
      "tags": null
     },
     "name": "stderr",
     "output_type": "stream",
     "text": [
      "Processed prompts: 100%|██████████| 127/127 [00:11<00:00, 11.46it/s, est. speed input: 8194.22 toks/s, output: 54.79 toks/s]\n"
     ]
    },
    {
     "metadata": {
      "tags": null
     },
     "name": "stdout",
     "output_type": "stream",
     "text": [
      "Feature 'company' processed in 150 batch(s) in 11.34 seconds\n",
      "Saving...\n",
      "Processing batch 151/172 with batch size: 127\n"
     ]
    },
    {
     "metadata": {
      "tags": null
     },
     "name": "stderr",
     "output_type": "stream",
     "text": [
      "Processed prompts: 100%|██████████| 127/127 [00:13<00:00,  9.74it/s, est. speed input: 8190.16 toks/s, output: 50.38 toks/s]\n"
     ]
    },
    {
     "metadata": {
      "tags": null
     },
     "name": "stdout",
     "output_type": "stream",
     "text": [
      "Feature 'company' processed in 151 batch(s) in 13.49 seconds\n",
      "Processing batch 152/172 with batch size: 127\n"
     ]
    },
    {
     "metadata": {
      "tags": null
     },
     "name": "stderr",
     "output_type": "stream",
     "text": [
      "Processed prompts: 100%|██████████| 127/127 [00:11<00:00, 10.70it/s, est. speed input: 8105.37 toks/s, output: 54.77 toks/s]\n"
     ]
    },
    {
     "metadata": {
      "tags": null
     },
     "name": "stdout",
     "output_type": "stream",
     "text": [
      "Feature 'company' processed in 152 batch(s) in 12.28 seconds\n",
      "Processing batch 153/172 with batch size: 127\n"
     ]
    },
    {
     "metadata": {
      "tags": null
     },
     "name": "stderr",
     "output_type": "stream",
     "text": [
      "Processed prompts: 100%|██████████| 127/127 [00:13<00:00,  9.62it/s, est. speed input: 8166.01 toks/s, output: 44.32 toks/s]\n"
     ]
    },
    {
     "metadata": {
      "tags": null
     },
     "name": "stdout",
     "output_type": "stream",
     "text": [
      "Feature 'company' processed in 153 batch(s) in 13.50 seconds\n",
      "Processing batch 154/172 with batch size: 127\n"
     ]
    },
    {
     "metadata": {
      "tags": null
     },
     "name": "stderr",
     "output_type": "stream",
     "text": [
      "Processed prompts: 100%|██████████| 127/127 [00:14<00:00,  8.65it/s, est. speed input: 7998.29 toks/s, output: 42.77 toks/s]\n"
     ]
    },
    {
     "metadata": {
      "tags": null
     },
     "name": "stdout",
     "output_type": "stream",
     "text": [
      "Feature 'company' processed in 154 batch(s) in 15.04 seconds\n",
      "Processing batch 155/172 with batch size: 127\n"
     ]
    },
    {
     "metadata": {
      "tags": null
     },
     "name": "stderr",
     "output_type": "stream",
     "text": [
      "Processed prompts: 100%|██████████| 127/127 [00:12<00:00, 10.40it/s, est. speed input: 8210.41 toks/s, output: 47.42 toks/s]\n"
     ]
    },
    {
     "metadata": {
      "tags": null
     },
     "name": "stdout",
     "output_type": "stream",
     "text": [
      "Feature 'company' processed in 155 batch(s) in 12.50 seconds\n",
      "Processing batch 156/172 with batch size: 127\n"
     ]
    },
    {
     "metadata": {
      "tags": null
     },
     "name": "stderr",
     "output_type": "stream",
     "text": [
      "Processed prompts: 100%|██████████| 127/127 [00:12<00:00, 10.27it/s, est. speed input: 8126.85 toks/s, output: 49.97 toks/s]\n"
     ]
    },
    {
     "metadata": {
      "tags": null
     },
     "name": "stdout",
     "output_type": "stream",
     "text": [
      "Feature 'company' processed in 156 batch(s) in 12.65 seconds\n",
      "Processing batch 157/172 with batch size: 127\n"
     ]
    },
    {
     "metadata": {
      "tags": null
     },
     "name": "stderr",
     "output_type": "stream",
     "text": [
      "Processed prompts: 100%|██████████| 127/127 [00:12<00:00,  9.89it/s, est. speed input: 8158.67 toks/s, output: 45.09 toks/s]\n"
     ]
    },
    {
     "metadata": {
      "tags": null
     },
     "name": "stdout",
     "output_type": "stream",
     "text": [
      "Feature 'company' processed in 157 batch(s) in 13.14 seconds\n",
      "Processing batch 158/172 with batch size: 127\n"
     ]
    },
    {
     "metadata": {
      "tags": null
     },
     "name": "stderr",
     "output_type": "stream",
     "text": [
      "Processed prompts: 100%|██████████| 127/127 [00:12<00:00, 10.43it/s, est. speed input: 8126.23 toks/s, output: 50.93 toks/s]\n"
     ]
    },
    {
     "metadata": {
      "tags": null
     },
     "name": "stdout",
     "output_type": "stream",
     "text": [
      "Feature 'company' processed in 158 batch(s) in 12.45 seconds\n",
      "Processing batch 159/172 with batch size: 127\n"
     ]
    },
    {
     "metadata": {
      "tags": null
     },
     "name": "stderr",
     "output_type": "stream",
     "text": [
      "Processed prompts: 100%|██████████| 127/127 [00:11<00:00, 11.16it/s, est. speed input: 8191.76 toks/s, output: 56.70 toks/s]\n"
     ]
    },
    {
     "metadata": {
      "tags": null
     },
     "name": "stdout",
     "output_type": "stream",
     "text": [
      "Feature 'company' processed in 159 batch(s) in 11.75 seconds\n",
      "Processing batch 160/172 with batch size: 127\n"
     ]
    },
    {
     "metadata": {
      "tags": null
     },
     "name": "stderr",
     "output_type": "stream",
     "text": [
      "Processed prompts: 100%|██████████| 127/127 [00:11<00:00, 10.79it/s, est. speed input: 8178.02 toks/s, output: 50.40 toks/s]\n"
     ]
    },
    {
     "metadata": {
      "tags": null
     },
     "name": "stdout",
     "output_type": "stream",
     "text": [
      "Feature 'company' processed in 160 batch(s) in 12.17 seconds\n",
      "Saving...\n",
      "Processing batch 161/172 with batch size: 127\n"
     ]
    },
    {
     "metadata": {
      "tags": null
     },
     "name": "stderr",
     "output_type": "stream",
     "text": [
      "Processed prompts: 100%|██████████| 127/127 [00:12<00:00, 10.56it/s, est. speed input: 8327.54 toks/s, output: 50.70 toks/s]\n"
     ]
    },
    {
     "metadata": {
      "tags": null
     },
     "name": "stdout",
     "output_type": "stream",
     "text": [
      "Feature 'company' processed in 161 batch(s) in 12.30 seconds\n",
      "Processing batch 162/172 with batch size: 127\n"
     ]
    },
    {
     "metadata": {
      "tags": null
     },
     "name": "stderr",
     "output_type": "stream",
     "text": [
      "Processed prompts: 100%|██████████| 127/127 [00:13<00:00,  9.37it/s, est. speed input: 8049.96 toks/s, output: 44.26 toks/s]\n"
     ]
    },
    {
     "metadata": {
      "tags": null
     },
     "name": "stdout",
     "output_type": "stream",
     "text": [
      "Feature 'company' processed in 162 batch(s) in 13.85 seconds\n",
      "Processing batch 163/172 with batch size: 127\n"
     ]
    },
    {
     "metadata": {
      "tags": null
     },
     "name": "stderr",
     "output_type": "stream",
     "text": [
      "Processed prompts: 100%|██████████| 127/127 [00:13<00:00,  9.67it/s, est. speed input: 8050.80 toks/s, output: 47.69 toks/s]\n"
     ]
    },
    {
     "metadata": {
      "tags": null
     },
     "name": "stdout",
     "output_type": "stream",
     "text": [
      "Feature 'company' processed in 163 batch(s) in 13.42 seconds\n",
      "Processing batch 164/172 with batch size: 127\n"
     ]
    },
    {
     "metadata": {
      "tags": null
     },
     "name": "stderr",
     "output_type": "stream",
     "text": [
      "Processed prompts: 100%|██████████| 127/127 [00:13<00:00,  9.26it/s, est. speed input: 8139.22 toks/s, output: 42.21 toks/s]\n"
     ]
    },
    {
     "metadata": {
      "tags": null
     },
     "name": "stdout",
     "output_type": "stream",
     "text": [
      "Feature 'company' processed in 164 batch(s) in 14.03 seconds\n",
      "Processing batch 165/172 with batch size: 127\n"
     ]
    },
    {
     "metadata": {
      "tags": null
     },
     "name": "stderr",
     "output_type": "stream",
     "text": [
      "Processed prompts: 100%|██████████| 127/127 [00:13<00:00,  9.50it/s, est. speed input: 8312.20 toks/s, output: 42.21 toks/s]\n"
     ]
    },
    {
     "metadata": {
      "tags": null
     },
     "name": "stdout",
     "output_type": "stream",
     "text": [
      "Feature 'company' processed in 165 batch(s) in 13.81 seconds\n",
      "Processing batch 166/172 with batch size: 127\n"
     ]
    },
    {
     "metadata": {
      "tags": null
     },
     "name": "stderr",
     "output_type": "stream",
     "text": [
      "Processed prompts: 100%|██████████| 127/127 [00:13<00:00,  9.68it/s, est. speed input: 8202.99 toks/s, output: 46.35 toks/s]\n"
     ]
    },
    {
     "metadata": {
      "tags": null
     },
     "name": "stdout",
     "output_type": "stream",
     "text": [
      "Feature 'company' processed in 166 batch(s) in 13.41 seconds\n",
      "Processing batch 167/172 with batch size: 127\n"
     ]
    },
    {
     "metadata": {
      "tags": null
     },
     "name": "stderr",
     "output_type": "stream",
     "text": [
      "Processed prompts: 100%|██████████| 127/127 [00:12<00:00,  9.87it/s, est. speed input: 8158.98 toks/s, output: 50.28 toks/s]\n"
     ]
    },
    {
     "metadata": {
      "tags": null
     },
     "name": "stdout",
     "output_type": "stream",
     "text": [
      "Feature 'company' processed in 167 batch(s) in 13.15 seconds\n",
      "Processing batch 168/172 with batch size: 127\n"
     ]
    },
    {
     "metadata": {
      "tags": null
     },
     "name": "stderr",
     "output_type": "stream",
     "text": [
      "Processed prompts: 100%|██████████| 127/127 [00:12<00:00,  9.97it/s, est. speed input: 8044.22 toks/s, output: 46.86 toks/s]\n"
     ]
    },
    {
     "metadata": {
      "tags": null
     },
     "name": "stdout",
     "output_type": "stream",
     "text": [
      "Feature 'company' processed in 168 batch(s) in 13.01 seconds\n",
      "Processing batch 169/172 with batch size: 127\n"
     ]
    },
    {
     "metadata": {
      "tags": null
     },
     "name": "stderr",
     "output_type": "stream",
     "text": [
      "Processed prompts: 100%|██████████| 127/127 [00:12<00:00, 10.46it/s, est. speed input: 8136.06 toks/s, output: 50.64 toks/s]\n"
     ]
    },
    {
     "metadata": {
      "tags": null
     },
     "name": "stdout",
     "output_type": "stream",
     "text": [
      "Feature 'company' processed in 169 batch(s) in 12.42 seconds\n",
      "Processing batch 170/172 with batch size: 127\n"
     ]
    },
    {
     "metadata": {
      "tags": null
     },
     "name": "stderr",
     "output_type": "stream",
     "text": [
      "Processed prompts: 100%|██████████| 127/127 [00:12<00:00,  9.79it/s, est. speed input: 8025.99 toks/s, output: 51.32 toks/s]\n"
     ]
    },
    {
     "metadata": {
      "tags": null
     },
     "name": "stdout",
     "output_type": "stream",
     "text": [
      "Feature 'company' processed in 170 batch(s) in 13.27 seconds\n",
      "Saving...\n",
      "Processing batch 171/172 with batch size: 127\n"
     ]
    },
    {
     "metadata": {
      "tags": null
     },
     "name": "stderr",
     "output_type": "stream",
     "text": [
      "Processed prompts: 100%|██████████| 127/127 [00:11<00:00, 11.20it/s, est. speed input: 8163.29 toks/s, output: 63.26 toks/s]\n"
     ]
    },
    {
     "metadata": {
      "tags": null
     },
     "name": "stdout",
     "output_type": "stream",
     "text": [
      "Feature 'company' processed in 171 batch(s) in 11.72 seconds\n",
      "Processing batch 172/172 with batch size: 127\n"
     ]
    },
    {
     "metadata": {
      "tags": null
     },
     "name": "stderr",
     "output_type": "stream",
     "text": [
      "Processed prompts: 100%|██████████| 127/127 [00:09<00:00, 13.98it/s, est. speed input: 8174.24 toks/s, output: 75.97 toks/s]\n"
     ]
    },
    {
     "metadata": {
      "tags": null
     },
     "name": "stdout",
     "output_type": "stream",
     "text": [
      "Feature 'company' processed in 172 batch(s) in 9.39 seconds\n",
      "Completed feature company.\n",
      "Saving...\n",
      "\n",
      "\n"
     ]
    },
    {
     "metadata": {
      "tags": null
     },
     "name": "stderr",
     "output_type": "stream",
     "text": [
      "/usr/local/lib/python3.11/dist-packages/numpy/core/fromnumeric.py:59: FutureWarning: 'Series.swapaxes' is deprecated and will be removed in a future version. Please use 'Series.transpose' instead.\n",
      "  return bound(*args, **kwds)\n"
     ]
    },
    {
     "metadata": {
      "tags": null
     },
     "name": "stdout",
     "output_type": "stream",
     "text": [
      "Processing batch 1/172 with batch size: 128\n"
     ]
    },
    {
     "metadata": {
      "tags": null
     },
     "name": "stderr",
     "output_type": "stream",
     "text": [
      "Processed prompts: 100%|██████████| 128/128 [00:23<00:00,  5.36it/s, est. speed input: 7886.19 toks/s, output: 37.00 toks/s]\n"
     ]
    },
    {
     "metadata": {
      "tags": null
     },
     "name": "stdout",
     "output_type": "stream",
     "text": [
      "Feature 'industry' processed in 1 batch(s) in 24.38 seconds\n",
      "Processing batch 2/172 with batch size: 128\n"
     ]
    },
    {
     "metadata": {
      "tags": null
     },
     "name": "stderr",
     "output_type": "stream",
     "text": [
      "Processed prompts: 100%|██████████| 128/128 [00:21<00:00,  5.86it/s, est. speed input: 7878.01 toks/s, output: 34.40 toks/s]\n"
     ]
    },
    {
     "metadata": {
      "tags": null
     },
     "name": "stdout",
     "output_type": "stream",
     "text": [
      "Feature 'industry' processed in 2 batch(s) in 22.39 seconds\n",
      "Processing batch 3/172 with batch size: 128\n"
     ]
    },
    {
     "metadata": {
      "tags": null
     },
     "name": "stderr",
     "output_type": "stream",
     "text": [
      "Processed prompts: 100%|██████████| 128/128 [00:21<00:00,  6.03it/s, est. speed input: 7932.45 toks/s, output: 34.42 toks/s]\n"
     ]
    },
    {
     "metadata": {
      "tags": null
     },
     "name": "stdout",
     "output_type": "stream",
     "text": [
      "Feature 'industry' processed in 3 batch(s) in 21.68 seconds\n",
      "Processing batch 4/172 with batch size: 128\n"
     ]
    },
    {
     "metadata": {
      "tags": null
     },
     "name": "stderr",
     "output_type": "stream",
     "text": [
      "Processed prompts: 100%|██████████| 128/128 [00:21<00:00,  5.90it/s, est. speed input: 7992.61 toks/s, output: 38.00 toks/s]\n"
     ]
    },
    {
     "metadata": {
      "tags": null
     },
     "name": "stdout",
     "output_type": "stream",
     "text": [
      "Feature 'industry' processed in 4 batch(s) in 22.33 seconds\n",
      "Processing batch 5/172 with batch size: 128\n"
     ]
    },
    {
     "metadata": {
      "tags": null
     },
     "name": "stderr",
     "output_type": "stream",
     "text": [
      "Processed prompts: 100%|██████████| 128/128 [00:20<00:00,  6.14it/s, est. speed input: 8012.17 toks/s, output: 41.01 toks/s]\n"
     ]
    },
    {
     "metadata": {
      "tags": null
     },
     "name": "stdout",
     "output_type": "stream",
     "text": [
      "Feature 'industry' processed in 5 batch(s) in 21.28 seconds\n",
      "Processing batch 6/172 with batch size: 128\n"
     ]
    },
    {
     "metadata": {
      "tags": null
     },
     "name": "stderr",
     "output_type": "stream",
     "text": [
      "Processed prompts: 100%|██████████| 128/128 [00:23<00:00,  5.43it/s, est. speed input: 7873.51 toks/s, output: 37.98 toks/s]\n"
     ]
    },
    {
     "metadata": {
      "tags": null
     },
     "name": "stdout",
     "output_type": "stream",
     "text": [
      "Feature 'industry' processed in 6 batch(s) in 24.03 seconds\n",
      "Processing batch 7/172 with batch size: 128\n"
     ]
    },
    {
     "metadata": {
      "tags": null
     },
     "name": "stderr",
     "output_type": "stream",
     "text": [
      "Processed prompts: 100%|██████████| 128/128 [00:21<00:00,  6.06it/s, est. speed input: 8000.31 toks/s, output: 37.52 toks/s]\n"
     ]
    },
    {
     "metadata": {
      "tags": null
     },
     "name": "stdout",
     "output_type": "stream",
     "text": [
      "Feature 'industry' processed in 7 batch(s) in 21.54 seconds\n",
      "Processing batch 8/172 with batch size: 128\n"
     ]
    },
    {
     "metadata": {
      "tags": null
     },
     "name": "stderr",
     "output_type": "stream",
     "text": [
      "Processed prompts: 100%|██████████| 128/128 [00:23<00:00,  5.35it/s, est. speed input: 7881.33 toks/s, output: 34.74 toks/s]\n"
     ]
    },
    {
     "metadata": {
      "tags": null
     },
     "name": "stdout",
     "output_type": "stream",
     "text": [
      "Feature 'industry' processed in 8 batch(s) in 24.44 seconds\n",
      "Processing batch 9/172 with batch size: 128\n"
     ]
    },
    {
     "metadata": {
      "tags": null
     },
     "name": "stderr",
     "output_type": "stream",
     "text": [
      "Processed prompts: 100%|██████████| 128/128 [00:22<00:00,  5.63it/s, est. speed input: 7988.01 toks/s, output: 33.88 toks/s]\n"
     ]
    },
    {
     "metadata": {
      "tags": null
     },
     "name": "stdout",
     "output_type": "stream",
     "text": [
      "Feature 'industry' processed in 9 batch(s) in 23.22 seconds\n",
      "Processing batch 10/172 with batch size: 128\n"
     ]
    },
    {
     "metadata": {
      "tags": null
     },
     "name": "stderr",
     "output_type": "stream",
     "text": [
      "Processed prompts: 100%|██████████| 128/128 [00:21<00:00,  6.00it/s, est. speed input: 8051.54 toks/s, output: 38.03 toks/s]\n"
     ]
    },
    {
     "metadata": {
      "tags": null
     },
     "name": "stdout",
     "output_type": "stream",
     "text": [
      "Feature 'industry' processed in 10 batch(s) in 21.77 seconds\n",
      "Saving...\n",
      "Processing batch 11/172 with batch size: 128\n"
     ]
    },
    {
     "metadata": {
      "tags": null
     },
     "name": "stderr",
     "output_type": "stream",
     "text": [
      "Processed prompts: 100%|██████████| 128/128 [00:24<00:00,  5.17it/s, est. speed input: 7864.70 toks/s, output: 36.88 toks/s]\n"
     ]
    },
    {
     "metadata": {
      "tags": null
     },
     "name": "stdout",
     "output_type": "stream",
     "text": [
      "Feature 'industry' processed in 11 batch(s) in 25.25 seconds\n",
      "Processing batch 12/172 with batch size: 128\n"
     ]
    },
    {
     "metadata": {
      "tags": null
     },
     "name": "stderr",
     "output_type": "stream",
     "text": [
      "Processed prompts: 100%|██████████| 128/128 [00:23<00:00,  5.44it/s, est. speed input: 7862.29 toks/s, output: 36.02 toks/s]\n"
     ]
    },
    {
     "metadata": {
      "tags": null
     },
     "name": "stdout",
     "output_type": "stream",
     "text": [
      "Feature 'industry' processed in 12 batch(s) in 24.01 seconds\n",
      "Processing batch 13/172 with batch size: 128\n"
     ]
    },
    {
     "metadata": {
      "tags": null
     },
     "name": "stderr",
     "output_type": "stream",
     "text": [
      "Processed prompts: 100%|██████████| 128/128 [00:21<00:00,  5.86it/s, est. speed input: 8082.60 toks/s, output: 38.63 toks/s]\n"
     ]
    },
    {
     "metadata": {
      "tags": null
     },
     "name": "stdout",
     "output_type": "stream",
     "text": [
      "Feature 'industry' processed in 13 batch(s) in 22.31 seconds\n",
      "Processing batch 14/172 with batch size: 128\n"
     ]
    },
    {
     "metadata": {
      "tags": null
     },
     "name": "stderr",
     "output_type": "stream",
     "text": [
      "Processed prompts: 100%|██████████| 128/128 [00:21<00:00,  5.97it/s, est. speed input: 8020.39 toks/s, output: 36.04 toks/s]\n"
     ]
    },
    {
     "metadata": {
      "tags": null
     },
     "name": "stdout",
     "output_type": "stream",
     "text": [
      "Feature 'industry' processed in 14 batch(s) in 21.90 seconds\n",
      "Processing batch 15/172 with batch size: 128\n"
     ]
    },
    {
     "metadata": {
      "tags": null
     },
     "name": "stderr",
     "output_type": "stream",
     "text": [
      "Processed prompts: 100%|██████████| 128/128 [00:21<00:00,  5.92it/s, est. speed input: 7894.58 toks/s, output: 38.47 toks/s]\n"
     ]
    },
    {
     "metadata": {
      "tags": null
     },
     "name": "stdout",
     "output_type": "stream",
     "text": [
      "Feature 'industry' processed in 15 batch(s) in 22.06 seconds\n",
      "Processing batch 16/172 with batch size: 128\n"
     ]
    },
    {
     "metadata": {
      "tags": null
     },
     "name": "stderr",
     "output_type": "stream",
     "text": [
      "Processed prompts: 100%|██████████| 128/128 [00:22<00:00,  5.78it/s, est. speed input: 7838.15 toks/s, output: 39.04 toks/s]\n"
     ]
    },
    {
     "metadata": {
      "tags": null
     },
     "name": "stdout",
     "output_type": "stream",
     "text": [
      "Feature 'industry' processed in 16 batch(s) in 22.60 seconds\n",
      "Processing batch 17/172 with batch size: 128\n"
     ]
    },
    {
     "metadata": {
      "tags": null
     },
     "name": "stderr",
     "output_type": "stream",
     "text": [
      "Processed prompts: 100%|██████████| 128/128 [00:22<00:00,  5.66it/s, est. speed input: 7869.14 toks/s, output: 39.98 toks/s]\n"
     ]
    },
    {
     "metadata": {
      "tags": null
     },
     "name": "stdout",
     "output_type": "stream",
     "text": [
      "Feature 'industry' processed in 17 batch(s) in 23.07 seconds\n",
      "Processing batch 18/172 with batch size: 128\n"
     ]
    },
    {
     "metadata": {
      "tags": null
     },
     "name": "stderr",
     "output_type": "stream",
     "text": [
      "Processed prompts: 100%|██████████| 128/128 [00:21<00:00,  6.08it/s, est. speed input: 8037.82 toks/s, output: 43.17 toks/s]\n"
     ]
    },
    {
     "metadata": {
      "tags": null
     },
     "name": "stdout",
     "output_type": "stream",
     "text": [
      "Feature 'industry' processed in 18 batch(s) in 21.49 seconds\n",
      "Processing batch 19/172 with batch size: 128\n"
     ]
    },
    {
     "metadata": {
      "tags": null
     },
     "name": "stderr",
     "output_type": "stream",
     "text": [
      "Processed prompts: 100%|██████████| 128/128 [00:21<00:00,  5.82it/s, est. speed input: 7976.06 toks/s, output: 41.55 toks/s]\n"
     ]
    },
    {
     "metadata": {
      "tags": null
     },
     "name": "stdout",
     "output_type": "stream",
     "text": [
      "Feature 'industry' processed in 19 batch(s) in 22.57 seconds\n",
      "Processing batch 20/172 with batch size: 128\n"
     ]
    },
    {
     "metadata": {
      "tags": null
     },
     "name": "stderr",
     "output_type": "stream",
     "text": [
      "Processed prompts: 100%|██████████| 128/128 [00:20<00:00,  6.12it/s, est. speed input: 7832.62 toks/s, output: 38.94 toks/s]\n"
     ]
    },
    {
     "metadata": {
      "tags": null
     },
     "name": "stdout",
     "output_type": "stream",
     "text": [
      "Feature 'industry' processed in 20 batch(s) in 21.53 seconds\n",
      "Saving...\n",
      "Processing batch 21/172 with batch size: 128\n"
     ]
    },
    {
     "metadata": {
      "tags": null
     },
     "name": "stderr",
     "output_type": "stream",
     "text": [
      "Processed prompts: 100%|██████████| 128/128 [00:22<00:00,  5.80it/s, est. speed input: 7976.14 toks/s, output: 37.54 toks/s]\n"
     ]
    },
    {
     "metadata": {
      "tags": null
     },
     "name": "stdout",
     "output_type": "stream",
     "text": [
      "Feature 'industry' processed in 21 batch(s) in 22.54 seconds\n",
      "Processing batch 22/172 with batch size: 128\n"
     ]
    },
    {
     "metadata": {
      "tags": null
     },
     "name": "stderr",
     "output_type": "stream",
     "text": [
      "Processed prompts: 100%|██████████| 128/128 [00:23<00:00,  5.53it/s, est. speed input: 7907.62 toks/s, output: 37.32 toks/s]\n"
     ]
    },
    {
     "metadata": {
      "tags": null
     },
     "name": "stdout",
     "output_type": "stream",
     "text": [
      "Feature 'industry' processed in 22 batch(s) in 23.73 seconds\n",
      "Processing batch 23/172 with batch size: 128\n"
     ]
    },
    {
     "metadata": {
      "tags": null
     },
     "name": "stderr",
     "output_type": "stream",
     "text": [
      "Processed prompts: 100%|██████████| 128/128 [00:21<00:00,  5.96it/s, est. speed input: 8008.70 toks/s, output: 39.03 toks/s]\n"
     ]
    },
    {
     "metadata": {
      "tags": null
     },
     "name": "stdout",
     "output_type": "stream",
     "text": [
      "Feature 'industry' processed in 23 batch(s) in 21.92 seconds\n",
      "Processing batch 24/172 with batch size: 128\n"
     ]
    },
    {
     "metadata": {
      "tags": null
     },
     "name": "stderr",
     "output_type": "stream",
     "text": [
      "Processed prompts: 100%|██████████| 128/128 [00:21<00:00,  5.88it/s, est. speed input: 7954.11 toks/s, output: 36.17 toks/s]\n"
     ]
    },
    {
     "metadata": {
      "tags": null
     },
     "name": "stdout",
     "output_type": "stream",
     "text": [
      "Feature 'industry' processed in 24 batch(s) in 22.41 seconds\n",
      "Processing batch 25/172 with batch size: 128\n"
     ]
    },
    {
     "metadata": {
      "tags": null
     },
     "name": "stderr",
     "output_type": "stream",
     "text": [
      "Processed prompts: 100%|██████████| 128/128 [00:21<00:00,  5.93it/s, est. speed input: 8014.06 toks/s, output: 34.48 toks/s]\n"
     ]
    },
    {
     "metadata": {
      "tags": null
     },
     "name": "stdout",
     "output_type": "stream",
     "text": [
      "Feature 'industry' processed in 25 batch(s) in 22.23 seconds\n",
      "Processing batch 26/172 with batch size: 128\n"
     ]
    },
    {
     "metadata": {
      "tags": null
     },
     "name": "stderr",
     "output_type": "stream",
     "text": [
      "Processed prompts: 100%|██████████| 128/128 [00:22<00:00,  5.80it/s, est. speed input: 7923.47 toks/s, output: 39.50 toks/s]\n"
     ]
    },
    {
     "metadata": {
      "tags": null
     },
     "name": "stdout",
     "output_type": "stream",
     "text": [
      "Feature 'industry' processed in 26 batch(s) in 22.52 seconds\n",
      "Processing batch 27/172 with batch size: 128\n"
     ]
    },
    {
     "metadata": {
      "tags": null
     },
     "name": "stderr",
     "output_type": "stream",
     "text": [
      "Processed prompts: 100%|██████████| 128/128 [00:21<00:00,  5.99it/s, est. speed input: 8023.88 toks/s, output: 40.60 toks/s]\n"
     ]
    },
    {
     "metadata": {
      "tags": null
     },
     "name": "stdout",
     "output_type": "stream",
     "text": [
      "Feature 'industry' processed in 27 batch(s) in 21.80 seconds\n",
      "Processing batch 28/172 with batch size: 128\n"
     ]
    },
    {
     "metadata": {
      "tags": null
     },
     "name": "stderr",
     "output_type": "stream",
     "text": [
      "Processed prompts: 100%|██████████| 128/128 [00:19<00:00,  6.50it/s, est. speed input: 8004.96 toks/s, output: 41.67 toks/s]\n"
     ]
    },
    {
     "metadata": {
      "tags": null
     },
     "name": "stdout",
     "output_type": "stream",
     "text": [
      "Feature 'industry' processed in 28 batch(s) in 20.11 seconds\n",
      "Processing batch 29/172 with batch size: 128\n"
     ]
    },
    {
     "metadata": {
      "tags": null
     },
     "name": "stderr",
     "output_type": "stream",
     "text": [
      "Processed prompts: 100%|██████████| 128/128 [00:21<00:00,  5.85it/s, est. speed input: 7969.93 toks/s, output: 36.54 toks/s]\n"
     ]
    },
    {
     "metadata": {
      "tags": null
     },
     "name": "stdout",
     "output_type": "stream",
     "text": [
      "Feature 'industry' processed in 29 batch(s) in 22.33 seconds\n",
      "Processing batch 30/172 with batch size: 128\n"
     ]
    },
    {
     "metadata": {
      "tags": null
     },
     "name": "stderr",
     "output_type": "stream",
     "text": [
      "Processed prompts: 100%|██████████| 128/128 [00:23<00:00,  5.40it/s, est. speed input: 7945.83 toks/s, output: 40.31 toks/s]\n"
     ]
    },
    {
     "metadata": {
      "tags": null
     },
     "name": "stdout",
     "output_type": "stream",
     "text": [
      "Feature 'industry' processed in 30 batch(s) in 24.16 seconds\n",
      "Saving...\n",
      "Processing batch 31/172 with batch size: 128\n"
     ]
    },
    {
     "metadata": {
      "tags": null
     },
     "name": "stderr",
     "output_type": "stream",
     "text": [
      "Processed prompts: 100%|██████████| 128/128 [00:20<00:00,  6.22it/s, est. speed input: 8072.39 toks/s, output: 41.31 toks/s]\n"
     ]
    },
    {
     "metadata": {
      "tags": null
     },
     "name": "stdout",
     "output_type": "stream",
     "text": [
      "Feature 'industry' processed in 31 batch(s) in 21.01 seconds\n",
      "Processing batch 32/172 with batch size: 128\n"
     ]
    },
    {
     "metadata": {
      "tags": null
     },
     "name": "stderr",
     "output_type": "stream",
     "text": [
      "Processed prompts: 100%|██████████| 128/128 [00:22<00:00,  5.64it/s, est. speed input: 7763.40 toks/s, output: 36.57 toks/s]\n"
     ]
    },
    {
     "metadata": {
      "tags": null
     },
     "name": "stdout",
     "output_type": "stream",
     "text": [
      "Feature 'industry' processed in 32 batch(s) in 23.14 seconds\n",
      "Processing batch 33/172 with batch size: 128\n"
     ]
    },
    {
     "metadata": {
      "tags": null
     },
     "name": "stderr",
     "output_type": "stream",
     "text": [
      "Processed prompts: 100%|██████████| 128/128 [00:23<00:00,  5.56it/s, est. speed input: 7893.13 toks/s, output: 38.47 toks/s]\n"
     ]
    },
    {
     "metadata": {
      "tags": null
     },
     "name": "stdout",
     "output_type": "stream",
     "text": [
      "Feature 'industry' processed in 33 batch(s) in 23.47 seconds\n",
      "Processing batch 34/172 with batch size: 128\n"
     ]
    },
    {
     "metadata": {
      "tags": null
     },
     "name": "stderr",
     "output_type": "stream",
     "text": [
      "Processed prompts: 100%|██████████| 128/128 [00:21<00:00,  5.91it/s, est. speed input: 8109.85 toks/s, output: 38.20 toks/s]\n"
     ]
    },
    {
     "metadata": {
      "tags": null
     },
     "name": "stdout",
     "output_type": "stream",
     "text": [
      "Feature 'industry' processed in 34 batch(s) in 22.11 seconds\n",
      "Processing batch 35/172 with batch size: 128\n"
     ]
    },
    {
     "metadata": {
      "tags": null
     },
     "name": "stderr",
     "output_type": "stream",
     "text": [
      "Processed prompts: 100%|██████████| 128/128 [00:21<00:00,  5.85it/s, est. speed input: 7871.56 toks/s, output: 41.34 toks/s]\n"
     ]
    },
    {
     "metadata": {
      "tags": null
     },
     "name": "stdout",
     "output_type": "stream",
     "text": [
      "Feature 'industry' processed in 35 batch(s) in 22.36 seconds\n",
      "Processing batch 36/172 with batch size: 128\n"
     ]
    },
    {
     "metadata": {
      "tags": null
     },
     "name": "stderr",
     "output_type": "stream",
     "text": [
      "Processed prompts: 100%|██████████| 128/128 [00:21<00:00,  6.01it/s, est. speed input: 7890.70 toks/s, output: 43.33 toks/s]\n"
     ]
    },
    {
     "metadata": {
      "tags": null
     },
     "name": "stdout",
     "output_type": "stream",
     "text": [
      "Feature 'industry' processed in 36 batch(s) in 21.94 seconds\n",
      "Processing batch 37/172 with batch size: 128\n"
     ]
    },
    {
     "metadata": {
      "tags": null
     },
     "name": "stderr",
     "output_type": "stream",
     "text": [
      "Processed prompts: 100%|██████████| 128/128 [00:22<00:00,  5.74it/s, est. speed input: 7965.27 toks/s, output: 37.72 toks/s]\n"
     ]
    },
    {
     "metadata": {
      "tags": null
     },
     "name": "stdout",
     "output_type": "stream",
     "text": [
      "Feature 'industry' processed in 37 batch(s) in 22.91 seconds\n",
      "Processing batch 38/172 with batch size: 128\n"
     ]
    },
    {
     "metadata": {
      "tags": null
     },
     "name": "stderr",
     "output_type": "stream",
     "text": [
      "Processed prompts: 100%|██████████| 128/128 [00:23<00:00,  5.55it/s, est. speed input: 7991.85 toks/s, output: 35.63 toks/s]\n"
     ]
    },
    {
     "metadata": {
      "tags": null
     },
     "name": "stdout",
     "output_type": "stream",
     "text": [
      "Feature 'industry' processed in 38 batch(s) in 23.54 seconds\n",
      "Processing batch 39/172 with batch size: 128\n"
     ]
    },
    {
     "metadata": {
      "tags": null
     },
     "name": "stderr",
     "output_type": "stream",
     "text": [
      "Processed prompts: 100%|██████████| 128/128 [00:21<00:00,  5.91it/s, est. speed input: 8002.64 toks/s, output: 40.29 toks/s]\n"
     ]
    },
    {
     "metadata": {
      "tags": null
     },
     "name": "stdout",
     "output_type": "stream",
     "text": [
      "Feature 'industry' processed in 39 batch(s) in 22.10 seconds\n",
      "Processing batch 40/172 with batch size: 128\n"
     ]
    },
    {
     "metadata": {
      "tags": null
     },
     "name": "stderr",
     "output_type": "stream",
     "text": [
      "Processed prompts: 100%|██████████| 128/128 [00:22<00:00,  5.74it/s, est. speed input: 7909.07 toks/s, output: 37.46 toks/s]\n"
     ]
    },
    {
     "metadata": {
      "tags": null
     },
     "name": "stdout",
     "output_type": "stream",
     "text": [
      "Feature 'industry' processed in 40 batch(s) in 22.77 seconds\n",
      "Saving...\n",
      "Processing batch 41/172 with batch size: 128\n"
     ]
    },
    {
     "metadata": {
      "tags": null
     },
     "name": "stderr",
     "output_type": "stream",
     "text": [
      "Processed prompts: 100%|██████████| 128/128 [00:21<00:00,  6.02it/s, est. speed input: 7976.72 toks/s, output: 44.97 toks/s]\n"
     ]
    },
    {
     "metadata": {
      "tags": null
     },
     "name": "stdout",
     "output_type": "stream",
     "text": [
      "Feature 'industry' processed in 41 batch(s) in 21.70 seconds\n",
      "Processing batch 42/172 with batch size: 128\n"
     ]
    },
    {
     "metadata": {
      "tags": null
     },
     "name": "stderr",
     "output_type": "stream",
     "text": [
      "Processed prompts: 100%|██████████| 128/128 [00:20<00:00,  6.29it/s, est. speed input: 7965.14 toks/s, output: 39.98 toks/s]\n"
     ]
    },
    {
     "metadata": {
      "tags": null
     },
     "name": "stdout",
     "output_type": "stream",
     "text": [
      "Feature 'industry' processed in 42 batch(s) in 20.74 seconds\n",
      "Processing batch 43/172 with batch size: 128\n"
     ]
    },
    {
     "metadata": {
      "tags": null
     },
     "name": "stderr",
     "output_type": "stream",
     "text": [
      "Processed prompts: 100%|██████████| 128/128 [00:20<00:00,  6.10it/s, est. speed input: 8008.24 toks/s, output: 42.73 toks/s]\n"
     ]
    },
    {
     "metadata": {
      "tags": null
     },
     "name": "stdout",
     "output_type": "stream",
     "text": [
      "Feature 'industry' processed in 43 batch(s) in 21.40 seconds\n",
      "Processing batch 44/172 with batch size: 128\n"
     ]
    },
    {
     "metadata": {
      "tags": null
     },
     "name": "stderr",
     "output_type": "stream",
     "text": [
      "Processed prompts: 100%|██████████| 128/128 [00:21<00:00,  6.05it/s, est. speed input: 7936.64 toks/s, output: 39.13 toks/s]\n"
     ]
    },
    {
     "metadata": {
      "tags": null
     },
     "name": "stdout",
     "output_type": "stream",
     "text": [
      "Feature 'industry' processed in 44 batch(s) in 21.59 seconds\n",
      "Processing batch 45/172 with batch size: 128\n"
     ]
    },
    {
     "metadata": {
      "tags": null
     },
     "name": "stderr",
     "output_type": "stream",
     "text": [
      "Processed prompts: 100%|██████████| 128/128 [00:20<00:00,  6.32it/s, est. speed input: 7945.98 toks/s, output: 41.28 toks/s]\n"
     ]
    },
    {
     "metadata": {
      "tags": null
     },
     "name": "stdout",
     "output_type": "stream",
     "text": [
      "Feature 'industry' processed in 45 batch(s) in 20.87 seconds\n",
      "Processing batch 46/172 with batch size: 128\n"
     ]
    },
    {
     "metadata": {
      "tags": null
     },
     "name": "stderr",
     "output_type": "stream",
     "text": [
      "Processed prompts: 100%|██████████| 128/128 [00:22<00:00,  5.68it/s, est. speed input: 7952.27 toks/s, output: 39.06 toks/s]\n"
     ]
    },
    {
     "metadata": {
      "tags": null
     },
     "name": "stdout",
     "output_type": "stream",
     "text": [
      "Feature 'industry' processed in 46 batch(s) in 22.99 seconds\n",
      "Processing batch 47/172 with batch size: 128\n"
     ]
    },
    {
     "metadata": {
      "tags": null
     },
     "name": "stderr",
     "output_type": "stream",
     "text": [
      "Processed prompts: 100%|██████████| 128/128 [00:21<00:00,  6.06it/s, est. speed input: 7986.12 toks/s, output: 39.94 toks/s]\n"
     ]
    },
    {
     "metadata": {
      "tags": null
     },
     "name": "stdout",
     "output_type": "stream",
     "text": [
      "Feature 'industry' processed in 47 batch(s) in 21.54 seconds\n",
      "Processing batch 48/172 with batch size: 128\n"
     ]
    },
    {
     "metadata": {
      "tags": null
     },
     "name": "stderr",
     "output_type": "stream",
     "text": [
      "Processed prompts: 100%|██████████| 128/128 [00:21<00:00,  6.07it/s, est. speed input: 7998.82 toks/s, output: 41.38 toks/s]\n"
     ]
    },
    {
     "metadata": {
      "tags": null
     },
     "name": "stdout",
     "output_type": "stream",
     "text": [
      "Feature 'industry' processed in 48 batch(s) in 21.54 seconds\n",
      "Processing batch 49/172 with batch size: 128\n"
     ]
    },
    {
     "metadata": {
      "tags": null
     },
     "name": "stderr",
     "output_type": "stream",
     "text": [
      "Processed prompts: 100%|██████████| 128/128 [00:21<00:00,  5.95it/s, est. speed input: 7912.71 toks/s, output: 39.11 toks/s]\n"
     ]
    },
    {
     "metadata": {
      "tags": null
     },
     "name": "stdout",
     "output_type": "stream",
     "text": [
      "Feature 'industry' processed in 49 batch(s) in 21.93 seconds\n",
      "Processing batch 50/172 with batch size: 128\n"
     ]
    },
    {
     "metadata": {
      "tags": null
     },
     "name": "stderr",
     "output_type": "stream",
     "text": [
      "Processed prompts: 100%|██████████| 128/128 [00:21<00:00,  5.88it/s, est. speed input: 7963.93 toks/s, output: 38.69 toks/s]\n"
     ]
    },
    {
     "metadata": {
      "tags": null
     },
     "name": "stdout",
     "output_type": "stream",
     "text": [
      "Feature 'industry' processed in 50 batch(s) in 22.21 seconds\n",
      "Saving...\n",
      "Processing batch 51/172 with batch size: 128\n"
     ]
    },
    {
     "metadata": {
      "tags": null
     },
     "name": "stderr",
     "output_type": "stream",
     "text": [
      "Processed prompts: 100%|██████████| 128/128 [00:23<00:00,  5.44it/s, est. speed input: 7941.10 toks/s, output: 36.29 toks/s]\n"
     ]
    },
    {
     "metadata": {
      "tags": null
     },
     "name": "stdout",
     "output_type": "stream",
     "text": [
      "Feature 'industry' processed in 51 batch(s) in 23.97 seconds\n",
      "Processing batch 52/172 with batch size: 128\n"
     ]
    },
    {
     "metadata": {
      "tags": null
     },
     "name": "stderr",
     "output_type": "stream",
     "text": [
      "Processed prompts: 100%|██████████| 128/128 [00:25<00:00,  5.03it/s, est. speed input: 7850.22 toks/s, output: 33.50 toks/s]\n"
     ]
    },
    {
     "metadata": {
      "tags": null
     },
     "name": "stdout",
     "output_type": "stream",
     "text": [
      "Feature 'industry' processed in 52 batch(s) in 25.97 seconds\n",
      "Processing batch 53/172 with batch size: 128\n"
     ]
    },
    {
     "metadata": {
      "tags": null
     },
     "name": "stderr",
     "output_type": "stream",
     "text": [
      "Processed prompts: 100%|██████████| 128/128 [00:21<00:00,  5.84it/s, est. speed input: 8079.53 toks/s, output: 36.69 toks/s]\n"
     ]
    },
    {
     "metadata": {
      "tags": null
     },
     "name": "stdout",
     "output_type": "stream",
     "text": [
      "Feature 'industry' processed in 53 batch(s) in 22.37 seconds\n",
      "Processing batch 54/172 with batch size: 128\n"
     ]
    },
    {
     "metadata": {
      "tags": null
     },
     "name": "stderr",
     "output_type": "stream",
     "text": [
      "Processed prompts: 100%|██████████| 128/128 [00:22<00:00,  5.61it/s, est. speed input: 7976.89 toks/s, output: 37.02 toks/s]\n"
     ]
    },
    {
     "metadata": {
      "tags": null
     },
     "name": "stdout",
     "output_type": "stream",
     "text": [
      "Feature 'industry' processed in 54 batch(s) in 23.28 seconds\n",
      "Processing batch 55/172 with batch size: 128\n"
     ]
    },
    {
     "metadata": {
      "tags": null
     },
     "name": "stderr",
     "output_type": "stream",
     "text": [
      "Processed prompts: 100%|██████████| 128/128 [00:20<00:00,  6.10it/s, est. speed input: 7955.25 toks/s, output: 38.82 toks/s]\n"
     ]
    },
    {
     "metadata": {
      "tags": null
     },
     "name": "stdout",
     "output_type": "stream",
     "text": [
      "Feature 'industry' processed in 55 batch(s) in 21.43 seconds\n",
      "Processing batch 56/172 with batch size: 128\n"
     ]
    },
    {
     "metadata": {
      "tags": null
     },
     "name": "stderr",
     "output_type": "stream",
     "text": [
      "Processed prompts: 100%|██████████| 128/128 [00:22<00:00,  5.60it/s, est. speed input: 7895.21 toks/s, output: 38.18 toks/s]\n"
     ]
    },
    {
     "metadata": {
      "tags": null
     },
     "name": "stdout",
     "output_type": "stream",
     "text": [
      "Feature 'industry' processed in 56 batch(s) in 23.33 seconds\n",
      "Processing batch 57/172 with batch size: 128\n"
     ]
    },
    {
     "metadata": {
      "tags": null
     },
     "name": "stderr",
     "output_type": "stream",
     "text": [
      "Processed prompts: 100%|██████████| 128/128 [00:21<00:00,  5.94it/s, est. speed input: 7984.20 toks/s, output: 36.15 toks/s]\n"
     ]
    },
    {
     "metadata": {
      "tags": null
     },
     "name": "stdout",
     "output_type": "stream",
     "text": [
      "Feature 'industry' processed in 57 batch(s) in 21.98 seconds\n",
      "Processing batch 58/172 with batch size: 128\n"
     ]
    },
    {
     "metadata": {
      "tags": null
     },
     "name": "stderr",
     "output_type": "stream",
     "text": [
      "Processed prompts: 100%|██████████| 128/128 [00:20<00:00,  6.14it/s, est. speed input: 8011.09 toks/s, output: 36.92 toks/s]\n"
     ]
    },
    {
     "metadata": {
      "tags": null
     },
     "name": "stdout",
     "output_type": "stream",
     "text": [
      "Feature 'industry' processed in 58 batch(s) in 21.26 seconds\n",
      "Processing batch 59/172 with batch size: 128\n"
     ]
    },
    {
     "metadata": {
      "tags": null
     },
     "name": "stderr",
     "output_type": "stream",
     "text": [
      "Processed prompts: 100%|██████████| 128/128 [00:20<00:00,  6.15it/s, est. speed input: 7976.37 toks/s, output: 41.25 toks/s]\n"
     ]
    },
    {
     "metadata": {
      "tags": null
     },
     "name": "stdout",
     "output_type": "stream",
     "text": [
      "Feature 'industry' processed in 59 batch(s) in 21.44 seconds\n",
      "Processing batch 60/172 with batch size: 128\n"
     ]
    },
    {
     "metadata": {
      "tags": null
     },
     "name": "stderr",
     "output_type": "stream",
     "text": [
      "Processed prompts: 100%|██████████| 128/128 [00:22<00:00,  5.63it/s, est. speed input: 7933.33 toks/s, output: 36.87 toks/s]\n"
     ]
    },
    {
     "metadata": {
      "tags": null
     },
     "name": "stdout",
     "output_type": "stream",
     "text": [
      "Feature 'industry' processed in 60 batch(s) in 23.22 seconds\n",
      "Saving...\n",
      "Processing batch 61/172 with batch size: 128\n"
     ]
    },
    {
     "metadata": {
      "tags": null
     },
     "name": "stderr",
     "output_type": "stream",
     "text": [
      "Processed prompts: 100%|██████████| 128/128 [00:22<00:00,  5.58it/s, est. speed input: 7926.22 toks/s, output: 36.86 toks/s]\n"
     ]
    },
    {
     "metadata": {
      "tags": null
     },
     "name": "stdout",
     "output_type": "stream",
     "text": [
      "Feature 'industry' processed in 61 batch(s) in 23.65 seconds\n",
      "Processing batch 62/172 with batch size: 128\n"
     ]
    },
    {
     "metadata": {
      "tags": null
     },
     "name": "stderr",
     "output_type": "stream",
     "text": [
      "Processed prompts: 100%|██████████| 128/128 [00:24<00:00,  5.24it/s, est. speed input: 7887.50 toks/s, output: 32.16 toks/s]\n"
     ]
    },
    {
     "metadata": {
      "tags": null
     },
     "name": "stdout",
     "output_type": "stream",
     "text": [
      "Feature 'industry' processed in 62 batch(s) in 25.14 seconds\n",
      "Processing batch 63/172 with batch size: 128\n"
     ]
    },
    {
     "metadata": {
      "tags": null
     },
     "name": "stderr",
     "output_type": "stream",
     "text": [
      "Processed prompts: 100%|██████████| 128/128 [00:22<00:00,  5.81it/s, est. speed input: 7856.45 toks/s, output: 34.36 toks/s]\n"
     ]
    },
    {
     "metadata": {
      "tags": null
     },
     "name": "stdout",
     "output_type": "stream",
     "text": [
      "Feature 'industry' processed in 63 batch(s) in 22.71 seconds\n",
      "Processing batch 64/172 with batch size: 128\n"
     ]
    },
    {
     "metadata": {
      "tags": null
     },
     "name": "stderr",
     "output_type": "stream",
     "text": [
      "Processed prompts: 100%|██████████| 128/128 [00:19<00:00,  6.52it/s, est. speed input: 8003.06 toks/s, output: 41.05 toks/s]\n"
     ]
    },
    {
     "metadata": {
      "tags": null
     },
     "name": "stdout",
     "output_type": "stream",
     "text": [
      "Feature 'industry' processed in 64 batch(s) in 20.10 seconds\n",
      "Processing batch 65/172 with batch size: 128\n"
     ]
    },
    {
     "metadata": {
      "tags": null
     },
     "name": "stderr",
     "output_type": "stream",
     "text": [
      "Processed prompts: 100%|██████████| 128/128 [00:16<00:00,  7.59it/s, est. speed input: 8057.91 toks/s, output: 45.37 toks/s]\n"
     ]
    },
    {
     "metadata": {
      "tags": null
     },
     "name": "stdout",
     "output_type": "stream",
     "text": [
      "Feature 'industry' processed in 65 batch(s) in 17.23 seconds\n",
      "Processing batch 66/172 with batch size: 128\n"
     ]
    },
    {
     "metadata": {
      "tags": null
     },
     "name": "stderr",
     "output_type": "stream",
     "text": [
      "Processed prompts: 100%|██████████| 128/128 [00:17<00:00,  7.17it/s, est. speed input: 7989.10 toks/s, output: 48.60 toks/s]\n"
     ]
    },
    {
     "metadata": {
      "tags": null
     },
     "name": "stdout",
     "output_type": "stream",
     "text": [
      "Feature 'industry' processed in 66 batch(s) in 18.44 seconds\n",
      "Processing batch 67/172 with batch size: 128\n"
     ]
    },
    {
     "metadata": {
      "tags": null
     },
     "name": "stderr",
     "output_type": "stream",
     "text": [
      "Processed prompts: 100%|██████████| 128/128 [00:17<00:00,  7.37it/s, est. speed input: 8007.41 toks/s, output: 46.22 toks/s]\n"
     ]
    },
    {
     "metadata": {
      "tags": null
     },
     "name": "stdout",
     "output_type": "stream",
     "text": [
      "Feature 'industry' processed in 67 batch(s) in 17.78 seconds\n",
      "Processing batch 68/172 with batch size: 128\n"
     ]
    },
    {
     "metadata": {
      "tags": null
     },
     "name": "stderr",
     "output_type": "stream",
     "text": [
      "Processed prompts: 100%|██████████| 128/128 [00:17<00:00,  7.30it/s, est. speed input: 8047.84 toks/s, output: 42.04 toks/s]\n"
     ]
    },
    {
     "metadata": {
      "tags": null
     },
     "name": "stdout",
     "output_type": "stream",
     "text": [
      "Feature 'industry' processed in 68 batch(s) in 17.97 seconds\n",
      "Processing batch 69/172 with batch size: 128\n"
     ]
    },
    {
     "metadata": {
      "tags": null
     },
     "name": "stderr",
     "output_type": "stream",
     "text": [
      "Processed prompts: 100%|██████████| 128/128 [00:17<00:00,  7.42it/s, est. speed input: 8051.70 toks/s, output: 48.64 toks/s]\n"
     ]
    },
    {
     "metadata": {
      "tags": null
     },
     "name": "stdout",
     "output_type": "stream",
     "text": [
      "Feature 'industry' processed in 69 batch(s) in 17.69 seconds\n",
      "Processing batch 70/172 with batch size: 128\n"
     ]
    },
    {
     "metadata": {
      "tags": null
     },
     "name": "stderr",
     "output_type": "stream",
     "text": [
      "Processed prompts: 100%|██████████| 128/128 [00:17<00:00,  7.32it/s, est. speed input: 8005.76 toks/s, output: 53.81 toks/s]\n"
     ]
    },
    {
     "metadata": {
      "tags": null
     },
     "name": "stdout",
     "output_type": "stream",
     "text": [
      "Feature 'industry' processed in 70 batch(s) in 17.88 seconds\n",
      "Saving...\n",
      "Processing batch 71/172 with batch size: 128\n"
     ]
    },
    {
     "metadata": {
      "tags": null
     },
     "name": "stderr",
     "output_type": "stream",
     "text": [
      "Processed prompts: 100%|██████████| 128/128 [00:16<00:00,  7.69it/s, est. speed input: 8084.99 toks/s, output: 50.91 toks/s]\n"
     ]
    },
    {
     "metadata": {
      "tags": null
     },
     "name": "stdout",
     "output_type": "stream",
     "text": [
      "Feature 'industry' processed in 71 batch(s) in 17.17 seconds\n",
      "Processing batch 72/172 with batch size: 128\n"
     ]
    },
    {
     "metadata": {
      "tags": null
     },
     "name": "stderr",
     "output_type": "stream",
     "text": [
      "Processed prompts: 100%|██████████| 128/128 [00:17<00:00,  7.32it/s, est. speed input: 8001.32 toks/s, output: 46.20 toks/s]\n"
     ]
    },
    {
     "metadata": {
      "tags": null
     },
     "name": "stdout",
     "output_type": "stream",
     "text": [
      "Feature 'industry' processed in 72 batch(s) in 17.97 seconds\n",
      "Processing batch 73/172 with batch size: 128\n"
     ]
    },
    {
     "metadata": {
      "tags": null
     },
     "name": "stderr",
     "output_type": "stream",
     "text": [
      "Processed prompts: 100%|██████████| 128/128 [00:17<00:00,  7.27it/s, est. speed input: 8087.34 toks/s, output: 45.46 toks/s]\n"
     ]
    },
    {
     "metadata": {
      "tags": null
     },
     "name": "stdout",
     "output_type": "stream",
     "text": [
      "Feature 'industry' processed in 73 batch(s) in 18.04 seconds\n",
      "Processing batch 74/172 with batch size: 127\n"
     ]
    },
    {
     "metadata": {
      "tags": null
     },
     "name": "stderr",
     "output_type": "stream",
     "text": [
      "Processed prompts: 100%|██████████| 127/127 [00:16<00:00,  7.58it/s, est. speed input: 8036.73 toks/s, output: 45.60 toks/s]\n"
     ]
    },
    {
     "metadata": {
      "tags": null
     },
     "name": "stdout",
     "output_type": "stream",
     "text": [
      "Feature 'industry' processed in 74 batch(s) in 17.16 seconds\n",
      "Processing batch 75/172 with batch size: 127\n"
     ]
    },
    {
     "metadata": {
      "tags": null
     },
     "name": "stderr",
     "output_type": "stream",
     "text": [
      "Processed prompts: 100%|██████████| 127/127 [00:16<00:00,  7.48it/s, est. speed input: 8092.38 toks/s, output: 52.02 toks/s]\n"
     ]
    },
    {
     "metadata": {
      "tags": null
     },
     "name": "stdout",
     "output_type": "stream",
     "text": [
      "Feature 'industry' processed in 75 batch(s) in 17.65 seconds\n",
      "Processing batch 76/172 with batch size: 127\n"
     ]
    },
    {
     "metadata": {
      "tags": null
     },
     "name": "stderr",
     "output_type": "stream",
     "text": [
      "Processed prompts: 100%|██████████| 127/127 [00:17<00:00,  7.07it/s, est. speed input: 7792.71 toks/s, output: 45.28 toks/s]\n"
     ]
    },
    {
     "metadata": {
      "tags": null
     },
     "name": "stdout",
     "output_type": "stream",
     "text": [
      "Feature 'industry' processed in 76 batch(s) in 18.57 seconds\n",
      "Processing batch 77/172 with batch size: 127\n"
     ]
    },
    {
     "metadata": {
      "tags": null
     },
     "name": "stderr",
     "output_type": "stream",
     "text": [
      "Processed prompts: 100%|██████████| 127/127 [00:18<00:00,  7.05it/s, est. speed input: 7925.55 toks/s, output: 48.04 toks/s]\n"
     ]
    },
    {
     "metadata": {
      "tags": null
     },
     "name": "stdout",
     "output_type": "stream",
     "text": [
      "Feature 'industry' processed in 77 batch(s) in 18.61 seconds\n",
      "Processing batch 78/172 with batch size: 127\n"
     ]
    },
    {
     "metadata": {
      "tags": null
     },
     "name": "stderr",
     "output_type": "stream",
     "text": [
      "Processed prompts: 100%|██████████| 127/127 [00:18<00:00,  6.95it/s, est. speed input: 7975.09 toks/s, output: 47.75 toks/s]\n"
     ]
    },
    {
     "metadata": {
      "tags": null
     },
     "name": "stdout",
     "output_type": "stream",
     "text": [
      "Feature 'industry' processed in 78 batch(s) in 18.91 seconds\n",
      "Processing batch 79/172 with batch size: 127\n"
     ]
    },
    {
     "metadata": {
      "tags": null
     },
     "name": "stderr",
     "output_type": "stream",
     "text": [
      "Processed prompts: 100%|██████████| 127/127 [00:19<00:00,  6.64it/s, est. speed input: 7909.64 toks/s, output: 42.44 toks/s]\n"
     ]
    },
    {
     "metadata": {
      "tags": null
     },
     "name": "stdout",
     "output_type": "stream",
     "text": [
      "Feature 'industry' processed in 79 batch(s) in 19.57 seconds\n",
      "Processing batch 80/172 with batch size: 127\n"
     ]
    },
    {
     "metadata": {
      "tags": null
     },
     "name": "stderr",
     "output_type": "stream",
     "text": [
      "Processed prompts: 100%|██████████| 127/127 [00:16<00:00,  7.78it/s, est. speed input: 8079.91 toks/s, output: 55.14 toks/s]\n"
     ]
    },
    {
     "metadata": {
      "tags": null
     },
     "name": "stdout",
     "output_type": "stream",
     "text": [
      "Feature 'industry' processed in 80 batch(s) in 16.96 seconds\n",
      "Saving...\n",
      "Processing batch 81/172 with batch size: 127\n"
     ]
    },
    {
     "metadata": {
      "tags": null
     },
     "name": "stderr",
     "output_type": "stream",
     "text": [
      "Processed prompts: 100%|██████████| 127/127 [00:18<00:00,  7.01it/s, est. speed input: 8085.57 toks/s, output: 41.99 toks/s]\n"
     ]
    },
    {
     "metadata": {
      "tags": null
     },
     "name": "stdout",
     "output_type": "stream",
     "text": [
      "Feature 'industry' processed in 81 batch(s) in 18.76 seconds\n",
      "Processing batch 82/172 with batch size: 127\n"
     ]
    },
    {
     "metadata": {
      "tags": null
     },
     "name": "stderr",
     "output_type": "stream",
     "text": [
      "Processed prompts: 100%|██████████| 127/127 [00:17<00:00,  7.18it/s, est. speed input: 7799.84 toks/s, output: 47.11 toks/s]\n"
     ]
    },
    {
     "metadata": {
      "tags": null
     },
     "name": "stdout",
     "output_type": "stream",
     "text": [
      "Feature 'industry' processed in 82 batch(s) in 18.07 seconds\n",
      "Processing batch 83/172 with batch size: 127\n"
     ]
    },
    {
     "metadata": {
      "tags": null
     },
     "name": "stderr",
     "output_type": "stream",
     "text": [
      "Processed prompts: 100%|██████████| 127/127 [00:18<00:00,  6.80it/s, est. speed input: 7696.66 toks/s, output: 45.76 toks/s]\n"
     ]
    },
    {
     "metadata": {
      "tags": null
     },
     "name": "stdout",
     "output_type": "stream",
     "text": [
      "Feature 'industry' processed in 83 batch(s) in 19.10 seconds\n",
      "Processing batch 84/172 with batch size: 127\n"
     ]
    },
    {
     "metadata": {
      "tags": null
     },
     "name": "stderr",
     "output_type": "stream",
     "text": [
      "Processed prompts: 100%|██████████| 127/127 [00:16<00:00,  7.65it/s, est. speed input: 8089.59 toks/s, output: 46.41 toks/s]\n"
     ]
    },
    {
     "metadata": {
      "tags": null
     },
     "name": "stdout",
     "output_type": "stream",
     "text": [
      "Feature 'industry' processed in 84 batch(s) in 17.00 seconds\n",
      "Processing batch 85/172 with batch size: 127\n"
     ]
    },
    {
     "metadata": {
      "tags": null
     },
     "name": "stderr",
     "output_type": "stream",
     "text": [
      "Processed prompts: 100%|██████████| 127/127 [00:16<00:00,  7.65it/s, est. speed input: 8065.12 toks/s, output: 49.50 toks/s]\n"
     ]
    },
    {
     "metadata": {
      "tags": null
     },
     "name": "stdout",
     "output_type": "stream",
     "text": [
      "Feature 'industry' processed in 85 batch(s) in 16.98 seconds\n",
      "Processing batch 86/172 with batch size: 127\n"
     ]
    },
    {
     "metadata": {
      "tags": null
     },
     "name": "stderr",
     "output_type": "stream",
     "text": [
      "Processed prompts: 100%|██████████| 127/127 [00:16<00:00,  7.72it/s, est. speed input: 7971.39 toks/s, output: 46.47 toks/s]\n"
     ]
    },
    {
     "metadata": {
      "tags": null
     },
     "name": "stdout",
     "output_type": "stream",
     "text": [
      "Feature 'industry' processed in 86 batch(s) in 16.96 seconds\n",
      "Processing batch 87/172 with batch size: 127\n"
     ]
    },
    {
     "metadata": {
      "tags": null
     },
     "name": "stderr",
     "output_type": "stream",
     "text": [
      "Processed prompts: 100%|██████████| 127/127 [00:18<00:00,  6.88it/s, est. speed input: 7852.57 toks/s, output: 44.29 toks/s]\n"
     ]
    },
    {
     "metadata": {
      "tags": null
     },
     "name": "stdout",
     "output_type": "stream",
     "text": [
      "Feature 'industry' processed in 87 batch(s) in 19.25 seconds\n",
      "Processing batch 88/172 with batch size: 127\n"
     ]
    },
    {
     "metadata": {
      "tags": null
     },
     "name": "stderr",
     "output_type": "stream",
     "text": [
      "Processed prompts: 100%|██████████| 127/127 [00:16<00:00,  7.67it/s, est. speed input: 8046.81 toks/s, output: 50.04 toks/s]\n"
     ]
    },
    {
     "metadata": {
      "tags": null
     },
     "name": "stdout",
     "output_type": "stream",
     "text": [
      "Feature 'industry' processed in 88 batch(s) in 16.95 seconds\n",
      "Processing batch 89/172 with batch size: 127\n"
     ]
    },
    {
     "metadata": {
      "tags": null
     },
     "name": "stderr",
     "output_type": "stream",
     "text": [
      "Processed prompts: 100%|██████████| 127/127 [00:17<00:00,  7.17it/s, est. speed input: 7991.98 toks/s, output: 43.62 toks/s]\n"
     ]
    },
    {
     "metadata": {
      "tags": null
     },
     "name": "stdout",
     "output_type": "stream",
     "text": [
      "Feature 'industry' processed in 89 batch(s) in 18.17 seconds\n",
      "Processing batch 90/172 with batch size: 127\n"
     ]
    },
    {
     "metadata": {
      "tags": null
     },
     "name": "stderr",
     "output_type": "stream",
     "text": [
      "Processed prompts: 100%|██████████| 127/127 [00:18<00:00,  6.95it/s, est. speed input: 8015.45 toks/s, output: 41.45 toks/s]\n"
     ]
    },
    {
     "metadata": {
      "tags": null
     },
     "name": "stdout",
     "output_type": "stream",
     "text": [
      "Feature 'industry' processed in 90 batch(s) in 18.94 seconds\n",
      "Saving...\n",
      "Processing batch 91/172 with batch size: 127\n"
     ]
    },
    {
     "metadata": {
      "tags": null
     },
     "name": "stderr",
     "output_type": "stream",
     "text": [
      "Processed prompts: 100%|██████████| 127/127 [00:16<00:00,  7.54it/s, est. speed input: 8138.77 toks/s, output: 45.20 toks/s]\n"
     ]
    },
    {
     "metadata": {
      "tags": null
     },
     "name": "stdout",
     "output_type": "stream",
     "text": [
      "Feature 'industry' processed in 91 batch(s) in 17.68 seconds\n",
      "Processing batch 92/172 with batch size: 127\n"
     ]
    },
    {
     "metadata": {
      "tags": null
     },
     "name": "stderr",
     "output_type": "stream",
     "text": [
      "Processed prompts: 100%|██████████| 127/127 [00:19<00:00,  6.39it/s, est. speed input: 7585.72 toks/s, output: 38.63 toks/s]\n"
     ]
    },
    {
     "metadata": {
      "tags": null
     },
     "name": "stdout",
     "output_type": "stream",
     "text": [
      "Feature 'industry' processed in 92 batch(s) in 20.67 seconds\n",
      "Processing batch 93/172 with batch size: 127\n"
     ]
    },
    {
     "metadata": {
      "tags": null
     },
     "name": "stderr",
     "output_type": "stream",
     "text": [
      "Processed prompts: 100%|██████████| 127/127 [00:17<00:00,  7.19it/s, est. speed input: 7891.33 toks/s, output: 46.77 toks/s]\n"
     ]
    },
    {
     "metadata": {
      "tags": null
     },
     "name": "stdout",
     "output_type": "stream",
     "text": [
      "Feature 'industry' processed in 93 batch(s) in 18.30 seconds\n",
      "Processing batch 94/172 with batch size: 127\n"
     ]
    },
    {
     "metadata": {
      "tags": null
     },
     "name": "stderr",
     "output_type": "stream",
     "text": [
      "Processed prompts: 100%|██████████| 127/127 [00:18<00:00,  6.88it/s, est. speed input: 8041.45 toks/s, output: 43.32 toks/s]\n"
     ]
    },
    {
     "metadata": {
      "tags": null
     },
     "name": "stdout",
     "output_type": "stream",
     "text": [
      "Feature 'industry' processed in 94 batch(s) in 19.15 seconds\n",
      "Processing batch 95/172 with batch size: 127\n"
     ]
    },
    {
     "metadata": {
      "tags": null
     },
     "name": "stderr",
     "output_type": "stream",
     "text": [
      "Processed prompts: 100%|██████████| 127/127 [00:17<00:00,  7.38it/s, est. speed input: 8063.70 toks/s, output: 45.07 toks/s]\n"
     ]
    },
    {
     "metadata": {
      "tags": null
     },
     "name": "stdout",
     "output_type": "stream",
     "text": [
      "Feature 'industry' processed in 95 batch(s) in 17.66 seconds\n",
      "Processing batch 96/172 with batch size: 127\n"
     ]
    },
    {
     "metadata": {
      "tags": null
     },
     "name": "stderr",
     "output_type": "stream",
     "text": [
      "Processed prompts: 100%|██████████| 127/127 [00:17<00:00,  7.31it/s, est. speed input: 7868.54 toks/s, output: 47.75 toks/s]\n"
     ]
    },
    {
     "metadata": {
      "tags": null
     },
     "name": "stdout",
     "output_type": "stream",
     "text": [
      "Feature 'industry' processed in 96 batch(s) in 17.76 seconds\n",
      "Processing batch 97/172 with batch size: 127\n"
     ]
    },
    {
     "metadata": {
      "tags": null
     },
     "name": "stderr",
     "output_type": "stream",
     "text": [
      "Processed prompts: 100%|██████████| 127/127 [00:18<00:00,  6.82it/s, est. speed input: 7687.62 toks/s, output: 38.36 toks/s]\n"
     ]
    },
    {
     "metadata": {
      "tags": null
     },
     "name": "stdout",
     "output_type": "stream",
     "text": [
      "Feature 'industry' processed in 97 batch(s) in 19.02 seconds\n",
      "Processing batch 98/172 with batch size: 127\n"
     ]
    },
    {
     "metadata": {
      "tags": null
     },
     "name": "stderr",
     "output_type": "stream",
     "text": [
      "Processed prompts: 100%|██████████| 127/127 [00:13<00:00,  9.37it/s, est. speed input: 8137.89 toks/s, output: 50.69 toks/s]\n"
     ]
    },
    {
     "metadata": {
      "tags": null
     },
     "name": "stdout",
     "output_type": "stream",
     "text": [
      "Feature 'industry' processed in 98 batch(s) in 14.16 seconds\n",
      "Processing batch 99/172 with batch size: 127\n"
     ]
    },
    {
     "metadata": {
      "tags": null
     },
     "name": "stderr",
     "output_type": "stream",
     "text": [
      "Processed prompts: 100%|██████████| 127/127 [00:13<00:00,  9.37it/s, est. speed input: 7951.89 toks/s, output: 62.11 toks/s]\n"
     ]
    },
    {
     "metadata": {
      "tags": null
     },
     "name": "stdout",
     "output_type": "stream",
     "text": [
      "Feature 'industry' processed in 99 batch(s) in 14.14 seconds\n",
      "Processing batch 100/172 with batch size: 127\n"
     ]
    },
    {
     "metadata": {
      "tags": null
     },
     "name": "stderr",
     "output_type": "stream",
     "text": [
      "Processed prompts: 100%|██████████| 127/127 [00:12<00:00, 10.12it/s, est. speed input: 8084.60 toks/s, output: 69.20 toks/s]\n"
     ]
    },
    {
     "metadata": {
      "tags": null
     },
     "name": "stdout",
     "output_type": "stream",
     "text": [
      "Feature 'industry' processed in 100 batch(s) in 13.01 seconds\n",
      "Saving...\n",
      "Processing batch 101/172 with batch size: 127\n"
     ]
    },
    {
     "metadata": {
      "tags": null
     },
     "name": "stderr",
     "output_type": "stream",
     "text": [
      "Processed prompts: 100%|██████████| 127/127 [00:13<00:00,  9.60it/s, est. speed input: 8078.08 toks/s, output: 60.32 toks/s]\n"
     ]
    },
    {
     "metadata": {
      "tags": null
     },
     "name": "stdout",
     "output_type": "stream",
     "text": [
      "Feature 'industry' processed in 101 batch(s) in 13.56 seconds\n",
      "Processing batch 102/172 with batch size: 127\n"
     ]
    },
    {
     "metadata": {
      "tags": null
     },
     "name": "stderr",
     "output_type": "stream",
     "text": [
      "Processed prompts: 100%|██████████| 127/127 [00:14<00:00,  8.77it/s, est. speed input: 8046.40 toks/s, output: 53.17 toks/s]\n"
     ]
    },
    {
     "metadata": {
      "tags": null
     },
     "name": "stdout",
     "output_type": "stream",
     "text": [
      "Feature 'industry' processed in 102 batch(s) in 15.29 seconds\n",
      "Processing batch 103/172 with batch size: 127\n"
     ]
    },
    {
     "metadata": {
      "tags": null
     },
     "name": "stderr",
     "output_type": "stream",
     "text": [
      "Processed prompts: 100%|██████████| 127/127 [00:13<00:00,  9.27it/s, est. speed input: 8048.24 toks/s, output: 62.35 toks/s]\n"
     ]
    },
    {
     "metadata": {
      "tags": null
     },
     "name": "stdout",
     "output_type": "stream",
     "text": [
      "Feature 'industry' processed in 103 batch(s) in 14.03 seconds\n",
      "Processing batch 104/172 with batch size: 127\n"
     ]
    },
    {
     "metadata": {
      "tags": null
     },
     "name": "stderr",
     "output_type": "stream",
     "text": [
      "Processed prompts: 100%|██████████| 127/127 [00:12<00:00,  9.90it/s, est. speed input: 7935.61 toks/s, output: 68.89 toks/s]\n"
     ]
    },
    {
     "metadata": {
      "tags": null
     },
     "name": "stdout",
     "output_type": "stream",
     "text": [
      "Feature 'industry' processed in 104 batch(s) in 13.38 seconds\n",
      "Processing batch 105/172 with batch size: 127\n"
     ]
    },
    {
     "metadata": {
      "tags": null
     },
     "name": "stderr",
     "output_type": "stream",
     "text": [
      "Processed prompts: 100%|██████████| 127/127 [00:13<00:00,  9.62it/s, est. speed input: 8156.21 toks/s, output: 65.01 toks/s]\n"
     ]
    },
    {
     "metadata": {
      "tags": null
     },
     "name": "stdout",
     "output_type": "stream",
     "text": [
      "Feature 'industry' processed in 105 batch(s) in 13.66 seconds\n",
      "Processing batch 106/172 with batch size: 127\n"
     ]
    },
    {
     "metadata": {
      "tags": null
     },
     "name": "stderr",
     "output_type": "stream",
     "text": [
      "Processed prompts: 100%|██████████| 127/127 [00:13<00:00,  9.29it/s, est. speed input: 8091.74 toks/s, output: 59.68 toks/s]\n"
     ]
    },
    {
     "metadata": {
      "tags": null
     },
     "name": "stdout",
     "output_type": "stream",
     "text": [
      "Feature 'industry' processed in 106 batch(s) in 14.38 seconds\n",
      "Processing batch 107/172 with batch size: 127\n"
     ]
    },
    {
     "metadata": {
      "tags": null
     },
     "name": "stderr",
     "output_type": "stream",
     "text": [
      "Processed prompts: 100%|██████████| 127/127 [00:12<00:00,  9.88it/s, est. speed input: 8130.07 toks/s, output: 67.85 toks/s]\n"
     ]
    },
    {
     "metadata": {
      "tags": null
     },
     "name": "stdout",
     "output_type": "stream",
     "text": [
      "Feature 'industry' processed in 107 batch(s) in 13.33 seconds\n",
      "Processing batch 108/172 with batch size: 127\n"
     ]
    },
    {
     "metadata": {
      "tags": null
     },
     "name": "stderr",
     "output_type": "stream",
     "text": [
      "Processed prompts: 100%|██████████| 127/127 [00:14<00:00,  9.04it/s, est. speed input: 7707.43 toks/s, output: 52.25 toks/s]\n"
     ]
    },
    {
     "metadata": {
      "tags": null
     },
     "name": "stdout",
     "output_type": "stream",
     "text": [
      "Feature 'industry' processed in 108 batch(s) in 14.58 seconds\n",
      "Processing batch 109/172 with batch size: 127\n"
     ]
    },
    {
     "metadata": {
      "tags": null
     },
     "name": "stderr",
     "output_type": "stream",
     "text": [
      "Processed prompts: 100%|██████████| 127/127 [00:13<00:00,  9.47it/s, est. speed input: 8030.31 toks/s, output: 55.38 toks/s]\n"
     ]
    },
    {
     "metadata": {
      "tags": null
     },
     "name": "stdout",
     "output_type": "stream",
     "text": [
      "Feature 'industry' processed in 109 batch(s) in 13.94 seconds\n",
      "Processing batch 110/172 with batch size: 127\n"
     ]
    },
    {
     "metadata": {
      "tags": null
     },
     "name": "stderr",
     "output_type": "stream",
     "text": [
      "Processed prompts: 100%|██████████| 127/127 [00:14<00:00,  8.82it/s, est. speed input: 7942.39 toks/s, output: 53.06 toks/s]\n"
     ]
    },
    {
     "metadata": {
      "tags": null
     },
     "name": "stdout",
     "output_type": "stream",
     "text": [
      "Feature 'industry' processed in 110 batch(s) in 14.74 seconds\n",
      "Saving...\n",
      "Processing batch 111/172 with batch size: 127\n"
     ]
    },
    {
     "metadata": {
      "tags": null
     },
     "name": "stderr",
     "output_type": "stream",
     "text": [
      "Processed prompts: 100%|██████████| 127/127 [00:13<00:00,  9.17it/s, est. speed input: 8112.73 toks/s, output: 62.23 toks/s]\n"
     ]
    },
    {
     "metadata": {
      "tags": null
     },
     "name": "stdout",
     "output_type": "stream",
     "text": [
      "Feature 'industry' processed in 111 batch(s) in 14.41 seconds\n",
      "Processing batch 112/172 with batch size: 127\n"
     ]
    },
    {
     "metadata": {
      "tags": null
     },
     "name": "stderr",
     "output_type": "stream",
     "text": [
      "Processed prompts: 100%|██████████| 127/127 [00:13<00:00,  9.11it/s, est. speed input: 7842.67 toks/s, output: 60.74 toks/s]\n"
     ]
    },
    {
     "metadata": {
      "tags": null
     },
     "name": "stdout",
     "output_type": "stream",
     "text": [
      "Feature 'industry' processed in 112 batch(s) in 14.46 seconds\n",
      "Processing batch 113/172 with batch size: 127\n"
     ]
    },
    {
     "metadata": {
      "tags": null
     },
     "name": "stderr",
     "output_type": "stream",
     "text": [
      "Processed prompts: 100%|██████████| 127/127 [00:13<00:00,  9.60it/s, est. speed input: 7940.63 toks/s, output: 61.98 toks/s]\n"
     ]
    },
    {
     "metadata": {
      "tags": null
     },
     "name": "stdout",
     "output_type": "stream",
     "text": [
      "Feature 'industry' processed in 113 batch(s) in 13.74 seconds\n",
      "Processing batch 114/172 with batch size: 127\n"
     ]
    },
    {
     "metadata": {
      "tags": null
     },
     "name": "stderr",
     "output_type": "stream",
     "text": [
      "Processed prompts: 100%|██████████| 127/127 [00:14<00:00,  8.89it/s, est. speed input: 7815.42 toks/s, output: 61.72 toks/s]\n"
     ]
    },
    {
     "metadata": {
      "tags": null
     },
     "name": "stdout",
     "output_type": "stream",
     "text": [
      "Feature 'industry' processed in 114 batch(s) in 15.10 seconds\n",
      "Processing batch 115/172 with batch size: 127\n"
     ]
    },
    {
     "metadata": {
      "tags": null
     },
     "name": "stderr",
     "output_type": "stream",
     "text": [
      "Processed prompts: 100%|██████████| 127/127 [00:13<00:00,  9.63it/s, est. speed input: 8322.80 toks/s, output: 59.68 toks/s]\n"
     ]
    },
    {
     "metadata": {
      "tags": null
     },
     "name": "stdout",
     "output_type": "stream",
     "text": [
      "Feature 'industry' processed in 115 batch(s) in 13.78 seconds\n",
      "Processing batch 116/172 with batch size: 127\n"
     ]
    },
    {
     "metadata": {
      "tags": null
     },
     "name": "stderr",
     "output_type": "stream",
     "text": [
      "Processed prompts: 100%|██████████| 127/127 [00:12<00:00,  9.93it/s, est. speed input: 7986.42 toks/s, output: 61.90 toks/s]\n"
     ]
    },
    {
     "metadata": {
      "tags": null
     },
     "name": "stdout",
     "output_type": "stream",
     "text": [
      "Feature 'industry' processed in 116 batch(s) in 13.36 seconds\n",
      "Processing batch 117/172 with batch size: 127\n"
     ]
    },
    {
     "metadata": {
      "tags": null
     },
     "name": "stderr",
     "output_type": "stream",
     "text": [
      "Processed prompts: 100%|██████████| 127/127 [00:13<00:00,  9.53it/s, est. speed input: 8135.59 toks/s, output: 62.03 toks/s]\n"
     ]
    },
    {
     "metadata": {
      "tags": null
     },
     "name": "stdout",
     "output_type": "stream",
     "text": [
      "Feature 'industry' processed in 117 batch(s) in 13.95 seconds\n",
      "Processing batch 118/172 with batch size: 127\n"
     ]
    },
    {
     "metadata": {
      "tags": null
     },
     "name": "stderr",
     "output_type": "stream",
     "text": [
      "Processed prompts: 100%|██████████| 127/127 [00:13<00:00,  9.56it/s, est. speed input: 7981.79 toks/s, output: 58.32 toks/s]\n"
     ]
    },
    {
     "metadata": {
      "tags": null
     },
     "name": "stdout",
     "output_type": "stream",
     "text": [
      "Feature 'industry' processed in 118 batch(s) in 13.77 seconds\n",
      "Processing batch 119/172 with batch size: 127\n"
     ]
    },
    {
     "metadata": {
      "tags": null
     },
     "name": "stderr",
     "output_type": "stream",
     "text": [
      "Processed prompts: 100%|██████████| 127/127 [00:13<00:00,  9.71it/s, est. speed input: 8024.01 toks/s, output: 64.69 toks/s]\n"
     ]
    },
    {
     "metadata": {
      "tags": null
     },
     "name": "stdout",
     "output_type": "stream",
     "text": [
      "Feature 'industry' processed in 119 batch(s) in 14.59 seconds\n",
      "Processing batch 120/172 with batch size: 127\n"
     ]
    },
    {
     "metadata": {
      "tags": null
     },
     "name": "stderr",
     "output_type": "stream",
     "text": [
      "Processed prompts: 100%|██████████| 127/127 [00:12<00:00, 10.25it/s, est. speed input: 8055.71 toks/s, output: 64.87 toks/s]\n"
     ]
    },
    {
     "metadata": {
      "tags": null
     },
     "name": "stdout",
     "output_type": "stream",
     "text": [
      "Feature 'industry' processed in 120 batch(s) in 12.87 seconds\n",
      "Saving...\n",
      "Processing batch 121/172 with batch size: 127\n"
     ]
    },
    {
     "metadata": {
      "tags": null
     },
     "name": "stderr",
     "output_type": "stream",
     "text": [
      "Processed prompts: 100%|██████████| 127/127 [00:12<00:00, 10.02it/s, est. speed input: 8045.37 toks/s, output: 64.02 toks/s]\n"
     ]
    },
    {
     "metadata": {
      "tags": null
     },
     "name": "stdout",
     "output_type": "stream",
     "text": [
      "Feature 'industry' processed in 121 batch(s) in 13.17 seconds\n",
      "Processing batch 122/172 with batch size: 127\n"
     ]
    },
    {
     "metadata": {
      "tags": null
     },
     "name": "stderr",
     "output_type": "stream",
     "text": [
      "Processed prompts: 100%|██████████| 127/127 [00:13<00:00,  9.27it/s, est. speed input: 8006.55 toks/s, output: 61.62 toks/s]\n"
     ]
    },
    {
     "metadata": {
      "tags": null
     },
     "name": "stdout",
     "output_type": "stream",
     "text": [
      "Feature 'industry' processed in 122 batch(s) in 14.24 seconds\n",
      "Processing batch 123/172 with batch size: 127\n"
     ]
    },
    {
     "metadata": {
      "tags": null
     },
     "name": "stderr",
     "output_type": "stream",
     "text": [
      "Processed prompts: 100%|██████████| 127/127 [00:13<00:00,  9.41it/s, est. speed input: 7974.44 toks/s, output: 62.29 toks/s]\n"
     ]
    },
    {
     "metadata": {
      "tags": null
     },
     "name": "stdout",
     "output_type": "stream",
     "text": [
      "Feature 'industry' processed in 123 batch(s) in 14.37 seconds\n",
      "Processing batch 124/172 with batch size: 127\n"
     ]
    },
    {
     "metadata": {
      "tags": null
     },
     "name": "stderr",
     "output_type": "stream",
     "text": [
      "Processed prompts: 100%|██████████| 127/127 [00:12<00:00, 10.12it/s, est. speed input: 8089.71 toks/s, output: 66.61 toks/s]\n"
     ]
    },
    {
     "metadata": {
      "tags": null
     },
     "name": "stdout",
     "output_type": "stream",
     "text": [
      "Feature 'industry' processed in 124 batch(s) in 13.01 seconds\n",
      "Processing batch 125/172 with batch size: 127\n"
     ]
    },
    {
     "metadata": {
      "tags": null
     },
     "name": "stderr",
     "output_type": "stream",
     "text": [
      "Processed prompts: 100%|██████████| 127/127 [00:12<00:00, 10.19it/s, est. speed input: 8078.46 toks/s, output: 67.10 toks/s]\n"
     ]
    },
    {
     "metadata": {
      "tags": null
     },
     "name": "stdout",
     "output_type": "stream",
     "text": [
      "Feature 'industry' processed in 125 batch(s) in 12.96 seconds\n",
      "Processing batch 126/172 with batch size: 127\n"
     ]
    },
    {
     "metadata": {
      "tags": null
     },
     "name": "stderr",
     "output_type": "stream",
     "text": [
      "Processed prompts: 100%|██████████| 127/127 [00:13<00:00,  9.58it/s, est. speed input: 8007.35 toks/s, output: 59.08 toks/s]\n"
     ]
    },
    {
     "metadata": {
      "tags": null
     },
     "name": "stdout",
     "output_type": "stream",
     "text": [
      "Feature 'industry' processed in 126 batch(s) in 13.57 seconds\n",
      "Processing batch 127/172 with batch size: 127\n"
     ]
    },
    {
     "metadata": {
      "tags": null
     },
     "name": "stderr",
     "output_type": "stream",
     "text": [
      "Processed prompts: 100%|██████████| 127/127 [00:15<00:00,  8.24it/s, est. speed input: 7662.74 toks/s, output: 53.00 toks/s]\n"
     ]
    },
    {
     "metadata": {
      "tags": null
     },
     "name": "stdout",
     "output_type": "stream",
     "text": [
      "Feature 'industry' processed in 127 batch(s) in 16.07 seconds\n",
      "Processing batch 128/172 with batch size: 127\n"
     ]
    },
    {
     "metadata": {
      "tags": null
     },
     "name": "stderr",
     "output_type": "stream",
     "text": [
      "Processed prompts: 100%|██████████| 127/127 [00:13<00:00,  9.47it/s, est. speed input: 8019.08 toks/s, output: 63.06 toks/s]\n"
     ]
    },
    {
     "metadata": {
      "tags": null
     },
     "name": "stdout",
     "output_type": "stream",
     "text": [
      "Feature 'industry' processed in 128 batch(s) in 14.28 seconds\n",
      "Processing batch 129/172 with batch size: 127\n"
     ]
    },
    {
     "output_type": "stream",
     "name": "stderr",
     "text": [
      "Processed prompts: 100%|██████████| 127/127 [00:12<00:00, 10.01it/s, est. speed input: 8094.65 toks/s, output: 62.84 toks/s]\n"
     ]
    },
    {
     "output_type": "stream",
     "name": "stdout",
     "text": [
      "Feature 'industry' processed in 129 batch(s) in 13.19 seconds\n",
      "Processing batch 130/172 with batch size: 127\n"
     ]
    },
    {
     "output_type": "stream",
     "name": "stderr",
     "text": [
      "Processed prompts: 100%|██████████| 127/127 [00:14<00:00,  8.92it/s, est. speed input: 8048.31 toks/s, output: 61.21 toks/s]\n"
     ]
    },
    {
     "output_type": "stream",
     "name": "stdout",
     "text": [
      "Feature 'industry' processed in 130 batch(s) in 14.59 seconds\n",
      "Saving...\n",
      "Processing batch 131/172 with batch size: 127\n"
     ]
    },
    {
     "output_type": "stream",
     "name": "stderr",
     "text": [
      "Processed prompts: 100%|██████████| 127/127 [00:14<00:00,  8.89it/s, est. speed input: 7932.52 toks/s, output: 63.19 toks/s]\n"
     ]
    },
    {
     "output_type": "stream",
     "name": "stdout",
     "text": [
      "Feature 'industry' processed in 131 batch(s) in 14.78 seconds\n",
      "Processing batch 132/172 with batch size: 127\n"
     ]
    },
    {
     "output_type": "stream",
     "name": "stderr",
     "text": [
      "Processed prompts: 100%|██████████| 127/127 [00:13<00:00,  9.73it/s, est. speed input: 8111.66 toks/s, output: 68.49 toks/s]\n"
     ]
    },
    {
     "output_type": "stream",
     "name": "stdout",
     "text": [
      "Feature 'industry' processed in 132 batch(s) in 13.54 seconds\n",
      "Processing batch 133/172 with batch size: 127\n"
     ]
    },
    {
     "output_type": "stream",
     "name": "stderr",
     "text": [
      "Processed prompts: 100%|██████████| 127/127 [00:15<00:00,  8.32it/s, est. speed input: 7660.62 toks/s, output: 51.55 toks/s]\n"
     ]
    },
    {
     "output_type": "stream",
     "name": "stdout",
     "text": [
      "Feature 'industry' processed in 133 batch(s) in 15.83 seconds\n",
      "Processing batch 134/172 with batch size: 127\n"
     ]
    },
    {
     "output_type": "stream",
     "name": "stderr",
     "text": [
      "Processed prompts: 100%|██████████| 127/127 [00:16<00:00,  7.83it/s, est. speed input: 8073.62 toks/s, output: 55.09 toks/s]\n"
     ]
    },
    {
     "output_type": "stream",
     "name": "stdout",
     "text": [
      "Feature 'industry' processed in 134 batch(s) in 16.77 seconds\n",
      "Processing batch 135/172 with batch size: 127\n"
     ]
    },
    {
     "output_type": "stream",
     "name": "stderr",
     "text": [
      "Processed prompts: 100%|██████████| 127/127 [00:16<00:00,  7.73it/s, est. speed input: 8011.77 toks/s, output: 52.66 toks/s]\n"
     ]
    },
    {
     "output_type": "stream",
     "name": "stdout",
     "text": [
      "Feature 'industry' processed in 135 batch(s) in 16.78 seconds\n",
      "Processing batch 136/172 with batch size: 127\n"
     ]
    },
    {
     "output_type": "stream",
     "name": "stderr",
     "text": [
      "Processed prompts: 100%|██████████| 127/127 [00:14<00:00,  8.78it/s, est. speed input: 8020.85 toks/s, output: 57.45 toks/s]\n"
     ]
    },
    {
     "output_type": "stream",
     "name": "stdout",
     "text": [
      "Feature 'industry' processed in 136 batch(s) in 14.79 seconds\n",
      "Processing batch 137/172 with batch size: 127\n"
     ]
    },
    {
     "output_type": "stream",
     "name": "stderr",
     "text": [
      "Processed prompts: 100%|██████████| 127/127 [00:15<00:00,  8.36it/s, est. speed input: 8113.72 toks/s, output: 53.55 toks/s]\n"
     ]
    },
    {
     "output_type": "stream",
     "name": "stdout",
     "text": [
      "Feature 'industry' processed in 137 batch(s) in 15.69 seconds\n",
      "Processing batch 138/172 with batch size: 127\n"
     ]
    },
    {
     "output_type": "stream",
     "name": "stderr",
     "text": [
      "Processed prompts: 100%|██████████| 127/127 [00:13<00:00,  9.15it/s, est. speed input: 8208.17 toks/s, output: 56.85 toks/s]\n"
     ]
    },
    {
     "output_type": "stream",
     "name": "stdout",
     "text": [
      "Feature 'industry' processed in 138 batch(s) in 14.20 seconds\n",
      "Processing batch 139/172 with batch size: 127\n"
     ]
    },
    {
     "output_type": "stream",
     "name": "stderr",
     "text": [
      "Processed prompts: 100%|██████████| 127/127 [00:12<00:00,  9.92it/s, est. speed input: 8206.83 toks/s, output: 66.64 toks/s]\n"
     ]
    },
    {
     "output_type": "stream",
     "name": "stdout",
     "text": [
      "Feature 'industry' processed in 139 batch(s) in 13.10 seconds\n",
      "Processing batch 140/172 with batch size: 127\n"
     ]
    },
    {
     "output_type": "stream",
     "name": "stderr",
     "text": [
      "Processed prompts: 100%|██████████| 127/127 [00:14<00:00,  8.80it/s, est. speed input: 8145.33 toks/s, output: 61.49 toks/s]\n"
     ]
    },
    {
     "output_type": "stream",
     "name": "stdout",
     "text": [
      "Feature 'industry' processed in 140 batch(s) in 14.75 seconds\n",
      "Saving...\n",
      "Processing batch 141/172 with batch size: 127\n"
     ]
    },
    {
     "output_type": "stream",
     "name": "stderr",
     "text": [
      "Processed prompts: 100%|██████████| 127/127 [00:16<00:00,  7.81it/s, est. speed input: 7937.62 toks/s, output: 50.34 toks/s]\n"
     ]
    },
    {
     "output_type": "stream",
     "name": "stdout",
     "text": [
      "Feature 'industry' processed in 141 batch(s) in 16.61 seconds\n",
      "Processing batch 142/172 with batch size: 127\n"
     ]
    },
    {
     "output_type": "stream",
     "name": "stderr",
     "text": [
      "Processed prompts: 100%|██████████| 127/127 [00:15<00:00,  8.19it/s, est. speed input: 7968.65 toks/s, output: 49.70 toks/s]\n"
     ]
    },
    {
     "output_type": "stream",
     "name": "stdout",
     "text": [
      "Feature 'industry' processed in 142 batch(s) in 15.86 seconds\n",
      "Processing batch 143/172 with batch size: 127\n"
     ]
    },
    {
     "output_type": "stream",
     "name": "stderr",
     "text": [
      "Processed prompts: 100%|██████████| 127/127 [00:15<00:00,  8.42it/s, est. speed input: 7991.19 toks/s, output: 58.60 toks/s]\n"
     ]
    },
    {
     "output_type": "stream",
     "name": "stdout",
     "text": [
      "Feature 'industry' processed in 143 batch(s) in 15.41 seconds\n",
      "Processing batch 144/172 with batch size: 127\n"
     ]
    },
    {
     "output_type": "stream",
     "name": "stderr",
     "text": [
      "Processed prompts: 100%|██████████| 127/127 [00:15<00:00,  8.36it/s, est. speed input: 8072.86 toks/s, output: 58.78 toks/s]\n"
     ]
    },
    {
     "output_type": "stream",
     "name": "stdout",
     "text": [
      "Feature 'industry' processed in 144 batch(s) in 15.52 seconds\n",
      "Processing batch 145/172 with batch size: 127\n"
     ]
    },
    {
     "output_type": "stream",
     "name": "stderr",
     "text": [
      "Processed prompts: 100%|██████████| 127/127 [00:15<00:00,  8.05it/s, est. speed input: 7929.91 toks/s, output: 52.20 toks/s]\n"
     ]
    },
    {
     "output_type": "stream",
     "name": "stdout",
     "text": [
      "Feature 'industry' processed in 145 batch(s) in 16.13 seconds\n",
      "Processing batch 146/172 with batch size: 127\n"
     ]
    },
    {
     "output_type": "stream",
     "name": "stderr",
     "text": [
      "Processed prompts: 100%|██████████| 127/127 [00:14<00:00,  8.76it/s, est. speed input: 8028.77 toks/s, output: 56.69 toks/s]\n"
     ]
    },
    {
     "output_type": "stream",
     "name": "stdout",
     "text": [
      "Feature 'industry' processed in 146 batch(s) in 14.82 seconds\n",
      "Processing batch 147/172 with batch size: 127\n"
     ]
    },
    {
     "output_type": "stream",
     "name": "stderr",
     "text": [
      "Processed prompts: 100%|██████████| 127/127 [00:12<00:00,  9.98it/s, est. speed input: 8022.85 toks/s, output: 66.23 toks/s]\n"
     ]
    },
    {
     "output_type": "stream",
     "name": "stdout",
     "text": [
      "Feature 'industry' processed in 147 batch(s) in 13.02 seconds\n",
      "Processing batch 148/172 with batch size: 127\n"
     ]
    },
    {
     "output_type": "stream",
     "name": "stderr",
     "text": [
      "Processed prompts: 100%|██████████| 127/127 [00:13<00:00,  9.29it/s, est. speed input: 8168.04 toks/s, output: 63.28 toks/s]\n"
     ]
    },
    {
     "output_type": "stream",
     "name": "stdout",
     "text": [
      "Feature 'industry' processed in 148 batch(s) in 14.84 seconds\n",
      "Processing batch 149/172 with batch size: 127\n"
     ]
    },
    {
     "output_type": "stream",
     "name": "stderr",
     "text": [
      "Processed prompts: 100%|██████████| 127/127 [00:13<00:00,  9.66it/s, est. speed input: 8116.62 toks/s, output: 63.07 toks/s]\n"
     ]
    },
    {
     "output_type": "stream",
     "name": "stdout",
     "text": [
      "Feature 'industry' processed in 149 batch(s) in 13.59 seconds\n",
      "Processing batch 150/172 with batch size: 127\n"
     ]
    },
    {
     "output_type": "stream",
     "name": "stderr",
     "text": [
      "Processed prompts: 100%|██████████| 127/127 [00:11<00:00, 11.26it/s, est. speed input: 8057.00 toks/s, output: 74.36 toks/s]\n"
     ]
    },
    {
     "output_type": "stream",
     "name": "stdout",
     "text": [
      "Feature 'industry' processed in 150 batch(s) in 11.54 seconds\n",
      "Saving...\n",
      "Processing batch 151/172 with batch size: 127\n"
     ]
    },
    {
     "output_type": "stream",
     "name": "stderr",
     "text": [
      "Processed prompts: 100%|██████████| 127/127 [00:13<00:00,  9.66it/s, est. speed input: 8131.40 toks/s, output: 68.74 toks/s]\n"
     ]
    },
    {
     "output_type": "stream",
     "name": "stdout",
     "text": [
      "Feature 'industry' processed in 151 batch(s) in 13.44 seconds\n",
      "Processing batch 152/172 with batch size: 127\n"
     ]
    },
    {
     "output_type": "stream",
     "name": "stderr",
     "text": [
      "Processed prompts: 100%|██████████| 127/127 [00:11<00:00, 10.60it/s, est. speed input: 8038.22 toks/s, output: 69.27 toks/s]\n"
     ]
    },
    {
     "output_type": "stream",
     "name": "stdout",
     "text": [
      "Feature 'industry' processed in 152 batch(s) in 12.26 seconds\n",
      "Processing batch 153/172 with batch size: 127\n"
     ]
    },
    {
     "output_type": "stream",
     "name": "stderr",
     "text": [
      "Processed prompts: 100%|██████████| 127/127 [00:13<00:00,  9.54it/s, est. speed input: 8106.17 toks/s, output: 60.32 toks/s]\n"
     ]
    },
    {
     "output_type": "stream",
     "name": "stdout",
     "text": [
      "Feature 'industry' processed in 153 batch(s) in 13.62 seconds\n",
      "Processing batch 154/172 with batch size: 127\n"
     ]
    },
    {
     "output_type": "stream",
     "name": "stderr",
     "text": [
      "Processed prompts: 100%|██████████| 127/127 [00:15<00:00,  8.41it/s, est. speed input: 7784.11 toks/s, output: 56.21 toks/s]\n"
     ]
    },
    {
     "output_type": "stream",
     "name": "stdout",
     "text": [
      "Feature 'industry' processed in 154 batch(s) in 15.54 seconds\n",
      "Processing batch 155/172 with batch size: 127\n"
     ]
    },
    {
     "output_type": "stream",
     "name": "stderr",
     "text": [
      "Processed prompts: 100%|██████████| 127/127 [00:12<00:00, 10.35it/s, est. speed input: 8181.02 toks/s, output: 67.65 toks/s]\n"
     ]
    },
    {
     "output_type": "stream",
     "name": "stdout",
     "text": [
      "Feature 'industry' processed in 155 batch(s) in 12.55 seconds\n",
      "Processing batch 156/172 with batch size: 127\n"
     ]
    },
    {
     "output_type": "stream",
     "name": "stderr",
     "text": [
      "Processed prompts: 100%|██████████| 127/127 [00:12<00:00, 10.23it/s, est. speed input: 8106.46 toks/s, output: 70.96 toks/s]\n"
     ]
    },
    {
     "output_type": "stream",
     "name": "stdout",
     "text": [
      "Feature 'industry' processed in 156 batch(s) in 12.71 seconds\n",
      "Processing batch 157/172 with batch size: 127\n"
     ]
    },
    {
     "output_type": "stream",
     "name": "stderr",
     "text": [
      "Processed prompts: 100%|██████████| 127/127 [00:13<00:00,  9.76it/s, est. speed input: 8057.91 toks/s, output: 65.29 toks/s]\n"
     ]
    },
    {
     "output_type": "stream",
     "name": "stdout",
     "text": [
      "Feature 'industry' processed in 157 batch(s) in 13.31 seconds\n",
      "Processing batch 158/172 with batch size: 127\n"
     ]
    },
    {
     "output_type": "stream",
     "name": "stderr",
     "text": [
      "Processed prompts: 100%|██████████| 127/127 [00:12<00:00, 10.39it/s, est. speed input: 8106.72 toks/s, output: 64.82 toks/s]\n"
     ]
    },
    {
     "output_type": "stream",
     "name": "stdout",
     "text": [
      "Feature 'industry' processed in 158 batch(s) in 12.49 seconds\n",
      "Processing batch 159/172 with batch size: 127\n"
     ]
    },
    {
     "output_type": "stream",
     "name": "stderr",
     "text": [
      "Processed prompts: 100%|██████████| 127/127 [00:11<00:00, 10.69it/s, est. speed input: 7855.57 toks/s, output: 70.55 toks/s]\n"
     ]
    },
    {
     "output_type": "stream",
     "name": "stdout",
     "text": [
      "Feature 'industry' processed in 159 batch(s) in 12.15 seconds\n",
      "Processing batch 160/172 with batch size: 127\n"
     ]
    },
    {
     "output_type": "stream",
     "name": "stderr",
     "text": [
      "Processed prompts: 100%|██████████| 127/127 [00:11<00:00, 10.75it/s, est. speed input: 8154.27 toks/s, output: 72.70 toks/s]\n"
     ]
    },
    {
     "output_type": "stream",
     "name": "stdout",
     "text": [
      "Feature 'industry' processed in 160 batch(s) in 12.11 seconds\n",
      "Saving...\n",
      "Processing batch 161/172 with batch size: 127\n"
     ]
    },
    {
     "output_type": "stream",
     "name": "stderr",
     "text": [
      "Processed prompts: 100%|██████████| 127/127 [00:12<00:00, 10.45it/s, est. speed input: 8256.90 toks/s, output: 60.50 toks/s]\n"
     ]
    },
    {
     "output_type": "stream",
     "name": "stdout",
     "text": [
      "Feature 'industry' processed in 161 batch(s) in 12.58 seconds\n",
      "Processing batch 162/172 with batch size: 127\n"
     ]
    },
    {
     "output_type": "stream",
     "name": "stderr",
     "text": [
      "Processed prompts: 100%|██████████| 127/127 [00:13<00:00,  9.39it/s, est. speed input: 8073.31 toks/s, output: 56.02 toks/s]\n"
     ]
    },
    {
     "output_type": "stream",
     "name": "stdout",
     "text": [
      "Feature 'industry' processed in 162 batch(s) in 14.76 seconds\n",
      "Processing batch 163/172 with batch size: 127\n"
     ]
    },
    {
     "output_type": "stream",
     "name": "stderr",
     "text": [
      "Processed prompts: 100%|██████████| 127/127 [00:13<00:00,  9.60it/s, est. speed input: 7995.49 toks/s, output: 61.81 toks/s]\n"
     ]
    },
    {
     "output_type": "stream",
     "name": "stdout",
     "text": [
      "Feature 'industry' processed in 163 batch(s) in 13.53 seconds\n",
      "Processing batch 164/172 with batch size: 127\n"
     ]
    },
    {
     "output_type": "stream",
     "name": "stderr",
     "text": [
      "Processed prompts: 100%|██████████| 127/127 [00:13<00:00,  9.07it/s, est. speed input: 7985.21 toks/s, output: 62.59 toks/s]\n"
     ]
    },
    {
     "output_type": "stream",
     "name": "stdout",
     "text": [
      "Feature 'industry' processed in 164 batch(s) in 14.30 seconds\n",
      "Processing batch 165/172 with batch size: 127\n"
     ]
    },
    {
     "output_type": "stream",
     "name": "stderr",
     "text": [
      "Processed prompts: 100%|██████████| 127/127 [00:13<00:00,  9.32it/s, est. speed input: 8161.04 toks/s, output: 64.58 toks/s]\n"
     ]
    },
    {
     "output_type": "stream",
     "name": "stdout",
     "text": [
      "Feature 'industry' processed in 165 batch(s) in 13.93 seconds\n",
      "Processing batch 166/172 with batch size: 127\n"
     ]
    },
    {
     "output_type": "stream",
     "name": "stderr",
     "text": [
      "Processed prompts: 100%|██████████| 127/127 [00:13<00:00,  9.61it/s, est. speed input: 8155.40 toks/s, output: 65.86 toks/s]\n"
     ]
    },
    {
     "output_type": "stream",
     "name": "stdout",
     "text": [
      "Feature 'industry' processed in 166 batch(s) in 13.52 seconds\n",
      "Processing batch 167/172 with batch size: 127\n"
     ]
    },
    {
     "output_type": "stream",
     "name": "stderr",
     "text": [
      "Processed prompts: 100%|██████████| 127/127 [00:12<00:00,  9.86it/s, est. speed input: 8158.61 toks/s, output: 65.12 toks/s]\n"
     ]
    },
    {
     "output_type": "stream",
     "name": "stdout",
     "text": [
      "Feature 'industry' processed in 167 batch(s) in 13.17 seconds\n",
      "Processing batch 168/172 with batch size: 127\n"
     ]
    },
    {
     "output_type": "stream",
     "name": "stderr",
     "text": [
      "Processed prompts: 100%|██████████| 127/127 [00:13<00:00,  9.61it/s, est. speed input: 7763.31 toks/s, output: 57.65 toks/s]\n"
     ]
    },
    {
     "output_type": "stream",
     "name": "stdout",
     "text": [
      "Feature 'industry' processed in 168 batch(s) in 13.51 seconds\n",
      "Processing batch 169/172 with batch size: 127\n"
     ]
    },
    {
     "output_type": "stream",
     "name": "stderr",
     "text": [
      "Processed prompts: 100%|██████████| 127/127 [00:12<00:00, 10.44it/s, est. speed input: 8133.47 toks/s, output: 66.01 toks/s]\n"
     ]
    },
    {
     "output_type": "stream",
     "name": "stdout",
     "text": [
      "Feature 'industry' processed in 169 batch(s) in 12.46 seconds\n",
      "Processing batch 170/172 with batch size: 127\n"
     ]
    },
    {
     "output_type": "stream",
     "name": "stderr",
     "text": [
      "Processed prompts: 100%|██████████| 127/127 [00:13<00:00,  9.76it/s, est. speed input: 8015.97 toks/s, output: 55.58 toks/s]\n"
     ]
    },
    {
     "output_type": "stream",
     "name": "stdout",
     "text": [
      "Feature 'industry' processed in 170 batch(s) in 13.30 seconds\n",
      "Saving...\n",
      "Processing batch 171/172 with batch size: 127\n"
     ]
    },
    {
     "output_type": "stream",
     "name": "stderr",
     "text": [
      "Processed prompts: 100%|██████████| 127/127 [00:11<00:00, 11.22it/s, est. speed input: 8183.34 toks/s, output: 69.07 toks/s]\n"
     ]
    },
    {
     "output_type": "stream",
     "name": "stdout",
     "text": [
      "Feature 'industry' processed in 171 batch(s) in 11.59 seconds\n",
      "Processing batch 172/172 with batch size: 127\n"
     ]
    },
    {
     "output_type": "stream",
     "name": "stderr",
     "text": [
      "Processed prompts: 100%|██████████| 127/127 [00:09<00:00, 13.58it/s, est. speed input: 7952.78 toks/s, output: 82.67 toks/s]\n"
     ]
    },
    {
     "output_type": "stream",
     "name": "stdout",
     "text": [
      "Feature 'industry' processed in 172 batch(s) in 9.57 seconds\n",
      "Completed feature industry.\n",
      "Saving...\n",
      "\n",
      "\n"
     ]
    }
   ]
  }
 ]
}
